{
  "nbformat": 4,
  "nbformat_minor": 0,
  "metadata": {
    "colab": {
      "name": "04-flair-ner-training-tagging_RaviKiran_Chikkala.ipynb",
      "provenance": [],
      "collapsed_sections": [],
      "machine_shape": "hm",
      "toc_visible": true
    },
    "kernelspec": {
      "name": "python3",
      "display_name": "Python 3"
    }
  },
  "cells": [
    {
      "cell_type": "code",
      "metadata": {
        "id": "tAb77yZ9fzMG",
        "colab": {
          "base_uri": "https://localhost:8080/"
        },
        "outputId": "1473cf46-e345-47af-e51a-d6acb90261c9"
      },
      "source": [
        "from google.colab import drive\n",
        "drive.mount('/content/drive')"
      ],
      "execution_count": null,
      "outputs": [
        {
          "output_type": "stream",
          "name": "stdout",
          "text": [
            "Drive already mounted at /content/drive; to attempt to forcibly remount, call drive.mount(\"/content/drive\", force_remount=True).\n"
          ]
        }
      ]
    },
    {
      "cell_type": "code",
      "metadata": {
        "id": "pafL7Li0jyXW",
        "colab": {
          "base_uri": "https://localhost:8080/"
        },
        "outputId": "b94a56c8-b5f9-44be-a6f0-6002f0db1027"
      },
      "source": [
        "!pip install flair==0.8"
      ],
      "execution_count": null,
      "outputs": [
        {
          "output_type": "stream",
          "name": "stdout",
          "text": [
            "Requirement already satisfied: flair==0.8 in /usr/local/lib/python3.7/dist-packages (0.8)\n",
            "Requirement already satisfied: regex in /usr/local/lib/python3.7/dist-packages (from flair==0.8) (2019.12.20)\n",
            "Requirement already satisfied: hyperopt>=0.1.1 in /usr/local/lib/python3.7/dist-packages (from flair==0.8) (0.1.2)\n",
            "Requirement already satisfied: scikit-learn>=0.21.3 in /usr/local/lib/python3.7/dist-packages (from flair==0.8) (1.0.2)\n",
            "Requirement already satisfied: gensim<=3.8.3,>=3.4.0 in /usr/local/lib/python3.7/dist-packages (from flair==0.8) (3.6.0)\n",
            "Requirement already satisfied: huggingface-hub in /usr/local/lib/python3.7/dist-packages (from flair==0.8) (0.4.0)\n",
            "Requirement already satisfied: konoha<5.0.0,>=4.0.0 in /usr/local/lib/python3.7/dist-packages (from flair==0.8) (4.6.5)\n",
            "Requirement already satisfied: gdown==3.12.2 in /usr/local/lib/python3.7/dist-packages (from flair==0.8) (3.12.2)\n",
            "Requirement already satisfied: transformers>=4.0.0 in /usr/local/lib/python3.7/dist-packages (from flair==0.8) (4.16.2)\n",
            "Requirement already satisfied: janome in /usr/local/lib/python3.7/dist-packages (from flair==0.8) (0.4.2)\n",
            "Requirement already satisfied: torch>=1.5.0 in /usr/local/lib/python3.7/dist-packages (from flair==0.8) (1.10.0+cu111)\n",
            "Requirement already satisfied: bpemb>=0.3.2 in /usr/local/lib/python3.7/dist-packages (from flair==0.8) (0.3.3)\n",
            "Requirement already satisfied: segtok>=1.5.7 in /usr/local/lib/python3.7/dist-packages (from flair==0.8) (1.5.11)\n",
            "Requirement already satisfied: tqdm>=4.26.0 in /usr/local/lib/python3.7/dist-packages (from flair==0.8) (4.62.3)\n",
            "Requirement already satisfied: sqlitedict>=1.6.0 in /usr/local/lib/python3.7/dist-packages (from flair==0.8) (1.7.0)\n",
            "Requirement already satisfied: lxml in /usr/local/lib/python3.7/dist-packages (from flair==0.8) (4.2.6)\n",
            "Requirement already satisfied: sentencepiece==0.1.95 in /usr/local/lib/python3.7/dist-packages (from flair==0.8) (0.1.95)\n",
            "Requirement already satisfied: numpy<1.20.0 in /usr/local/lib/python3.7/dist-packages (from flair==0.8) (1.19.5)\n",
            "Requirement already satisfied: deprecated>=1.2.4 in /usr/local/lib/python3.7/dist-packages (from flair==0.8) (1.2.13)\n",
            "Requirement already satisfied: ftfy in /usr/local/lib/python3.7/dist-packages (from flair==0.8) (6.1.1)\n",
            "Requirement already satisfied: langdetect in /usr/local/lib/python3.7/dist-packages (from flair==0.8) (1.0.9)\n",
            "Requirement already satisfied: mpld3==0.3 in /usr/local/lib/python3.7/dist-packages (from flair==0.8) (0.3)\n",
            "Requirement already satisfied: python-dateutil>=2.6.1 in /usr/local/lib/python3.7/dist-packages (from flair==0.8) (2.8.2)\n",
            "Requirement already satisfied: tabulate in /usr/local/lib/python3.7/dist-packages (from flair==0.8) (0.8.9)\n",
            "Requirement already satisfied: matplotlib>=2.2.3 in /usr/local/lib/python3.7/dist-packages (from flair==0.8) (3.2.2)\n",
            "Requirement already satisfied: requests[socks] in /usr/local/lib/python3.7/dist-packages (from gdown==3.12.2->flair==0.8) (2.27.1)\n",
            "Requirement already satisfied: filelock in /usr/local/lib/python3.7/dist-packages (from gdown==3.12.2->flair==0.8) (3.6.0)\n",
            "Requirement already satisfied: six in /usr/local/lib/python3.7/dist-packages (from gdown==3.12.2->flair==0.8) (1.15.0)\n",
            "Requirement already satisfied: wrapt<2,>=1.10 in /usr/local/lib/python3.7/dist-packages (from deprecated>=1.2.4->flair==0.8) (1.13.3)\n",
            "Requirement already satisfied: scipy>=0.18.1 in /usr/local/lib/python3.7/dist-packages (from gensim<=3.8.3,>=3.4.0->flair==0.8) (1.4.1)\n",
            "Requirement already satisfied: smart-open>=1.2.1 in /usr/local/lib/python3.7/dist-packages (from gensim<=3.8.3,>=3.4.0->flair==0.8) (5.2.1)\n",
            "Requirement already satisfied: future in /usr/local/lib/python3.7/dist-packages (from hyperopt>=0.1.1->flair==0.8) (0.16.0)\n",
            "Requirement already satisfied: pymongo in /usr/local/lib/python3.7/dist-packages (from hyperopt>=0.1.1->flair==0.8) (4.0.1)\n",
            "Requirement already satisfied: networkx in /usr/local/lib/python3.7/dist-packages (from hyperopt>=0.1.1->flair==0.8) (2.6.3)\n",
            "Requirement already satisfied: importlib-metadata<4.0.0,>=3.7.0 in /usr/local/lib/python3.7/dist-packages (from konoha<5.0.0,>=4.0.0->flair==0.8) (3.10.1)\n",
            "Requirement already satisfied: overrides<4.0.0,>=3.0.0 in /usr/local/lib/python3.7/dist-packages (from konoha<5.0.0,>=4.0.0->flair==0.8) (3.1.0)\n",
            "Requirement already satisfied: typing-extensions>=3.6.4 in /usr/local/lib/python3.7/dist-packages (from importlib-metadata<4.0.0,>=3.7.0->konoha<5.0.0,>=4.0.0->flair==0.8) (3.10.0.2)\n",
            "Requirement already satisfied: zipp>=0.5 in /usr/local/lib/python3.7/dist-packages (from importlib-metadata<4.0.0,>=3.7.0->konoha<5.0.0,>=4.0.0->flair==0.8) (3.7.0)\n",
            "Requirement already satisfied: pyparsing!=2.0.4,!=2.1.2,!=2.1.6,>=2.0.1 in /usr/local/lib/python3.7/dist-packages (from matplotlib>=2.2.3->flair==0.8) (3.0.7)\n",
            "Requirement already satisfied: kiwisolver>=1.0.1 in /usr/local/lib/python3.7/dist-packages (from matplotlib>=2.2.3->flair==0.8) (1.3.2)\n",
            "Requirement already satisfied: cycler>=0.10 in /usr/local/lib/python3.7/dist-packages (from matplotlib>=2.2.3->flair==0.8) (0.11.0)\n",
            "Requirement already satisfied: idna<4,>=2.5 in /usr/local/lib/python3.7/dist-packages (from requests[socks]->gdown==3.12.2->flair==0.8) (2.10)\n",
            "Requirement already satisfied: urllib3<1.27,>=1.21.1 in /usr/local/lib/python3.7/dist-packages (from requests[socks]->gdown==3.12.2->flair==0.8) (1.24.3)\n",
            "Requirement already satisfied: charset-normalizer~=2.0.0 in /usr/local/lib/python3.7/dist-packages (from requests[socks]->gdown==3.12.2->flair==0.8) (2.0.12)\n",
            "Requirement already satisfied: certifi>=2017.4.17 in /usr/local/lib/python3.7/dist-packages (from requests[socks]->gdown==3.12.2->flair==0.8) (2021.10.8)\n",
            "Requirement already satisfied: joblib>=0.11 in /usr/local/lib/python3.7/dist-packages (from scikit-learn>=0.21.3->flair==0.8) (1.1.0)\n",
            "Requirement already satisfied: threadpoolctl>=2.0.0 in /usr/local/lib/python3.7/dist-packages (from scikit-learn>=0.21.3->flair==0.8) (3.1.0)\n",
            "Requirement already satisfied: pyyaml>=5.1 in /usr/local/lib/python3.7/dist-packages (from transformers>=4.0.0->flair==0.8) (6.0)\n",
            "Requirement already satisfied: sacremoses in /usr/local/lib/python3.7/dist-packages (from transformers>=4.0.0->flair==0.8) (0.0.47)\n",
            "Requirement already satisfied: packaging>=20.0 in /usr/local/lib/python3.7/dist-packages (from transformers>=4.0.0->flair==0.8) (21.3)\n",
            "Requirement already satisfied: tokenizers!=0.11.3,>=0.10.1 in /usr/local/lib/python3.7/dist-packages (from transformers>=4.0.0->flair==0.8) (0.11.6)\n",
            "Requirement already satisfied: wcwidth>=0.2.5 in /usr/local/lib/python3.7/dist-packages (from ftfy->flair==0.8) (0.2.5)\n",
            "Requirement already satisfied: PySocks!=1.5.7,>=1.5.6 in /usr/local/lib/python3.7/dist-packages (from requests[socks]->gdown==3.12.2->flair==0.8) (1.7.1)\n",
            "Requirement already satisfied: click in /usr/local/lib/python3.7/dist-packages (from sacremoses->transformers>=4.0.0->flair==0.8) (7.1.2)\n"
          ]
        }
      ]
    },
    {
      "cell_type": "code",
      "source": [
        "from flair.data import Corpus\n",
        "from flair.datasets import ColumnCorpus\n",
        "from flair.embeddings import TokenEmbeddings, WordEmbeddings, StackedEmbeddings, FlairEmbeddings\n",
        "from typing import List\n",
        "import flair.datasets"
      ],
      "metadata": {
        "id": "ivlXeLyGxgIW"
      },
      "execution_count": null,
      "outputs": []
    },
    {
      "cell_type": "code",
      "source": [
        "downsampled_corpus = flair.datasets.UD_BASQUE().downsample(0.2)"
      ],
      "metadata": {
        "colab": {
          "base_uri": "https://localhost:8080/"
        },
        "id": "KvvR6_470HPB",
        "outputId": "25ef845d-7ac8-4f66-b74a-280441fbbe07"
      },
      "execution_count": null,
      "outputs": [
        {
          "output_type": "stream",
          "name": "stdout",
          "text": [
            "2022-03-01 04:54:09,125 Reading data from /root/.flair/datasets/ud_basque\n",
            "2022-03-01 04:54:09,127 Train: /root/.flair/datasets/ud_basque/eu_bdt-ud-train.conllu\n",
            "2022-03-01 04:54:09,128 Dev: /root/.flair/datasets/ud_basque/eu_bdt-ud-dev.conllu\n",
            "2022-03-01 04:54:09,130 Test: /root/.flair/datasets/ud_basque/eu_bdt-ud-test.conllu\n"
          ]
        }
      ]
    },
    {
      "cell_type": "markdown",
      "source": [
        "# ASSIGNMENT 1: Trained own NER model on Basque."
      ],
      "metadata": {
        "id": "8x6GWoMaPlZW"
      }
    },
    {
      "cell_type": "code",
      "source": [
        "columns = {0: 'text', 1: 'ner'}\n",
        "corpus: Corpus = ColumnCorpus('/content/data/', columns,\n",
        "                              train_file='/content/drive/MyDrive/Colab Notebooks/2022-ILTAPP/datasets/ner/eu-train.tsv',\n",
        "                              test_file='/content/drive/MyDrive/Colab Notebooks/2022-ILTAPP/datasets/ner/eu-test.tsv',\n",
        "                              dev_file='/content/drive/MyDrive/Colab Notebooks/2022-ILTAPP/datasets/ner/eu-dev.tsv')"
      ],
      "metadata": {
        "colab": {
          "base_uri": "https://localhost:8080/"
        },
        "id": "YeJFiIq2xy9E",
        "outputId": "0813b180-c44b-4f62-cc0d-474a90023514"
      },
      "execution_count": null,
      "outputs": [
        {
          "output_type": "stream",
          "name": "stdout",
          "text": [
            "2022-03-01 04:54:14,438 Reading data from /content/data\n",
            "2022-03-01 04:54:14,439 Train: /content/drive/MyDrive/Colab Notebooks/2022-ILTAPP/datasets/ner/eu-train.tsv\n",
            "2022-03-01 04:54:14,441 Dev: /content/drive/MyDrive/Colab Notebooks/2022-ILTAPP/datasets/ner/eu-dev.tsv\n",
            "2022-03-01 04:54:14,443 Test: /content/drive/MyDrive/Colab Notebooks/2022-ILTAPP/datasets/ner/eu-test.tsv\n"
          ]
        }
      ]
    },
    {
      "cell_type": "code",
      "source": [
        "import pandas as pd\n",
        "data = [[len(corpus.train), len(corpus.test), len(corpus.dev)]]\n",
        "# Prints out the dataset sizes of train test and development in a table.\n",
        "pd.DataFrame(data, columns=[\"Train\", \"Test\", \"Development\"])"
      ],
      "metadata": {
        "colab": {
          "base_uri": "https://localhost:8080/",
          "height": 81
        },
        "id": "m29hZn_VykoW",
        "outputId": "b35d5722-2487-41c1-93a9-a26cdac03c30"
      },
      "execution_count": null,
      "outputs": [
        {
          "output_type": "execute_result",
          "data": {
            "text/html": [
              "\n",
              "  <div id=\"df-c955a618-d05b-4a41-8c36-89ec55b8ed6e\">\n",
              "    <div class=\"colab-df-container\">\n",
              "      <div>\n",
              "<style scoped>\n",
              "    .dataframe tbody tr th:only-of-type {\n",
              "        vertical-align: middle;\n",
              "    }\n",
              "\n",
              "    .dataframe tbody tr th {\n",
              "        vertical-align: top;\n",
              "    }\n",
              "\n",
              "    .dataframe thead th {\n",
              "        text-align: right;\n",
              "    }\n",
              "</style>\n",
              "<table border=\"1\" class=\"dataframe\">\n",
              "  <thead>\n",
              "    <tr style=\"text-align: right;\">\n",
              "      <th></th>\n",
              "      <th>Train</th>\n",
              "      <th>Test</th>\n",
              "      <th>Development</th>\n",
              "    </tr>\n",
              "  </thead>\n",
              "  <tbody>\n",
              "    <tr>\n",
              "      <th>0</th>\n",
              "      <td>2552</td>\n",
              "      <td>842</td>\n",
              "      <td>2552</td>\n",
              "    </tr>\n",
              "  </tbody>\n",
              "</table>\n",
              "</div>\n",
              "      <button class=\"colab-df-convert\" onclick=\"convertToInteractive('df-c955a618-d05b-4a41-8c36-89ec55b8ed6e')\"\n",
              "              title=\"Convert this dataframe to an interactive table.\"\n",
              "              style=\"display:none;\">\n",
              "        \n",
              "  <svg xmlns=\"http://www.w3.org/2000/svg\" height=\"24px\"viewBox=\"0 0 24 24\"\n",
              "       width=\"24px\">\n",
              "    <path d=\"M0 0h24v24H0V0z\" fill=\"none\"/>\n",
              "    <path d=\"M18.56 5.44l.94 2.06.94-2.06 2.06-.94-2.06-.94-.94-2.06-.94 2.06-2.06.94zm-11 1L8.5 8.5l.94-2.06 2.06-.94-2.06-.94L8.5 2.5l-.94 2.06-2.06.94zm10 10l.94 2.06.94-2.06 2.06-.94-2.06-.94-.94-2.06-.94 2.06-2.06.94z\"/><path d=\"M17.41 7.96l-1.37-1.37c-.4-.4-.92-.59-1.43-.59-.52 0-1.04.2-1.43.59L10.3 9.45l-7.72 7.72c-.78.78-.78 2.05 0 2.83L4 21.41c.39.39.9.59 1.41.59.51 0 1.02-.2 1.41-.59l7.78-7.78 2.81-2.81c.8-.78.8-2.07 0-2.86zM5.41 20L4 18.59l7.72-7.72 1.47 1.35L5.41 20z\"/>\n",
              "  </svg>\n",
              "      </button>\n",
              "      \n",
              "  <style>\n",
              "    .colab-df-container {\n",
              "      display:flex;\n",
              "      flex-wrap:wrap;\n",
              "      gap: 12px;\n",
              "    }\n",
              "\n",
              "    .colab-df-convert {\n",
              "      background-color: #E8F0FE;\n",
              "      border: none;\n",
              "      border-radius: 50%;\n",
              "      cursor: pointer;\n",
              "      display: none;\n",
              "      fill: #1967D2;\n",
              "      height: 32px;\n",
              "      padding: 0 0 0 0;\n",
              "      width: 32px;\n",
              "    }\n",
              "\n",
              "    .colab-df-convert:hover {\n",
              "      background-color: #E2EBFA;\n",
              "      box-shadow: 0px 1px 2px rgba(60, 64, 67, 0.3), 0px 1px 3px 1px rgba(60, 64, 67, 0.15);\n",
              "      fill: #174EA6;\n",
              "    }\n",
              "\n",
              "    [theme=dark] .colab-df-convert {\n",
              "      background-color: #3B4455;\n",
              "      fill: #D2E3FC;\n",
              "    }\n",
              "\n",
              "    [theme=dark] .colab-df-convert:hover {\n",
              "      background-color: #434B5C;\n",
              "      box-shadow: 0px 1px 3px 1px rgba(0, 0, 0, 0.15);\n",
              "      filter: drop-shadow(0px 1px 2px rgba(0, 0, 0, 0.3));\n",
              "      fill: #FFFFFF;\n",
              "    }\n",
              "  </style>\n",
              "\n",
              "      <script>\n",
              "        const buttonEl =\n",
              "          document.querySelector('#df-c955a618-d05b-4a41-8c36-89ec55b8ed6e button.colab-df-convert');\n",
              "        buttonEl.style.display =\n",
              "          google.colab.kernel.accessAllowed ? 'block' : 'none';\n",
              "\n",
              "        async function convertToInteractive(key) {\n",
              "          const element = document.querySelector('#df-c955a618-d05b-4a41-8c36-89ec55b8ed6e');\n",
              "          const dataTable =\n",
              "            await google.colab.kernel.invokeFunction('convertToInteractive',\n",
              "                                                     [key], {});\n",
              "          if (!dataTable) return;\n",
              "\n",
              "          const docLinkHtml = 'Like what you see? Visit the ' +\n",
              "            '<a target=\"_blank\" href=https://colab.research.google.com/notebooks/data_table.ipynb>data table notebook</a>'\n",
              "            + ' to learn more about interactive tables.';\n",
              "          element.innerHTML = '';\n",
              "          dataTable['output_type'] = 'display_data';\n",
              "          await google.colab.output.renderOutput(dataTable, element);\n",
              "          const docLink = document.createElement('div');\n",
              "          docLink.innerHTML = docLinkHtml;\n",
              "          element.appendChild(docLink);\n",
              "        }\n",
              "      </script>\n",
              "    </div>\n",
              "  </div>\n",
              "  "
            ],
            "text/plain": [
              "   Train  Test  Development\n",
              "0   2552   842         2552"
            ]
          },
          "metadata": {},
          "execution_count": 22
        }
      ]
    },
    {
      "cell_type": "code",
      "source": [
        "stats = corpus.obtain_statistics()\n",
        "print(stats)"
      ],
      "metadata": {
        "colab": {
          "base_uri": "https://localhost:8080/"
        },
        "id": "PLIgxbUjyya0",
        "outputId": "2e5f751b-01e8-4dd4-94b1-6e5defbbe863"
      },
      "execution_count": null,
      "outputs": [
        {
          "output_type": "stream",
          "name": "stdout",
          "text": [
            "{\n",
            "    \"TRAIN\": {\n",
            "        \"dataset\": \"TRAIN\",\n",
            "        \"total_number_of_documents\": 2552,\n",
            "        \"number_of_documents_per_class\": {},\n",
            "        \"number_of_tokens_per_tag\": {},\n",
            "        \"number_of_tokens\": {\n",
            "            \"total\": 44408,\n",
            "            \"min\": 1,\n",
            "            \"max\": 113,\n",
            "            \"avg\": 17.401253918495296\n",
            "        }\n",
            "    },\n",
            "    \"TEST\": {\n",
            "        \"dataset\": \"TEST\",\n",
            "        \"total_number_of_documents\": 842,\n",
            "        \"number_of_documents_per_class\": {},\n",
            "        \"number_of_tokens_per_tag\": {},\n",
            "        \"number_of_tokens\": {\n",
            "            \"total\": 15351,\n",
            "            \"min\": 1,\n",
            "            \"max\": 74,\n",
            "            \"avg\": 18.231591448931116\n",
            "        }\n",
            "    },\n",
            "    \"DEV\": {\n",
            "        \"dataset\": \"DEV\",\n",
            "        \"total_number_of_documents\": 2552,\n",
            "        \"number_of_documents_per_class\": {},\n",
            "        \"number_of_tokens_per_tag\": {},\n",
            "        \"number_of_tokens\": {\n",
            "            \"total\": 44408,\n",
            "            \"min\": 1,\n",
            "            \"max\": 113,\n",
            "            \"avg\": 17.401253918495296\n",
            "        }\n",
            "    }\n",
            "}\n"
          ]
        }
      ]
    },
    {
      "cell_type": "code",
      "source": [
        "tag_type = 'ner'"
      ],
      "metadata": {
        "id": "POGe-hxw0svK"
      },
      "execution_count": null,
      "outputs": []
    },
    {
      "cell_type": "code",
      "source": [
        "tag_dictionary = corpus.make_tag_dictionary(tag_type=tag_type)\n",
        "print(tag_dictionary.idx2item)"
      ],
      "metadata": {
        "colab": {
          "base_uri": "https://localhost:8080/"
        },
        "id": "3_BwDTB-067Q",
        "outputId": "a5c36d98-4496-4434-a5d8-c74e42da978d"
      },
      "execution_count": null,
      "outputs": [
        {
          "output_type": "stream",
          "name": "stdout",
          "text": [
            "[b'<unk>', b'O', b'B-ORG', b'B-PER', b'I-PER', b'I-ORG', b'B-LOC', b'I-LOC', b'B-MISC', b'I-MISC', b'<START>', b'<STOP>']\n"
          ]
        }
      ]
    },
    {
      "cell_type": "code",
      "source": [
        "embedding_types = [\n",
        "    WordEmbeddings('eu'),\n",
        "    FlairEmbeddings('eu-forward'),\n",
        "    FlairEmbeddings('eu-backward'),\n",
        "]"
      ],
      "metadata": {
        "id": "cUcE02l61KHC"
      },
      "execution_count": null,
      "outputs": []
    },
    {
      "cell_type": "code",
      "source": [
        "embeddings = StackedEmbeddings(embeddings=embedding_types)"
      ],
      "metadata": {
        "id": "IJP5SSoC4qpY"
      },
      "execution_count": null,
      "outputs": []
    },
    {
      "cell_type": "code",
      "source": [
        "from flair.models import SequenceTagger\n",
        "\n",
        "tagger = SequenceTagger(hidden_size=256,\n",
        "                        embeddings=embeddings,\n",
        "                        tag_dictionary=tag_dictionary,\n",
        "                        tag_type=tag_type,\n",
        "                        use_crf=True)\n"
      ],
      "metadata": {
        "id": "hnvJa1aL4PL6"
      },
      "execution_count": null,
      "outputs": []
    },
    {
      "cell_type": "code",
      "source": [
        "from flair.trainers import ModelTrainer\n",
        "\n",
        "trainer = ModelTrainer(tagger, corpus)"
      ],
      "metadata": {
        "id": "owgVJEyM5K0m"
      },
      "execution_count": null,
      "outputs": []
    },
    {
      "cell_type": "code",
      "source": [
        "trainer.train('/content/model/basque',\n",
        "              learning_rate=0.1,\n",
        "              mini_batch_size=32,\n",
        "              max_epochs=5,\n",
        "              embeddings_storage_mode='gpu')"
      ],
      "metadata": {
        "colab": {
          "base_uri": "https://localhost:8080/"
        },
        "id": "dN2py5G-5QnT",
        "outputId": "ae3768c5-378e-4d6b-9093-0aee2af3ec20"
      },
      "execution_count": null,
      "outputs": [
        {
          "output_type": "stream",
          "name": "stdout",
          "text": [
            "2022-03-01 05:26:23,745 ----------------------------------------------------------------------------------------------------\n",
            "2022-03-01 05:26:23,748 Model: \"SequenceTagger(\n",
            "  (embeddings): StackedEmbeddings(\n",
            "    (list_embedding_0): WordEmbeddings('eu')\n",
            "    (list_embedding_1): FlairEmbeddings(\n",
            "      (lm): LanguageModel(\n",
            "        (drop): Dropout(p=0.1, inplace=False)\n",
            "        (encoder): Embedding(4488, 100)\n",
            "        (rnn): LSTM(100, 2048)\n",
            "        (decoder): Linear(in_features=2048, out_features=4488, bias=True)\n",
            "      )\n",
            "    )\n",
            "    (list_embedding_2): FlairEmbeddings(\n",
            "      (lm): LanguageModel(\n",
            "        (drop): Dropout(p=0.1, inplace=False)\n",
            "        (encoder): Embedding(4488, 100)\n",
            "        (rnn): LSTM(100, 2048)\n",
            "        (decoder): Linear(in_features=2048, out_features=4488, bias=True)\n",
            "      )\n",
            "    )\n",
            "  )\n",
            "  (word_dropout): WordDropout(p=0.05)\n",
            "  (locked_dropout): LockedDropout(p=0.5)\n",
            "  (embedding2nn): Linear(in_features=4396, out_features=4396, bias=True)\n",
            "  (rnn): LSTM(4396, 256, batch_first=True, bidirectional=True)\n",
            "  (linear): Linear(in_features=512, out_features=12, bias=True)\n",
            "  (beta): 1.0\n",
            "  (weights): None\n",
            "  (weight_tensor) None\n",
            ")\"\n",
            "2022-03-01 05:26:23,749 ----------------------------------------------------------------------------------------------------\n",
            "2022-03-01 05:26:23,750 Corpus: \"Corpus: 2552 train + 2552 dev + 842 test sentences\"\n",
            "2022-03-01 05:26:23,752 ----------------------------------------------------------------------------------------------------\n",
            "2022-03-01 05:26:23,753 Parameters:\n",
            "2022-03-01 05:26:23,754  - learning_rate: \"0.1\"\n",
            "2022-03-01 05:26:23,756  - mini_batch_size: \"32\"\n",
            "2022-03-01 05:26:23,757  - patience: \"3\"\n",
            "2022-03-01 05:26:23,758  - anneal_factor: \"0.5\"\n",
            "2022-03-01 05:26:23,760  - max_epochs: \"5\"\n",
            "2022-03-01 05:26:23,761  - shuffle: \"True\"\n",
            "2022-03-01 05:26:23,763  - train_with_dev: \"False\"\n",
            "2022-03-01 05:26:23,764  - batch_growth_annealing: \"False\"\n",
            "2022-03-01 05:26:23,765 ----------------------------------------------------------------------------------------------------\n",
            "2022-03-01 05:26:23,767 Model training base path: \"/content/model/basque\"\n",
            "2022-03-01 05:26:23,769 ----------------------------------------------------------------------------------------------------\n",
            "2022-03-01 05:26:23,771 Device: cpu\n",
            "2022-03-01 05:26:23,773 ----------------------------------------------------------------------------------------------------\n",
            "2022-03-01 05:26:23,774 Embeddings storage mode: gpu\n",
            "2022-03-01 05:26:23,779 ----------------------------------------------------------------------------------------------------\n",
            "2022-03-01 05:28:44,735 epoch 1 - iter 8/80 - loss 91.55960715 - samples/sec: 1.82 - lr: 0.100000\n",
            "2022-03-01 05:30:19,303 epoch 1 - iter 16/80 - loss 50.80280524 - samples/sec: 2.71 - lr: 0.100000\n",
            "2022-03-01 05:32:33,427 epoch 1 - iter 24/80 - loss 36.89668296 - samples/sec: 1.91 - lr: 0.100000\n",
            "2022-03-01 05:34:21,006 epoch 1 - iter 32/80 - loss 29.20675840 - samples/sec: 2.38 - lr: 0.100000\n",
            "2022-03-01 05:36:12,811 epoch 1 - iter 40/80 - loss 24.52821828 - samples/sec: 2.29 - lr: 0.100000\n",
            "2022-03-01 05:37:42,494 epoch 1 - iter 48/80 - loss 21.47034811 - samples/sec: 2.85 - lr: 0.100000\n",
            "2022-03-01 05:39:46,231 epoch 1 - iter 56/80 - loss 19.03890970 - samples/sec: 2.07 - lr: 0.100000\n",
            "2022-03-01 05:41:34,519 epoch 1 - iter 64/80 - loss 17.23158859 - samples/sec: 2.36 - lr: 0.100000\n",
            "2022-03-01 05:43:31,151 epoch 1 - iter 72/80 - loss 15.73514394 - samples/sec: 2.20 - lr: 0.100000\n",
            "2022-03-01 05:45:16,915 epoch 1 - iter 80/80 - loss 14.60730148 - samples/sec: 2.42 - lr: 0.100000\n",
            "2022-03-01 05:45:16,918 ----------------------------------------------------------------------------------------------------\n",
            "2022-03-01 05:45:16,921 EPOCH 1 done: loss 14.6073 - lr 0.1000000\n",
            "2022-03-01 06:03:02,818 DEV : loss 3.3215510845184326 - score 0.6275\n",
            "2022-03-01 06:03:02,837 BAD EPOCHS (no improvement): 0\n",
            "saving best model\n",
            "2022-03-01 06:03:07,052 ----------------------------------------------------------------------------------------------------\n",
            "2022-03-01 06:03:19,912 epoch 2 - iter 8/80 - loss 3.64178503 - samples/sec: 19.91 - lr: 0.100000\n",
            "2022-03-01 06:03:29,985 epoch 2 - iter 16/80 - loss 3.43708861 - samples/sec: 25.42 - lr: 0.100000\n",
            "2022-03-01 06:03:41,778 epoch 2 - iter 24/80 - loss 3.53811890 - samples/sec: 21.71 - lr: 0.100000\n",
            "2022-03-01 06:03:52,166 epoch 2 - iter 32/80 - loss 3.26808463 - samples/sec: 24.65 - lr: 0.100000\n",
            "2022-03-01 06:04:04,663 epoch 2 - iter 40/80 - loss 3.24560484 - samples/sec: 20.49 - lr: 0.100000\n",
            "2022-03-01 06:04:14,380 epoch 2 - iter 48/80 - loss 3.15214172 - samples/sec: 26.36 - lr: 0.100000\n",
            "2022-03-01 06:04:24,739 epoch 2 - iter 56/80 - loss 3.09616878 - samples/sec: 24.72 - lr: 0.100000\n",
            "2022-03-01 06:04:35,912 epoch 2 - iter 64/80 - loss 3.10825164 - samples/sec: 22.92 - lr: 0.100000\n",
            "2022-03-01 06:04:47,606 epoch 2 - iter 72/80 - loss 3.11010531 - samples/sec: 21.90 - lr: 0.100000\n",
            "2022-03-01 06:04:57,575 epoch 2 - iter 80/80 - loss 3.06880954 - samples/sec: 25.69 - lr: 0.100000\n",
            "2022-03-01 06:04:57,578 ----------------------------------------------------------------------------------------------------\n",
            "2022-03-01 06:04:57,580 EPOCH 2 done: loss 3.0688 - lr 0.1000000\n",
            "2022-03-01 06:05:42,163 DEV : loss 1.8369810581207275 - score 0.7537\n",
            "2022-03-01 06:05:42,182 BAD EPOCHS (no improvement): 0\n",
            "saving best model\n",
            "2022-03-01 06:05:45,581 ----------------------------------------------------------------------------------------------------\n",
            "2022-03-01 06:05:58,345 epoch 3 - iter 8/80 - loss 2.70265512 - samples/sec: 20.06 - lr: 0.100000\n",
            "2022-03-01 06:06:09,921 epoch 3 - iter 16/80 - loss 2.68893307 - samples/sec: 22.12 - lr: 0.100000\n",
            "2022-03-01 06:06:20,312 epoch 3 - iter 24/80 - loss 2.53269950 - samples/sec: 24.64 - lr: 0.100000\n",
            "2022-03-01 06:06:30,647 epoch 3 - iter 32/80 - loss 2.47739150 - samples/sec: 24.78 - lr: 0.100000\n",
            "2022-03-01 06:06:41,335 epoch 3 - iter 40/80 - loss 2.44080206 - samples/sec: 23.96 - lr: 0.100000\n",
            "2022-03-01 06:06:53,284 epoch 3 - iter 48/80 - loss 2.46274527 - samples/sec: 21.43 - lr: 0.100000\n",
            "2022-03-01 06:07:03,773 epoch 3 - iter 56/80 - loss 2.45105258 - samples/sec: 24.41 - lr: 0.100000\n",
            "2022-03-01 06:07:13,964 epoch 3 - iter 64/80 - loss 2.43767760 - samples/sec: 25.13 - lr: 0.100000\n",
            "2022-03-01 06:07:25,629 epoch 3 - iter 72/80 - loss 2.46967801 - samples/sec: 21.95 - lr: 0.100000\n",
            "2022-03-01 06:07:36,367 epoch 3 - iter 80/80 - loss 2.46627435 - samples/sec: 23.85 - lr: 0.100000\n",
            "2022-03-01 06:07:36,370 ----------------------------------------------------------------------------------------------------\n",
            "2022-03-01 06:07:36,372 EPOCH 3 done: loss 2.4663 - lr 0.1000000\n",
            "2022-03-01 06:08:21,174 DEV : loss 1.4732115268707275 - score 0.789\n",
            "2022-03-01 06:08:21,199 BAD EPOCHS (no improvement): 0\n",
            "saving best model\n",
            "2022-03-01 06:08:24,580 ----------------------------------------------------------------------------------------------------\n",
            "2022-03-01 06:08:38,566 epoch 4 - iter 8/80 - loss 2.37832585 - samples/sec: 18.31 - lr: 0.100000\n",
            "2022-03-01 06:08:49,514 epoch 4 - iter 16/80 - loss 2.18341570 - samples/sec: 23.39 - lr: 0.100000\n",
            "2022-03-01 06:09:00,944 epoch 4 - iter 24/80 - loss 2.17408289 - samples/sec: 22.40 - lr: 0.100000\n",
            "2022-03-01 06:09:12,113 epoch 4 - iter 32/80 - loss 2.21586631 - samples/sec: 22.93 - lr: 0.100000\n",
            "2022-03-01 06:09:22,119 epoch 4 - iter 40/80 - loss 2.10039345 - samples/sec: 25.59 - lr: 0.100000\n",
            "2022-03-01 06:09:31,758 epoch 4 - iter 48/80 - loss 2.10295824 - samples/sec: 26.57 - lr: 0.100000\n",
            "2022-03-01 06:09:43,569 epoch 4 - iter 56/80 - loss 2.08902904 - samples/sec: 21.68 - lr: 0.100000\n",
            "2022-03-01 06:09:54,326 epoch 4 - iter 64/80 - loss 2.08125704 - samples/sec: 23.80 - lr: 0.100000\n",
            "2022-03-01 06:10:04,564 epoch 4 - iter 72/80 - loss 2.12130690 - samples/sec: 25.01 - lr: 0.100000\n",
            "2022-03-01 06:10:16,205 epoch 4 - iter 80/80 - loss 2.08422785 - samples/sec: 22.00 - lr: 0.100000\n",
            "2022-03-01 06:10:16,207 ----------------------------------------------------------------------------------------------------\n",
            "2022-03-01 06:10:16,209 EPOCH 4 done: loss 2.0842 - lr 0.1000000\n",
            "2022-03-01 06:11:00,634 DEV : loss 1.166841745376587 - score 0.8326\n",
            "2022-03-01 06:11:00,652 BAD EPOCHS (no improvement): 0\n",
            "saving best model\n",
            "2022-03-01 06:11:05,421 ----------------------------------------------------------------------------------------------------\n",
            "2022-03-01 06:11:14,701 epoch 5 - iter 8/80 - loss 1.50844491 - samples/sec: 27.60 - lr: 0.100000\n",
            "2022-03-01 06:11:28,034 epoch 5 - iter 16/80 - loss 1.87005711 - samples/sec: 19.20 - lr: 0.100000\n",
            "2022-03-01 06:11:37,563 epoch 5 - iter 24/80 - loss 1.77161837 - samples/sec: 26.87 - lr: 0.100000\n",
            "2022-03-01 06:11:46,873 epoch 5 - iter 32/80 - loss 1.76306904 - samples/sec: 27.51 - lr: 0.100000\n",
            "2022-03-01 06:11:57,015 epoch 5 - iter 40/80 - loss 1.85178316 - samples/sec: 25.25 - lr: 0.100000\n",
            "2022-03-01 06:12:10,490 epoch 5 - iter 48/80 - loss 1.91077722 - samples/sec: 19.00 - lr: 0.100000\n",
            "2022-03-01 06:12:21,882 epoch 5 - iter 56/80 - loss 1.87940708 - samples/sec: 22.48 - lr: 0.100000\n",
            "2022-03-01 06:12:31,644 epoch 5 - iter 64/80 - loss 1.87620075 - samples/sec: 26.23 - lr: 0.100000\n",
            "2022-03-01 06:12:45,611 epoch 5 - iter 72/80 - loss 1.86933407 - samples/sec: 18.33 - lr: 0.100000\n",
            "2022-03-01 06:12:56,459 epoch 5 - iter 80/80 - loss 1.85221866 - samples/sec: 23.60 - lr: 0.100000\n",
            "2022-03-01 06:12:56,461 ----------------------------------------------------------------------------------------------------\n",
            "2022-03-01 06:12:56,463 EPOCH 5 done: loss 1.8522 - lr 0.1000000\n",
            "2022-03-01 06:13:41,411 DEV : loss 1.0083179473876953 - score 0.8494\n",
            "2022-03-01 06:13:41,429 BAD EPOCHS (no improvement): 0\n",
            "saving best model\n",
            "2022-03-01 06:13:48,579 ----------------------------------------------------------------------------------------------------\n",
            "2022-03-01 06:13:48,582 Testing using best model ...\n",
            "2022-03-01 06:13:48,585 loading file /content/model/basque/best-model.pt\n",
            "2022-03-01 06:19:52,169 0.8204\t0.7605\t0.7893\n",
            "2022-03-01 06:19:52,171 \n",
            "Results:\n",
            "- F1-score (micro) 0.7893\n",
            "- F1-score (macro) 0.6368\n",
            "\n",
            "By class:\n",
            "LOC        tp: 243 - fp: 36 - fn: 72 - precision: 0.8710 - recall: 0.7714 - f1-score: 0.8182\n",
            "MISC       tp: 3 - fp: 13 - fn: 27 - precision: 0.1875 - recall: 0.1000 - f1-score: 0.1304\n",
            "ORG        tp: 203 - fp: 72 - fn: 90 - precision: 0.7382 - recall: 0.6928 - f1-score: 0.7148\n",
            "PER        tp: 259 - fp: 34 - fn: 34 - precision: 0.8840 - recall: 0.8840 - f1-score: 0.8840\n",
            "2022-03-01 06:19:52,173 ----------------------------------------------------------------------------------------------------\n"
          ]
        },
        {
          "output_type": "execute_result",
          "data": {
            "text/plain": [
              "{'dev_loss_history': [3.3215510845184326,\n",
              "  1.8369810581207275,\n",
              "  1.4732115268707275,\n",
              "  1.166841745376587,\n",
              "  1.0083179473876953],\n",
              " 'dev_score_history': [0.6274801587301587,\n",
              "  0.7536578877361001,\n",
              "  0.7889745859147806,\n",
              "  0.8326112642772745,\n",
              "  0.8494411571334648],\n",
              " 'test_score': 0.7892976588628763,\n",
              " 'train_loss_history': [14.607301478087901,\n",
              "  3.0688095435500147,\n",
              "  2.4662743508815765,\n",
              "  2.0842278465628623,\n",
              "  1.8522186644375325]}"
            ]
          },
          "metadata": {},
          "execution_count": 42
        }
      ]
    },
    {
      "cell_type": "code",
      "source": [
        "from flair.visual.training_curves import Plotter"
      ],
      "metadata": {
        "id": "XIWNXU4jYhoe"
      },
      "execution_count": null,
      "outputs": []
    },
    {
      "cell_type": "code",
      "source": [
        "plotter = Plotter()\n",
        "plotter.plot_training_curves('/content/model/basque/loss.tsv')\n",
        "plotter.plot_weights('/content/model/basque/weights.txt')"
      ],
      "metadata": {
        "colab": {
          "base_uri": "https://localhost:8080/",
          "height": 1000
        },
        "id": "0LLa5eGsJHXc",
        "outputId": "6c3dedc6-fbe9-4e51-99c0-867bd10729a5"
      },
      "execution_count": null,
      "outputs": [
        {
          "output_type": "stream",
          "name": "stdout",
          "text": [
            "2022-03-01 06:23:32,079 ----------------------------------------------------------------------------------------------------\n",
            "2022-03-01 06:23:32,081 WARNING: No LOSS found for test split in this data.\n",
            "2022-03-01 06:23:32,082 Are you sure you want to plot LOSS and not another value?\n",
            "2022-03-01 06:23:32,083 ----------------------------------------------------------------------------------------------------\n",
            "2022-03-01 06:23:32,106 ----------------------------------------------------------------------------------------------------\n",
            "2022-03-01 06:23:32,108 WARNING: No F1 found for test split in this data.\n",
            "2022-03-01 06:23:32,109 Are you sure you want to plot F1 and not another value?\n",
            "2022-03-01 06:23:32,110 ----------------------------------------------------------------------------------------------------\n",
            "Loss and F1 plots are saved in /content/model/basque/training.png\n"
          ]
        },
        {
          "output_type": "display_data",
          "data": {
            "image/png": "[encoded data removed]",
            "text/plain": [
              "<Figure size 1080x720 with 2 Axes>"
            ]
          },
          "metadata": {
            "needs_background": "light"
          }
        },
        {
          "output_type": "stream",
          "name": "stdout",
          "text": [
            "Weights plots are saved in /content/model/basque/weights.png\n"
          ]
        },
        {
          "output_type": "display_data",
          "data": {
            "image/png": "[encoded data removed]",
            "text/plain": [
              "<Figure size 576x432 with 4 Axes>"
            ]
          },
          "metadata": {}
        }
      ]
    },
    {
      "cell_type": "markdown",
      "source": [
        "# ASSIGNMENT 2\n",
        "In this assignment the trained model in the previous step is used to automatically tag a document/sentence."
      ],
      "metadata": {
        "id": "By0l25G5P3GJ"
      }
    },
    {
      "cell_type": "code",
      "source": [
        "ner_tagger = SequenceTagger.load('/content/model/basque/final-model.pt')"
      ],
      "metadata": {
        "colab": {
          "base_uri": "https://localhost:8080/"
        },
        "id": "NdErWvYZJpNj",
        "outputId": "6f5a3aad-bdc5-4ff4-8c1a-13dcd3699987"
      },
      "execution_count": null,
      "outputs": [
        {
          "output_type": "stream",
          "name": "stdout",
          "text": [
            "2022-03-01 06:28:29,079 loading file /content/model/basque/final-model.pt\n"
          ]
        }
      ]
    },
    {
      "cell_type": "code",
      "source": [
        "from flair.data import Sentence\n",
        "from flair.models import SequenceTagger"
      ],
      "metadata": {
        "id": "ASJxz7ztKAg0"
      },
      "execution_count": null,
      "outputs": []
    },
    {
      "cell_type": "code",
      "source": [
        "input_sentence= 'Nire izena Ravi da, gaur egun Hyderabad-en bizi naiz, Language curry-n egiten dut lan.'\n",
        "SequenceTagger = SequenceTagger.load('/content/model/basque/final-model.pt')\n",
        "sentence = Sentence(input_sentence)\n",
        "tagger.predict(sentence)\n",
        "print(sentence.to_tagged_string())"
      ],
      "metadata": {
        "colab": {
          "base_uri": "https://localhost:8080/"
        },
        "id": "kHY4CzqrKXxZ",
        "outputId": "8d246b5d-e816-4d02-b791-cf0adb256fe1"
      },
      "execution_count": null,
      "outputs": [
        {
          "output_type": "stream",
          "name": "stdout",
          "text": [
            "2022-03-01 06:33:27,292 loading file /content/model/basque/final-model.pt\n",
            "Nire izena Ravi <B-PER> da , gaur egun Hyderabad-en <B-LOC> bizi naiz , Language <B-ORG> curry-n egiten dut lan .\n"
          ]
        }
      ]
    }
  ]
}