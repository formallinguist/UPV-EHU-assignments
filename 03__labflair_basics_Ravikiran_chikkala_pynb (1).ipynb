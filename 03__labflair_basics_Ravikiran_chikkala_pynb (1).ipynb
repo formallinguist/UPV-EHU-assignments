{
  "nbformat": 4,
  "nbformat_minor": 0,
  "metadata": {
    "colab": {
      "name": "03__labflair_basics_Ravikiran_chikkala_pynb.ipynb",
      "provenance": []
    },
    "kernelspec": {
      "name": "python3",
      "display_name": "Python 3"
    },
    "language_info": {
      "name": "python"
    },
    "widgets": {
      "application/vnd.jupyter.widget-state+json": {
        "e2fd7d02c5ef483e9367a59cb174172e": {
          "model_module": "@jupyter-widgets/controls",
          "model_name": "HBoxModel",
          "model_module_version": "1.5.0",
          "state": {
            "_view_name": "HBoxView",
            "_dom_classes": [],
            "_model_name": "HBoxModel",
            "_view_module": "@jupyter-widgets/controls",
            "_model_module_version": "1.5.0",
            "_view_count": null,
            "_view_module_version": "1.5.0",
            "box_style": "",
            "layout": "IPY_MODEL_529801ff80f142199473293f8acdbd10",
            "_model_module": "@jupyter-widgets/controls",
            "children": [
              "IPY_MODEL_f4b4063cd33a4aad9b29707749e9412f",
              "IPY_MODEL_81e7c3e97dc043fb87bb3bfcac5d15e0",
              "IPY_MODEL_26fb687f8fd5456c876a26830a735496"
            ]
          }
        },
        "529801ff80f142199473293f8acdbd10": {
          "model_module": "@jupyter-widgets/base",
          "model_name": "LayoutModel",
          "model_module_version": "1.2.0",
          "state": {
            "_view_name": "LayoutView",
            "grid_template_rows": null,
            "right": null,
            "justify_content": null,
            "_view_module": "@jupyter-widgets/base",
            "overflow": null,
            "_model_module_version": "1.2.0",
            "_view_count": null,
            "flex_flow": null,
            "width": null,
            "min_width": null,
            "border": null,
            "align_items": null,
            "bottom": null,
            "_model_module": "@jupyter-widgets/base",
            "top": null,
            "grid_column": null,
            "overflow_y": null,
            "overflow_x": null,
            "grid_auto_flow": null,
            "grid_area": null,
            "grid_template_columns": null,
            "flex": null,
            "_model_name": "LayoutModel",
            "justify_items": null,
            "grid_row": null,
            "max_height": null,
            "align_content": null,
            "visibility": null,
            "align_self": null,
            "height": null,
            "min_height": null,
            "padding": null,
            "grid_auto_rows": null,
            "grid_gap": null,
            "max_width": null,
            "order": null,
            "_view_module_version": "1.2.0",
            "grid_template_areas": null,
            "object_position": null,
            "object_fit": null,
            "grid_auto_columns": null,
            "margin": null,
            "display": null,
            "left": null
          }
        },
        "f4b4063cd33a4aad9b29707749e9412f": {
          "model_module": "@jupyter-widgets/controls",
          "model_name": "HTMLModel",
          "model_module_version": "1.5.0",
          "state": {
            "_view_name": "HTMLView",
            "style": "IPY_MODEL_6aa094f838c34c4bb0df6979f9abd94a",
            "_dom_classes": [],
            "description": "",
            "_model_name": "HTMLModel",
            "placeholder": "​",
            "_view_module": "@jupyter-widgets/controls",
            "_model_module_version": "1.5.0",
            "value": "Downloading: 100%",
            "_view_count": null,
            "_view_module_version": "1.5.0",
            "description_tooltip": null,
            "_model_module": "@jupyter-widgets/controls",
            "layout": "IPY_MODEL_9880c8a0316b4385bcff7a334e92912e"
          }
        },
        "81e7c3e97dc043fb87bb3bfcac5d15e0": {
          "model_module": "@jupyter-widgets/controls",
          "model_name": "FloatProgressModel",
          "model_module_version": "1.5.0",
          "state": {
            "_view_name": "ProgressView",
            "style": "IPY_MODEL_caf735aec4bc49ed8264b9a73733f0ee",
            "_dom_classes": [],
            "description": "",
            "_model_name": "FloatProgressModel",
            "bar_style": "success",
            "max": 249072763,
            "_view_module": "@jupyter-widgets/controls",
            "_model_module_version": "1.5.0",
            "value": 249072763,
            "_view_count": null,
            "_view_module_version": "1.5.0",
            "orientation": "horizontal",
            "min": 0,
            "description_tooltip": null,
            "_model_module": "@jupyter-widgets/controls",
            "layout": "IPY_MODEL_c58450f8ff84401f9ddc8cecbee17587"
          }
        },
        "26fb687f8fd5456c876a26830a735496": {
          "model_module": "@jupyter-widgets/controls",
          "model_name": "HTMLModel",
          "model_module_version": "1.5.0",
          "state": {
            "_view_name": "HTMLView",
            "style": "IPY_MODEL_d71d98f2f3844163b913b7958118d37f",
            "_dom_classes": [],
            "description": "",
            "_model_name": "HTMLModel",
            "placeholder": "​",
            "_view_module": "@jupyter-widgets/controls",
            "_model_module_version": "1.5.0",
            "value": " 249M/249M [00:07&lt;00:00, 37.3MB/s]",
            "_view_count": null,
            "_view_module_version": "1.5.0",
            "description_tooltip": null,
            "_model_module": "@jupyter-widgets/controls",
            "layout": "IPY_MODEL_7fc458960a8f4c2bad341dc2be702dd7"
          }
        },
        "6aa094f838c34c4bb0df6979f9abd94a": {
          "model_module": "@jupyter-widgets/controls",
          "model_name": "DescriptionStyleModel",
          "model_module_version": "1.5.0",
          "state": {
            "_view_name": "StyleView",
            "_model_name": "DescriptionStyleModel",
            "description_width": "",
            "_view_module": "@jupyter-widgets/base",
            "_model_module_version": "1.5.0",
            "_view_count": null,
            "_view_module_version": "1.2.0",
            "_model_module": "@jupyter-widgets/controls"
          }
        },
        "9880c8a0316b4385bcff7a334e92912e": {
          "model_module": "@jupyter-widgets/base",
          "model_name": "LayoutModel",
          "model_module_version": "1.2.0",
          "state": {
            "_view_name": "LayoutView",
            "grid_template_rows": null,
            "right": null,
            "justify_content": null,
            "_view_module": "@jupyter-widgets/base",
            "overflow": null,
            "_model_module_version": "1.2.0",
            "_view_count": null,
            "flex_flow": null,
            "width": null,
            "min_width": null,
            "border": null,
            "align_items": null,
            "bottom": null,
            "_model_module": "@jupyter-widgets/base",
            "top": null,
            "grid_column": null,
            "overflow_y": null,
            "overflow_x": null,
            "grid_auto_flow": null,
            "grid_area": null,
            "grid_template_columns": null,
            "flex": null,
            "_model_name": "LayoutModel",
            "justify_items": null,
            "grid_row": null,
            "max_height": null,
            "align_content": null,
            "visibility": null,
            "align_self": null,
            "height": null,
            "min_height": null,
            "padding": null,
            "grid_auto_rows": null,
            "grid_gap": null,
            "max_width": null,
            "order": null,
            "_view_module_version": "1.2.0",
            "grid_template_areas": null,
            "object_position": null,
            "object_fit": null,
            "grid_auto_columns": null,
            "margin": null,
            "display": null,
            "left": null
          }
        },
        "caf735aec4bc49ed8264b9a73733f0ee": {
          "model_module": "@jupyter-widgets/controls",
          "model_name": "ProgressStyleModel",
          "model_module_version": "1.5.0",
          "state": {
            "_view_name": "StyleView",
            "_model_name": "ProgressStyleModel",
            "description_width": "",
            "_view_module": "@jupyter-widgets/base",
            "_model_module_version": "1.5.0",
            "_view_count": null,
            "_view_module_version": "1.2.0",
            "bar_color": null,
            "_model_module": "@jupyter-widgets/controls"
          }
        },
        "c58450f8ff84401f9ddc8cecbee17587": {
          "model_module": "@jupyter-widgets/base",
          "model_name": "LayoutModel",
          "model_module_version": "1.2.0",
          "state": {
            "_view_name": "LayoutView",
            "grid_template_rows": null,
            "right": null,
            "justify_content": null,
            "_view_module": "@jupyter-widgets/base",
            "overflow": null,
            "_model_module_version": "1.2.0",
            "_view_count": null,
            "flex_flow": null,
            "width": null,
            "min_width": null,
            "border": null,
            "align_items": null,
            "bottom": null,
            "_model_module": "@jupyter-widgets/base",
            "top": null,
            "grid_column": null,
            "overflow_y": null,
            "overflow_x": null,
            "grid_auto_flow": null,
            "grid_area": null,
            "grid_template_columns": null,
            "flex": null,
            "_model_name": "LayoutModel",
            "justify_items": null,
            "grid_row": null,
            "max_height": null,
            "align_content": null,
            "visibility": null,
            "align_self": null,
            "height": null,
            "min_height": null,
            "padding": null,
            "grid_auto_rows": null,
            "grid_gap": null,
            "max_width": null,
            "order": null,
            "_view_module_version": "1.2.0",
            "grid_template_areas": null,
            "object_position": null,
            "object_fit": null,
            "grid_auto_columns": null,
            "margin": null,
            "display": null,
            "left": null
          }
        },
        "d71d98f2f3844163b913b7958118d37f": {
          "model_module": "@jupyter-widgets/controls",
          "model_name": "DescriptionStyleModel",
          "model_module_version": "1.5.0",
          "state": {
            "_view_name": "StyleView",
            "_model_name": "DescriptionStyleModel",
            "description_width": "",
            "_view_module": "@jupyter-widgets/base",
            "_model_module_version": "1.5.0",
            "_view_count": null,
            "_view_module_version": "1.2.0",
            "_model_module": "@jupyter-widgets/controls"
          }
        },
        "7fc458960a8f4c2bad341dc2be702dd7": {
          "model_module": "@jupyter-widgets/base",
          "model_name": "LayoutModel",
          "model_module_version": "1.2.0",
          "state": {
            "_view_name": "LayoutView",
            "grid_template_rows": null,
            "right": null,
            "justify_content": null,
            "_view_module": "@jupyter-widgets/base",
            "overflow": null,
            "_model_module_version": "1.2.0",
            "_view_count": null,
            "flex_flow": null,
            "width": null,
            "min_width": null,
            "border": null,
            "align_items": null,
            "bottom": null,
            "_model_module": "@jupyter-widgets/base",
            "top": null,
            "grid_column": null,
            "overflow_y": null,
            "overflow_x": null,
            "grid_auto_flow": null,
            "grid_area": null,
            "grid_template_columns": null,
            "flex": null,
            "_model_name": "LayoutModel",
            "justify_items": null,
            "grid_row": null,
            "max_height": null,
            "align_content": null,
            "visibility": null,
            "align_self": null,
            "height": null,
            "min_height": null,
            "padding": null,
            "grid_auto_rows": null,
            "grid_gap": null,
            "max_width": null,
            "order": null,
            "_view_module_version": "1.2.0",
            "grid_template_areas": null,
            "object_position": null,
            "object_fit": null,
            "grid_auto_columns": null,
            "margin": null,
            "display": null,
            "left": null
          }
        },
        "22af37a4eb3f4abba2ca427fa2791c4d": {
          "model_module": "@jupyter-widgets/controls",
          "model_name": "HBoxModel",
          "model_module_version": "1.5.0",
          "state": {
            "_view_name": "HBoxView",
            "_dom_classes": [],
            "_model_name": "HBoxModel",
            "_view_module": "@jupyter-widgets/controls",
            "_model_module_version": "1.5.0",
            "_view_count": null,
            "_view_module_version": "1.5.0",
            "box_style": "",
            "layout": "IPY_MODEL_b9ffe24cc73244ce86f932895ba4ad2a",
            "_model_module": "@jupyter-widgets/controls",
            "children": [
              "IPY_MODEL_b39e4fcd3cb54e0090b827d024dbe227",
              "IPY_MODEL_c367a604540844df99bdcc3201e3b896",
              "IPY_MODEL_6381879a5da54f339a3542c823d6e5bb"
            ]
          }
        },
        "b9ffe24cc73244ce86f932895ba4ad2a": {
          "model_module": "@jupyter-widgets/base",
          "model_name": "LayoutModel",
          "model_module_version": "1.2.0",
          "state": {
            "_view_name": "LayoutView",
            "grid_template_rows": null,
            "right": null,
            "justify_content": null,
            "_view_module": "@jupyter-widgets/base",
            "overflow": null,
            "_model_module_version": "1.2.0",
            "_view_count": null,
            "flex_flow": null,
            "width": null,
            "min_width": null,
            "border": null,
            "align_items": null,
            "bottom": null,
            "_model_module": "@jupyter-widgets/base",
            "top": null,
            "grid_column": null,
            "overflow_y": null,
            "overflow_x": null,
            "grid_auto_flow": null,
            "grid_area": null,
            "grid_template_columns": null,
            "flex": null,
            "_model_name": "LayoutModel",
            "justify_items": null,
            "grid_row": null,
            "max_height": null,
            "align_content": null,
            "visibility": null,
            "align_self": null,
            "height": null,
            "min_height": null,
            "padding": null,
            "grid_auto_rows": null,
            "grid_gap": null,
            "max_width": null,
            "order": null,
            "_view_module_version": "1.2.0",
            "grid_template_areas": null,
            "object_position": null,
            "object_fit": null,
            "grid_auto_columns": null,
            "margin": null,
            "display": null,
            "left": null
          }
        },
        "b39e4fcd3cb54e0090b827d024dbe227": {
          "model_module": "@jupyter-widgets/controls",
          "model_name": "HTMLModel",
          "model_module_version": "1.5.0",
          "state": {
            "_view_name": "HTMLView",
            "style": "IPY_MODEL_b8670c595c3b4cb7a92e54b3aea6b695",
            "_dom_classes": [],
            "description": "",
            "_model_name": "HTMLModel",
            "placeholder": "​",
            "_view_module": "@jupyter-widgets/controls",
            "_model_module_version": "1.5.0",
            "value": "Downloading: 100%",
            "_view_count": null,
            "_view_module_version": "1.5.0",
            "description_tooltip": null,
            "_model_module": "@jupyter-widgets/controls",
            "layout": "IPY_MODEL_6f5cf39aa64f432e98da0acf4b43d58e"
          }
        },
        "c367a604540844df99bdcc3201e3b896": {
          "model_module": "@jupyter-widgets/controls",
          "model_name": "FloatProgressModel",
          "model_module_version": "1.5.0",
          "state": {
            "_view_name": "ProgressView",
            "style": "IPY_MODEL_e4f42420fce845e0b6127f6a5550b0e4",
            "_dom_classes": [],
            "description": "",
            "_model_name": "FloatProgressModel",
            "bar_style": "success",
            "max": 249034168,
            "_view_module": "@jupyter-widgets/controls",
            "_model_module_version": "1.5.0",
            "value": 249034168,
            "_view_count": null,
            "_view_module_version": "1.5.0",
            "orientation": "horizontal",
            "min": 0,
            "description_tooltip": null,
            "_model_module": "@jupyter-widgets/controls",
            "layout": "IPY_MODEL_540895076e5c4a139532bc56e5bd8a39"
          }
        },
        "6381879a5da54f339a3542c823d6e5bb": {
          "model_module": "@jupyter-widgets/controls",
          "model_name": "HTMLModel",
          "model_module_version": "1.5.0",
          "state": {
            "_view_name": "HTMLView",
            "style": "IPY_MODEL_4e3b585f53e44e88a68721319893f9ae",
            "_dom_classes": [],
            "description": "",
            "_model_name": "HTMLModel",
            "placeholder": "​",
            "_view_module": "@jupyter-widgets/controls",
            "_model_module_version": "1.5.0",
            "value": " 249M/249M [00:06&lt;00:00, 31.1MB/s]",
            "_view_count": null,
            "_view_module_version": "1.5.0",
            "description_tooltip": null,
            "_model_module": "@jupyter-widgets/controls",
            "layout": "IPY_MODEL_e0ba0c304aff421dbdc57cfab4089916"
          }
        },
        "b8670c595c3b4cb7a92e54b3aea6b695": {
          "model_module": "@jupyter-widgets/controls",
          "model_name": "DescriptionStyleModel",
          "model_module_version": "1.5.0",
          "state": {
            "_view_name": "StyleView",
            "_model_name": "DescriptionStyleModel",
            "description_width": "",
            "_view_module": "@jupyter-widgets/base",
            "_model_module_version": "1.5.0",
            "_view_count": null,
            "_view_module_version": "1.2.0",
            "_model_module": "@jupyter-widgets/controls"
          }
        },
        "6f5cf39aa64f432e98da0acf4b43d58e": {
          "model_module": "@jupyter-widgets/base",
          "model_name": "LayoutModel",
          "model_module_version": "1.2.0",
          "state": {
            "_view_name": "LayoutView",
            "grid_template_rows": null,
            "right": null,
            "justify_content": null,
            "_view_module": "@jupyter-widgets/base",
            "overflow": null,
            "_model_module_version": "1.2.0",
            "_view_count": null,
            "flex_flow": null,
            "width": null,
            "min_width": null,
            "border": null,
            "align_items": null,
            "bottom": null,
            "_model_module": "@jupyter-widgets/base",
            "top": null,
            "grid_column": null,
            "overflow_y": null,
            "overflow_x": null,
            "grid_auto_flow": null,
            "grid_area": null,
            "grid_template_columns": null,
            "flex": null,
            "_model_name": "LayoutModel",
            "justify_items": null,
            "grid_row": null,
            "max_height": null,
            "align_content": null,
            "visibility": null,
            "align_self": null,
            "height": null,
            "min_height": null,
            "padding": null,
            "grid_auto_rows": null,
            "grid_gap": null,
            "max_width": null,
            "order": null,
            "_view_module_version": "1.2.0",
            "grid_template_areas": null,
            "object_position": null,
            "object_fit": null,
            "grid_auto_columns": null,
            "margin": null,
            "display": null,
            "left": null
          }
        },
        "e4f42420fce845e0b6127f6a5550b0e4": {
          "model_module": "@jupyter-widgets/controls",
          "model_name": "ProgressStyleModel",
          "model_module_version": "1.5.0",
          "state": {
            "_view_name": "StyleView",
            "_model_name": "ProgressStyleModel",
            "description_width": "",
            "_view_module": "@jupyter-widgets/base",
            "_model_module_version": "1.5.0",
            "_view_count": null,
            "_view_module_version": "1.2.0",
            "bar_color": null,
            "_model_module": "@jupyter-widgets/controls"
          }
        },
        "540895076e5c4a139532bc56e5bd8a39": {
          "model_module": "@jupyter-widgets/base",
          "model_name": "LayoutModel",
          "model_module_version": "1.2.0",
          "state": {
            "_view_name": "LayoutView",
            "grid_template_rows": null,
            "right": null,
            "justify_content": null,
            "_view_module": "@jupyter-widgets/base",
            "overflow": null,
            "_model_module_version": "1.2.0",
            "_view_count": null,
            "flex_flow": null,
            "width": null,
            "min_width": null,
            "border": null,
            "align_items": null,
            "bottom": null,
            "_model_module": "@jupyter-widgets/base",
            "top": null,
            "grid_column": null,
            "overflow_y": null,
            "overflow_x": null,
            "grid_auto_flow": null,
            "grid_area": null,
            "grid_template_columns": null,
            "flex": null,
            "_model_name": "LayoutModel",
            "justify_items": null,
            "grid_row": null,
            "max_height": null,
            "align_content": null,
            "visibility": null,
            "align_self": null,
            "height": null,
            "min_height": null,
            "padding": null,
            "grid_auto_rows": null,
            "grid_gap": null,
            "max_width": null,
            "order": null,
            "_view_module_version": "1.2.0",
            "grid_template_areas": null,
            "object_position": null,
            "object_fit": null,
            "grid_auto_columns": null,
            "margin": null,
            "display": null,
            "left": null
          }
        },
        "4e3b585f53e44e88a68721319893f9ae": {
          "model_module": "@jupyter-widgets/controls",
          "model_name": "DescriptionStyleModel",
          "model_module_version": "1.5.0",
          "state": {
            "_view_name": "StyleView",
            "_model_name": "DescriptionStyleModel",
            "description_width": "",
            "_view_module": "@jupyter-widgets/base",
            "_model_module_version": "1.5.0",
            "_view_count": null,
            "_view_module_version": "1.2.0",
            "_model_module": "@jupyter-widgets/controls"
          }
        },
        "e0ba0c304aff421dbdc57cfab4089916": {
          "model_module": "@jupyter-widgets/base",
          "model_name": "LayoutModel",
          "model_module_version": "1.2.0",
          "state": {
            "_view_name": "LayoutView",
            "grid_template_rows": null,
            "right": null,
            "justify_content": null,
            "_view_module": "@jupyter-widgets/base",
            "overflow": null,
            "_model_module_version": "1.2.0",
            "_view_count": null,
            "flex_flow": null,
            "width": null,
            "min_width": null,
            "border": null,
            "align_items": null,
            "bottom": null,
            "_model_module": "@jupyter-widgets/base",
            "top": null,
            "grid_column": null,
            "overflow_y": null,
            "overflow_x": null,
            "grid_auto_flow": null,
            "grid_area": null,
            "grid_template_columns": null,
            "flex": null,
            "_model_name": "LayoutModel",
            "justify_items": null,
            "grid_row": null,
            "max_height": null,
            "align_content": null,
            "visibility": null,
            "align_self": null,
            "height": null,
            "min_height": null,
            "padding": null,
            "grid_auto_rows": null,
            "grid_gap": null,
            "max_width": null,
            "order": null,
            "_view_module_version": "1.2.0",
            "grid_template_areas": null,
            "object_position": null,
            "object_fit": null,
            "grid_auto_columns": null,
            "margin": null,
            "display": null,
            "left": null
          }
        },
        "98defcc1a0d6480f8ab453fa7487e04f": {
          "model_module": "@jupyter-widgets/controls",
          "model_name": "HBoxModel",
          "model_module_version": "1.5.0",
          "state": {
            "_view_name": "HBoxView",
            "_dom_classes": [],
            "_model_name": "HBoxModel",
            "_view_module": "@jupyter-widgets/controls",
            "_model_module_version": "1.5.0",
            "_view_count": null,
            "_view_module_version": "1.5.0",
            "box_style": "",
            "layout": "IPY_MODEL_5d34a41e979d4ba988d9e382414c1af9",
            "_model_module": "@jupyter-widgets/controls",
            "children": [
              "IPY_MODEL_603eb813770d4d85a9988934e12fe900",
              "IPY_MODEL_3a48aaea91c44ccbb542179ab59a61fd",
              "IPY_MODEL_a2db5baa29bb4903bb8e1180a1c63ec5"
            ]
          }
        },
        "5d34a41e979d4ba988d9e382414c1af9": {
          "model_module": "@jupyter-widgets/base",
          "model_name": "LayoutModel",
          "model_module_version": "1.2.0",
          "state": {
            "_view_name": "LayoutView",
            "grid_template_rows": null,
            "right": null,
            "justify_content": null,
            "_view_module": "@jupyter-widgets/base",
            "overflow": null,
            "_model_module_version": "1.2.0",
            "_view_count": null,
            "flex_flow": null,
            "width": null,
            "min_width": null,
            "border": null,
            "align_items": null,
            "bottom": null,
            "_model_module": "@jupyter-widgets/base",
            "top": null,
            "grid_column": null,
            "overflow_y": null,
            "overflow_x": null,
            "grid_auto_flow": null,
            "grid_area": null,
            "grid_template_columns": null,
            "flex": null,
            "_model_name": "LayoutModel",
            "justify_items": null,
            "grid_row": null,
            "max_height": null,
            "align_content": null,
            "visibility": null,
            "align_self": null,
            "height": null,
            "min_height": null,
            "padding": null,
            "grid_auto_rows": null,
            "grid_gap": null,
            "max_width": null,
            "order": null,
            "_view_module_version": "1.2.0",
            "grid_template_areas": null,
            "object_position": null,
            "object_fit": null,
            "grid_auto_columns": null,
            "margin": null,
            "display": null,
            "left": null
          }
        },
        "603eb813770d4d85a9988934e12fe900": {
          "model_module": "@jupyter-widgets/controls",
          "model_name": "HTMLModel",
          "model_module_version": "1.5.0",
          "state": {
            "_view_name": "HTMLView",
            "style": "IPY_MODEL_6bc99d7dd17343acb6ca3c1272855458",
            "_dom_classes": [],
            "description": "",
            "_model_name": "HTMLModel",
            "placeholder": "​",
            "_view_module": "@jupyter-widgets/controls",
            "_model_module_version": "1.5.0",
            "value": "Downloading: 100%",
            "_view_count": null,
            "_view_module_version": "1.5.0",
            "description_tooltip": null,
            "_model_module": "@jupyter-widgets/controls",
            "layout": "IPY_MODEL_40bd7fa1e35945b68e8477eec7be782e"
          }
        },
        "3a48aaea91c44ccbb542179ab59a61fd": {
          "model_module": "@jupyter-widgets/controls",
          "model_name": "FloatProgressModel",
          "model_module_version": "1.5.0",
          "state": {
            "_view_name": "ProgressView",
            "style": "IPY_MODEL_f81b9c42181847fa8b06a6e38b129978",
            "_dom_classes": [],
            "description": "",
            "_model_name": "FloatProgressModel",
            "bar_style": "success",
            "max": 432176557,
            "_view_module": "@jupyter-widgets/controls",
            "_model_module_version": "1.5.0",
            "value": 432176557,
            "_view_count": null,
            "_view_module_version": "1.5.0",
            "orientation": "horizontal",
            "min": 0,
            "description_tooltip": null,
            "_model_module": "@jupyter-widgets/controls",
            "layout": "IPY_MODEL_f386c1f04ca6451c9534e843da440417"
          }
        },
        "a2db5baa29bb4903bb8e1180a1c63ec5": {
          "model_module": "@jupyter-widgets/controls",
          "model_name": "HTMLModel",
          "model_module_version": "1.5.0",
          "state": {
            "_view_name": "HTMLView",
            "style": "IPY_MODEL_b0fca4f1598e40d6a6ddd2d44f7b0c7d",
            "_dom_classes": [],
            "description": "",
            "_model_name": "HTMLModel",
            "placeholder": "​",
            "_view_module": "@jupyter-widgets/controls",
            "_model_module_version": "1.5.0",
            "value": " 432M/432M [00:12&lt;00:00, 35.1MB/s]",
            "_view_count": null,
            "_view_module_version": "1.5.0",
            "description_tooltip": null,
            "_model_module": "@jupyter-widgets/controls",
            "layout": "IPY_MODEL_e315c99b5e8740cb827cbe862c464a32"
          }
        },
        "6bc99d7dd17343acb6ca3c1272855458": {
          "model_module": "@jupyter-widgets/controls",
          "model_name": "DescriptionStyleModel",
          "model_module_version": "1.5.0",
          "state": {
            "_view_name": "StyleView",
            "_model_name": "DescriptionStyleModel",
            "description_width": "",
            "_view_module": "@jupyter-widgets/base",
            "_model_module_version": "1.5.0",
            "_view_count": null,
            "_view_module_version": "1.2.0",
            "_model_module": "@jupyter-widgets/controls"
          }
        },
        "40bd7fa1e35945b68e8477eec7be782e": {
          "model_module": "@jupyter-widgets/base",
          "model_name": "LayoutModel",
          "model_module_version": "1.2.0",
          "state": {
            "_view_name": "LayoutView",
            "grid_template_rows": null,
            "right": null,
            "justify_content": null,
            "_view_module": "@jupyter-widgets/base",
            "overflow": null,
            "_model_module_version": "1.2.0",
            "_view_count": null,
            "flex_flow": null,
            "width": null,
            "min_width": null,
            "border": null,
            "align_items": null,
            "bottom": null,
            "_model_module": "@jupyter-widgets/base",
            "top": null,
            "grid_column": null,
            "overflow_y": null,
            "overflow_x": null,
            "grid_auto_flow": null,
            "grid_area": null,
            "grid_template_columns": null,
            "flex": null,
            "_model_name": "LayoutModel",
            "justify_items": null,
            "grid_row": null,
            "max_height": null,
            "align_content": null,
            "visibility": null,
            "align_self": null,
            "height": null,
            "min_height": null,
            "padding": null,
            "grid_auto_rows": null,
            "grid_gap": null,
            "max_width": null,
            "order": null,
            "_view_module_version": "1.2.0",
            "grid_template_areas": null,
            "object_position": null,
            "object_fit": null,
            "grid_auto_columns": null,
            "margin": null,
            "display": null,
            "left": null
          }
        },
        "f81b9c42181847fa8b06a6e38b129978": {
          "model_module": "@jupyter-widgets/controls",
          "model_name": "ProgressStyleModel",
          "model_module_version": "1.5.0",
          "state": {
            "_view_name": "StyleView",
            "_model_name": "ProgressStyleModel",
            "description_width": "",
            "_view_module": "@jupyter-widgets/base",
            "_model_module_version": "1.5.0",
            "_view_count": null,
            "_view_module_version": "1.2.0",
            "bar_color": null,
            "_model_module": "@jupyter-widgets/controls"
          }
        },
        "f386c1f04ca6451c9534e843da440417": {
          "model_module": "@jupyter-widgets/base",
          "model_name": "LayoutModel",
          "model_module_version": "1.2.0",
          "state": {
            "_view_name": "LayoutView",
            "grid_template_rows": null,
            "right": null,
            "justify_content": null,
            "_view_module": "@jupyter-widgets/base",
            "overflow": null,
            "_model_module_version": "1.2.0",
            "_view_count": null,
            "flex_flow": null,
            "width": null,
            "min_width": null,
            "border": null,
            "align_items": null,
            "bottom": null,
            "_model_module": "@jupyter-widgets/base",
            "top": null,
            "grid_column": null,
            "overflow_y": null,
            "overflow_x": null,
            "grid_auto_flow": null,
            "grid_area": null,
            "grid_template_columns": null,
            "flex": null,
            "_model_name": "LayoutModel",
            "justify_items": null,
            "grid_row": null,
            "max_height": null,
            "align_content": null,
            "visibility": null,
            "align_self": null,
            "height": null,
            "min_height": null,
            "padding": null,
            "grid_auto_rows": null,
            "grid_gap": null,
            "max_width": null,
            "order": null,
            "_view_module_version": "1.2.0",
            "grid_template_areas": null,
            "object_position": null,
            "object_fit": null,
            "grid_auto_columns": null,
            "margin": null,
            "display": null,
            "left": null
          }
        },
        "b0fca4f1598e40d6a6ddd2d44f7b0c7d": {
          "model_module": "@jupyter-widgets/controls",
          "model_name": "DescriptionStyleModel",
          "model_module_version": "1.5.0",
          "state": {
            "_view_name": "StyleView",
            "_model_name": "DescriptionStyleModel",
            "description_width": "",
            "_view_module": "@jupyter-widgets/base",
            "_model_module_version": "1.5.0",
            "_view_count": null,
            "_view_module_version": "1.2.0",
            "_model_module": "@jupyter-widgets/controls"
          }
        },
        "e315c99b5e8740cb827cbe862c464a32": {
          "model_module": "@jupyter-widgets/base",
          "model_name": "LayoutModel",
          "model_module_version": "1.2.0",
          "state": {
            "_view_name": "LayoutView",
            "grid_template_rows": null,
            "right": null,
            "justify_content": null,
            "_view_module": "@jupyter-widgets/base",
            "overflow": null,
            "_model_module_version": "1.2.0",
            "_view_count": null,
            "flex_flow": null,
            "width": null,
            "min_width": null,
            "border": null,
            "align_items": null,
            "bottom": null,
            "_model_module": "@jupyter-widgets/base",
            "top": null,
            "grid_column": null,
            "overflow_y": null,
            "overflow_x": null,
            "grid_auto_flow": null,
            "grid_area": null,
            "grid_template_columns": null,
            "flex": null,
            "_model_name": "LayoutModel",
            "justify_items": null,
            "grid_row": null,
            "max_height": null,
            "align_content": null,
            "visibility": null,
            "align_self": null,
            "height": null,
            "min_height": null,
            "padding": null,
            "grid_auto_rows": null,
            "grid_gap": null,
            "max_width": null,
            "order": null,
            "_view_module_version": "1.2.0",
            "grid_template_areas": null,
            "object_position": null,
            "object_fit": null,
            "grid_auto_columns": null,
            "margin": null,
            "display": null,
            "left": null
          }
        },
        "b60d191454734d33b40217ad8e509688": {
          "model_module": "@jupyter-widgets/controls",
          "model_name": "HBoxModel",
          "model_module_version": "1.5.0",
          "state": {
            "_view_name": "HBoxView",
            "_dom_classes": [],
            "_model_name": "HBoxModel",
            "_view_module": "@jupyter-widgets/controls",
            "_model_module_version": "1.5.0",
            "_view_count": null,
            "_view_module_version": "1.5.0",
            "box_style": "",
            "layout": "IPY_MODEL_bf61ca0db34a4cd385f7fd73224bdcf3",
            "_model_module": "@jupyter-widgets/controls",
            "children": [
              "IPY_MODEL_0958fe278ba04bd1aad479606351ec93",
              "IPY_MODEL_ebe79fbea0fb408d9671649516cfe473",
              "IPY_MODEL_2eced64c8a3b492392e7af66445c058f"
            ]
          }
        },
        "bf61ca0db34a4cd385f7fd73224bdcf3": {
          "model_module": "@jupyter-widgets/base",
          "model_name": "LayoutModel",
          "model_module_version": "1.2.0",
          "state": {
            "_view_name": "LayoutView",
            "grid_template_rows": null,
            "right": null,
            "justify_content": null,
            "_view_module": "@jupyter-widgets/base",
            "overflow": null,
            "_model_module_version": "1.2.0",
            "_view_count": null,
            "flex_flow": null,
            "width": null,
            "min_width": null,
            "border": null,
            "align_items": null,
            "bottom": null,
            "_model_module": "@jupyter-widgets/base",
            "top": null,
            "grid_column": null,
            "overflow_y": null,
            "overflow_x": null,
            "grid_auto_flow": null,
            "grid_area": null,
            "grid_template_columns": null,
            "flex": null,
            "_model_name": "LayoutModel",
            "justify_items": null,
            "grid_row": null,
            "max_height": null,
            "align_content": null,
            "visibility": null,
            "align_self": null,
            "height": null,
            "min_height": null,
            "padding": null,
            "grid_auto_rows": null,
            "grid_gap": null,
            "max_width": null,
            "order": null,
            "_view_module_version": "1.2.0",
            "grid_template_areas": null,
            "object_position": null,
            "object_fit": null,
            "grid_auto_columns": null,
            "margin": null,
            "display": null,
            "left": null
          }
        },
        "0958fe278ba04bd1aad479606351ec93": {
          "model_module": "@jupyter-widgets/controls",
          "model_name": "HTMLModel",
          "model_module_version": "1.5.0",
          "state": {
            "_view_name": "HTMLView",
            "style": "IPY_MODEL_f95b12e2b668438b9802ebf0151c9f47",
            "_dom_classes": [],
            "description": "",
            "_model_name": "HTMLModel",
            "placeholder": "​",
            "_view_module": "@jupyter-widgets/controls",
            "_model_module_version": "1.5.0",
            "value": "Downloading: 100%",
            "_view_count": null,
            "_view_module_version": "1.5.0",
            "description_tooltip": null,
            "_model_module": "@jupyter-widgets/controls",
            "layout": "IPY_MODEL_8edb42ab83404f96bc280094f1d5d35a"
          }
        },
        "ebe79fbea0fb408d9671649516cfe473": {
          "model_module": "@jupyter-widgets/controls",
          "model_name": "FloatProgressModel",
          "model_module_version": "1.5.0",
          "state": {
            "_view_name": "ProgressView",
            "style": "IPY_MODEL_8d62e635dc5c4137859ea2c90957326d",
            "_dom_classes": [],
            "description": "",
            "_model_name": "FloatProgressModel",
            "bar_style": "success",
            "max": 290521503,
            "_view_module": "@jupyter-widgets/controls",
            "_model_module_version": "1.5.0",
            "value": 290521503,
            "_view_count": null,
            "_view_module_version": "1.5.0",
            "orientation": "horizontal",
            "min": 0,
            "description_tooltip": null,
            "_model_module": "@jupyter-widgets/controls",
            "layout": "IPY_MODEL_4b223fde3d264c4a9748504dbca473b1"
          }
        },
        "2eced64c8a3b492392e7af66445c058f": {
          "model_module": "@jupyter-widgets/controls",
          "model_name": "HTMLModel",
          "model_module_version": "1.5.0",
          "state": {
            "_view_name": "HTMLView",
            "style": "IPY_MODEL_3a5429424f714a01b18c0db15c501f2b",
            "_dom_classes": [],
            "description": "",
            "_model_name": "HTMLModel",
            "placeholder": "​",
            "_view_module": "@jupyter-widgets/controls",
            "_model_module_version": "1.5.0",
            "value": " 291M/291M [00:08&lt;00:00, 35.5MB/s]",
            "_view_count": null,
            "_view_module_version": "1.5.0",
            "description_tooltip": null,
            "_model_module": "@jupyter-widgets/controls",
            "layout": "IPY_MODEL_782aace93eba491cb5797c7b396731ed"
          }
        },
        "f95b12e2b668438b9802ebf0151c9f47": {
          "model_module": "@jupyter-widgets/controls",
          "model_name": "DescriptionStyleModel",
          "model_module_version": "1.5.0",
          "state": {
            "_view_name": "StyleView",
            "_model_name": "DescriptionStyleModel",
            "description_width": "",
            "_view_module": "@jupyter-widgets/base",
            "_model_module_version": "1.5.0",
            "_view_count": null,
            "_view_module_version": "1.2.0",
            "_model_module": "@jupyter-widgets/controls"
          }
        },
        "8edb42ab83404f96bc280094f1d5d35a": {
          "model_module": "@jupyter-widgets/base",
          "model_name": "LayoutModel",
          "model_module_version": "1.2.0",
          "state": {
            "_view_name": "LayoutView",
            "grid_template_rows": null,
            "right": null,
            "justify_content": null,
            "_view_module": "@jupyter-widgets/base",
            "overflow": null,
            "_model_module_version": "1.2.0",
            "_view_count": null,
            "flex_flow": null,
            "width": null,
            "min_width": null,
            "border": null,
            "align_items": null,
            "bottom": null,
            "_model_module": "@jupyter-widgets/base",
            "top": null,
            "grid_column": null,
            "overflow_y": null,
            "overflow_x": null,
            "grid_auto_flow": null,
            "grid_area": null,
            "grid_template_columns": null,
            "flex": null,
            "_model_name": "LayoutModel",
            "justify_items": null,
            "grid_row": null,
            "max_height": null,
            "align_content": null,
            "visibility": null,
            "align_self": null,
            "height": null,
            "min_height": null,
            "padding": null,
            "grid_auto_rows": null,
            "grid_gap": null,
            "max_width": null,
            "order": null,
            "_view_module_version": "1.2.0",
            "grid_template_areas": null,
            "object_position": null,
            "object_fit": null,
            "grid_auto_columns": null,
            "margin": null,
            "display": null,
            "left": null
          }
        },
        "8d62e635dc5c4137859ea2c90957326d": {
          "model_module": "@jupyter-widgets/controls",
          "model_name": "ProgressStyleModel",
          "model_module_version": "1.5.0",
          "state": {
            "_view_name": "StyleView",
            "_model_name": "ProgressStyleModel",
            "description_width": "",
            "_view_module": "@jupyter-widgets/base",
            "_model_module_version": "1.5.0",
            "_view_count": null,
            "_view_module_version": "1.2.0",
            "bar_color": null,
            "_model_module": "@jupyter-widgets/controls"
          }
        },
        "4b223fde3d264c4a9748504dbca473b1": {
          "model_module": "@jupyter-widgets/base",
          "model_name": "LayoutModel",
          "model_module_version": "1.2.0",
          "state": {
            "_view_name": "LayoutView",
            "grid_template_rows": null,
            "right": null,
            "justify_content": null,
            "_view_module": "@jupyter-widgets/base",
            "overflow": null,
            "_model_module_version": "1.2.0",
            "_view_count": null,
            "flex_flow": null,
            "width": null,
            "min_width": null,
            "border": null,
            "align_items": null,
            "bottom": null,
            "_model_module": "@jupyter-widgets/base",
            "top": null,
            "grid_column": null,
            "overflow_y": null,
            "overflow_x": null,
            "grid_auto_flow": null,
            "grid_area": null,
            "grid_template_columns": null,
            "flex": null,
            "_model_name": "LayoutModel",
            "justify_items": null,
            "grid_row": null,
            "max_height": null,
            "align_content": null,
            "visibility": null,
            "align_self": null,
            "height": null,
            "min_height": null,
            "padding": null,
            "grid_auto_rows": null,
            "grid_gap": null,
            "max_width": null,
            "order": null,
            "_view_module_version": "1.2.0",
            "grid_template_areas": null,
            "object_position": null,
            "object_fit": null,
            "grid_auto_columns": null,
            "margin": null,
            "display": null,
            "left": null
          }
        },
        "3a5429424f714a01b18c0db15c501f2b": {
          "model_module": "@jupyter-widgets/controls",
          "model_name": "DescriptionStyleModel",
          "model_module_version": "1.5.0",
          "state": {
            "_view_name": "StyleView",
            "_model_name": "DescriptionStyleModel",
            "description_width": "",
            "_view_module": "@jupyter-widgets/base",
            "_model_module_version": "1.5.0",
            "_view_count": null,
            "_view_module_version": "1.2.0",
            "_model_module": "@jupyter-widgets/controls"
          }
        },
        "782aace93eba491cb5797c7b396731ed": {
          "model_module": "@jupyter-widgets/base",
          "model_name": "LayoutModel",
          "model_module_version": "1.2.0",
          "state": {
            "_view_name": "LayoutView",
            "grid_template_rows": null,
            "right": null,
            "justify_content": null,
            "_view_module": "@jupyter-widgets/base",
            "overflow": null,
            "_model_module_version": "1.2.0",
            "_view_count": null,
            "flex_flow": null,
            "width": null,
            "min_width": null,
            "border": null,
            "align_items": null,
            "bottom": null,
            "_model_module": "@jupyter-widgets/base",
            "top": null,
            "grid_column": null,
            "overflow_y": null,
            "overflow_x": null,
            "grid_auto_flow": null,
            "grid_area": null,
            "grid_template_columns": null,
            "flex": null,
            "_model_name": "LayoutModel",
            "justify_items": null,
            "grid_row": null,
            "max_height": null,
            "align_content": null,
            "visibility": null,
            "align_self": null,
            "height": null,
            "min_height": null,
            "padding": null,
            "grid_auto_rows": null,
            "grid_gap": null,
            "max_width": null,
            "order": null,
            "_view_module_version": "1.2.0",
            "grid_template_areas": null,
            "object_position": null,
            "object_fit": null,
            "grid_auto_columns": null,
            "margin": null,
            "display": null,
            "left": null
          }
        },
        "4acb2cf233724f6d820adf4d9222a0eb": {
          "model_module": "@jupyter-widgets/controls",
          "model_name": "HBoxModel",
          "model_module_version": "1.5.0",
          "state": {
            "_view_name": "HBoxView",
            "_dom_classes": [],
            "_model_name": "HBoxModel",
            "_view_module": "@jupyter-widgets/controls",
            "_model_module_version": "1.5.0",
            "_view_count": null,
            "_view_module_version": "1.5.0",
            "box_style": "",
            "layout": "IPY_MODEL_344c9fc240dc476591ff125dd3206b3b",
            "_model_module": "@jupyter-widgets/controls",
            "children": [
              "IPY_MODEL_05153d6cbd3346f0af21997d6c1b3c18",
              "IPY_MODEL_2188e4ac76b94aec9d4e4f63ef471a4e",
              "IPY_MODEL_1b1dd5ea71fb4b7296507f65a1b876df"
            ]
          }
        },
        "344c9fc240dc476591ff125dd3206b3b": {
          "model_module": "@jupyter-widgets/base",
          "model_name": "LayoutModel",
          "model_module_version": "1.2.0",
          "state": {
            "_view_name": "LayoutView",
            "grid_template_rows": null,
            "right": null,
            "justify_content": null,
            "_view_module": "@jupyter-widgets/base",
            "overflow": null,
            "_model_module_version": "1.2.0",
            "_view_count": null,
            "flex_flow": null,
            "width": null,
            "min_width": null,
            "border": null,
            "align_items": null,
            "bottom": null,
            "_model_module": "@jupyter-widgets/base",
            "top": null,
            "grid_column": null,
            "overflow_y": null,
            "overflow_x": null,
            "grid_auto_flow": null,
            "grid_area": null,
            "grid_template_columns": null,
            "flex": null,
            "_model_name": "LayoutModel",
            "justify_items": null,
            "grid_row": null,
            "max_height": null,
            "align_content": null,
            "visibility": null,
            "align_self": null,
            "height": null,
            "min_height": null,
            "padding": null,
            "grid_auto_rows": null,
            "grid_gap": null,
            "max_width": null,
            "order": null,
            "_view_module_version": "1.2.0",
            "grid_template_areas": null,
            "object_position": null,
            "object_fit": null,
            "grid_auto_columns": null,
            "margin": null,
            "display": null,
            "left": null
          }
        },
        "05153d6cbd3346f0af21997d6c1b3c18": {
          "model_module": "@jupyter-widgets/controls",
          "model_name": "HTMLModel",
          "model_module_version": "1.5.0",
          "state": {
            "_view_name": "HTMLView",
            "style": "IPY_MODEL_f7e51820667e420a8ed8b66a857d8e0c",
            "_dom_classes": [],
            "description": "",
            "_model_name": "HTMLModel",
            "placeholder": "​",
            "_view_module": "@jupyter-widgets/controls",
            "_model_module_version": "1.5.0",
            "value": "Downloading: 100%",
            "_view_count": null,
            "_view_module_version": "1.5.0",
            "description_tooltip": null,
            "_model_module": "@jupyter-widgets/controls",
            "layout": "IPY_MODEL_21a7a6bdedc44501a141ec94ab053853"
          }
        },
        "2188e4ac76b94aec9d4e4f63ef471a4e": {
          "model_module": "@jupyter-widgets/controls",
          "model_name": "FloatProgressModel",
          "model_module_version": "1.5.0",
          "state": {
            "_view_name": "ProgressView",
            "style": "IPY_MODEL_6d8491c3c11e492486804629e1f7a3a9",
            "_dom_classes": [],
            "description": "",
            "_model_name": "FloatProgressModel",
            "bar_style": "success",
            "max": 28,
            "_view_module": "@jupyter-widgets/controls",
            "_model_module_version": "1.5.0",
            "value": 28,
            "_view_count": null,
            "_view_module_version": "1.5.0",
            "orientation": "horizontal",
            "min": 0,
            "description_tooltip": null,
            "_model_module": "@jupyter-widgets/controls",
            "layout": "IPY_MODEL_61d9d9eb30634eaeb2e5048425b710b7"
          }
        },
        "1b1dd5ea71fb4b7296507f65a1b876df": {
          "model_module": "@jupyter-widgets/controls",
          "model_name": "HTMLModel",
          "model_module_version": "1.5.0",
          "state": {
            "_view_name": "HTMLView",
            "style": "IPY_MODEL_db9e117eb2c74b7597cba4254df71862",
            "_dom_classes": [],
            "description": "",
            "_model_name": "HTMLModel",
            "placeholder": "​",
            "_view_module": "@jupyter-widgets/controls",
            "_model_module_version": "1.5.0",
            "value": " 28.0/28.0 [00:00&lt;00:00, 715B/s]",
            "_view_count": null,
            "_view_module_version": "1.5.0",
            "description_tooltip": null,
            "_model_module": "@jupyter-widgets/controls",
            "layout": "IPY_MODEL_1265c9f85f184694bbd7334aca35932c"
          }
        },
        "f7e51820667e420a8ed8b66a857d8e0c": {
          "model_module": "@jupyter-widgets/controls",
          "model_name": "DescriptionStyleModel",
          "model_module_version": "1.5.0",
          "state": {
            "_view_name": "StyleView",
            "_model_name": "DescriptionStyleModel",
            "description_width": "",
            "_view_module": "@jupyter-widgets/base",
            "_model_module_version": "1.5.0",
            "_view_count": null,
            "_view_module_version": "1.2.0",
            "_model_module": "@jupyter-widgets/controls"
          }
        },
        "21a7a6bdedc44501a141ec94ab053853": {
          "model_module": "@jupyter-widgets/base",
          "model_name": "LayoutModel",
          "model_module_version": "1.2.0",
          "state": {
            "_view_name": "LayoutView",
            "grid_template_rows": null,
            "right": null,
            "justify_content": null,
            "_view_module": "@jupyter-widgets/base",
            "overflow": null,
            "_model_module_version": "1.2.0",
            "_view_count": null,
            "flex_flow": null,
            "width": null,
            "min_width": null,
            "border": null,
            "align_items": null,
            "bottom": null,
            "_model_module": "@jupyter-widgets/base",
            "top": null,
            "grid_column": null,
            "overflow_y": null,
            "overflow_x": null,
            "grid_auto_flow": null,
            "grid_area": null,
            "grid_template_columns": null,
            "flex": null,
            "_model_name": "LayoutModel",
            "justify_items": null,
            "grid_row": null,
            "max_height": null,
            "align_content": null,
            "visibility": null,
            "align_self": null,
            "height": null,
            "min_height": null,
            "padding": null,
            "grid_auto_rows": null,
            "grid_gap": null,
            "max_width": null,
            "order": null,
            "_view_module_version": "1.2.0",
            "grid_template_areas": null,
            "object_position": null,
            "object_fit": null,
            "grid_auto_columns": null,
            "margin": null,
            "display": null,
            "left": null
          }
        },
        "6d8491c3c11e492486804629e1f7a3a9": {
          "model_module": "@jupyter-widgets/controls",
          "model_name": "ProgressStyleModel",
          "model_module_version": "1.5.0",
          "state": {
            "_view_name": "StyleView",
            "_model_name": "ProgressStyleModel",
            "description_width": "",
            "_view_module": "@jupyter-widgets/base",
            "_model_module_version": "1.5.0",
            "_view_count": null,
            "_view_module_version": "1.2.0",
            "bar_color": null,
            "_model_module": "@jupyter-widgets/controls"
          }
        },
        "61d9d9eb30634eaeb2e5048425b710b7": {
          "model_module": "@jupyter-widgets/base",
          "model_name": "LayoutModel",
          "model_module_version": "1.2.0",
          "state": {
            "_view_name": "LayoutView",
            "grid_template_rows": null,
            "right": null,
            "justify_content": null,
            "_view_module": "@jupyter-widgets/base",
            "overflow": null,
            "_model_module_version": "1.2.0",
            "_view_count": null,
            "flex_flow": null,
            "width": null,
            "min_width": null,
            "border": null,
            "align_items": null,
            "bottom": null,
            "_model_module": "@jupyter-widgets/base",
            "top": null,
            "grid_column": null,
            "overflow_y": null,
            "overflow_x": null,
            "grid_auto_flow": null,
            "grid_area": null,
            "grid_template_columns": null,
            "flex": null,
            "_model_name": "LayoutModel",
            "justify_items": null,
            "grid_row": null,
            "max_height": null,
            "align_content": null,
            "visibility": null,
            "align_self": null,
            "height": null,
            "min_height": null,
            "padding": null,
            "grid_auto_rows": null,
            "grid_gap": null,
            "max_width": null,
            "order": null,
            "_view_module_version": "1.2.0",
            "grid_template_areas": null,
            "object_position": null,
            "object_fit": null,
            "grid_auto_columns": null,
            "margin": null,
            "display": null,
            "left": null
          }
        },
        "db9e117eb2c74b7597cba4254df71862": {
          "model_module": "@jupyter-widgets/controls",
          "model_name": "DescriptionStyleModel",
          "model_module_version": "1.5.0",
          "state": {
            "_view_name": "StyleView",
            "_model_name": "DescriptionStyleModel",
            "description_width": "",
            "_view_module": "@jupyter-widgets/base",
            "_model_module_version": "1.5.0",
            "_view_count": null,
            "_view_module_version": "1.2.0",
            "_model_module": "@jupyter-widgets/controls"
          }
        },
        "1265c9f85f184694bbd7334aca35932c": {
          "model_module": "@jupyter-widgets/base",
          "model_name": "LayoutModel",
          "model_module_version": "1.2.0",
          "state": {
            "_view_name": "LayoutView",
            "grid_template_rows": null,
            "right": null,
            "justify_content": null,
            "_view_module": "@jupyter-widgets/base",
            "overflow": null,
            "_model_module_version": "1.2.0",
            "_view_count": null,
            "flex_flow": null,
            "width": null,
            "min_width": null,
            "border": null,
            "align_items": null,
            "bottom": null,
            "_model_module": "@jupyter-widgets/base",
            "top": null,
            "grid_column": null,
            "overflow_y": null,
            "overflow_x": null,
            "grid_auto_flow": null,
            "grid_area": null,
            "grid_template_columns": null,
            "flex": null,
            "_model_name": "LayoutModel",
            "justify_items": null,
            "grid_row": null,
            "max_height": null,
            "align_content": null,
            "visibility": null,
            "align_self": null,
            "height": null,
            "min_height": null,
            "padding": null,
            "grid_auto_rows": null,
            "grid_gap": null,
            "max_width": null,
            "order": null,
            "_view_module_version": "1.2.0",
            "grid_template_areas": null,
            "object_position": null,
            "object_fit": null,
            "grid_auto_columns": null,
            "margin": null,
            "display": null,
            "left": null
          }
        },
        "99a80a7ce79340a78990cfe55fd02c5a": {
          "model_module": "@jupyter-widgets/controls",
          "model_name": "HBoxModel",
          "model_module_version": "1.5.0",
          "state": {
            "_view_name": "HBoxView",
            "_dom_classes": [],
            "_model_name": "HBoxModel",
            "_view_module": "@jupyter-widgets/controls",
            "_model_module_version": "1.5.0",
            "_view_count": null,
            "_view_module_version": "1.5.0",
            "box_style": "",
            "layout": "IPY_MODEL_e83b549d9cb84cbca53ce61e5fe46871",
            "_model_module": "@jupyter-widgets/controls",
            "children": [
              "IPY_MODEL_9c37bd8428694f05aab9ba70b8201f4c",
              "IPY_MODEL_4d7363e6dfe5467c8a7af7072c0c9f34",
              "IPY_MODEL_8928524fdf9541809a56eb37d3f6cbd3"
            ]
          }
        },
        "e83b549d9cb84cbca53ce61e5fe46871": {
          "model_module": "@jupyter-widgets/base",
          "model_name": "LayoutModel",
          "model_module_version": "1.2.0",
          "state": {
            "_view_name": "LayoutView",
            "grid_template_rows": null,
            "right": null,
            "justify_content": null,
            "_view_module": "@jupyter-widgets/base",
            "overflow": null,
            "_model_module_version": "1.2.0",
            "_view_count": null,
            "flex_flow": null,
            "width": null,
            "min_width": null,
            "border": null,
            "align_items": null,
            "bottom": null,
            "_model_module": "@jupyter-widgets/base",
            "top": null,
            "grid_column": null,
            "overflow_y": null,
            "overflow_x": null,
            "grid_auto_flow": null,
            "grid_area": null,
            "grid_template_columns": null,
            "flex": null,
            "_model_name": "LayoutModel",
            "justify_items": null,
            "grid_row": null,
            "max_height": null,
            "align_content": null,
            "visibility": null,
            "align_self": null,
            "height": null,
            "min_height": null,
            "padding": null,
            "grid_auto_rows": null,
            "grid_gap": null,
            "max_width": null,
            "order": null,
            "_view_module_version": "1.2.0",
            "grid_template_areas": null,
            "object_position": null,
            "object_fit": null,
            "grid_auto_columns": null,
            "margin": null,
            "display": null,
            "left": null
          }
        },
        "9c37bd8428694f05aab9ba70b8201f4c": {
          "model_module": "@jupyter-widgets/controls",
          "model_name": "HTMLModel",
          "model_module_version": "1.5.0",
          "state": {
            "_view_name": "HTMLView",
            "style": "IPY_MODEL_e0bbf1643a0d4eb19071381b5a6830e6",
            "_dom_classes": [],
            "description": "",
            "_model_name": "HTMLModel",
            "placeholder": "​",
            "_view_module": "@jupyter-widgets/controls",
            "_model_module_version": "1.5.0",
            "value": "Downloading: 100%",
            "_view_count": null,
            "_view_module_version": "1.5.0",
            "description_tooltip": null,
            "_model_module": "@jupyter-widgets/controls",
            "layout": "IPY_MODEL_29a812eb129c47669b6699855c87c392"
          }
        },
        "4d7363e6dfe5467c8a7af7072c0c9f34": {
          "model_module": "@jupyter-widgets/controls",
          "model_name": "FloatProgressModel",
          "model_module_version": "1.5.0",
          "state": {
            "_view_name": "ProgressView",
            "style": "IPY_MODEL_e6609576498e4ea997dbe0fa6bfff1cb",
            "_dom_classes": [],
            "description": "",
            "_model_name": "FloatProgressModel",
            "bar_style": "success",
            "max": 231508,
            "_view_module": "@jupyter-widgets/controls",
            "_model_module_version": "1.5.0",
            "value": 231508,
            "_view_count": null,
            "_view_module_version": "1.5.0",
            "orientation": "horizontal",
            "min": 0,
            "description_tooltip": null,
            "_model_module": "@jupyter-widgets/controls",
            "layout": "IPY_MODEL_19b7c00d6184441892e68dae5d26a7f4"
          }
        },
        "8928524fdf9541809a56eb37d3f6cbd3": {
          "model_module": "@jupyter-widgets/controls",
          "model_name": "HTMLModel",
          "model_module_version": "1.5.0",
          "state": {
            "_view_name": "HTMLView",
            "style": "IPY_MODEL_edd6d98f7bf9436c821838babafc1e61",
            "_dom_classes": [],
            "description": "",
            "_model_name": "HTMLModel",
            "placeholder": "​",
            "_view_module": "@jupyter-widgets/controls",
            "_model_module_version": "1.5.0",
            "value": " 226k/226k [00:00&lt;00:00, 1.06MB/s]",
            "_view_count": null,
            "_view_module_version": "1.5.0",
            "description_tooltip": null,
            "_model_module": "@jupyter-widgets/controls",
            "layout": "IPY_MODEL_4a258bea37a346eb9a5399e2654bc719"
          }
        },
        "e0bbf1643a0d4eb19071381b5a6830e6": {
          "model_module": "@jupyter-widgets/controls",
          "model_name": "DescriptionStyleModel",
          "model_module_version": "1.5.0",
          "state": {
            "_view_name": "StyleView",
            "_model_name": "DescriptionStyleModel",
            "description_width": "",
            "_view_module": "@jupyter-widgets/base",
            "_model_module_version": "1.5.0",
            "_view_count": null,
            "_view_module_version": "1.2.0",
            "_model_module": "@jupyter-widgets/controls"
          }
        },
        "29a812eb129c47669b6699855c87c392": {
          "model_module": "@jupyter-widgets/base",
          "model_name": "LayoutModel",
          "model_module_version": "1.2.0",
          "state": {
            "_view_name": "LayoutView",
            "grid_template_rows": null,
            "right": null,
            "justify_content": null,
            "_view_module": "@jupyter-widgets/base",
            "overflow": null,
            "_model_module_version": "1.2.0",
            "_view_count": null,
            "flex_flow": null,
            "width": null,
            "min_width": null,
            "border": null,
            "align_items": null,
            "bottom": null,
            "_model_module": "@jupyter-widgets/base",
            "top": null,
            "grid_column": null,
            "overflow_y": null,
            "overflow_x": null,
            "grid_auto_flow": null,
            "grid_area": null,
            "grid_template_columns": null,
            "flex": null,
            "_model_name": "LayoutModel",
            "justify_items": null,
            "grid_row": null,
            "max_height": null,
            "align_content": null,
            "visibility": null,
            "align_self": null,
            "height": null,
            "min_height": null,
            "padding": null,
            "grid_auto_rows": null,
            "grid_gap": null,
            "max_width": null,
            "order": null,
            "_view_module_version": "1.2.0",
            "grid_template_areas": null,
            "object_position": null,
            "object_fit": null,
            "grid_auto_columns": null,
            "margin": null,
            "display": null,
            "left": null
          }
        },
        "e6609576498e4ea997dbe0fa6bfff1cb": {
          "model_module": "@jupyter-widgets/controls",
          "model_name": "ProgressStyleModel",
          "model_module_version": "1.5.0",
          "state": {
            "_view_name": "StyleView",
            "_model_name": "ProgressStyleModel",
            "description_width": "",
            "_view_module": "@jupyter-widgets/base",
            "_model_module_version": "1.5.0",
            "_view_count": null,
            "_view_module_version": "1.2.0",
            "bar_color": null,
            "_model_module": "@jupyter-widgets/controls"
          }
        },
        "19b7c00d6184441892e68dae5d26a7f4": {
          "model_module": "@jupyter-widgets/base",
          "model_name": "LayoutModel",
          "model_module_version": "1.2.0",
          "state": {
            "_view_name": "LayoutView",
            "grid_template_rows": null,
            "right": null,
            "justify_content": null,
            "_view_module": "@jupyter-widgets/base",
            "overflow": null,
            "_model_module_version": "1.2.0",
            "_view_count": null,
            "flex_flow": null,
            "width": null,
            "min_width": null,
            "border": null,
            "align_items": null,
            "bottom": null,
            "_model_module": "@jupyter-widgets/base",
            "top": null,
            "grid_column": null,
            "overflow_y": null,
            "overflow_x": null,
            "grid_auto_flow": null,
            "grid_area": null,
            "grid_template_columns": null,
            "flex": null,
            "_model_name": "LayoutModel",
            "justify_items": null,
            "grid_row": null,
            "max_height": null,
            "align_content": null,
            "visibility": null,
            "align_self": null,
            "height": null,
            "min_height": null,
            "padding": null,
            "grid_auto_rows": null,
            "grid_gap": null,
            "max_width": null,
            "order": null,
            "_view_module_version": "1.2.0",
            "grid_template_areas": null,
            "object_position": null,
            "object_fit": null,
            "grid_auto_columns": null,
            "margin": null,
            "display": null,
            "left": null
          }
        },
        "edd6d98f7bf9436c821838babafc1e61": {
          "model_module": "@jupyter-widgets/controls",
          "model_name": "DescriptionStyleModel",
          "model_module_version": "1.5.0",
          "state": {
            "_view_name": "StyleView",
            "_model_name": "DescriptionStyleModel",
            "description_width": "",
            "_view_module": "@jupyter-widgets/base",
            "_model_module_version": "1.5.0",
            "_view_count": null,
            "_view_module_version": "1.2.0",
            "_model_module": "@jupyter-widgets/controls"
          }
        },
        "4a258bea37a346eb9a5399e2654bc719": {
          "model_module": "@jupyter-widgets/base",
          "model_name": "LayoutModel",
          "model_module_version": "1.2.0",
          "state": {
            "_view_name": "LayoutView",
            "grid_template_rows": null,
            "right": null,
            "justify_content": null,
            "_view_module": "@jupyter-widgets/base",
            "overflow": null,
            "_model_module_version": "1.2.0",
            "_view_count": null,
            "flex_flow": null,
            "width": null,
            "min_width": null,
            "border": null,
            "align_items": null,
            "bottom": null,
            "_model_module": "@jupyter-widgets/base",
            "top": null,
            "grid_column": null,
            "overflow_y": null,
            "overflow_x": null,
            "grid_auto_flow": null,
            "grid_area": null,
            "grid_template_columns": null,
            "flex": null,
            "_model_name": "LayoutModel",
            "justify_items": null,
            "grid_row": null,
            "max_height": null,
            "align_content": null,
            "visibility": null,
            "align_self": null,
            "height": null,
            "min_height": null,
            "padding": null,
            "grid_auto_rows": null,
            "grid_gap": null,
            "max_width": null,
            "order": null,
            "_view_module_version": "1.2.0",
            "grid_template_areas": null,
            "object_position": null,
            "object_fit": null,
            "grid_auto_columns": null,
            "margin": null,
            "display": null,
            "left": null
          }
        },
        "7594e3057c1d4179bbbc8364df80f588": {
          "model_module": "@jupyter-widgets/controls",
          "model_name": "HBoxModel",
          "model_module_version": "1.5.0",
          "state": {
            "_view_name": "HBoxView",
            "_dom_classes": [],
            "_model_name": "HBoxModel",
            "_view_module": "@jupyter-widgets/controls",
            "_model_module_version": "1.5.0",
            "_view_count": null,
            "_view_module_version": "1.5.0",
            "box_style": "",
            "layout": "IPY_MODEL_977d07f04f9e427b8aa1d28d12bb0897",
            "_model_module": "@jupyter-widgets/controls",
            "children": [
              "IPY_MODEL_1d931b3517654138b6f0a378b37306ef",
              "IPY_MODEL_181aa8d6490747a2be3807b351694258",
              "IPY_MODEL_1a64d1fe21e8481aa95f76c551e48581"
            ]
          }
        },
        "977d07f04f9e427b8aa1d28d12bb0897": {
          "model_module": "@jupyter-widgets/base",
          "model_name": "LayoutModel",
          "model_module_version": "1.2.0",
          "state": {
            "_view_name": "LayoutView",
            "grid_template_rows": null,
            "right": null,
            "justify_content": null,
            "_view_module": "@jupyter-widgets/base",
            "overflow": null,
            "_model_module_version": "1.2.0",
            "_view_count": null,
            "flex_flow": null,
            "width": null,
            "min_width": null,
            "border": null,
            "align_items": null,
            "bottom": null,
            "_model_module": "@jupyter-widgets/base",
            "top": null,
            "grid_column": null,
            "overflow_y": null,
            "overflow_x": null,
            "grid_auto_flow": null,
            "grid_area": null,
            "grid_template_columns": null,
            "flex": null,
            "_model_name": "LayoutModel",
            "justify_items": null,
            "grid_row": null,
            "max_height": null,
            "align_content": null,
            "visibility": null,
            "align_self": null,
            "height": null,
            "min_height": null,
            "padding": null,
            "grid_auto_rows": null,
            "grid_gap": null,
            "max_width": null,
            "order": null,
            "_view_module_version": "1.2.0",
            "grid_template_areas": null,
            "object_position": null,
            "object_fit": null,
            "grid_auto_columns": null,
            "margin": null,
            "display": null,
            "left": null
          }
        },
        "1d931b3517654138b6f0a378b37306ef": {
          "model_module": "@jupyter-widgets/controls",
          "model_name": "HTMLModel",
          "model_module_version": "1.5.0",
          "state": {
            "_view_name": "HTMLView",
            "style": "IPY_MODEL_276e195bc7a14a028beee2ed4e31c44d",
            "_dom_classes": [],
            "description": "",
            "_model_name": "HTMLModel",
            "placeholder": "​",
            "_view_module": "@jupyter-widgets/controls",
            "_model_module_version": "1.5.0",
            "value": "Downloading: 100%",
            "_view_count": null,
            "_view_module_version": "1.5.0",
            "description_tooltip": null,
            "_model_module": "@jupyter-widgets/controls",
            "layout": "IPY_MODEL_f356e7427e964177bf7b3e7023363911"
          }
        },
        "181aa8d6490747a2be3807b351694258": {
          "model_module": "@jupyter-widgets/controls",
          "model_name": "FloatProgressModel",
          "model_module_version": "1.5.0",
          "state": {
            "_view_name": "ProgressView",
            "style": "IPY_MODEL_10f48fc5c1c64fd9baaf4dac95fbce82",
            "_dom_classes": [],
            "description": "",
            "_model_name": "FloatProgressModel",
            "bar_style": "success",
            "max": 466062,
            "_view_module": "@jupyter-widgets/controls",
            "_model_module_version": "1.5.0",
            "value": 466062,
            "_view_count": null,
            "_view_module_version": "1.5.0",
            "orientation": "horizontal",
            "min": 0,
            "description_tooltip": null,
            "_model_module": "@jupyter-widgets/controls",
            "layout": "IPY_MODEL_79daa0607ce547de9912f219f7cc2cfa"
          }
        },
        "1a64d1fe21e8481aa95f76c551e48581": {
          "model_module": "@jupyter-widgets/controls",
          "model_name": "HTMLModel",
          "model_module_version": "1.5.0",
          "state": {
            "_view_name": "HTMLView",
            "style": "IPY_MODEL_6dfe0f2705e7463e8701deef80328e95",
            "_dom_classes": [],
            "description": "",
            "_model_name": "HTMLModel",
            "placeholder": "​",
            "_view_module": "@jupyter-widgets/controls",
            "_model_module_version": "1.5.0",
            "value": " 455k/455k [00:00&lt;00:00, 1.13MB/s]",
            "_view_count": null,
            "_view_module_version": "1.5.0",
            "description_tooltip": null,
            "_model_module": "@jupyter-widgets/controls",
            "layout": "IPY_MODEL_0cc927043d5f48cd8a36b1a20c1bc939"
          }
        },
        "276e195bc7a14a028beee2ed4e31c44d": {
          "model_module": "@jupyter-widgets/controls",
          "model_name": "DescriptionStyleModel",
          "model_module_version": "1.5.0",
          "state": {
            "_view_name": "StyleView",
            "_model_name": "DescriptionStyleModel",
            "description_width": "",
            "_view_module": "@jupyter-widgets/base",
            "_model_module_version": "1.5.0",
            "_view_count": null,
            "_view_module_version": "1.2.0",
            "_model_module": "@jupyter-widgets/controls"
          }
        },
        "f356e7427e964177bf7b3e7023363911": {
          "model_module": "@jupyter-widgets/base",
          "model_name": "LayoutModel",
          "model_module_version": "1.2.0",
          "state": {
            "_view_name": "LayoutView",
            "grid_template_rows": null,
            "right": null,
            "justify_content": null,
            "_view_module": "@jupyter-widgets/base",
            "overflow": null,
            "_model_module_version": "1.2.0",
            "_view_count": null,
            "flex_flow": null,
            "width": null,
            "min_width": null,
            "border": null,
            "align_items": null,
            "bottom": null,
            "_model_module": "@jupyter-widgets/base",
            "top": null,
            "grid_column": null,
            "overflow_y": null,
            "overflow_x": null,
            "grid_auto_flow": null,
            "grid_area": null,
            "grid_template_columns": null,
            "flex": null,
            "_model_name": "LayoutModel",
            "justify_items": null,
            "grid_row": null,
            "max_height": null,
            "align_content": null,
            "visibility": null,
            "align_self": null,
            "height": null,
            "min_height": null,
            "padding": null,
            "grid_auto_rows": null,
            "grid_gap": null,
            "max_width": null,
            "order": null,
            "_view_module_version": "1.2.0",
            "grid_template_areas": null,
            "object_position": null,
            "object_fit": null,
            "grid_auto_columns": null,
            "margin": null,
            "display": null,
            "left": null
          }
        },
        "10f48fc5c1c64fd9baaf4dac95fbce82": {
          "model_module": "@jupyter-widgets/controls",
          "model_name": "ProgressStyleModel",
          "model_module_version": "1.5.0",
          "state": {
            "_view_name": "StyleView",
            "_model_name": "ProgressStyleModel",
            "description_width": "",
            "_view_module": "@jupyter-widgets/base",
            "_model_module_version": "1.5.0",
            "_view_count": null,
            "_view_module_version": "1.2.0",
            "bar_color": null,
            "_model_module": "@jupyter-widgets/controls"
          }
        },
        "79daa0607ce547de9912f219f7cc2cfa": {
          "model_module": "@jupyter-widgets/base",
          "model_name": "LayoutModel",
          "model_module_version": "1.2.0",
          "state": {
            "_view_name": "LayoutView",
            "grid_template_rows": null,
            "right": null,
            "justify_content": null,
            "_view_module": "@jupyter-widgets/base",
            "overflow": null,
            "_model_module_version": "1.2.0",
            "_view_count": null,
            "flex_flow": null,
            "width": null,
            "min_width": null,
            "border": null,
            "align_items": null,
            "bottom": null,
            "_model_module": "@jupyter-widgets/base",
            "top": null,
            "grid_column": null,
            "overflow_y": null,
            "overflow_x": null,
            "grid_auto_flow": null,
            "grid_area": null,
            "grid_template_columns": null,
            "flex": null,
            "_model_name": "LayoutModel",
            "justify_items": null,
            "grid_row": null,
            "max_height": null,
            "align_content": null,
            "visibility": null,
            "align_self": null,
            "height": null,
            "min_height": null,
            "padding": null,
            "grid_auto_rows": null,
            "grid_gap": null,
            "max_width": null,
            "order": null,
            "_view_module_version": "1.2.0",
            "grid_template_areas": null,
            "object_position": null,
            "object_fit": null,
            "grid_auto_columns": null,
            "margin": null,
            "display": null,
            "left": null
          }
        },
        "6dfe0f2705e7463e8701deef80328e95": {
          "model_module": "@jupyter-widgets/controls",
          "model_name": "DescriptionStyleModel",
          "model_module_version": "1.5.0",
          "state": {
            "_view_name": "StyleView",
            "_model_name": "DescriptionStyleModel",
            "description_width": "",
            "_view_module": "@jupyter-widgets/base",
            "_model_module_version": "1.5.0",
            "_view_count": null,
            "_view_module_version": "1.2.0",
            "_model_module": "@jupyter-widgets/controls"
          }
        },
        "0cc927043d5f48cd8a36b1a20c1bc939": {
          "model_module": "@jupyter-widgets/base",
          "model_name": "LayoutModel",
          "model_module_version": "1.2.0",
          "state": {
            "_view_name": "LayoutView",
            "grid_template_rows": null,
            "right": null,
            "justify_content": null,
            "_view_module": "@jupyter-widgets/base",
            "overflow": null,
            "_model_module_version": "1.2.0",
            "_view_count": null,
            "flex_flow": null,
            "width": null,
            "min_width": null,
            "border": null,
            "align_items": null,
            "bottom": null,
            "_model_module": "@jupyter-widgets/base",
            "top": null,
            "grid_column": null,
            "overflow_y": null,
            "overflow_x": null,
            "grid_auto_flow": null,
            "grid_area": null,
            "grid_template_columns": null,
            "flex": null,
            "_model_name": "LayoutModel",
            "justify_items": null,
            "grid_row": null,
            "max_height": null,
            "align_content": null,
            "visibility": null,
            "align_self": null,
            "height": null,
            "min_height": null,
            "padding": null,
            "grid_auto_rows": null,
            "grid_gap": null,
            "max_width": null,
            "order": null,
            "_view_module_version": "1.2.0",
            "grid_template_areas": null,
            "object_position": null,
            "object_fit": null,
            "grid_auto_columns": null,
            "margin": null,
            "display": null,
            "left": null
          }
        },
        "9b0eed99ca434cad91e87bdbdd91383a": {
          "model_module": "@jupyter-widgets/controls",
          "model_name": "HBoxModel",
          "model_module_version": "1.5.0",
          "state": {
            "_view_name": "HBoxView",
            "_dom_classes": [],
            "_model_name": "HBoxModel",
            "_view_module": "@jupyter-widgets/controls",
            "_model_module_version": "1.5.0",
            "_view_count": null,
            "_view_module_version": "1.5.0",
            "box_style": "",
            "layout": "IPY_MODEL_e818ff5b6c494abda7fae968f9a9eeca",
            "_model_module": "@jupyter-widgets/controls",
            "children": [
              "IPY_MODEL_918da99afccb48f0b27b4bcbc8e59e4f",
              "IPY_MODEL_c2c3cafdff464affbd2850193963885f",
              "IPY_MODEL_6ed7907d8cc34259b3a295f9323f9530"
            ]
          }
        },
        "e818ff5b6c494abda7fae968f9a9eeca": {
          "model_module": "@jupyter-widgets/base",
          "model_name": "LayoutModel",
          "model_module_version": "1.2.0",
          "state": {
            "_view_name": "LayoutView",
            "grid_template_rows": null,
            "right": null,
            "justify_content": null,
            "_view_module": "@jupyter-widgets/base",
            "overflow": null,
            "_model_module_version": "1.2.0",
            "_view_count": null,
            "flex_flow": null,
            "width": null,
            "min_width": null,
            "border": null,
            "align_items": null,
            "bottom": null,
            "_model_module": "@jupyter-widgets/base",
            "top": null,
            "grid_column": null,
            "overflow_y": null,
            "overflow_x": null,
            "grid_auto_flow": null,
            "grid_area": null,
            "grid_template_columns": null,
            "flex": null,
            "_model_name": "LayoutModel",
            "justify_items": null,
            "grid_row": null,
            "max_height": null,
            "align_content": null,
            "visibility": null,
            "align_self": null,
            "height": null,
            "min_height": null,
            "padding": null,
            "grid_auto_rows": null,
            "grid_gap": null,
            "max_width": null,
            "order": null,
            "_view_module_version": "1.2.0",
            "grid_template_areas": null,
            "object_position": null,
            "object_fit": null,
            "grid_auto_columns": null,
            "margin": null,
            "display": null,
            "left": null
          }
        },
        "918da99afccb48f0b27b4bcbc8e59e4f": {
          "model_module": "@jupyter-widgets/controls",
          "model_name": "HTMLModel",
          "model_module_version": "1.5.0",
          "state": {
            "_view_name": "HTMLView",
            "style": "IPY_MODEL_52db043a609940d9a5c9a25b0fd19757",
            "_dom_classes": [],
            "description": "",
            "_model_name": "HTMLModel",
            "placeholder": "​",
            "_view_module": "@jupyter-widgets/controls",
            "_model_module_version": "1.5.0",
            "value": "Downloading: 100%",
            "_view_count": null,
            "_view_module_version": "1.5.0",
            "description_tooltip": null,
            "_model_module": "@jupyter-widgets/controls",
            "layout": "IPY_MODEL_ec13ffc231954f219d51b3c1634fc711"
          }
        },
        "c2c3cafdff464affbd2850193963885f": {
          "model_module": "@jupyter-widgets/controls",
          "model_name": "FloatProgressModel",
          "model_module_version": "1.5.0",
          "state": {
            "_view_name": "ProgressView",
            "style": "IPY_MODEL_551e36f1b63549b9bb87b7056d503c1c",
            "_dom_classes": [],
            "description": "",
            "_model_name": "FloatProgressModel",
            "bar_style": "success",
            "max": 483,
            "_view_module": "@jupyter-widgets/controls",
            "_model_module_version": "1.5.0",
            "value": 483,
            "_view_count": null,
            "_view_module_version": "1.5.0",
            "orientation": "horizontal",
            "min": 0,
            "description_tooltip": null,
            "_model_module": "@jupyter-widgets/controls",
            "layout": "IPY_MODEL_5336866b42374f698f1138e15cf9935d"
          }
        },
        "6ed7907d8cc34259b3a295f9323f9530": {
          "model_module": "@jupyter-widgets/controls",
          "model_name": "HTMLModel",
          "model_module_version": "1.5.0",
          "state": {
            "_view_name": "HTMLView",
            "style": "IPY_MODEL_55a64ca60d054f88a48f0db734de8468",
            "_dom_classes": [],
            "description": "",
            "_model_name": "HTMLModel",
            "placeholder": "​",
            "_view_module": "@jupyter-widgets/controls",
            "_model_module_version": "1.5.0",
            "value": " 483/483 [00:00&lt;00:00, 11.7kB/s]",
            "_view_count": null,
            "_view_module_version": "1.5.0",
            "description_tooltip": null,
            "_model_module": "@jupyter-widgets/controls",
            "layout": "IPY_MODEL_c95577cb00c640828b6f6390ee7842e4"
          }
        },
        "52db043a609940d9a5c9a25b0fd19757": {
          "model_module": "@jupyter-widgets/controls",
          "model_name": "DescriptionStyleModel",
          "model_module_version": "1.5.0",
          "state": {
            "_view_name": "StyleView",
            "_model_name": "DescriptionStyleModel",
            "description_width": "",
            "_view_module": "@jupyter-widgets/base",
            "_model_module_version": "1.5.0",
            "_view_count": null,
            "_view_module_version": "1.2.0",
            "_model_module": "@jupyter-widgets/controls"
          }
        },
        "ec13ffc231954f219d51b3c1634fc711": {
          "model_module": "@jupyter-widgets/base",
          "model_name": "LayoutModel",
          "model_module_version": "1.2.0",
          "state": {
            "_view_name": "LayoutView",
            "grid_template_rows": null,
            "right": null,
            "justify_content": null,
            "_view_module": "@jupyter-widgets/base",
            "overflow": null,
            "_model_module_version": "1.2.0",
            "_view_count": null,
            "flex_flow": null,
            "width": null,
            "min_width": null,
            "border": null,
            "align_items": null,
            "bottom": null,
            "_model_module": "@jupyter-widgets/base",
            "top": null,
            "grid_column": null,
            "overflow_y": null,
            "overflow_x": null,
            "grid_auto_flow": null,
            "grid_area": null,
            "grid_template_columns": null,
            "flex": null,
            "_model_name": "LayoutModel",
            "justify_items": null,
            "grid_row": null,
            "max_height": null,
            "align_content": null,
            "visibility": null,
            "align_self": null,
            "height": null,
            "min_height": null,
            "padding": null,
            "grid_auto_rows": null,
            "grid_gap": null,
            "max_width": null,
            "order": null,
            "_view_module_version": "1.2.0",
            "grid_template_areas": null,
            "object_position": null,
            "object_fit": null,
            "grid_auto_columns": null,
            "margin": null,
            "display": null,
            "left": null
          }
        },
        "551e36f1b63549b9bb87b7056d503c1c": {
          "model_module": "@jupyter-widgets/controls",
          "model_name": "ProgressStyleModel",
          "model_module_version": "1.5.0",
          "state": {
            "_view_name": "StyleView",
            "_model_name": "ProgressStyleModel",
            "description_width": "",
            "_view_module": "@jupyter-widgets/base",
            "_model_module_version": "1.5.0",
            "_view_count": null,
            "_view_module_version": "1.2.0",
            "bar_color": null,
            "_model_module": "@jupyter-widgets/controls"
          }
        },
        "5336866b42374f698f1138e15cf9935d": {
          "model_module": "@jupyter-widgets/base",
          "model_name": "LayoutModel",
          "model_module_version": "1.2.0",
          "state": {
            "_view_name": "LayoutView",
            "grid_template_rows": null,
            "right": null,
            "justify_content": null,
            "_view_module": "@jupyter-widgets/base",
            "overflow": null,
            "_model_module_version": "1.2.0",
            "_view_count": null,
            "flex_flow": null,
            "width": null,
            "min_width": null,
            "border": null,
            "align_items": null,
            "bottom": null,
            "_model_module": "@jupyter-widgets/base",
            "top": null,
            "grid_column": null,
            "overflow_y": null,
            "overflow_x": null,
            "grid_auto_flow": null,
            "grid_area": null,
            "grid_template_columns": null,
            "flex": null,
            "_model_name": "LayoutModel",
            "justify_items": null,
            "grid_row": null,
            "max_height": null,
            "align_content": null,
            "visibility": null,
            "align_self": null,
            "height": null,
            "min_height": null,
            "padding": null,
            "grid_auto_rows": null,
            "grid_gap": null,
            "max_width": null,
            "order": null,
            "_view_module_version": "1.2.0",
            "grid_template_areas": null,
            "object_position": null,
            "object_fit": null,
            "grid_auto_columns": null,
            "margin": null,
            "display": null,
            "left": null
          }
        },
        "55a64ca60d054f88a48f0db734de8468": {
          "model_module": "@jupyter-widgets/controls",
          "model_name": "DescriptionStyleModel",
          "model_module_version": "1.5.0",
          "state": {
            "_view_name": "StyleView",
            "_model_name": "DescriptionStyleModel",
            "description_width": "",
            "_view_module": "@jupyter-widgets/base",
            "_model_module_version": "1.5.0",
            "_view_count": null,
            "_view_module_version": "1.2.0",
            "_model_module": "@jupyter-widgets/controls"
          }
        },
        "c95577cb00c640828b6f6390ee7842e4": {
          "model_module": "@jupyter-widgets/base",
          "model_name": "LayoutModel",
          "model_module_version": "1.2.0",
          "state": {
            "_view_name": "LayoutView",
            "grid_template_rows": null,
            "right": null,
            "justify_content": null,
            "_view_module": "@jupyter-widgets/base",
            "overflow": null,
            "_model_module_version": "1.2.0",
            "_view_count": null,
            "flex_flow": null,
            "width": null,
            "min_width": null,
            "border": null,
            "align_items": null,
            "bottom": null,
            "_model_module": "@jupyter-widgets/base",
            "top": null,
            "grid_column": null,
            "overflow_y": null,
            "overflow_x": null,
            "grid_auto_flow": null,
            "grid_area": null,
            "grid_template_columns": null,
            "flex": null,
            "_model_name": "LayoutModel",
            "justify_items": null,
            "grid_row": null,
            "max_height": null,
            "align_content": null,
            "visibility": null,
            "align_self": null,
            "height": null,
            "min_height": null,
            "padding": null,
            "grid_auto_rows": null,
            "grid_gap": null,
            "max_width": null,
            "order": null,
            "_view_module_version": "1.2.0",
            "grid_template_areas": null,
            "object_position": null,
            "object_fit": null,
            "grid_auto_columns": null,
            "margin": null,
            "display": null,
            "left": null
          }
        }
      }
    }
  },
  "cells": [
    {
      "cell_type": "code",
      "execution_count": null,
      "metadata": {
        "colab": {
          "base_uri": "https://localhost:8080/"
        },
        "id": "PuqWPUAJ978u",
        "outputId": "835dfcfb-db2b-468a-acb4-86a4b3ccf0c6"
      },
      "outputs": [
        {
          "output_type": "stream",
          "name": "stdout",
          "text": [
            "Requirement already satisfied: flair==0.8 in /usr/local/lib/python3.7/dist-packages (0.8)\n",
            "Requirement already satisfied: transformers>=4.0.0 in /usr/local/lib/python3.7/dist-packages (from flair==0.8) (4.16.2)\n",
            "Requirement already satisfied: mpld3==0.3 in /usr/local/lib/python3.7/dist-packages (from flair==0.8) (0.3)\n",
            "Requirement already satisfied: regex in /usr/local/lib/python3.7/dist-packages (from flair==0.8) (2019.12.20)\n",
            "Requirement already satisfied: tabulate in /usr/local/lib/python3.7/dist-packages (from flair==0.8) (0.8.9)\n",
            "Requirement already satisfied: sentencepiece==0.1.95 in /usr/local/lib/python3.7/dist-packages (from flair==0.8) (0.1.95)\n",
            "Requirement already satisfied: segtok>=1.5.7 in /usr/local/lib/python3.7/dist-packages (from flair==0.8) (1.5.11)\n",
            "Requirement already satisfied: bpemb>=0.3.2 in /usr/local/lib/python3.7/dist-packages (from flair==0.8) (0.3.3)\n",
            "Requirement already satisfied: langdetect in /usr/local/lib/python3.7/dist-packages (from flair==0.8) (1.0.9)\n",
            "Requirement already satisfied: numpy<1.20.0 in /usr/local/lib/python3.7/dist-packages (from flair==0.8) (1.19.5)\n",
            "Requirement already satisfied: janome in /usr/local/lib/python3.7/dist-packages (from flair==0.8) (0.4.2)\n",
            "Requirement already satisfied: gensim<=3.8.3,>=3.4.0 in /usr/local/lib/python3.7/dist-packages (from flair==0.8) (3.6.0)\n",
            "Requirement already satisfied: scikit-learn>=0.21.3 in /usr/local/lib/python3.7/dist-packages (from flair==0.8) (1.0.2)\n",
            "Requirement already satisfied: ftfy in /usr/local/lib/python3.7/dist-packages (from flair==0.8) (6.1.1)\n",
            "Requirement already satisfied: konoha<5.0.0,>=4.0.0 in /usr/local/lib/python3.7/dist-packages (from flair==0.8) (4.6.5)\n",
            "Requirement already satisfied: matplotlib>=2.2.3 in /usr/local/lib/python3.7/dist-packages (from flair==0.8) (3.2.2)\n",
            "Requirement already satisfied: huggingface-hub in /usr/local/lib/python3.7/dist-packages (from flair==0.8) (0.4.0)\n",
            "Requirement already satisfied: deprecated>=1.2.4 in /usr/local/lib/python3.7/dist-packages (from flair==0.8) (1.2.13)\n",
            "Requirement already satisfied: tqdm>=4.26.0 in /usr/local/lib/python3.7/dist-packages (from flair==0.8) (4.62.3)\n",
            "Requirement already satisfied: python-dateutil>=2.6.1 in /usr/local/lib/python3.7/dist-packages (from flair==0.8) (2.8.2)\n",
            "Requirement already satisfied: torch>=1.5.0 in /usr/local/lib/python3.7/dist-packages (from flair==0.8) (1.10.0+cu111)\n",
            "Requirement already satisfied: sqlitedict>=1.6.0 in /usr/local/lib/python3.7/dist-packages (from flair==0.8) (1.7.0)\n",
            "Requirement already satisfied: hyperopt>=0.1.1 in /usr/local/lib/python3.7/dist-packages (from flair==0.8) (0.1.2)\n",
            "Requirement already satisfied: lxml in /usr/local/lib/python3.7/dist-packages (from flair==0.8) (4.2.6)\n",
            "Requirement already satisfied: gdown==3.12.2 in /usr/local/lib/python3.7/dist-packages (from flair==0.8) (3.12.2)\n",
            "Requirement already satisfied: requests[socks] in /usr/local/lib/python3.7/dist-packages (from gdown==3.12.2->flair==0.8) (2.27.1)\n",
            "Requirement already satisfied: six in /usr/local/lib/python3.7/dist-packages (from gdown==3.12.2->flair==0.8) (1.15.0)\n",
            "Requirement already satisfied: filelock in /usr/local/lib/python3.7/dist-packages (from gdown==3.12.2->flair==0.8) (3.6.0)\n",
            "Requirement already satisfied: wrapt<2,>=1.10 in /usr/local/lib/python3.7/dist-packages (from deprecated>=1.2.4->flair==0.8) (1.13.3)\n",
            "Requirement already satisfied: scipy>=0.18.1 in /usr/local/lib/python3.7/dist-packages (from gensim<=3.8.3,>=3.4.0->flair==0.8) (1.4.1)\n",
            "Requirement already satisfied: smart-open>=1.2.1 in /usr/local/lib/python3.7/dist-packages (from gensim<=3.8.3,>=3.4.0->flair==0.8) (5.2.1)\n",
            "Requirement already satisfied: future in /usr/local/lib/python3.7/dist-packages (from hyperopt>=0.1.1->flair==0.8) (0.16.0)\n",
            "Requirement already satisfied: pymongo in /usr/local/lib/python3.7/dist-packages (from hyperopt>=0.1.1->flair==0.8) (4.0.1)\n",
            "Requirement already satisfied: networkx in /usr/local/lib/python3.7/dist-packages (from hyperopt>=0.1.1->flair==0.8) (2.6.3)\n",
            "Requirement already satisfied: importlib-metadata<4.0.0,>=3.7.0 in /usr/local/lib/python3.7/dist-packages (from konoha<5.0.0,>=4.0.0->flair==0.8) (3.10.1)\n",
            "Requirement already satisfied: overrides<4.0.0,>=3.0.0 in /usr/local/lib/python3.7/dist-packages (from konoha<5.0.0,>=4.0.0->flair==0.8) (3.1.0)\n",
            "Requirement already satisfied: zipp>=0.5 in /usr/local/lib/python3.7/dist-packages (from importlib-metadata<4.0.0,>=3.7.0->konoha<5.0.0,>=4.0.0->flair==0.8) (3.7.0)\n",
            "Requirement already satisfied: typing-extensions>=3.6.4 in /usr/local/lib/python3.7/dist-packages (from importlib-metadata<4.0.0,>=3.7.0->konoha<5.0.0,>=4.0.0->flair==0.8) (3.10.0.2)\n",
            "Requirement already satisfied: kiwisolver>=1.0.1 in /usr/local/lib/python3.7/dist-packages (from matplotlib>=2.2.3->flair==0.8) (1.3.2)\n",
            "Requirement already satisfied: pyparsing!=2.0.4,!=2.1.2,!=2.1.6,>=2.0.1 in /usr/local/lib/python3.7/dist-packages (from matplotlib>=2.2.3->flair==0.8) (3.0.7)\n",
            "Requirement already satisfied: cycler>=0.10 in /usr/local/lib/python3.7/dist-packages (from matplotlib>=2.2.3->flair==0.8) (0.11.0)\n",
            "Requirement already satisfied: charset-normalizer~=2.0.0 in /usr/local/lib/python3.7/dist-packages (from requests[socks]->gdown==3.12.2->flair==0.8) (2.0.12)\n",
            "Requirement already satisfied: idna<4,>=2.5 in /usr/local/lib/python3.7/dist-packages (from requests[socks]->gdown==3.12.2->flair==0.8) (2.10)\n",
            "Requirement already satisfied: urllib3<1.27,>=1.21.1 in /usr/local/lib/python3.7/dist-packages (from requests[socks]->gdown==3.12.2->flair==0.8) (1.24.3)\n",
            "Requirement already satisfied: certifi>=2017.4.17 in /usr/local/lib/python3.7/dist-packages (from requests[socks]->gdown==3.12.2->flair==0.8) (2021.10.8)\n",
            "Requirement already satisfied: threadpoolctl>=2.0.0 in /usr/local/lib/python3.7/dist-packages (from scikit-learn>=0.21.3->flair==0.8) (3.1.0)\n",
            "Requirement already satisfied: joblib>=0.11 in /usr/local/lib/python3.7/dist-packages (from scikit-learn>=0.21.3->flair==0.8) (1.1.0)\n",
            "Requirement already satisfied: tokenizers!=0.11.3,>=0.10.1 in /usr/local/lib/python3.7/dist-packages (from transformers>=4.0.0->flair==0.8) (0.11.5)\n",
            "Requirement already satisfied: packaging>=20.0 in /usr/local/lib/python3.7/dist-packages (from transformers>=4.0.0->flair==0.8) (21.3)\n",
            "Requirement already satisfied: sacremoses in /usr/local/lib/python3.7/dist-packages (from transformers>=4.0.0->flair==0.8) (0.0.47)\n",
            "Requirement already satisfied: pyyaml>=5.1 in /usr/local/lib/python3.7/dist-packages (from transformers>=4.0.0->flair==0.8) (6.0)\n",
            "Requirement already satisfied: wcwidth>=0.2.5 in /usr/local/lib/python3.7/dist-packages (from ftfy->flair==0.8) (0.2.5)\n",
            "Requirement already satisfied: PySocks!=1.5.7,>=1.5.6 in /usr/local/lib/python3.7/dist-packages (from requests[socks]->gdown==3.12.2->flair==0.8) (1.7.1)\n",
            "Requirement already satisfied: click in /usr/local/lib/python3.7/dist-packages (from sacremoses->transformers>=4.0.0->flair==0.8) (7.1.2)\n"
          ]
        }
      ],
      "source": [
        "!pip install flair==0.8"
      ]
    },
    {
      "cell_type": "code",
      "source": [
        "from flair.data import Sentence\n",
        "from flair.models import SequenceTagger\n",
        "from flair.models import TextClassifier"
      ],
      "metadata": {
        "id": "t3fsINu3C7Fs"
      },
      "execution_count": null,
      "outputs": []
    },
    {
      "cell_type": "code",
      "source": [
        "sentence = Sentence('Washington University, which is located in Missouri, is named after George Washington.', use_tokenizer=False)\n",
        "tokenized_sentence = Sentence('Washington University, which is located in Missouri, is named after George Washington.', use_tokenizer=True)"
      ],
      "metadata": {
        "id": "qIwwh3iBDAA0"
      },
      "execution_count": null,
      "outputs": []
    },
    {
      "cell_type": "code",
      "source": [
        "print(sentence)\n",
        "print(tokenized_sentence)"
      ],
      "metadata": {
        "colab": {
          "base_uri": "https://localhost:8080/"
        },
        "id": "kHiQDS32kLwO",
        "outputId": "924bcc32-18d6-4f4d-8bbd-e3599f855ba1"
      },
      "execution_count": null,
      "outputs": [
        {
          "output_type": "stream",
          "name": "stdout",
          "text": [
            "Sentence: \"Washington University, which is located in Missouri, is named after George Washington.\"   [− Tokens: 12]\n",
            "Sentence: \"Washington University , which is located in Missouri , is named after George Washington .\"   [− Tokens: 15]\n"
          ]
        }
      ]
    },
    {
      "cell_type": "code",
      "source": [
        "print(sentence.get_token(3))"
      ],
      "metadata": {
        "colab": {
          "base_uri": "https://localhost:8080/"
        },
        "id": "WijDvqn5katC",
        "outputId": "a4ac5712-46ea-4f6c-9dc2-ac43525706b6"
      },
      "execution_count": null,
      "outputs": [
        {
          "output_type": "stream",
          "name": "stdout",
          "text": [
            "Token: 3 which\n"
          ]
        }
      ]
    },
    {
      "cell_type": "code",
      "source": [
        "print(sentence[2])"
      ],
      "metadata": {
        "colab": {
          "base_uri": "https://localhost:8080/"
        },
        "id": "NcRR6GlskdOM",
        "outputId": "25174bcd-8fd8-48d7-8013-91786b79ccda"
      },
      "execution_count": null,
      "outputs": [
        {
          "output_type": "stream",
          "name": "stdout",
          "text": [
            "Token: 3 which\n"
          ]
        }
      ]
    },
    {
      "cell_type": "code",
      "source": [
        "for token in sentence:\n",
        "  print(token)"
      ],
      "metadata": {
        "colab": {
          "base_uri": "https://localhost:8080/"
        },
        "id": "A2GMtZtwmR0I",
        "outputId": "55893115-d2f6-4353-8676-f273c6d0235b"
      },
      "execution_count": null,
      "outputs": [
        {
          "output_type": "stream",
          "name": "stdout",
          "text": [
            "Token: 1 Washington\n",
            "Token: 2 University,\n",
            "Token: 3 which\n",
            "Token: 4 is\n",
            "Token: 5 located\n",
            "Token: 6 in\n",
            "Token: 7 Missouri,\n",
            "Token: 8 is\n",
            "Token: 9 named\n",
            "Token: 10 after\n",
            "Token: 11 George\n",
            "Token: 12 Washington.\n"
          ]
        }
      ]
    },
    {
      "cell_type": "code",
      "source": [
        "from flair.embeddings import WordEmbeddings"
      ],
      "metadata": {
        "id": "Ni8er2-DmTxz"
      },
      "execution_count": null,
      "outputs": []
    },
    {
      "cell_type": "code",
      "source": [
        "en_embedding = WordEmbeddings('glove')"
      ],
      "metadata": {
        "id": "cctZB5wemmSp"
      },
      "execution_count": null,
      "outputs": []
    },
    {
      "cell_type": "code",
      "source": [
        "en_embedding.embed(sentence)"
      ],
      "metadata": {
        "colab": {
          "base_uri": "https://localhost:8080/"
        },
        "id": "ayc-bvHBmbI7",
        "outputId": "5c672ec3-368b-452d-9a94-c102af62739d"
      },
      "execution_count": null,
      "outputs": [
        {
          "output_type": "execute_result",
          "data": {
            "text/plain": [
              "[Sentence: \"Washington University, which is located in Missouri, is named after George Washington.\"   [− Tokens: 12]]"
            ]
          },
          "metadata": {},
          "execution_count": 92
        }
      ]
    },
    {
      "cell_type": "code",
      "source": [
        "for token in sentence:\n",
        "    print(token)\n",
        "    print(token.embedding)"
      ],
      "metadata": {
        "colab": {
          "base_uri": "https://localhost:8080/"
        },
        "id": "tGMOh39qm2M1",
        "outputId": "123b8a5e-8f48-4318-f926-80382ee1f746"
      },
      "execution_count": null,
      "outputs": [
        {
          "output_type": "stream",
          "name": "stdout",
          "text": [
            "Token: 1 Washington\n",
            "tensor([-2.2048e-01, -1.1316e-01,  9.4277e-01, -3.9024e-01,  2.5004e-01,\n",
            "        -4.1651e-01, -1.4640e-01,  2.3628e-03, -1.2966e-01, -1.1173e-01,\n",
            "        -2.1546e-01, -8.6271e-01,  1.3817e-01,  3.3118e-01, -6.6500e-01,\n",
            "         3.7134e-01,  2.0050e-01, -3.4055e-01, -1.2422e+00, -7.6653e-01,\n",
            "        -1.1253e-02,  3.8440e-01, -5.0105e-02, -1.8869e-01,  1.0785e-01,\n",
            "         1.7502e-01, -1.0167e-01, -5.7925e-01,  2.3529e-01,  3.2626e-02,\n",
            "         3.2353e-01,  9.7457e-01,  4.5231e-01,  4.9740e-01, -8.8874e-01,\n",
            "         4.9170e-01,  1.1230e-01, -2.1484e-01,  9.3187e-02,  4.7039e-01,\n",
            "        -7.8776e-01, -6.8219e-01, -2.3741e-01,  2.2351e-01,  2.0269e-01,\n",
            "        -1.0166e+00,  1.3095e-01, -2.3654e-01,  3.1501e-01, -3.1880e-01,\n",
            "         5.9744e-01, -2.8722e-01,  2.9970e-01,  3.4877e-01, -1.6597e-01,\n",
            "        -2.8483e+00,  3.2219e-01, -7.8469e-01,  1.3754e+00,  1.5050e-01,\n",
            "        -8.5193e-01,  2.5303e-01,  2.0142e-01, -5.9176e-01,  8.9212e-02,\n",
            "        -3.5561e-01,  2.6522e-01,  1.1283e+00, -3.7250e-01,  9.4010e-01,\n",
            "        -5.2708e-01, -4.6361e-01, -8.1034e-01, -3.3479e-01,  1.0260e-01,\n",
            "        -4.1905e-01,  6.3775e-01,  4.5096e-02, -1.2385e+00,  2.1903e-01,\n",
            "         4.9145e-01,  3.6583e-01, -3.2024e-01, -5.1061e-02, -6.5049e-01,\n",
            "        -1.1894e-02,  2.0887e-01,  2.5857e-01, -2.3303e-01, -8.4911e-01,\n",
            "        -1.5466e-01, -3.3714e-01, -3.7272e-01, -2.9143e-01, -1.2799e+00,\n",
            "         2.8781e-01,  2.9473e-01, -3.2733e-01,  6.3016e-01,  3.6249e-01])\n",
            "Token: 2 University,\n",
            "tensor([0., 0., 0., 0., 0., 0., 0., 0., 0., 0., 0., 0., 0., 0., 0., 0., 0., 0., 0., 0., 0., 0., 0., 0.,\n",
            "        0., 0., 0., 0., 0., 0., 0., 0., 0., 0., 0., 0., 0., 0., 0., 0., 0., 0., 0., 0., 0., 0., 0., 0.,\n",
            "        0., 0., 0., 0., 0., 0., 0., 0., 0., 0., 0., 0., 0., 0., 0., 0., 0., 0., 0., 0., 0., 0., 0., 0.,\n",
            "        0., 0., 0., 0., 0., 0., 0., 0., 0., 0., 0., 0., 0., 0., 0., 0., 0., 0., 0., 0., 0., 0., 0., 0.,\n",
            "        0., 0., 0., 0.])\n",
            "Token: 3 which\n",
            "tensor([ 3.0240e-02,  4.4606e-01,  4.3166e-01, -3.7528e-01,  2.9068e-01,\n",
            "         2.3032e-01,  1.8125e-01,  4.0201e-01,  1.3518e-01, -1.9562e-01,\n",
            "         3.0639e-01, -1.3239e-01,  6.7897e-01,  4.2234e-01,  3.2637e-01,\n",
            "        -1.5281e-01,  3.7698e-01, -2.3303e-01, -3.3817e-01,  3.0588e-01,\n",
            "         4.4918e-01, -8.3624e-01,  5.9146e-01,  2.4958e-01,  3.9986e-01,\n",
            "        -5.0172e-01, -2.3544e-01, -1.4696e-01, -3.5144e-01, -5.6852e-01,\n",
            "         8.9540e-02,  8.2612e-01, -2.6586e-01,  3.9030e-01, -3.6849e-02,\n",
            "         4.8257e-01,  7.1664e-01,  1.1004e-01, -5.9354e-01, -3.3216e-01,\n",
            "        -2.5736e-01, -3.4531e-01, -2.6326e-02, -2.3747e-01,  1.9656e-04,\n",
            "        -2.7480e-01,  3.8512e-01, -3.9581e-01,  1.1404e-01, -2.5174e-01,\n",
            "        -3.2470e-01,  8.9608e-02,  2.4929e-01,  1.5127e+00, -1.9762e-01,\n",
            "        -2.8509e+00, -5.3833e-01, -4.7111e-01,  1.7859e+00,  7.8126e-01,\n",
            "        -1.2963e-01,  5.6077e-01,  3.2151e-01,  3.5571e-01,  8.4547e-01,\n",
            "         1.4931e-01,  1.1487e-01,  3.0625e-01,  5.4774e-01, -5.0426e-01,\n",
            "         3.3824e-01, -6.2043e-01, -1.2869e-02,  6.6666e-02,  6.2731e-02,\n",
            "        -4.4534e-01,  1.5541e-01,  2.1801e-01, -1.7320e+00,  4.2054e-01,\n",
            "         3.6319e-01, -7.2258e-02, -7.4811e-01,  1.9888e-01, -1.4461e+00,\n",
            "        -2.7576e-01,  2.6646e-01, -5.7838e-01,  5.6151e-01, -2.8701e-02,\n",
            "        -2.4660e-01, -4.2500e-01, -5.7154e-01,  3.1939e-01, -2.2075e-01,\n",
            "         4.6528e-01, -1.6606e-01, -7.9923e-01,  8.0849e-01,  3.7378e-01])\n",
            "Token: 4 is\n",
            "tensor([-0.5426,  0.4148,  1.0322, -0.4024,  0.4669,  0.2182, -0.0749,  0.4733,\n",
            "         0.0810, -0.2208, -0.1281, -0.1144,  0.5089,  0.1157,  0.0282, -0.3628,\n",
            "         0.4382,  0.0475,  0.2028,  0.4986, -0.1007,  0.1327,  0.1697,  0.1165,\n",
            "         0.3135,  0.2571,  0.0928, -0.5683, -0.5297, -0.0515, -0.6733,  0.9253,\n",
            "         0.2693,  0.2273,  0.6636,  0.2622,  0.1972,  0.2609,  0.1877, -0.3454,\n",
            "        -0.4263,  0.1398,  0.5634, -0.5691,  0.1240, -0.1289,  0.7248, -0.2610,\n",
            "        -0.2631, -0.4360,  0.0789, -0.8415,  0.5160,  1.3997, -0.7646, -3.1453,\n",
            "        -0.2920, -0.3125,  1.5129,  0.5243,  0.2146,  0.4245, -0.0884, -0.1780,\n",
            "         1.1876,  0.1058,  0.7657,  0.2191,  0.3582, -0.1164,  0.0933, -0.6248,\n",
            "        -0.2190,  0.2180,  0.7406, -0.4374,  0.1434,  0.1472, -1.1605, -0.0505,\n",
            "         0.1268, -0.0144, -0.9868, -0.0913, -1.2054, -0.1197,  0.0478, -0.5400,\n",
            "         0.5246, -0.7096, -0.3253, -0.1346, -0.4131,  0.3343, -0.0072,  0.3225,\n",
            "        -0.0442, -1.2969,  0.7622,  0.4635])\n",
            "Token: 5 located\n",
            "tensor([-0.3259, -0.0977,  0.4929,  0.5785,  0.0600,  0.1727, -0.2408,  1.1679,\n",
            "         0.3066, -0.0685,  0.3392, -0.1444,  0.8911,  0.2538,  0.3281, -0.8504,\n",
            "         0.9990,  0.0704, -0.7729,  0.1591,  0.3662,  1.2885,  0.6803, -0.1153,\n",
            "        -0.4641, -0.8220,  0.5264,  0.0250, -0.3565,  0.3435, -0.4078,  0.1170,\n",
            "         1.0752,  0.8914,  0.5610,  0.1422,  0.2339,  0.0219,  0.2791,  0.0548,\n",
            "         0.4955, -0.7159, -0.2975, -0.4888,  0.7659,  0.4937,  0.9453,  0.4742,\n",
            "         0.1847,  1.0986, -0.2204,  0.0127,  0.2676,  0.3564, -0.8907, -2.6910,\n",
            "        -0.6626, -1.1894,  1.4337,  0.0867,  0.0597,  0.7623,  0.7843,  0.5301,\n",
            "         0.3194,  0.0225,  0.2144,  0.0696,  0.5294,  0.7360, -0.0974, -0.1481,\n",
            "         0.2401, -0.2745,  0.5444, -0.7322,  0.9958,  0.2988, -0.2035,  0.1765,\n",
            "        -0.4184,  0.2860, -1.0497,  0.0569,  0.2900,  0.4441,  0.0429, -0.7129,\n",
            "         1.2021,  0.1814, -0.2566, -0.2002, -0.3269,  0.5788, -0.8189,  0.6666,\n",
            "        -0.2440, -1.0820,  1.1991, -0.0523])\n",
            "Token: 6 in\n",
            "tensor([ 0.0857, -0.2220,  0.1657,  0.1337,  0.3824,  0.3540,  0.0129,  0.2246,\n",
            "        -0.4382,  0.5016, -0.3587, -0.3498,  0.0552,  0.6965, -0.1796,  0.0679,\n",
            "         0.3910,  0.1604, -0.2664, -0.2114,  0.5370,  0.4938,  0.9366,  0.6690,\n",
            "         0.2179, -0.4664,  0.2238, -0.3620, -0.1766,  0.1748, -0.2037,  0.1393,\n",
            "         0.0198, -0.1041, -0.2024,  0.5500, -0.1546,  0.9865, -0.2686, -0.2909,\n",
            "        -0.3287, -0.3419, -0.1694, -0.4200, -0.0467, -0.1633,  0.7082, -0.7491,\n",
            "        -0.0916, -0.9618, -0.1975,  0.1028,  0.5522,  1.3816, -0.6564, -3.2502,\n",
            "        -0.3156, -1.2055,  1.7709,  0.4026, -0.7983,  1.1597, -0.3304,  0.3138,\n",
            "         0.7739,  0.2260,  0.5247, -0.0341,  0.3205,  0.0799,  0.1775, -0.4943,\n",
            "        -0.7005, -0.4457,  0.1724,  0.2028,  0.0233, -0.2068, -1.0158,  0.1832,\n",
            "         0.5675,  0.3182, -0.6501,  0.6828, -0.8658, -0.0594, -0.2926, -0.5567,\n",
            "        -0.3471, -0.3289,  0.4022, -0.1275, -0.2023,  0.8737, -0.5450,  0.7921,\n",
            "        -0.2069, -0.0743,  0.7581, -0.3424])\n",
            "Token: 7 Missouri,\n",
            "tensor([0., 0., 0., 0., 0., 0., 0., 0., 0., 0., 0., 0., 0., 0., 0., 0., 0., 0., 0., 0., 0., 0., 0., 0.,\n",
            "        0., 0., 0., 0., 0., 0., 0., 0., 0., 0., 0., 0., 0., 0., 0., 0., 0., 0., 0., 0., 0., 0., 0., 0.,\n",
            "        0., 0., 0., 0., 0., 0., 0., 0., 0., 0., 0., 0., 0., 0., 0., 0., 0., 0., 0., 0., 0., 0., 0., 0.,\n",
            "        0., 0., 0., 0., 0., 0., 0., 0., 0., 0., 0., 0., 0., 0., 0., 0., 0., 0., 0., 0., 0., 0., 0., 0.,\n",
            "        0., 0., 0., 0.])\n",
            "Token: 8 is\n",
            "tensor([-0.5426,  0.4148,  1.0322, -0.4024,  0.4669,  0.2182, -0.0749,  0.4733,\n",
            "         0.0810, -0.2208, -0.1281, -0.1144,  0.5089,  0.1157,  0.0282, -0.3628,\n",
            "         0.4382,  0.0475,  0.2028,  0.4986, -0.1007,  0.1327,  0.1697,  0.1165,\n",
            "         0.3135,  0.2571,  0.0928, -0.5683, -0.5297, -0.0515, -0.6733,  0.9253,\n",
            "         0.2693,  0.2273,  0.6636,  0.2622,  0.1972,  0.2609,  0.1877, -0.3454,\n",
            "        -0.4263,  0.1398,  0.5634, -0.5691,  0.1240, -0.1289,  0.7248, -0.2610,\n",
            "        -0.2631, -0.4360,  0.0789, -0.8415,  0.5160,  1.3997, -0.7646, -3.1453,\n",
            "        -0.2920, -0.3125,  1.5129,  0.5243,  0.2146,  0.4245, -0.0884, -0.1780,\n",
            "         1.1876,  0.1058,  0.7657,  0.2191,  0.3582, -0.1164,  0.0933, -0.6248,\n",
            "        -0.2190,  0.2180,  0.7406, -0.4374,  0.1434,  0.1472, -1.1605, -0.0505,\n",
            "         0.1268, -0.0144, -0.9868, -0.0913, -1.2054, -0.1197,  0.0478, -0.5400,\n",
            "         0.5246, -0.7096, -0.3253, -0.1346, -0.4131,  0.3343, -0.0072,  0.3225,\n",
            "        -0.0442, -1.2969,  0.7622,  0.4635])\n",
            "Token: 9 named\n",
            "tensor([-0.3516, -0.1663,  0.3655, -0.3684,  0.2747, -0.1548,  0.4861, -0.0217,\n",
            "        -0.5534, -0.0798, -0.3784, -0.1086,  0.8104, -0.0225,  0.3513, -0.3454,\n",
            "         1.4764, -0.1031, -1.0180,  0.6877, -0.3879,  0.2693, -0.1971,  0.0187,\n",
            "         0.4329, -0.2141, -0.1406, -0.5489,  0.1550,  0.5489,  0.0804,  0.6596,\n",
            "         0.2833,  0.2851,  0.4042,  0.1460, -0.3615,  0.2548,  0.1282, -0.2636,\n",
            "        -0.2533,  0.3237,  0.6622, -0.4780,  0.6232,  0.6496, -0.4423,  0.0062,\n",
            "        -0.0396,  0.4655, -0.4053,  0.1261,  0.8087,  0.8531, -0.4349, -2.2792,\n",
            "        -0.8602, -0.1126,  0.5434,  0.6340, -0.0577,  0.7507,  0.1123,  0.2812,\n",
            "         0.9433, -0.7431,  0.2454,  0.7698,  0.5878,  0.7000,  0.1028, -0.1339,\n",
            "        -0.5746, -0.3237, -0.3334,  0.0385,  0.3300, -0.1217, -0.6153, -0.6244,\n",
            "         0.0891, -0.0047, -0.4819,  0.0180, -0.4557, -0.6658, -0.1686, -0.6777,\n",
            "         0.7518, -0.7094,  0.1465, -0.1562, -0.0856,  0.5049, -0.3004,  0.1565,\n",
            "        -0.7611, -0.5038,  0.1150, -0.8237])\n",
            "Token: 10 after\n",
            "tensor([ 3.7711e-01, -3.4471e-01,  1.3405e-01, -1.1710e-02, -1.9427e-01,\n",
            "         4.1464e-01,  4.0608e-01,  4.3063e-01, -5.7060e-02, -1.9921e-01,\n",
            "         4.3267e-01, -1.6269e-02,  2.1710e-01, -2.6149e-03,  3.9424e-01,\n",
            "        -4.2803e-01, -1.7495e-02, -5.6658e-01, -4.4558e-01, -1.8529e-01,\n",
            "         2.6732e-01, -1.5712e-01,  2.1657e-01,  7.9714e-01,  6.9623e-01,\n",
            "         2.0405e-01, -4.9907e-01, -4.5519e-01,  3.8210e-01,  2.0603e-01,\n",
            "        -2.1606e-01,  1.0093e-01, -5.0148e-01, -1.1058e-01, -4.3455e-01,\n",
            "        -2.6785e-01, -2.0234e-01,  3.8320e-03, -4.9108e-01, -1.7642e-01,\n",
            "        -8.8971e-01, -2.7900e-01,  8.6387e-01, -1.7356e-02,  3.1210e-01,\n",
            "         4.1004e-01,  2.3199e-01, -6.0812e-01,  4.4763e-01, -8.9579e-01,\n",
            "        -3.8491e-02, -2.5772e-01,  3.9468e-01,  1.6186e+00, -5.4882e-01,\n",
            "        -3.0291e+00, -7.7845e-01, -3.2463e-01,  1.7658e+00,  9.7303e-01,\n",
            "        -3.9342e-01,  5.4811e-01,  1.3164e-02,  3.7850e-01,  2.4538e-01,\n",
            "         3.1079e-02,  2.3628e-01,  2.8901e-01,  2.7047e-02,  2.8985e-01,\n",
            "        -7.4523e-01,  1.1517e-02, -3.9456e-01, -5.7706e-01, -6.3604e-01,\n",
            "         3.1022e-01, -3.8317e-01, -7.7663e-02, -1.3539e+00,  1.8009e-02,\n",
            "         8.5646e-01,  3.8259e-02, -3.9437e-01,  4.4331e-01, -1.0802e+00,\n",
            "        -4.3159e-01,  1.4391e-01,  1.1854e-01, -5.6459e-01, -4.7966e-01,\n",
            "         2.2860e-01, -2.4369e-01, -4.2823e-01,  1.0366e+00, -8.3071e-01,\n",
            "         1.2460e-01,  2.0630e-01,  5.4232e-01,  1.1425e-01, -6.6927e-01])\n",
            "Token: 11 George\n",
            "tensor([-4.4295e-01,  5.9694e-02,  7.8306e-02, -2.4619e-01,  2.8411e-02,\n",
            "        -6.3084e-01,  3.7209e-02, -1.6568e-01, -7.3036e-01, -6.8152e-01,\n",
            "        -1.5946e-01, -4.4025e-01, -5.3630e-01,  2.4174e-01,  7.7513e-02,\n",
            "        -3.1366e-01,  3.3539e-01, -1.4214e-01, -1.2390e+00,  1.6170e-01,\n",
            "        -1.3486e-01, -2.2743e-01,  4.4955e-01, -7.2688e-01,  2.5063e-01,\n",
            "         1.1166e-01, -6.2308e-01, -5.5884e-01,  5.1252e-01,  3.6855e-01,\n",
            "         2.9996e-01,  7.0179e-01,  6.7464e-01,  4.0543e-01, -3.0825e-01,\n",
            "         8.3837e-01, -1.8986e-01, -1.7278e-01, -2.1306e-01,  3.5070e-01,\n",
            "        -4.1994e-01, -9.9697e-02,  7.5963e-01,  3.2975e-01, -2.2113e-01,\n",
            "        -1.2372e-01, -5.1361e-01, -6.8517e-01, -6.5545e-02, -1.7642e-01,\n",
            "         6.0858e-01, -7.4822e-02,  9.6863e-01,  5.0805e-01,  2.6777e-01,\n",
            "        -2.7093e+00, -1.0079e-01, -1.2588e-01,  1.2641e-01, -1.2384e-01,\n",
            "         4.0576e-01,  5.5333e-01,  1.5053e-01, -9.6734e-02,  2.8402e-01,\n",
            "        -2.3382e-01,  4.7452e-02,  1.4050e+00, -2.7471e-01,  6.4243e-01,\n",
            "        -5.1403e-01,  1.8748e-01, -9.9874e-01, -3.7344e-01, -1.4193e-01,\n",
            "        -2.7153e-01,  3.0842e-01,  9.3234e-01, -3.8388e-01,  3.6608e-01,\n",
            "         7.3780e-01, -1.7734e-01,  2.0051e-02, -2.4361e-01, -5.7102e-01,\n",
            "        -2.7266e-01, -5.6562e-01, -7.4104e-01,  1.6745e-01, -1.3076e+00,\n",
            "        -3.5900e-01, -7.5738e-01, -1.0948e-01,  5.3662e-01, -1.0914e+00,\n",
            "        -1.0287e-01,  5.8263e-04, -4.5603e-01, -4.7270e-02, -6.7599e-01])\n",
            "Token: 12 Washington.\n",
            "tensor([0., 0., 0., 0., 0., 0., 0., 0., 0., 0., 0., 0., 0., 0., 0., 0., 0., 0., 0., 0., 0., 0., 0., 0.,\n",
            "        0., 0., 0., 0., 0., 0., 0., 0., 0., 0., 0., 0., 0., 0., 0., 0., 0., 0., 0., 0., 0., 0., 0., 0.,\n",
            "        0., 0., 0., 0., 0., 0., 0., 0., 0., 0., 0., 0., 0., 0., 0., 0., 0., 0., 0., 0., 0., 0., 0., 0.,\n",
            "        0., 0., 0., 0., 0., 0., 0., 0., 0., 0., 0., 0., 0., 0., 0., 0., 0., 0., 0., 0., 0., 0., 0., 0.,\n",
            "        0., 0., 0., 0.])\n"
          ]
        }
      ]
    },
    {
      "cell_type": "code",
      "source": [
        "sentence[0].get_embedding()"
      ],
      "metadata": {
        "colab": {
          "base_uri": "https://localhost:8080/"
        },
        "id": "jiOKVmSyb0Rb",
        "outputId": "8145a2ac-73d4-492f-ce7b-f664ddd50f88"
      },
      "execution_count": null,
      "outputs": [
        {
          "output_type": "execute_result",
          "data": {
            "text/plain": [
              "tensor([-2.2048e-01, -1.1316e-01,  9.4277e-01, -3.9024e-01,  2.5004e-01,\n",
              "        -4.1651e-01, -1.4640e-01,  2.3628e-03, -1.2966e-01, -1.1173e-01,\n",
              "        -2.1546e-01, -8.6271e-01,  1.3817e-01,  3.3118e-01, -6.6500e-01,\n",
              "         3.7134e-01,  2.0050e-01, -3.4055e-01, -1.2422e+00, -7.6653e-01,\n",
              "        -1.1253e-02,  3.8440e-01, -5.0105e-02, -1.8869e-01,  1.0785e-01,\n",
              "         1.7502e-01, -1.0167e-01, -5.7925e-01,  2.3529e-01,  3.2626e-02,\n",
              "         3.2353e-01,  9.7457e-01,  4.5231e-01,  4.9740e-01, -8.8874e-01,\n",
              "         4.9170e-01,  1.1230e-01, -2.1484e-01,  9.3187e-02,  4.7039e-01,\n",
              "        -7.8776e-01, -6.8219e-01, -2.3741e-01,  2.2351e-01,  2.0269e-01,\n",
              "        -1.0166e+00,  1.3095e-01, -2.3654e-01,  3.1501e-01, -3.1880e-01,\n",
              "         5.9744e-01, -2.8722e-01,  2.9970e-01,  3.4877e-01, -1.6597e-01,\n",
              "        -2.8483e+00,  3.2219e-01, -7.8469e-01,  1.3754e+00,  1.5050e-01,\n",
              "        -8.5193e-01,  2.5303e-01,  2.0142e-01, -5.9176e-01,  8.9212e-02,\n",
              "        -3.5561e-01,  2.6522e-01,  1.1283e+00, -3.7250e-01,  9.4010e-01,\n",
              "        -5.2708e-01, -4.6361e-01, -8.1034e-01, -3.3479e-01,  1.0260e-01,\n",
              "        -4.1905e-01,  6.3775e-01,  4.5096e-02, -1.2385e+00,  2.1903e-01,\n",
              "         4.9145e-01,  3.6583e-01, -3.2024e-01, -5.1061e-02, -6.5049e-01,\n",
              "        -1.1894e-02,  2.0887e-01,  2.5857e-01, -2.3303e-01, -8.4911e-01,\n",
              "        -1.5466e-01, -3.3714e-01, -3.7272e-01, -2.9143e-01, -1.2799e+00,\n",
              "         2.8781e-01,  2.9473e-01, -3.2733e-01,  6.3016e-01,  3.6249e-01])"
            ]
          },
          "metadata": {},
          "execution_count": 94
        }
      ]
    },
    {
      "cell_type": "code",
      "source": [
        "sentence[11].get_embedding()"
      ],
      "metadata": {
        "colab": {
          "base_uri": "https://localhost:8080/"
        },
        "id": "lB92re2NeDrg",
        "outputId": "9d454821-9983-430b-f3d4-242ed9744310"
      },
      "execution_count": null,
      "outputs": [
        {
          "output_type": "execute_result",
          "data": {
            "text/plain": [
              "tensor([0., 0., 0., 0., 0., 0., 0., 0., 0., 0., 0., 0., 0., 0., 0., 0., 0., 0., 0., 0., 0., 0., 0., 0.,\n",
              "        0., 0., 0., 0., 0., 0., 0., 0., 0., 0., 0., 0., 0., 0., 0., 0., 0., 0., 0., 0., 0., 0., 0., 0.,\n",
              "        0., 0., 0., 0., 0., 0., 0., 0., 0., 0., 0., 0., 0., 0., 0., 0., 0., 0., 0., 0., 0., 0., 0., 0.,\n",
              "        0., 0., 0., 0., 0., 0., 0., 0., 0., 0., 0., 0., 0., 0., 0., 0., 0., 0., 0., 0., 0., 0., 0., 0.,\n",
              "        0., 0., 0., 0.])"
            ]
          },
          "metadata": {},
          "execution_count": 13
        }
      ]
    },
    {
      "cell_type": "code",
      "source": [
        "import tensorflow as tf\n",
        "print(tf.__version__)"
      ],
      "metadata": {
        "colab": {
          "base_uri": "https://localhost:8080/"
        },
        "id": "6S4sxEaMqzHl",
        "outputId": "242a0230-9f28-4b0e-e99b-cd381ba1fa5d"
      },
      "execution_count": null,
      "outputs": [
        {
          "output_type": "stream",
          "name": "stdout",
          "text": [
            "2.8.0\n"
          ]
        }
      ]
    },
    {
      "cell_type": "code",
      "source": [
        "x = sentence[0].get_embedding()\n",
        "print(x)\n"
      ],
      "metadata": {
        "colab": {
          "base_uri": "https://localhost:8080/"
        },
        "id": "bGxitChmqAc5",
        "outputId": "c6c3dedd-c18b-4ada-c1de-72f1d8419c2a"
      },
      "execution_count": null,
      "outputs": [
        {
          "output_type": "stream",
          "name": "stdout",
          "text": [
            "tensor([-2.2048e-01, -1.1316e-01,  9.4277e-01, -3.9024e-01,  2.5004e-01,\n",
            "        -4.1651e-01, -1.4640e-01,  2.3628e-03, -1.2966e-01, -1.1173e-01,\n",
            "        -2.1546e-01, -8.6271e-01,  1.3817e-01,  3.3118e-01, -6.6500e-01,\n",
            "         3.7134e-01,  2.0050e-01, -3.4055e-01, -1.2422e+00, -7.6653e-01,\n",
            "        -1.1253e-02,  3.8440e-01, -5.0105e-02, -1.8869e-01,  1.0785e-01,\n",
            "         1.7502e-01, -1.0167e-01, -5.7925e-01,  2.3529e-01,  3.2626e-02,\n",
            "         3.2353e-01,  9.7457e-01,  4.5231e-01,  4.9740e-01, -8.8874e-01,\n",
            "         4.9170e-01,  1.1230e-01, -2.1484e-01,  9.3187e-02,  4.7039e-01,\n",
            "        -7.8776e-01, -6.8219e-01, -2.3741e-01,  2.2351e-01,  2.0269e-01,\n",
            "        -1.0166e+00,  1.3095e-01, -2.3654e-01,  3.1501e-01, -3.1880e-01,\n",
            "         5.9744e-01, -2.8722e-01,  2.9970e-01,  3.4877e-01, -1.6597e-01,\n",
            "        -2.8483e+00,  3.2219e-01, -7.8469e-01,  1.3754e+00,  1.5050e-01,\n",
            "        -8.5193e-01,  2.5303e-01,  2.0142e-01, -5.9176e-01,  8.9212e-02,\n",
            "        -3.5561e-01,  2.6522e-01,  1.1283e+00, -3.7250e-01,  9.4010e-01,\n",
            "        -5.2708e-01, -4.6361e-01, -8.1034e-01, -3.3479e-01,  1.0260e-01,\n",
            "        -4.1905e-01,  6.3775e-01,  4.5096e-02, -1.2385e+00,  2.1903e-01,\n",
            "         4.9145e-01,  3.6583e-01, -3.2024e-01, -5.1061e-02, -6.5049e-01,\n",
            "        -1.1894e-02,  2.0887e-01,  2.5857e-01, -2.3303e-01, -8.4911e-01,\n",
            "        -1.5466e-01, -3.3714e-01, -3.7272e-01, -2.9143e-01, -1.2799e+00,\n",
            "         2.8781e-01,  2.9473e-01, -3.2733e-01,  6.3016e-01,  3.6249e-01])\n"
          ]
        }
      ]
    },
    {
      "cell_type": "code",
      "source": [
        "y = sentence[11].get_embedding()\n",
        "print(y)"
      ],
      "metadata": {
        "colab": {
          "base_uri": "https://localhost:8080/"
        },
        "id": "XOSOQVcHsIFQ",
        "outputId": "49650fb4-c74d-4135-df1f-3133ec796d8f"
      },
      "execution_count": null,
      "outputs": [
        {
          "output_type": "stream",
          "name": "stdout",
          "text": [
            "tensor([0., 0., 0., 0., 0., 0., 0., 0., 0., 0., 0., 0., 0., 0., 0., 0., 0., 0., 0., 0., 0., 0., 0., 0.,\n",
            "        0., 0., 0., 0., 0., 0., 0., 0., 0., 0., 0., 0., 0., 0., 0., 0., 0., 0., 0., 0., 0., 0., 0., 0.,\n",
            "        0., 0., 0., 0., 0., 0., 0., 0., 0., 0., 0., 0., 0., 0., 0., 0., 0., 0., 0., 0., 0., 0., 0., 0.,\n",
            "        0., 0., 0., 0., 0., 0., 0., 0., 0., 0., 0., 0., 0., 0., 0., 0., 0., 0., 0., 0., 0., 0., 0., 0.,\n",
            "        0., 0., 0., 0.])\n"
          ]
        }
      ]
    },
    {
      "cell_type": "code",
      "source": [
        "import torch"
      ],
      "metadata": {
        "id": "81tw_o5StmIr"
      },
      "execution_count": null,
      "outputs": []
    },
    {
      "cell_type": "markdown",
      "source": [
        "# Assignment-1"
      ],
      "metadata": {
        "id": "qWfXeOVZk1TU"
      }
    },
    {
      "cell_type": "code",
      "source": [
        "z = x==y\n",
        "print(z)"
      ],
      "metadata": {
        "colab": {
          "base_uri": "https://localhost:8080/"
        },
        "id": "TNeK4lUgwluz",
        "outputId": "9ae97206-d828-48b2-ef98-f33b9697b703"
      },
      "execution_count": null,
      "outputs": [
        {
          "output_type": "stream",
          "name": "stdout",
          "text": [
            "tensor([False, False, False, False, False, False, False, False, False, False,\n",
            "        False, False, False, False, False, False, False, False, False, False,\n",
            "        False, False, False, False, False, False, False, False, False, False,\n",
            "        False, False, False, False, False, False, False, False, False, False,\n",
            "        False, False, False, False, False, False, False, False, False, False,\n",
            "        False, False, False, False, False, False, False, False, False, False,\n",
            "        False, False, False, False, False, False, False, False, False, False,\n",
            "        False, False, False, False, False, False, False, False, False, False,\n",
            "        False, False, False, False, False, False, False, False, False, False,\n",
            "        False, False, False, False, False, False, False, False, False, False])\n"
          ]
        }
      ]
    },
    {
      "cell_type": "code",
      "source": [
        "en_embedding.embed(tokenized_sentence)"
      ],
      "metadata": {
        "colab": {
          "base_uri": "https://localhost:8080/"
        },
        "id": "YhSn1DnA-bM1",
        "outputId": "d08a20be-834d-4c7e-bedd-3ec4803ce78b"
      },
      "execution_count": null,
      "outputs": [
        {
          "output_type": "execute_result",
          "data": {
            "text/plain": [
              "[Sentence: \"Washington University , which is located in Missouri , is named after George Washington .\"   [− Tokens: 15]]"
            ]
          },
          "metadata": {},
          "execution_count": 100
        }
      ]
    },
    {
      "cell_type": "code",
      "source": [
        "for token in sentence:\n",
        "  print(token)"
      ],
      "metadata": {
        "colab": {
          "base_uri": "https://localhost:8080/"
        },
        "id": "V5Tc3ByFs0cj",
        "outputId": "ffe6be67-4f7c-4807-f3b2-785d7db61a3a"
      },
      "execution_count": null,
      "outputs": [
        {
          "output_type": "stream",
          "name": "stdout",
          "text": [
            "Token: 1 Washington\n",
            "Token: 2 University,\n",
            "Token: 3 which\n",
            "Token: 4 is\n",
            "Token: 5 located\n",
            "Token: 6 in\n",
            "Token: 7 Missouri,\n",
            "Token: 8 is\n",
            "Token: 9 named\n",
            "Token: 10 after\n",
            "Token: 11 George\n",
            "Token: 12 Washington.\n"
          ]
        }
      ]
    },
    {
      "cell_type": "code",
      "source": [
        "for token in tokenized_sentence:\n",
        "    print(token)"
      ],
      "metadata": {
        "colab": {
          "base_uri": "https://localhost:8080/"
        },
        "id": "sRp9Dciq9RS4",
        "outputId": "b80e161c-fa84-4d08-ac67-895dca2280f9"
      },
      "execution_count": null,
      "outputs": [
        {
          "output_type": "stream",
          "name": "stdout",
          "text": [
            "Token: 1 Washington\n",
            "Token: 2 University\n",
            "Token: 3 ,\n",
            "Token: 4 which\n",
            "Token: 5 is\n",
            "Token: 6 located\n",
            "Token: 7 in\n",
            "Token: 8 Missouri\n",
            "Token: 9 ,\n",
            "Token: 10 is\n",
            "Token: 11 named\n",
            "Token: 12 after\n",
            "Token: 13 George\n",
            "Token: 14 Washington\n",
            "Token: 15 .\n"
          ]
        }
      ]
    },
    {
      "cell_type": "code",
      "source": [
        "for token in tokenized_sentence:\n",
        "    print(token)\n",
        "    print(token.embedding)\n",
        "\n",
        "a = tokenized_sentence [-2].get_embedding()\n",
        "b = tokenized_sentence[0].get_embedding()\n",
        "a==b\n"
      ],
      "metadata": {
        "colab": {
          "base_uri": "https://localhost:8080/"
        },
        "id": "d9feoFFhApXn",
        "outputId": "9fc1b866-d7a3-4db0-8ce3-f2d76c3108b1"
      },
      "execution_count": null,
      "outputs": [
        {
          "output_type": "stream",
          "name": "stdout",
          "text": [
            "Token: 1 Washington\n",
            "tensor([-2.2048e-01, -1.1316e-01,  9.4277e-01, -3.9024e-01,  2.5004e-01,\n",
            "        -4.1651e-01, -1.4640e-01,  2.3628e-03, -1.2966e-01, -1.1173e-01,\n",
            "        -2.1546e-01, -8.6271e-01,  1.3817e-01,  3.3118e-01, -6.6500e-01,\n",
            "         3.7134e-01,  2.0050e-01, -3.4055e-01, -1.2422e+00, -7.6653e-01,\n",
            "        -1.1253e-02,  3.8440e-01, -5.0105e-02, -1.8869e-01,  1.0785e-01,\n",
            "         1.7502e-01, -1.0167e-01, -5.7925e-01,  2.3529e-01,  3.2626e-02,\n",
            "         3.2353e-01,  9.7457e-01,  4.5231e-01,  4.9740e-01, -8.8874e-01,\n",
            "         4.9170e-01,  1.1230e-01, -2.1484e-01,  9.3187e-02,  4.7039e-01,\n",
            "        -7.8776e-01, -6.8219e-01, -2.3741e-01,  2.2351e-01,  2.0269e-01,\n",
            "        -1.0166e+00,  1.3095e-01, -2.3654e-01,  3.1501e-01, -3.1880e-01,\n",
            "         5.9744e-01, -2.8722e-01,  2.9970e-01,  3.4877e-01, -1.6597e-01,\n",
            "        -2.8483e+00,  3.2219e-01, -7.8469e-01,  1.3754e+00,  1.5050e-01,\n",
            "        -8.5193e-01,  2.5303e-01,  2.0142e-01, -5.9176e-01,  8.9212e-02,\n",
            "        -3.5561e-01,  2.6522e-01,  1.1283e+00, -3.7250e-01,  9.4010e-01,\n",
            "        -5.2708e-01, -4.6361e-01, -8.1034e-01, -3.3479e-01,  1.0260e-01,\n",
            "        -4.1905e-01,  6.3775e-01,  4.5096e-02, -1.2385e+00,  2.1903e-01,\n",
            "         4.9145e-01,  3.6583e-01, -3.2024e-01, -5.1061e-02, -6.5049e-01,\n",
            "        -1.1894e-02,  2.0887e-01,  2.5857e-01, -2.3303e-01, -8.4911e-01,\n",
            "        -1.5466e-01, -3.3714e-01, -3.7272e-01, -2.9143e-01, -1.2799e+00,\n",
            "         2.8781e-01,  2.9473e-01, -3.2733e-01,  6.3016e-01,  3.6249e-01])\n",
            "Token: 2 University\n",
            "tensor([ 0.6958, -0.1933, -0.7813, -0.4559,  0.2925,  0.3648,  0.4204,  0.3944,\n",
            "        -0.8260,  0.9515, -0.5746, -0.6088,  0.1764,  1.2112, -0.4096, -0.3099,\n",
            "         1.0360,  0.1446, -0.6612, -0.1530, -0.6027,  0.4377,  0.0996,  0.0846,\n",
            "        -0.1335, -0.6661,  0.3028, -1.2281,  0.2023, -0.0251, -1.0822,  1.2366,\n",
            "         0.0275,  0.4997, -1.3037, -0.5274, -0.7245,  0.6482, -1.0533, -0.0516,\n",
            "        -1.1125, -0.2104, -0.8686, -0.5589, -0.1256, -0.1677,  1.2164,  0.6834,\n",
            "         0.0060,  0.2811,  0.4287, -1.0092,  0.4076, -0.1990, -0.5442, -2.7965,\n",
            "        -0.1189, -0.9814,  1.0011,  0.1349, -0.1668,  0.4366, -0.0222, -0.3068,\n",
            "         0.2698,  0.1801, -0.1242,  1.1771,  0.9027,  1.6263, -0.2043,  0.3313,\n",
            "         0.2568, -0.2361, -0.8155,  0.0435,  0.7348, -0.0136, -0.6192, -0.1236,\n",
            "         0.6251,  0.0567, -0.9702, -0.7868, -1.1703,  0.7142,  0.3694, -0.7578,\n",
            "         0.5150, -0.6268,  0.6761, -0.7994,  0.0793,  0.6695, -0.9211,  0.8140,\n",
            "        -0.2785, -0.3130,  0.9110,  0.1123])\n",
            "Token: 3 ,\n",
            "tensor([-0.1077,  0.1105,  0.5981, -0.5436,  0.6740,  0.1066,  0.0389,  0.3548,\n",
            "         0.0635, -0.0942,  0.1579, -0.8166,  0.1417,  0.2194,  0.5850, -0.5216,\n",
            "         0.2278, -0.1664, -0.6823,  0.3587,  0.4257,  0.1902,  0.9196,  0.5756,\n",
            "         0.4618,  0.4236, -0.0954, -0.4275, -0.1657, -0.0568, -0.2959,  0.2604,\n",
            "        -0.2661, -0.0704, -0.2766,  0.1582,  0.6982,  0.4308,  0.2795, -0.4544,\n",
            "        -0.3380, -0.5818,  0.2236, -0.5778, -0.2686, -0.2042,  0.5639, -0.5852,\n",
            "        -0.1436, -0.6422,  0.0055, -0.3525,  0.1616,  1.1796, -0.4767, -2.7553,\n",
            "        -0.1321, -0.0477,  1.0655,  1.1034, -0.2208,  0.1867,  0.1318,  0.1512,\n",
            "         0.7131, -0.3521,  0.9135,  0.6178,  0.7099,  0.2395, -0.1457, -0.3786,\n",
            "        -0.0460, -0.4737,  0.2385,  0.2054, -0.1900,  0.3251, -1.1112, -0.3634,\n",
            "         0.9868, -0.0848, -0.5401,  0.1173, -1.0194, -0.2442,  0.1277,  0.0139,\n",
            "         0.0804, -0.3541,  0.3495, -0.7226,  0.3755,  0.4441, -0.9906,  0.6121,\n",
            "        -0.3511, -0.8316,  0.4529,  0.0826])\n",
            "Token: 4 which\n",
            "tensor([ 3.0240e-02,  4.4606e-01,  4.3166e-01, -3.7528e-01,  2.9068e-01,\n",
            "         2.3032e-01,  1.8125e-01,  4.0201e-01,  1.3518e-01, -1.9562e-01,\n",
            "         3.0639e-01, -1.3239e-01,  6.7897e-01,  4.2234e-01,  3.2637e-01,\n",
            "        -1.5281e-01,  3.7698e-01, -2.3303e-01, -3.3817e-01,  3.0588e-01,\n",
            "         4.4918e-01, -8.3624e-01,  5.9146e-01,  2.4958e-01,  3.9986e-01,\n",
            "        -5.0172e-01, -2.3544e-01, -1.4696e-01, -3.5144e-01, -5.6852e-01,\n",
            "         8.9540e-02,  8.2612e-01, -2.6586e-01,  3.9030e-01, -3.6849e-02,\n",
            "         4.8257e-01,  7.1664e-01,  1.1004e-01, -5.9354e-01, -3.3216e-01,\n",
            "        -2.5736e-01, -3.4531e-01, -2.6326e-02, -2.3747e-01,  1.9656e-04,\n",
            "        -2.7480e-01,  3.8512e-01, -3.9581e-01,  1.1404e-01, -2.5174e-01,\n",
            "        -3.2470e-01,  8.9608e-02,  2.4929e-01,  1.5127e+00, -1.9762e-01,\n",
            "        -2.8509e+00, -5.3833e-01, -4.7111e-01,  1.7859e+00,  7.8126e-01,\n",
            "        -1.2963e-01,  5.6077e-01,  3.2151e-01,  3.5571e-01,  8.4547e-01,\n",
            "         1.4931e-01,  1.1487e-01,  3.0625e-01,  5.4774e-01, -5.0426e-01,\n",
            "         3.3824e-01, -6.2043e-01, -1.2869e-02,  6.6666e-02,  6.2731e-02,\n",
            "        -4.4534e-01,  1.5541e-01,  2.1801e-01, -1.7320e+00,  4.2054e-01,\n",
            "         3.6319e-01, -7.2258e-02, -7.4811e-01,  1.9888e-01, -1.4461e+00,\n",
            "        -2.7576e-01,  2.6646e-01, -5.7838e-01,  5.6151e-01, -2.8701e-02,\n",
            "        -2.4660e-01, -4.2500e-01, -5.7154e-01,  3.1939e-01, -2.2075e-01,\n",
            "         4.6528e-01, -1.6606e-01, -7.9923e-01,  8.0849e-01,  3.7378e-01])\n",
            "Token: 5 is\n",
            "tensor([-0.5426,  0.4148,  1.0322, -0.4024,  0.4669,  0.2182, -0.0749,  0.4733,\n",
            "         0.0810, -0.2208, -0.1281, -0.1144,  0.5089,  0.1157,  0.0282, -0.3628,\n",
            "         0.4382,  0.0475,  0.2028,  0.4986, -0.1007,  0.1327,  0.1697,  0.1165,\n",
            "         0.3135,  0.2571,  0.0928, -0.5683, -0.5297, -0.0515, -0.6733,  0.9253,\n",
            "         0.2693,  0.2273,  0.6636,  0.2622,  0.1972,  0.2609,  0.1877, -0.3454,\n",
            "        -0.4263,  0.1398,  0.5634, -0.5691,  0.1240, -0.1289,  0.7248, -0.2610,\n",
            "        -0.2631, -0.4360,  0.0789, -0.8415,  0.5160,  1.3997, -0.7646, -3.1453,\n",
            "        -0.2920, -0.3125,  1.5129,  0.5243,  0.2146,  0.4245, -0.0884, -0.1780,\n",
            "         1.1876,  0.1058,  0.7657,  0.2191,  0.3582, -0.1164,  0.0933, -0.6248,\n",
            "        -0.2190,  0.2180,  0.7406, -0.4374,  0.1434,  0.1472, -1.1605, -0.0505,\n",
            "         0.1268, -0.0144, -0.9868, -0.0913, -1.2054, -0.1197,  0.0478, -0.5400,\n",
            "         0.5246, -0.7096, -0.3253, -0.1346, -0.4131,  0.3343, -0.0072,  0.3225,\n",
            "        -0.0442, -1.2969,  0.7622,  0.4635])\n",
            "Token: 6 located\n",
            "tensor([-0.3259, -0.0977,  0.4929,  0.5785,  0.0600,  0.1727, -0.2408,  1.1679,\n",
            "         0.3066, -0.0685,  0.3392, -0.1444,  0.8911,  0.2538,  0.3281, -0.8504,\n",
            "         0.9990,  0.0704, -0.7729,  0.1591,  0.3662,  1.2885,  0.6803, -0.1153,\n",
            "        -0.4641, -0.8220,  0.5264,  0.0250, -0.3565,  0.3435, -0.4078,  0.1170,\n",
            "         1.0752,  0.8914,  0.5610,  0.1422,  0.2339,  0.0219,  0.2791,  0.0548,\n",
            "         0.4955, -0.7159, -0.2975, -0.4888,  0.7659,  0.4937,  0.9453,  0.4742,\n",
            "         0.1847,  1.0986, -0.2204,  0.0127,  0.2676,  0.3564, -0.8907, -2.6910,\n",
            "        -0.6626, -1.1894,  1.4337,  0.0867,  0.0597,  0.7623,  0.7843,  0.5301,\n",
            "         0.3194,  0.0225,  0.2144,  0.0696,  0.5294,  0.7360, -0.0974, -0.1481,\n",
            "         0.2401, -0.2745,  0.5444, -0.7322,  0.9958,  0.2988, -0.2035,  0.1765,\n",
            "        -0.4184,  0.2860, -1.0497,  0.0569,  0.2900,  0.4441,  0.0429, -0.7129,\n",
            "         1.2021,  0.1814, -0.2566, -0.2002, -0.3269,  0.5788, -0.8189,  0.6666,\n",
            "        -0.2440, -1.0820,  1.1991, -0.0523])\n",
            "Token: 7 in\n",
            "tensor([ 0.0857, -0.2220,  0.1657,  0.1337,  0.3824,  0.3540,  0.0129,  0.2246,\n",
            "        -0.4382,  0.5016, -0.3587, -0.3498,  0.0552,  0.6965, -0.1796,  0.0679,\n",
            "         0.3910,  0.1604, -0.2664, -0.2114,  0.5370,  0.4938,  0.9366,  0.6690,\n",
            "         0.2179, -0.4664,  0.2238, -0.3620, -0.1766,  0.1748, -0.2037,  0.1393,\n",
            "         0.0198, -0.1041, -0.2024,  0.5500, -0.1546,  0.9865, -0.2686, -0.2909,\n",
            "        -0.3287, -0.3419, -0.1694, -0.4200, -0.0467, -0.1633,  0.7082, -0.7491,\n",
            "        -0.0916, -0.9618, -0.1975,  0.1028,  0.5522,  1.3816, -0.6564, -3.2502,\n",
            "        -0.3156, -1.2055,  1.7709,  0.4026, -0.7983,  1.1597, -0.3304,  0.3138,\n",
            "         0.7739,  0.2260,  0.5247, -0.0341,  0.3205,  0.0799,  0.1775, -0.4943,\n",
            "        -0.7005, -0.4457,  0.1724,  0.2028,  0.0233, -0.2068, -1.0158,  0.1832,\n",
            "         0.5675,  0.3182, -0.6501,  0.6828, -0.8658, -0.0594, -0.2926, -0.5567,\n",
            "        -0.3471, -0.3289,  0.4022, -0.1275, -0.2023,  0.8737, -0.5450,  0.7921,\n",
            "        -0.2069, -0.0743,  0.7581, -0.3424])\n",
            "Token: 8 Missouri\n",
            "tensor([ 0.5875, -0.0418,  0.5423, -0.4079,  0.6337, -0.2488,  1.0131,  0.2473,\n",
            "        -0.9812, -0.1715, -0.9286, -0.4213, -0.4062, -0.1835, -0.0759, -0.4948,\n",
            "         0.9084,  0.1608, -0.7684,  0.2119,  0.3319,  0.5954,  0.4027, -0.0084,\n",
            "        -0.9699, -0.0716, -0.6471, -0.6865,  0.2195,  0.0327,  0.3419, -0.0047,\n",
            "         0.6734,  0.0626, -0.7383, -0.6438, -0.3405, -0.5855,  0.5717,  0.4572,\n",
            "        -0.1855, -0.6819, -0.2591, -0.3825, -0.3424, -0.1133,  0.5486, -0.4310,\n",
            "         0.4471, -0.1902, -0.3220, -0.0287,  0.3423, -0.5011, -0.2002, -1.2138,\n",
            "         0.6807, -1.0359,  1.0720,  0.2549, -0.2948,  0.0199,  0.8478,  0.1612,\n",
            "         0.7255, -0.3741,  0.4484,  0.7969,  0.2441,  1.0150, -0.0569, -0.4421,\n",
            "         0.0540,  0.2739,  0.3609, -0.0813,  0.3761, -0.2317, -0.2828, -0.0585,\n",
            "        -0.5368, -0.0136, -0.4584, -0.3554, -0.4937, -0.5653,  0.0438, -0.6586,\n",
            "         0.5951,  0.3026,  0.1299, -0.7120, -0.4676,  1.0162, -1.0639,  0.3048,\n",
            "         0.1056,  0.4797,  0.6065, -0.4948])\n",
            "Token: 9 ,\n",
            "tensor([-0.1077,  0.1105,  0.5981, -0.5436,  0.6740,  0.1066,  0.0389,  0.3548,\n",
            "         0.0635, -0.0942,  0.1579, -0.8166,  0.1417,  0.2194,  0.5850, -0.5216,\n",
            "         0.2278, -0.1664, -0.6823,  0.3587,  0.4257,  0.1902,  0.9196,  0.5756,\n",
            "         0.4618,  0.4236, -0.0954, -0.4275, -0.1657, -0.0568, -0.2959,  0.2604,\n",
            "        -0.2661, -0.0704, -0.2766,  0.1582,  0.6982,  0.4308,  0.2795, -0.4544,\n",
            "        -0.3380, -0.5818,  0.2236, -0.5778, -0.2686, -0.2042,  0.5639, -0.5852,\n",
            "        -0.1436, -0.6422,  0.0055, -0.3525,  0.1616,  1.1796, -0.4767, -2.7553,\n",
            "        -0.1321, -0.0477,  1.0655,  1.1034, -0.2208,  0.1867,  0.1318,  0.1512,\n",
            "         0.7131, -0.3521,  0.9135,  0.6178,  0.7099,  0.2395, -0.1457, -0.3786,\n",
            "        -0.0460, -0.4737,  0.2385,  0.2054, -0.1900,  0.3251, -1.1112, -0.3634,\n",
            "         0.9868, -0.0848, -0.5401,  0.1173, -1.0194, -0.2442,  0.1277,  0.0139,\n",
            "         0.0804, -0.3541,  0.3495, -0.7226,  0.3755,  0.4441, -0.9906,  0.6121,\n",
            "        -0.3511, -0.8316,  0.4529,  0.0826])\n",
            "Token: 10 is\n",
            "tensor([-0.5426,  0.4148,  1.0322, -0.4024,  0.4669,  0.2182, -0.0749,  0.4733,\n",
            "         0.0810, -0.2208, -0.1281, -0.1144,  0.5089,  0.1157,  0.0282, -0.3628,\n",
            "         0.4382,  0.0475,  0.2028,  0.4986, -0.1007,  0.1327,  0.1697,  0.1165,\n",
            "         0.3135,  0.2571,  0.0928, -0.5683, -0.5297, -0.0515, -0.6733,  0.9253,\n",
            "         0.2693,  0.2273,  0.6636,  0.2622,  0.1972,  0.2609,  0.1877, -0.3454,\n",
            "        -0.4263,  0.1398,  0.5634, -0.5691,  0.1240, -0.1289,  0.7248, -0.2610,\n",
            "        -0.2631, -0.4360,  0.0789, -0.8415,  0.5160,  1.3997, -0.7646, -3.1453,\n",
            "        -0.2920, -0.3125,  1.5129,  0.5243,  0.2146,  0.4245, -0.0884, -0.1780,\n",
            "         1.1876,  0.1058,  0.7657,  0.2191,  0.3582, -0.1164,  0.0933, -0.6248,\n",
            "        -0.2190,  0.2180,  0.7406, -0.4374,  0.1434,  0.1472, -1.1605, -0.0505,\n",
            "         0.1268, -0.0144, -0.9868, -0.0913, -1.2054, -0.1197,  0.0478, -0.5400,\n",
            "         0.5246, -0.7096, -0.3253, -0.1346, -0.4131,  0.3343, -0.0072,  0.3225,\n",
            "        -0.0442, -1.2969,  0.7622,  0.4635])\n",
            "Token: 11 named\n",
            "tensor([-0.3516, -0.1663,  0.3655, -0.3684,  0.2747, -0.1548,  0.4861, -0.0217,\n",
            "        -0.5534, -0.0798, -0.3784, -0.1086,  0.8104, -0.0225,  0.3513, -0.3454,\n",
            "         1.4764, -0.1031, -1.0180,  0.6877, -0.3879,  0.2693, -0.1971,  0.0187,\n",
            "         0.4329, -0.2141, -0.1406, -0.5489,  0.1550,  0.5489,  0.0804,  0.6596,\n",
            "         0.2833,  0.2851,  0.4042,  0.1460, -0.3615,  0.2548,  0.1282, -0.2636,\n",
            "        -0.2533,  0.3237,  0.6622, -0.4780,  0.6232,  0.6496, -0.4423,  0.0062,\n",
            "        -0.0396,  0.4655, -0.4053,  0.1261,  0.8087,  0.8531, -0.4349, -2.2792,\n",
            "        -0.8602, -0.1126,  0.5434,  0.6340, -0.0577,  0.7507,  0.1123,  0.2812,\n",
            "         0.9433, -0.7431,  0.2454,  0.7698,  0.5878,  0.7000,  0.1028, -0.1339,\n",
            "        -0.5746, -0.3237, -0.3334,  0.0385,  0.3300, -0.1217, -0.6153, -0.6244,\n",
            "         0.0891, -0.0047, -0.4819,  0.0180, -0.4557, -0.6658, -0.1686, -0.6777,\n",
            "         0.7518, -0.7094,  0.1465, -0.1562, -0.0856,  0.5049, -0.3004,  0.1565,\n",
            "        -0.7611, -0.5038,  0.1150, -0.8237])\n",
            "Token: 12 after\n",
            "tensor([ 3.7711e-01, -3.4471e-01,  1.3405e-01, -1.1710e-02, -1.9427e-01,\n",
            "         4.1464e-01,  4.0608e-01,  4.3063e-01, -5.7060e-02, -1.9921e-01,\n",
            "         4.3267e-01, -1.6269e-02,  2.1710e-01, -2.6149e-03,  3.9424e-01,\n",
            "        -4.2803e-01, -1.7495e-02, -5.6658e-01, -4.4558e-01, -1.8529e-01,\n",
            "         2.6732e-01, -1.5712e-01,  2.1657e-01,  7.9714e-01,  6.9623e-01,\n",
            "         2.0405e-01, -4.9907e-01, -4.5519e-01,  3.8210e-01,  2.0603e-01,\n",
            "        -2.1606e-01,  1.0093e-01, -5.0148e-01, -1.1058e-01, -4.3455e-01,\n",
            "        -2.6785e-01, -2.0234e-01,  3.8320e-03, -4.9108e-01, -1.7642e-01,\n",
            "        -8.8971e-01, -2.7900e-01,  8.6387e-01, -1.7356e-02,  3.1210e-01,\n",
            "         4.1004e-01,  2.3199e-01, -6.0812e-01,  4.4763e-01, -8.9579e-01,\n",
            "        -3.8491e-02, -2.5772e-01,  3.9468e-01,  1.6186e+00, -5.4882e-01,\n",
            "        -3.0291e+00, -7.7845e-01, -3.2463e-01,  1.7658e+00,  9.7303e-01,\n",
            "        -3.9342e-01,  5.4811e-01,  1.3164e-02,  3.7850e-01,  2.4538e-01,\n",
            "         3.1079e-02,  2.3628e-01,  2.8901e-01,  2.7047e-02,  2.8985e-01,\n",
            "        -7.4523e-01,  1.1517e-02, -3.9456e-01, -5.7706e-01, -6.3604e-01,\n",
            "         3.1022e-01, -3.8317e-01, -7.7663e-02, -1.3539e+00,  1.8009e-02,\n",
            "         8.5646e-01,  3.8259e-02, -3.9437e-01,  4.4331e-01, -1.0802e+00,\n",
            "        -4.3159e-01,  1.4391e-01,  1.1854e-01, -5.6459e-01, -4.7966e-01,\n",
            "         2.2860e-01, -2.4369e-01, -4.2823e-01,  1.0366e+00, -8.3071e-01,\n",
            "         1.2460e-01,  2.0630e-01,  5.4232e-01,  1.1425e-01, -6.6927e-01])\n",
            "Token: 13 George\n",
            "tensor([-4.4295e-01,  5.9694e-02,  7.8306e-02, -2.4619e-01,  2.8411e-02,\n",
            "        -6.3084e-01,  3.7209e-02, -1.6568e-01, -7.3036e-01, -6.8152e-01,\n",
            "        -1.5946e-01, -4.4025e-01, -5.3630e-01,  2.4174e-01,  7.7513e-02,\n",
            "        -3.1366e-01,  3.3539e-01, -1.4214e-01, -1.2390e+00,  1.6170e-01,\n",
            "        -1.3486e-01, -2.2743e-01,  4.4955e-01, -7.2688e-01,  2.5063e-01,\n",
            "         1.1166e-01, -6.2308e-01, -5.5884e-01,  5.1252e-01,  3.6855e-01,\n",
            "         2.9996e-01,  7.0179e-01,  6.7464e-01,  4.0543e-01, -3.0825e-01,\n",
            "         8.3837e-01, -1.8986e-01, -1.7278e-01, -2.1306e-01,  3.5070e-01,\n",
            "        -4.1994e-01, -9.9697e-02,  7.5963e-01,  3.2975e-01, -2.2113e-01,\n",
            "        -1.2372e-01, -5.1361e-01, -6.8517e-01, -6.5545e-02, -1.7642e-01,\n",
            "         6.0858e-01, -7.4822e-02,  9.6863e-01,  5.0805e-01,  2.6777e-01,\n",
            "        -2.7093e+00, -1.0079e-01, -1.2588e-01,  1.2641e-01, -1.2384e-01,\n",
            "         4.0576e-01,  5.5333e-01,  1.5053e-01, -9.6734e-02,  2.8402e-01,\n",
            "        -2.3382e-01,  4.7452e-02,  1.4050e+00, -2.7471e-01,  6.4243e-01,\n",
            "        -5.1403e-01,  1.8748e-01, -9.9874e-01, -3.7344e-01, -1.4193e-01,\n",
            "        -2.7153e-01,  3.0842e-01,  9.3234e-01, -3.8388e-01,  3.6608e-01,\n",
            "         7.3780e-01, -1.7734e-01,  2.0051e-02, -2.4361e-01, -5.7102e-01,\n",
            "        -2.7266e-01, -5.6562e-01, -7.4104e-01,  1.6745e-01, -1.3076e+00,\n",
            "        -3.5900e-01, -7.5738e-01, -1.0948e-01,  5.3662e-01, -1.0914e+00,\n",
            "        -1.0287e-01,  5.8263e-04, -4.5603e-01, -4.7270e-02, -6.7599e-01])\n",
            "Token: 14 Washington\n",
            "tensor([-2.2048e-01, -1.1316e-01,  9.4277e-01, -3.9024e-01,  2.5004e-01,\n",
            "        -4.1651e-01, -1.4640e-01,  2.3628e-03, -1.2966e-01, -1.1173e-01,\n",
            "        -2.1546e-01, -8.6271e-01,  1.3817e-01,  3.3118e-01, -6.6500e-01,\n",
            "         3.7134e-01,  2.0050e-01, -3.4055e-01, -1.2422e+00, -7.6653e-01,\n",
            "        -1.1253e-02,  3.8440e-01, -5.0105e-02, -1.8869e-01,  1.0785e-01,\n",
            "         1.7502e-01, -1.0167e-01, -5.7925e-01,  2.3529e-01,  3.2626e-02,\n",
            "         3.2353e-01,  9.7457e-01,  4.5231e-01,  4.9740e-01, -8.8874e-01,\n",
            "         4.9170e-01,  1.1230e-01, -2.1484e-01,  9.3187e-02,  4.7039e-01,\n",
            "        -7.8776e-01, -6.8219e-01, -2.3741e-01,  2.2351e-01,  2.0269e-01,\n",
            "        -1.0166e+00,  1.3095e-01, -2.3654e-01,  3.1501e-01, -3.1880e-01,\n",
            "         5.9744e-01, -2.8722e-01,  2.9970e-01,  3.4877e-01, -1.6597e-01,\n",
            "        -2.8483e+00,  3.2219e-01, -7.8469e-01,  1.3754e+00,  1.5050e-01,\n",
            "        -8.5193e-01,  2.5303e-01,  2.0142e-01, -5.9176e-01,  8.9212e-02,\n",
            "        -3.5561e-01,  2.6522e-01,  1.1283e+00, -3.7250e-01,  9.4010e-01,\n",
            "        -5.2708e-01, -4.6361e-01, -8.1034e-01, -3.3479e-01,  1.0260e-01,\n",
            "        -4.1905e-01,  6.3775e-01,  4.5096e-02, -1.2385e+00,  2.1903e-01,\n",
            "         4.9145e-01,  3.6583e-01, -3.2024e-01, -5.1061e-02, -6.5049e-01,\n",
            "        -1.1894e-02,  2.0887e-01,  2.5857e-01, -2.3303e-01, -8.4911e-01,\n",
            "        -1.5466e-01, -3.3714e-01, -3.7272e-01, -2.9143e-01, -1.2799e+00,\n",
            "         2.8781e-01,  2.9473e-01, -3.2733e-01,  6.3016e-01,  3.6249e-01])\n",
            "Token: 15 .\n",
            "tensor([-0.3398,  0.2094,  0.4635, -0.6479, -0.3838,  0.0380,  0.1713,  0.1598,\n",
            "         0.4662, -0.0192,  0.4148, -0.3435,  0.2687,  0.0446,  0.4213, -0.4103,\n",
            "         0.1546,  0.0222, -0.6465,  0.2526,  0.0431, -0.1945,  0.4652,  0.4565,\n",
            "         0.6859,  0.0913,  0.2188, -0.7035,  0.1679, -0.3508, -0.1263,  0.6638,\n",
            "        -0.2582,  0.0365, -0.1361,  0.4025,  0.1429,  0.3813, -0.1228, -0.4589,\n",
            "        -0.2528, -0.3043, -0.1121, -0.2618, -0.2248, -0.4455,  0.2991, -0.8561,\n",
            "        -0.1450, -0.4909,  0.0083, -0.1749,  0.2752,  1.4401, -0.2124, -2.8435,\n",
            "        -0.2796, -0.4572,  1.6386,  0.7881, -0.5526,  0.6500,  0.0864,  0.3901,\n",
            "         1.0632, -0.3538,  0.4833,  0.3460,  0.8417,  0.0987, -0.2421, -0.2705,\n",
            "         0.0453, -0.4015,  0.1139,  0.0062,  0.0367,  0.0185, -1.0213, -0.2081,\n",
            "         0.6407, -0.0688, -0.5864,  0.3348, -1.1432, -0.1148, -0.2509, -0.4591,\n",
            "        -0.0968, -0.1795, -0.0634, -0.6741, -0.0689,  0.5360, -0.8777,  0.3180,\n",
            "        -0.3924, -0.2339,  0.4730, -0.0288])\n"
          ]
        },
        {
          "output_type": "execute_result",
          "data": {
            "text/plain": [
              "tensor([True, True, True, True, True, True, True, True, True, True, True, True,\n",
              "        True, True, True, True, True, True, True, True, True, True, True, True,\n",
              "        True, True, True, True, True, True, True, True, True, True, True, True,\n",
              "        True, True, True, True, True, True, True, True, True, True, True, True,\n",
              "        True, True, True, True, True, True, True, True, True, True, True, True,\n",
              "        True, True, True, True, True, True, True, True, True, True, True, True,\n",
              "        True, True, True, True, True, True, True, True, True, True, True, True,\n",
              "        True, True, True, True, True, True, True, True, True, True, True, True,\n",
              "        True, True, True, True])"
            ]
          },
          "metadata": {},
          "execution_count": 103
        }
      ]
    },
    {
      "cell_type": "code",
      "source": [
        "from flair.embeddings import FlairEmbeddings\n",
        "\n",
        "# init Flair embedding\n",
        "flair_embedding_forward = FlairEmbeddings('news-forward')\n",
        "sentence = Sentence('Washington University, which is located in Missouri, is named after George Washington.', use_tokenizer=False)\n",
        "tokenized_sentence = Sentence('Washington University, which is located in Missouri, is named after George Washington.', use_tokenizer=True)"
      ],
      "metadata": {
        "id": "nkFTLQIrEvQr"
      },
      "execution_count": null,
      "outputs": []
    },
    {
      "cell_type": "code",
      "source": [
        "flair_embedding_forward.embed(tokenized_sentence )"
      ],
      "metadata": {
        "colab": {
          "base_uri": "https://localhost:8080/"
        },
        "id": "9ps-k8sPF-PU",
        "outputId": "748eba7f-4f45-4cab-b14f-60a8c4d63e0b"
      },
      "execution_count": null,
      "outputs": [
        {
          "output_type": "execute_result",
          "data": {
            "text/plain": [
              "[Sentence: \"Washington University , which is located in Missouri , is named after George Washington .\"   [− Tokens: 15]]"
            ]
          },
          "metadata": {},
          "execution_count": 105
        }
      ]
    },
    {
      "cell_type": "code",
      "source": [
        "flair_embedding_forward.embed(sentence )"
      ],
      "metadata": {
        "colab": {
          "base_uri": "https://localhost:8080/"
        },
        "id": "0rc-IYkYHDeq",
        "outputId": "9b862b9a-3b6a-4c39-ff58-aa2d33d92a87"
      },
      "execution_count": null,
      "outputs": [
        {
          "output_type": "execute_result",
          "data": {
            "text/plain": [
              "[Sentence: \"Washington University, which is located in Missouri, is named after George Washington.\"   [− Tokens: 12]]"
            ]
          },
          "metadata": {},
          "execution_count": 106
        }
      ]
    },
    {
      "cell_type": "code",
      "source": [
        "for token in sentence:\n",
        "    print(token)\n",
        "    print(token.embedding)"
      ],
      "metadata": {
        "colab": {
          "base_uri": "https://localhost:8080/"
        },
        "id": "jwIAY76_Hopw",
        "outputId": "abf3fa4c-ed77-44c4-a606-b81a63df54ac"
      },
      "execution_count": null,
      "outputs": [
        {
          "output_type": "stream",
          "name": "stdout",
          "text": [
            "Token: 1 Washington\n",
            "tensor([ 3.6137e-03, -3.7161e-06, -2.9144e-02,  ..., -2.2946e-03,\n",
            "         1.4192e-03,  2.5718e-04])\n",
            "Token: 2 University,\n",
            "tensor([ 5.7817e-06, -7.4450e-05,  4.7114e-02,  ...,  1.8468e-04,\n",
            "         3.0291e-02,  2.3024e-02])\n",
            "Token: 3 which\n",
            "tensor([-0.0003,  0.0005,  0.0148,  ..., -0.0089, -0.0048,  0.0054])\n",
            "Token: 4 is\n",
            "tensor([ 0.0049, -0.0028,  0.1546,  ..., -0.0027,  0.0913,  0.0074])\n",
            "Token: 5 located\n",
            "tensor([-0.0100, -0.0006,  0.0825,  ...,  0.0004, -0.0016, -0.0010])\n",
            "Token: 6 in\n",
            "tensor([-1.0987e-02,  1.8763e-05,  7.6530e-02,  ...,  5.2130e-05,\n",
            "         7.9720e-03,  3.0658e-02])\n",
            "Token: 7 Missouri,\n",
            "tensor([-0.0007, -0.0002,  0.0149,  ..., -0.0006,  0.0282,  0.0026])\n",
            "Token: 8 is\n",
            "tensor([ 0.0004, -0.0014,  0.2109,  ..., -0.0007,  0.0107,  0.0082])\n",
            "Token: 9 named\n",
            "tensor([ 9.8073e-04, -6.7419e-05,  7.4864e-02,  ...,  4.2381e-04,\n",
            "        -1.2899e-02,  8.7380e-03])\n",
            "Token: 10 after\n",
            "tensor([ 3.8829e-02,  4.9541e-05,  9.8218e-02,  ..., -1.8325e-03,\n",
            "         1.5523e-03,  1.3665e-02])\n",
            "Token: 11 George\n",
            "tensor([ 1.0298e-04,  4.6082e-05, -2.7973e-02,  ..., -4.7989e-04,\n",
            "         1.1070e-02,  3.6783e-03])\n",
            "Token: 12 Washington.\n",
            "tensor([4.5320e-05, 1.1357e-04, 4.5610e-02,  ..., 3.8076e-04, 1.3869e-02,\n",
            "        4.9137e-02])\n"
          ]
        }
      ]
    },
    {
      "cell_type": "code",
      "source": [
        "sentence[11]"
      ],
      "metadata": {
        "colab": {
          "base_uri": "https://localhost:8080/"
        },
        "id": "OTvpTZ18IvB-",
        "outputId": "1dc2f84a-5306-43d7-9b9a-531602b21122"
      },
      "execution_count": null,
      "outputs": [
        {
          "output_type": "execute_result",
          "data": {
            "text/plain": [
              "Token: 12 Washington."
            ]
          },
          "metadata": {},
          "execution_count": 108
        }
      ]
    },
    {
      "cell_type": "code",
      "source": [
        "sentence[0]"
      ],
      "metadata": {
        "colab": {
          "base_uri": "https://localhost:8080/"
        },
        "id": "XM7o4GETIycv",
        "outputId": "a53bcef0-724d-47cc-b9c7-a84929522cd6"
      },
      "execution_count": null,
      "outputs": [
        {
          "output_type": "execute_result",
          "data": {
            "text/plain": [
              "Token: 1 Washington"
            ]
          },
          "metadata": {},
          "execution_count": 109
        }
      ]
    },
    {
      "cell_type": "code",
      "source": [
        "for token in tokenized_sentence:\n",
        "    print(token)\n",
        "    print(token.embedding)"
      ],
      "metadata": {
        "colab": {
          "base_uri": "https://localhost:8080/"
        },
        "id": "MmeFLF4dJlHq",
        "outputId": "b10a124c-67de-4ecc-b0ba-a5093c846578"
      },
      "execution_count": null,
      "outputs": [
        {
          "output_type": "stream",
          "name": "stdout",
          "text": [
            "Token: 1 Washington\n",
            "tensor([ 3.6137e-03, -3.7161e-06, -2.9144e-02,  ..., -2.2946e-03,\n",
            "         1.4192e-03,  2.5718e-04])\n",
            "Token: 2 University\n",
            "tensor([ 4.9652e-04, -6.9346e-04, -2.1376e-01,  ..., -7.0234e-05,\n",
            "        -1.3960e-03,  7.4919e-04])\n",
            "Token: 3 ,\n",
            "tensor([-4.0296e-05,  2.9115e-05,  6.2106e-02,  ...,  2.0762e-05,\n",
            "        -1.9901e-02,  1.0584e-02])\n",
            "Token: 4 which\n",
            "tensor([-0.0005,  0.0004,  0.0358,  ..., -0.0035, -0.0067,  0.0031])\n",
            "Token: 5 is\n",
            "tensor([ 0.0045, -0.0022,  0.1370,  ..., -0.0019,  0.1306,  0.0056])\n",
            "Token: 6 located\n",
            "tensor([-0.0110, -0.0005,  0.0741,  ...,  0.0003, -0.0013, -0.0013])\n",
            "Token: 7 in\n",
            "tensor([-1.7291e-02,  2.4153e-05,  7.0391e-02,  ...,  6.4110e-05,\n",
            "         6.5429e-03,  2.6719e-02])\n",
            "Token: 8 Missouri\n",
            "tensor([ 4.3470e-07,  8.4391e-05,  1.8153e-02,  ..., -3.1905e-05,\n",
            "         7.0416e-03,  7.9550e-03])\n",
            "Token: 9 ,\n",
            "tensor([-1.3976e-04,  2.2443e-03,  3.1918e-02,  ...,  5.4086e-05,\n",
            "         3.7566e-03,  9.4838e-03])\n",
            "Token: 10 is\n",
            "tensor([ 0.0039, -0.0014,  0.1891,  ..., -0.0009,  0.0101,  0.0041])\n",
            "Token: 11 named\n",
            "tensor([ 1.3887e-03, -7.9731e-05,  6.1766e-02,  ...,  6.4618e-04,\n",
            "        -1.2783e-02,  9.1788e-03])\n",
            "Token: 12 after\n",
            "tensor([ 3.7910e-02, -7.4849e-05,  9.4208e-02,  ..., -2.0584e-03,\n",
            "         1.4700e-03,  1.2642e-02])\n",
            "Token: 13 George\n",
            "tensor([ 7.6139e-05,  3.2164e-05, -2.4055e-02,  ..., -6.3394e-04,\n",
            "         1.2783e-02,  3.5248e-03])\n",
            "Token: 14 Washington\n",
            "tensor([ 4.1531e-04,  9.6628e-06, -1.4776e-03,  ..., -3.0783e-04,\n",
            "         5.8905e-03,  4.3093e-03])\n",
            "Token: 15 .\n",
            "tensor([-8.5550e-05,  2.3345e-04,  2.2249e-01,  ...,  4.3887e-04,\n",
            "         5.4742e-03,  6.3518e-03])\n"
          ]
        }
      ]
    },
    {
      "cell_type": "code",
      "source": [
        "tokenized_sentence[0]"
      ],
      "metadata": {
        "colab": {
          "base_uri": "https://localhost:8080/"
        },
        "id": "IQ1A0m0tJ1uo",
        "outputId": "315138f2-62b2-4e62-f0fc-18b464c8bc06"
      },
      "execution_count": null,
      "outputs": [
        {
          "output_type": "execute_result",
          "data": {
            "text/plain": [
              "Token: 1 Washington"
            ]
          },
          "metadata": {},
          "execution_count": 114
        }
      ]
    },
    {
      "cell_type": "code",
      "source": [
        "tokenized_sentence[-2]"
      ],
      "metadata": {
        "colab": {
          "base_uri": "https://localhost:8080/"
        },
        "id": "v-BCZg9GKsh8",
        "outputId": "ae451c0d-4235-47b8-99c9-4021160df546"
      },
      "execution_count": null,
      "outputs": [
        {
          "output_type": "execute_result",
          "data": {
            "text/plain": [
              "Token: 14 Washington"
            ]
          },
          "metadata": {},
          "execution_count": 115
        }
      ]
    },
    {
      "cell_type": "markdown",
      "source": [
        "# Assignment-2\n",
        "compared the representations obtained for 'Washington' for both sentences, tokenized and raw."
      ],
      "metadata": {
        "id": "4IQl35M-ld9U"
      }
    },
    {
      "cell_type": "code",
      "source": [
        "r = sentence[11].get_embedding()\n",
        "t =sentence[0].get_embedding()"
      ],
      "metadata": {
        "id": "VgmLnscwGc9u"
      },
      "execution_count": null,
      "outputs": []
    },
    {
      "cell_type": "code",
      "source": [
        "\n",
        "r==t"
      ],
      "metadata": {
        "colab": {
          "base_uri": "https://localhost:8080/"
        },
        "id": "TTUtTNe9rVTt",
        "outputId": "64c5b99e-88c6-4f5f-9a7d-6d615600810f"
      },
      "execution_count": null,
      "outputs": [
        {
          "output_type": "execute_result",
          "data": {
            "text/plain": [
              "tensor([False, False, False,  ..., False, False, False])"
            ]
          },
          "metadata": {},
          "execution_count": 118
        }
      ]
    },
    {
      "cell_type": "code",
      "source": [
        "u = tokenized_sentence[11].get_embedding()\n",
        "p =  tokenized_sentence[-2].get_embedding()\n",
        "u==p"
      ],
      "metadata": {
        "colab": {
          "base_uri": "https://localhost:8080/"
        },
        "id": "UwINxJ2DK3JU",
        "outputId": "0219f17a-0bc6-430d-a036-bbb2aec5326c"
      },
      "execution_count": null,
      "outputs": [
        {
          "output_type": "execute_result",
          "data": {
            "text/plain": [
              "tensor([False, False, False,  ..., False, False, False])"
            ]
          },
          "metadata": {},
          "execution_count": 38
        }
      ]
    },
    {
      "cell_type": "code",
      "source": [
        "pos_tagger = SequenceTagger.load('pos')"
      ],
      "metadata": {
        "colab": {
          "base_uri": "https://localhost:8080/",
          "height": 185,
          "referenced_widgets": [
            "e2fd7d02c5ef483e9367a59cb174172e",
            "529801ff80f142199473293f8acdbd10",
            "f4b4063cd33a4aad9b29707749e9412f",
            "81e7c3e97dc043fb87bb3bfcac5d15e0",
            "26fb687f8fd5456c876a26830a735496",
            "6aa094f838c34c4bb0df6979f9abd94a",
            "9880c8a0316b4385bcff7a334e92912e",
            "caf735aec4bc49ed8264b9a73733f0ee",
            "c58450f8ff84401f9ddc8cecbee17587",
            "d71d98f2f3844163b913b7958118d37f",
            "7fc458960a8f4c2bad341dc2be702dd7"
          ]
        },
        "id": "MpxuZyv8ugL2",
        "outputId": "a39e1696-a8d8-4423-cb67-0dd7ce885de1"
      },
      "execution_count": null,
      "outputs": [
        {
          "output_type": "stream",
          "name": "stdout",
          "text": [
            "2022-02-27 15:09:10,244 --------------------------------------------------------------------------------\n",
            "2022-02-27 15:09:10,247 The model key 'pos' now maps to 'https://huggingface.co/flair/pos-english' on the HuggingFace ModelHub\n",
            "2022-02-27 15:09:10,248  - The most current version of the model is automatically downloaded from there.\n",
            "2022-02-27 15:09:10,250  - (you can alternatively manually download the original model at https://nlp.informatik.hu-berlin.de/resources/models/pos/en-pos-ontonotes-v0.5.pt)\n",
            "2022-02-27 15:09:10,251 --------------------------------------------------------------------------------\n"
          ]
        },
        {
          "output_type": "display_data",
          "data": {
            "application/vnd.jupyter.widget-view+json": {
              "model_id": "e2fd7d02c5ef483e9367a59cb174172e",
              "version_minor": 0,
              "version_major": 2
            },
            "text/plain": [
              "Downloading:   0%|          | 0.00/249M [00:00<?, ?B/s]"
            ]
          },
          "metadata": {}
        },
        {
          "output_type": "stream",
          "name": "stdout",
          "text": [
            "2022-02-27 15:09:17,566 loading file /root/.flair/models/pos-english/a9a73f6cd878edce8a0fa518db76f441f1cc49c2525b2b4557af278ec2f0659e.121306ea62993d04cd1978398b68396931a39eb47754c8a06a87f325ea70ac63\n"
          ]
        }
      ]
    },
    {
      "cell_type": "code",
      "source": [
        "pos_tagger.predict(sentence)"
      ],
      "metadata": {
        "id": "Bl-w_ZvfuqvM"
      },
      "execution_count": null,
      "outputs": []
    },
    {
      "cell_type": "code",
      "source": [
        "for postag in sentence.get_spans('pos'):\n",
        "  print(postag)"
      ],
      "metadata": {
        "colab": {
          "base_uri": "https://localhost:8080/"
        },
        "id": "e_GlueR1uuvS",
        "outputId": "9d057f77-e6ac-4a64-9b3b-cf5808543feb"
      },
      "execution_count": null,
      "outputs": [
        {
          "output_type": "stream",
          "name": "stdout",
          "text": [
            "Span [1]: \"Washington\"   [− Labels: NNP (1.0)]\n",
            "Span [2]: \"University,\"   [− Labels: NNP (1.0)]\n",
            "Span [3]: \"which\"   [− Labels: WDT (1.0)]\n",
            "Span [4]: \"is\"   [− Labels: VBZ (1.0)]\n",
            "Span [5]: \"located\"   [− Labels: VBN (0.9999)]\n",
            "Span [6]: \"in\"   [− Labels: IN (1.0)]\n",
            "Span [7]: \"Missouri,\"   [− Labels: NNP (1.0)]\n",
            "Span [8]: \"is\"   [− Labels: VBZ (1.0)]\n",
            "Span [9]: \"named\"   [− Labels: VBN (1.0)]\n",
            "Span [10]: \"after\"   [− Labels: IN (0.9994)]\n",
            "Span [11]: \"George\"   [− Labels: NNP (1.0)]\n",
            "Span [12]: \"Washington.\"   [− Labels: NNP (1.0)]\n"
          ]
        }
      ]
    },
    {
      "cell_type": "code",
      "source": [
        "print(sentence.to_tagged_string())"
      ],
      "metadata": {
        "colab": {
          "base_uri": "https://localhost:8080/"
        },
        "id": "KaqoQXYZvJU-",
        "outputId": "9c3062d6-a18d-412a-fee1-9d2b9602a9f4"
      },
      "execution_count": null,
      "outputs": [
        {
          "output_type": "stream",
          "name": "stdout",
          "text": [
            "Washington <NNP> University, <NNP> which <WDT> is <VBZ> located <VBN> in <IN> Missouri, <NNP> is <VBZ> named <VBN> after <IN> George <NNP> Washington. <NNP>\n"
          ]
        }
      ]
    },
    {
      "cell_type": "code",
      "source": [
        "chunker = SequenceTagger.load('chunk')"
      ],
      "metadata": {
        "colab": {
          "base_uri": "https://localhost:8080/",
          "height": 185,
          "referenced_widgets": [
            "22af37a4eb3f4abba2ca427fa2791c4d",
            "b9ffe24cc73244ce86f932895ba4ad2a",
            "b39e4fcd3cb54e0090b827d024dbe227",
            "c367a604540844df99bdcc3201e3b896",
            "6381879a5da54f339a3542c823d6e5bb",
            "b8670c595c3b4cb7a92e54b3aea6b695",
            "6f5cf39aa64f432e98da0acf4b43d58e",
            "e4f42420fce845e0b6127f6a5550b0e4",
            "540895076e5c4a139532bc56e5bd8a39",
            "4e3b585f53e44e88a68721319893f9ae",
            "e0ba0c304aff421dbdc57cfab4089916"
          ]
        },
        "id": "0RJdZ4ijvK5s",
        "outputId": "fb58ca1f-d367-4fc5-8dcd-74bcadf23f58"
      },
      "execution_count": null,
      "outputs": [
        {
          "output_type": "stream",
          "name": "stdout",
          "text": [
            "2022-02-27 15:11:50,130 --------------------------------------------------------------------------------\n",
            "2022-02-27 15:11:50,133 The model key 'chunk' now maps to 'https://huggingface.co/flair/chunk-english' on the HuggingFace ModelHub\n",
            "2022-02-27 15:11:50,135  - The most current version of the model is automatically downloaded from there.\n",
            "2022-02-27 15:11:50,140  - (you can alternatively manually download the original model at https://nlp.informatik.hu-berlin.de/resources/models/chunk/en-chunk-conll2000-v0.4.pt)\n",
            "2022-02-27 15:11:50,141 --------------------------------------------------------------------------------\n"
          ]
        },
        {
          "output_type": "display_data",
          "data": {
            "application/vnd.jupyter.widget-view+json": {
              "model_id": "22af37a4eb3f4abba2ca427fa2791c4d",
              "version_minor": 0,
              "version_major": 2
            },
            "text/plain": [
              "Downloading:   0%|          | 0.00/249M [00:00<?, ?B/s]"
            ]
          },
          "metadata": {}
        },
        {
          "output_type": "stream",
          "name": "stdout",
          "text": [
            "2022-02-27 15:11:57,308 loading file /root/.flair/models/chunk-english/5b53097d6763734ee8ace8de92db67a1ee2528d5df9c6d20ec8e3e6f6470b423.d81b7fd7a38422f2dbf40f6449b1c63d5ae5b959863aa0c2c1ce9116902e8b22\n"
          ]
        }
      ]
    },
    {
      "cell_type": "code",
      "source": [
        "chunker.predict(sentence)"
      ],
      "metadata": {
        "id": "-JliE5wUvR0c"
      },
      "execution_count": null,
      "outputs": []
    },
    {
      "cell_type": "code",
      "source": [
        "for chunktag in sentence.get_spans('np'):\n",
        "  print(chunktag)"
      ],
      "metadata": {
        "colab": {
          "base_uri": "https://localhost:8080/"
        },
        "id": "c3__EF0pvW2l",
        "outputId": "f21e70d9-fd9a-41f9-8c18-99774bf028b9"
      },
      "execution_count": null,
      "outputs": [
        {
          "output_type": "stream",
          "name": "stdout",
          "text": [
            "Span [1,2]: \"Washington University,\"   [− Labels: NP (0.7408)]\n",
            "Span [3]: \"which\"   [− Labels: NP (0.9995)]\n",
            "Span [4,5]: \"is located\"   [− Labels: VP (0.8574)]\n",
            "Span [6]: \"in\"   [− Labels: PP (1.0)]\n",
            "Span [7]: \"Missouri,\"   [− Labels: NP (0.9999)]\n",
            "Span [8,9]: \"is named\"   [− Labels: VP (0.9624)]\n",
            "Span [10]: \"after\"   [− Labels: PP (0.9981)]\n",
            "Span [11,12]: \"George Washington.\"   [− Labels: NP (0.798)]\n"
          ]
        }
      ]
    },
    {
      "cell_type": "code",
      "source": [
        "print(sentence.to_tagged_string())"
      ],
      "metadata": {
        "colab": {
          "base_uri": "https://localhost:8080/"
        },
        "id": "mYCOVF7VvYuU",
        "outputId": "97cd37cf-07b3-4210-b531-7b37f526df2f"
      },
      "execution_count": null,
      "outputs": [
        {
          "output_type": "stream",
          "name": "stdout",
          "text": [
            "Washington <NNP/B-NP> University, <NNP/E-NP> which <WDT/S-NP> is <VBZ/B-VP> located <VBN/E-VP> in <IN/S-PP> Missouri, <NNP/S-NP> is <VBZ/B-VP> named <VBN/E-VP> after <IN/S-PP> George <NNP/B-NP> Washington. <NNP/E-NP>\n"
          ]
        }
      ]
    },
    {
      "cell_type": "code",
      "metadata": {
        "id": "x7iEd1O87dR1",
        "colab": {
          "base_uri": "https://localhost:8080/",
          "height": 185,
          "referenced_widgets": [
            "98defcc1a0d6480f8ab453fa7487e04f",
            "5d34a41e979d4ba988d9e382414c1af9",
            "603eb813770d4d85a9988934e12fe900",
            "3a48aaea91c44ccbb542179ab59a61fd",
            "a2db5baa29bb4903bb8e1180a1c63ec5",
            "6bc99d7dd17343acb6ca3c1272855458",
            "40bd7fa1e35945b68e8477eec7be782e",
            "f81b9c42181847fa8b06a6e38b129978",
            "f386c1f04ca6451c9534e843da440417",
            "b0fca4f1598e40d6a6ddd2d44f7b0c7d",
            "e315c99b5e8740cb827cbe862c464a32"
          ]
        },
        "outputId": "f706b9d4-3da9-4c74-e026-ab46ef84dc24"
      },
      "source": [
        "ner_tagger = SequenceTagger.load('ner')"
      ],
      "execution_count": null,
      "outputs": [
        {
          "output_type": "stream",
          "name": "stdout",
          "text": [
            "2022-02-27 15:13:13,515 --------------------------------------------------------------------------------\n",
            "2022-02-27 15:13:13,519 The model key 'ner' now maps to 'https://huggingface.co/flair/ner-english' on the HuggingFace ModelHub\n",
            "2022-02-27 15:13:13,521  - The most current version of the model is automatically downloaded from there.\n",
            "2022-02-27 15:13:13,522  - (you can alternatively manually download the original model at https://nlp.informatik.hu-berlin.de/resources/models/ner/en-ner-conll03-v0.4.pt)\n",
            "2022-02-27 15:13:13,523 --------------------------------------------------------------------------------\n"
          ]
        },
        {
          "output_type": "display_data",
          "data": {
            "application/vnd.jupyter.widget-view+json": {
              "model_id": "98defcc1a0d6480f8ab453fa7487e04f",
              "version_minor": 0,
              "version_major": 2
            },
            "text/plain": [
              "Downloading:   0%|          | 0.00/432M [00:00<?, ?B/s]"
            ]
          },
          "metadata": {}
        },
        {
          "output_type": "stream",
          "name": "stdout",
          "text": [
            "2022-02-27 15:13:26,196 loading file /root/.flair/models/ner-english/4f4cdab26f24cb98b732b389e6cebc646c36f54cfd6e0b7d3b90b25656e4262f.8baa8ae8795f4df80b28e7f7b61d788ecbb057d1dc85aacb316f1bd02837a4a4\n"
          ]
        }
      ]
    },
    {
      "cell_type": "code",
      "source": [
        "ner_tagger.predict(sentence)"
      ],
      "metadata": {
        "id": "5tpBo6iuwGUi"
      },
      "execution_count": null,
      "outputs": []
    },
    {
      "cell_type": "code",
      "source": [
        "for entity in sentence.get_spans('ner'):\n",
        "    print(entity)"
      ],
      "metadata": {
        "colab": {
          "base_uri": "https://localhost:8080/"
        },
        "id": "wHPBGWYvwKGZ",
        "outputId": "176bb67a-8863-47e0-f282-e9866e6901c0"
      },
      "execution_count": null,
      "outputs": [
        {
          "output_type": "stream",
          "name": "stdout",
          "text": [
            "Span [1,2]: \"Washington University,\"   [− Labels: ORG (0.8766)]\n",
            "Span [7]: \"Missouri,\"   [− Labels: LOC (0.9987)]\n",
            "Span [11,12]: \"George Washington.\"   [− Labels: PER (0.9916)]\n"
          ]
        }
      ]
    },
    {
      "cell_type": "code",
      "source": [
        "print(sentence.to_tagged_string())"
      ],
      "metadata": {
        "colab": {
          "base_uri": "https://localhost:8080/"
        },
        "id": "vWABWZYQwNiG",
        "outputId": "075a8a1d-df26-4ab9-e868-1b3fe7021f13"
      },
      "execution_count": null,
      "outputs": [
        {
          "output_type": "stream",
          "name": "stdout",
          "text": [
            "Washington <NNP/B-NP/B-ORG> University, <NNP/E-NP/E-ORG> which <WDT/S-NP> is <VBZ/B-VP> located <VBN/E-VP> in <IN/S-PP> Missouri, <NNP/S-NP/S-LOC> is <VBZ/B-VP> named <VBN/E-VP> after <IN/S-PP> George <NNP/B-NP/B-PER> Washington. <NNP/E-NP/E-PER>\n"
          ]
        }
      ]
    },
    {
      "cell_type": "code",
      "source": [
        "sem_tagger = SequenceTagger.load('frame')"
      ],
      "metadata": {
        "colab": {
          "base_uri": "https://localhost:8080/",
          "height": 185,
          "referenced_widgets": [
            "b60d191454734d33b40217ad8e509688",
            "bf61ca0db34a4cd385f7fd73224bdcf3",
            "0958fe278ba04bd1aad479606351ec93",
            "ebe79fbea0fb408d9671649516cfe473",
            "2eced64c8a3b492392e7af66445c058f",
            "f95b12e2b668438b9802ebf0151c9f47",
            "8edb42ab83404f96bc280094f1d5d35a",
            "8d62e635dc5c4137859ea2c90957326d",
            "4b223fde3d264c4a9748504dbca473b1",
            "3a5429424f714a01b18c0db15c501f2b",
            "782aace93eba491cb5797c7b396731ed"
          ]
        },
        "id": "MUIvBFjdwaLB",
        "outputId": "172bc1dd-801a-4f28-e949-232ebf6e2937"
      },
      "execution_count": null,
      "outputs": [
        {
          "output_type": "stream",
          "name": "stdout",
          "text": [
            "2022-02-27 15:17:05,798 --------------------------------------------------------------------------------\n",
            "2022-02-27 15:17:05,801 The model key 'frame' now maps to 'https://huggingface.co/flair/frame-english' on the HuggingFace ModelHub\n",
            "2022-02-27 15:17:05,803  - The most current version of the model is automatically downloaded from there.\n",
            "2022-02-27 15:17:05,806  - (you can alternatively manually download the original model at https://nlp.informatik.hu-berlin.de/resources/models/frame/en-frame-ontonotes-v0.4.pt)\n",
            "2022-02-27 15:17:05,808 --------------------------------------------------------------------------------\n"
          ]
        },
        {
          "output_type": "display_data",
          "data": {
            "application/vnd.jupyter.widget-view+json": {
              "model_id": "b60d191454734d33b40217ad8e509688",
              "version_minor": 0,
              "version_major": 2
            },
            "text/plain": [
              "Downloading:   0%|          | 0.00/291M [00:00<?, ?B/s]"
            ]
          },
          "metadata": {}
        },
        {
          "output_type": "stream",
          "name": "stdout",
          "text": [
            "2022-02-27 15:17:14,212 loading file /root/.flair/models/frame-english/c397b8bbddf56e35a7d4b64295712a42a1a9b7ccf430dff76d03c8c7e26b9707.fd7786a36026b383ca73a1413c0a29aa1e67551621b805a0d28ca547636353b9\n"
          ]
        }
      ]
    },
    {
      "cell_type": "code",
      "source": [
        "sem_tagger.predict(sentence)"
      ],
      "metadata": {
        "id": "6f-M1KaCxGxB"
      },
      "execution_count": null,
      "outputs": []
    },
    {
      "cell_type": "code",
      "source": [
        "for event in sentence.get_spans('frame'):\n",
        "  print(event)\n",
        "print(sentence.to_tagged_string())"
      ],
      "metadata": {
        "colab": {
          "base_uri": "https://localhost:8080/"
        },
        "id": "t1uod4CHxKn9",
        "outputId": "d025e037-baa8-4c69-f6f0-60786c3d1f50"
      },
      "execution_count": null,
      "outputs": [
        {
          "output_type": "stream",
          "name": "stdout",
          "text": [
            "Span [4]: \"is\"   [− Labels: be.03 (0.9955)]\n",
            "Span [5]: \"located\"   [− Labels: locate.01 (0.9831)]\n",
            "Span [8]: \"is\"   [− Labels: be.03 (0.9987)]\n",
            "Span [9]: \"named\"   [− Labels: name.01 (0.7091)]\n",
            "Washington <NNP/B-NP/B-ORG> University, <NNP/E-NP/E-ORG> which <WDT/S-NP> is <VBZ/B-VP/be.03> located <VBN/E-VP/locate.01> in <IN/S-PP> Missouri, <NNP/S-NP/S-LOC> is <VBZ/B-VP/be.03> named <VBN/E-VP/name.01> after <IN/S-PP> George <NNP/B-NP/B-PER> Washington. <NNP/E-NP/E-PER>\n"
          ]
        }
      ]
    },
    {
      "cell_type": "code",
      "source": [
        "print(sentence.to_dict(tag_type='pos'))"
      ],
      "metadata": {
        "colab": {
          "base_uri": "https://localhost:8080/"
        },
        "id": "msaugun7yFYk",
        "outputId": "cead4c9b-2ab8-4e11-f950-b26af343da58"
      },
      "execution_count": null,
      "outputs": [
        {
          "output_type": "stream",
          "name": "stdout",
          "text": [
            "{'text': 'Washington University, which is located in Missouri, is named after George Washington.', 'labels': [], 'entities': [{'text': 'Washington', 'start_pos': 0, 'end_pos': 10, 'labels': [NNP (1.0)]}, {'text': 'University,', 'start_pos': 11, 'end_pos': 22, 'labels': [NNP (1.0)]}, {'text': 'which', 'start_pos': 23, 'end_pos': 28, 'labels': [WDT (1.0)]}, {'text': 'is', 'start_pos': 29, 'end_pos': 31, 'labels': [VBZ (1.0)]}, {'text': 'located', 'start_pos': 32, 'end_pos': 39, 'labels': [VBN (0.9999)]}, {'text': 'in', 'start_pos': 40, 'end_pos': 42, 'labels': [IN (1.0)]}, {'text': 'Missouri,', 'start_pos': 43, 'end_pos': 52, 'labels': [NNP (1.0)]}, {'text': 'is', 'start_pos': 53, 'end_pos': 55, 'labels': [VBZ (1.0)]}, {'text': 'named', 'start_pos': 56, 'end_pos': 61, 'labels': [VBN (1.0)]}, {'text': 'after', 'start_pos': 62, 'end_pos': 67, 'labels': [IN (0.9994)]}, {'text': 'George', 'start_pos': 68, 'end_pos': 74, 'labels': [NNP (1.0)]}, {'text': 'Washington.', 'start_pos': 75, 'end_pos': 86, 'labels': [NNP (1.0)]}]}\n"
          ]
        }
      ]
    },
    {
      "cell_type": "code",
      "source": [
        "print(sentence.to_dict(tag_type='chunk'))"
      ],
      "metadata": {
        "colab": {
          "base_uri": "https://localhost:8080/"
        },
        "id": "8TdFxjISyKhM",
        "outputId": "421e63ed-9117-4534-bcce-eee62afed75d"
      },
      "execution_count": null,
      "outputs": [
        {
          "output_type": "stream",
          "name": "stdout",
          "text": [
            "{'text': 'Washington University, which is located in Missouri, is named after George Washington.', 'labels': [], 'entities': []}\n"
          ]
        }
      ]
    },
    {
      "cell_type": "code",
      "source": [
        "print(sentence.to_dict(tag_type='ner'))"
      ],
      "metadata": {
        "colab": {
          "base_uri": "https://localhost:8080/"
        },
        "id": "QOAgWsFsyL5u",
        "outputId": "bbfdd56d-1df7-452b-ac3e-3032717f2512"
      },
      "execution_count": null,
      "outputs": [
        {
          "output_type": "stream",
          "name": "stdout",
          "text": [
            "{'text': 'Washington University, which is located in Missouri, is named after George Washington.', 'labels': [], 'entities': [{'text': 'Washington University,', 'start_pos': 0, 'end_pos': 22, 'labels': [ORG (0.8766)]}, {'text': 'Missouri,', 'start_pos': 43, 'end_pos': 52, 'labels': [LOC (0.9987)]}, {'text': 'George Washington.', 'start_pos': 68, 'end_pos': 86, 'labels': [PER (0.9916)]}]}\n"
          ]
        }
      ]
    },
    {
      "cell_type": "code",
      "source": [
        "print(sentence.to_dict(tag_type='frame'))"
      ],
      "metadata": {
        "colab": {
          "base_uri": "https://localhost:8080/"
        },
        "id": "IG7oRN_DyRl0",
        "outputId": "e1bbfbad-07f7-46b3-e8b8-05e195ca5917"
      },
      "execution_count": null,
      "outputs": [
        {
          "output_type": "stream",
          "name": "stdout",
          "text": [
            "{'text': 'Washington University, which is located in Missouri, is named after George Washington.', 'labels': [], 'entities': [{'text': 'is', 'start_pos': 29, 'end_pos': 31, 'labels': [be.03 (0.9955)]}, {'text': 'located', 'start_pos': 32, 'end_pos': 39, 'labels': [locate.01 (0.9831)]}, {'text': 'is', 'start_pos': 53, 'end_pos': 55, 'labels': [be.03 (0.9987)]}, {'text': 'named', 'start_pos': 56, 'end_pos': 61, 'labels': [name.01 (0.7091)]}]}\n"
          ]
        }
      ]
    },
    {
      "cell_type": "code",
      "source": [
        "polarity_classifier = TextClassifier.load('en-sentiment')"
      ],
      "metadata": {
        "colab": {
          "base_uri": "https://localhost:8080/",
          "height": 261,
          "referenced_widgets": [
            "4acb2cf233724f6d820adf4d9222a0eb",
            "344c9fc240dc476591ff125dd3206b3b",
            "05153d6cbd3346f0af21997d6c1b3c18",
            "2188e4ac76b94aec9d4e4f63ef471a4e",
            "1b1dd5ea71fb4b7296507f65a1b876df",
            "f7e51820667e420a8ed8b66a857d8e0c",
            "21a7a6bdedc44501a141ec94ab053853",
            "6d8491c3c11e492486804629e1f7a3a9",
            "61d9d9eb30634eaeb2e5048425b710b7",
            "db9e117eb2c74b7597cba4254df71862",
            "1265c9f85f184694bbd7334aca35932c",
            "99a80a7ce79340a78990cfe55fd02c5a",
            "e83b549d9cb84cbca53ce61e5fe46871",
            "9c37bd8428694f05aab9ba70b8201f4c",
            "4d7363e6dfe5467c8a7af7072c0c9f34",
            "8928524fdf9541809a56eb37d3f6cbd3",
            "e0bbf1643a0d4eb19071381b5a6830e6",
            "29a812eb129c47669b6699855c87c392",
            "e6609576498e4ea997dbe0fa6bfff1cb",
            "19b7c00d6184441892e68dae5d26a7f4",
            "edd6d98f7bf9436c821838babafc1e61",
            "4a258bea37a346eb9a5399e2654bc719",
            "7594e3057c1d4179bbbc8364df80f588",
            "977d07f04f9e427b8aa1d28d12bb0897",
            "1d931b3517654138b6f0a378b37306ef",
            "181aa8d6490747a2be3807b351694258",
            "1a64d1fe21e8481aa95f76c551e48581",
            "276e195bc7a14a028beee2ed4e31c44d",
            "f356e7427e964177bf7b3e7023363911",
            "10f48fc5c1c64fd9baaf4dac95fbce82",
            "79daa0607ce547de9912f219f7cc2cfa",
            "6dfe0f2705e7463e8701deef80328e95",
            "0cc927043d5f48cd8a36b1a20c1bc939",
            "9b0eed99ca434cad91e87bdbdd91383a",
            "e818ff5b6c494abda7fae968f9a9eeca",
            "918da99afccb48f0b27b4bcbc8e59e4f",
            "c2c3cafdff464affbd2850193963885f",
            "6ed7907d8cc34259b3a295f9323f9530",
            "52db043a609940d9a5c9a25b0fd19757",
            "ec13ffc231954f219d51b3c1634fc711",
            "551e36f1b63549b9bb87b7056d503c1c",
            "5336866b42374f698f1138e15cf9935d",
            "55a64ca60d054f88a48f0db734de8468",
            "c95577cb00c640828b6f6390ee7842e4"
          ]
        },
        "id": "cK6zgJDqyX5N",
        "outputId": "00381c05-d8a5-46da-d699-626408dcbb55"
      },
      "execution_count": null,
      "outputs": [
        {
          "output_type": "stream",
          "name": "stdout",
          "text": [
            "2022-02-27 15:25:40,051 https://nlp.informatik.hu-berlin.de/resources/models/sentiment-curated-distilbert/sentiment-en-mix-distillbert_4.pt not found in cache, downloading to /tmp/tmp7kies8j1\n"
          ]
        },
        {
          "output_type": "stream",
          "name": "stderr",
          "text": [
            "100%|██████████| 265512723/265512723 [00:12<00:00, 21370357.73B/s]"
          ]
        },
        {
          "output_type": "stream",
          "name": "stdout",
          "text": [
            "2022-02-27 15:25:52,865 copying /tmp/tmp7kies8j1 to cache at /root/.flair/models/sentiment-en-mix-distillbert_4.pt\n"
          ]
        },
        {
          "output_type": "stream",
          "name": "stderr",
          "text": [
            "\n"
          ]
        },
        {
          "output_type": "stream",
          "name": "stdout",
          "text": [
            "2022-02-27 15:25:53,408 removing temp file /tmp/tmp7kies8j1\n",
            "2022-02-27 15:25:53,449 loading file /root/.flair/models/sentiment-en-mix-distillbert_4.pt\n"
          ]
        },
        {
          "output_type": "display_data",
          "data": {
            "application/vnd.jupyter.widget-view+json": {
              "model_id": "4acb2cf233724f6d820adf4d9222a0eb",
              "version_minor": 0,
              "version_major": 2
            },
            "text/plain": [
              "Downloading:   0%|          | 0.00/28.0 [00:00<?, ?B/s]"
            ]
          },
          "metadata": {}
        },
        {
          "output_type": "display_data",
          "data": {
            "application/vnd.jupyter.widget-view+json": {
              "model_id": "99a80a7ce79340a78990cfe55fd02c5a",
              "version_minor": 0,
              "version_major": 2
            },
            "text/plain": [
              "Downloading:   0%|          | 0.00/226k [00:00<?, ?B/s]"
            ]
          },
          "metadata": {}
        },
        {
          "output_type": "display_data",
          "data": {
            "application/vnd.jupyter.widget-view+json": {
              "model_id": "7594e3057c1d4179bbbc8364df80f588",
              "version_minor": 0,
              "version_major": 2
            },
            "text/plain": [
              "Downloading:   0%|          | 0.00/455k [00:00<?, ?B/s]"
            ]
          },
          "metadata": {}
        },
        {
          "output_type": "display_data",
          "data": {
            "application/vnd.jupyter.widget-view+json": {
              "model_id": "9b0eed99ca434cad91e87bdbdd91383a",
              "version_minor": 0,
              "version_major": 2
            },
            "text/plain": [
              "Downloading:   0%|          | 0.00/483 [00:00<?, ?B/s]"
            ]
          },
          "metadata": {}
        }
      ]
    },
    {
      "cell_type": "code",
      "source": [
        "polarity_classifier.predict(sentence)"
      ],
      "metadata": {
        "id": "MYnt4lyJyZlk"
      },
      "execution_count": null,
      "outputs": []
    },
    {
      "cell_type": "code",
      "source": [
        "print(sentence.to_tagged_string())\n",
        "print(sentence.labels)"
      ],
      "metadata": {
        "colab": {
          "base_uri": "https://localhost:8080/"
        },
        "id": "wmKmKzSLyh0q",
        "outputId": "0357a0d6-c39d-433e-ddd1-c786641dc786"
      },
      "execution_count": null,
      "outputs": [
        {
          "output_type": "stream",
          "name": "stdout",
          "text": [
            "Washington <NNP/B-NP/B-ORG> University, <NNP/E-NP/E-ORG> which <WDT/S-NP> is <VBZ/B-VP/be.03> located <VBN/E-VP/locate.01> in <IN/S-PP> Missouri, <NNP/S-NP/S-LOC> is <VBZ/B-VP/be.03> named <VBN/E-VP/name.01> after <IN/S-PP> George <NNP/B-NP/B-PER> Washington. <NNP/E-NP/E-PER>\n",
            "[POSITIVE (0.9722)]\n"
          ]
        }
      ]
    },
    {
      "cell_type": "markdown",
      "source": [
        "# Assignment-3\n",
        "Used the loop structure to annotate and display the annotations of every sentence in one step per task."
      ],
      "metadata": {
        "id": "gq5CzsoTF9au"
      }
    },
    {
      "cell_type": "code",
      "source": [
        "def _ner(a):\n",
        "  sentence = Sentence(a)\n",
        "  ner_tagger.predict(sentence)\n",
        "  return sentence\n",
        "\n",
        "def pos_(a):\n",
        "  sentence = Sentence(a)\n",
        "  pos_tagger.predict(sentence)\n",
        "  return sentence\n",
        "\n",
        "\n",
        "def _frame_(b):\n",
        "  sentence = Sentence(b)\n",
        "  sem_tagger.predict(sentence)\n",
        "  sentence.to_tagged_string()\n",
        "  return sentence\n",
        "\n",
        "\n",
        "def _chunk_(b):\n",
        "  sentence = Sentence(b)\n",
        "  chunker.predict(sentence)\n",
        "  return sentence\n",
        "\n",
        "def _sentiment(a):\n",
        "  sentence = Sentence(a)\n",
        "  polarity_classifier.predict(sentence)\n",
        "  return sentence"
      ],
      "metadata": {
        "id": "hMsHJ8TS4mir"
      },
      "execution_count": null,
      "outputs": []
    },
    {
      "cell_type": "code",
      "source": [
        "from nltk.tokenize import sent_tokenize\n",
        "import nltk\n",
        "nltk.download('punkt')"
      ],
      "metadata": {
        "colab": {
          "base_uri": "https://localhost:8080/"
        },
        "id": "60nYN1Xa4oQK",
        "outputId": "8942716a-f95e-4da5-e4be-16681694df0d"
      },
      "execution_count": null,
      "outputs": [
        {
          "output_type": "stream",
          "name": "stdout",
          "text": [
            "[nltk_data] Downloading package punkt to /root/nltk_data...\n",
            "[nltk_data]   Unzipping tokenizers/punkt.zip.\n"
          ]
        },
        {
          "output_type": "execute_result",
          "data": {
            "text/plain": [
              "True"
            ]
          },
          "metadata": {},
          "execution_count": 66
        }
      ]
    },
    {
      "cell_type": "code",
      "source": [
        " x = '''Jackson is placed in Microsoft located in Redmond.\n",
        " Redmond is coming to New York city.\n",
        " Redmond is coming to New York City .\n",
        " Redmond is coming to New York City.'''"
      ],
      "metadata": {
        "id": "0QTwl90S5DWm"
      },
      "execution_count": null,
      "outputs": []
    },
    {
      "cell_type": "code",
      "source": [
        "y = '''Redmond returned to New York City to return his hat .\n",
        " He had a look at different hats.'''"
      ],
      "metadata": {
        "id": "ZZCOWpqN5GRY"
      },
      "execution_count": null,
      "outputs": []
    },
    {
      "cell_type": "code",
      "source": [
        "z = '''This film hurts.\n",
        "It is so bad that I am confused.'''"
      ],
      "metadata": {
        "id": "-BSSISOx5HtK"
      },
      "execution_count": null,
      "outputs": []
    },
    {
      "cell_type": "code",
      "source": [
        "a = sent_tokenize(x)\n",
        "b= sent_tokenize(y)\n",
        "c = sent_tokenize(z)"
      ],
      "metadata": {
        "id": "xUD5u0Lc5Med"
      },
      "execution_count": null,
      "outputs": []
    },
    {
      "cell_type": "code",
      "source": [
        "k= ''' a,b,c'''"
      ],
      "metadata": {
        "id": "OGqy1K1T5WSg"
      },
      "execution_count": null,
      "outputs": []
    },
    {
      "cell_type": "code",
      "source": [
        "n = k.split()"
      ],
      "metadata": {
        "id": "wKpX4wgu5jw3"
      },
      "execution_count": null,
      "outputs": []
    },
    {
      "cell_type": "code",
      "source": [
        "print(n)"
      ],
      "metadata": {
        "colab": {
          "base_uri": "https://localhost:8080/"
        },
        "id": "FnPt5zqR5pER",
        "outputId": "48056a0e-3620-4f6a-a7ce-e2fb62b6b147"
      },
      "execution_count": null,
      "outputs": [
        {
          "output_type": "stream",
          "name": "stdout",
          "text": [
            "['a,b,c']\n"
          ]
        }
      ]
    },
    {
      "cell_type": "code",
      "source": [
        "for elements in n:\n",
        "  for sentence in a:\n",
        "    f = pos_(sentence)\n",
        "    print(f)\n",
        "\n",
        "  for sentence in a:\n",
        "    e = _ner(sentence)\n",
        "    print(e)\n",
        "\n",
        "  for sentence in b:\n",
        "    g = _frame_(sentence)\n",
        "    print(g)\n",
        "\n",
        "  for sentence in b:\n",
        "    h = _chunk_(sentence)\n",
        "    print(h)\n",
        "\n",
        "  for sentence in c:\n",
        "    i = _sentiment(sentence)\n",
        "    print(i)"
      ],
      "metadata": {
        "colab": {
          "base_uri": "https://localhost:8080/"
        },
        "id": "T6LESY2h5xrg",
        "outputId": "f3460dae-a634-4e2f-9ac2-f02b3b80f747"
      },
      "execution_count": null,
      "outputs": [
        {
          "output_type": "stream",
          "name": "stdout",
          "text": [
            "Sentence: \"Jackson is placed in Microsoft located in Redmond .\"   [− Tokens: 9  − Token-Labels: \"Jackson <NNP> is <VBZ> placed <VBN> in <IN> Microsoft <NNP> located <VBN> in <IN> Redmond <NNP> . <.>\"]\n",
            "Sentence: \"Redmond is coming to New York city .\"   [− Tokens: 8  − Token-Labels: \"Redmond <NNP> is <VBZ> coming <VBG> to <IN> New <NNP> York <NNP> city <NN> . <.>\"]\n",
            "Sentence: \"Redmond is coming to New York City .\"   [− Tokens: 8  − Token-Labels: \"Redmond <NNP> is <VBZ> coming <VBG> to <IN> New <NNP> York <NNP> City <NNP> . <.>\"]\n",
            "Sentence: \"Redmond is coming to New York City .\"   [− Tokens: 8  − Token-Labels: \"Redmond <NNP> is <VBZ> coming <VBG> to <IN> New <NNP> York <NNP> City <NNP> . <.>\"]\n",
            "Sentence: \"Jackson is placed in Microsoft located in Redmond .\"   [− Tokens: 9  − Token-Labels: \"Jackson <S-PER> is placed in Microsoft <S-ORG> located in Redmond <S-LOC> .\"]\n",
            "Sentence: \"Redmond is coming to New York city .\"   [− Tokens: 8  − Token-Labels: \"Redmond <S-PER> is coming to New <B-LOC> York <E-LOC> city .\"]\n",
            "Sentence: \"Redmond is coming to New York City .\"   [− Tokens: 8  − Token-Labels: \"Redmond <S-PER> is coming to New <B-LOC> York <I-LOC> City <E-LOC> .\"]\n",
            "Sentence: \"Redmond is coming to New York City .\"   [− Tokens: 8  − Token-Labels: \"Redmond <S-PER> is coming to New <B-LOC> York <I-LOC> City <E-LOC> .\"]\n",
            "Sentence: \"Redmond returned to New York City to return his hat .\"   [− Tokens: 11  − Token-Labels: \"Redmond returned <return.01> to New York City to return <return.02> his hat .\"]\n",
            "Sentence: \"He had a look at different hats .\"   [− Tokens: 8  − Token-Labels: \"He had <have.03> a look <look.01> at different hats .\"]\n",
            "Sentence: \"Redmond returned to New York City to return his hat .\"   [− Tokens: 11  − Token-Labels: \"Redmond <S-NP> returned <S-VP> to <S-PP> New <B-NP> York <I-NP> City <E-NP> to <B-VP> return <E-VP> his <B-NP> hat <E-NP> .\"]\n",
            "Sentence: \"He had a look at different hats .\"   [− Tokens: 8  − Token-Labels: \"He <S-NP> had <S-VP> a <B-NP> look <E-NP> at <S-PP> different <B-NP> hats <E-NP> .\"]\n",
            "Sentence: \"This film hurts .\"   [− Tokens: 4  − Sentence-Labels: {'label': [NEGATIVE (0.9999)]}]\n",
            "Sentence: \"It is so bad that I am confused .\"   [− Tokens: 9  − Sentence-Labels: {'label': [NEGATIVE (0.9999)]}]\n"
          ]
        }
      ]
    }
  ]
}