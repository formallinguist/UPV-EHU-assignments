{
  "nbformat": 4,
  "nbformat_minor": 0,
  "metadata": {
    "colab": {
      "name": "01-train-text-classifier-spacy_TODO.ipynb -> 01-train-text-classifier-spacy_RAVI KIRAN CHIKKALA.ipynb",
      "provenance": [],
      "toc_visible": true
    },
    "kernelspec": {
      "name": "python3",
      "display_name": "Python 3"
    },
    "language_info": {
      "name": "python"
    }
  },
  "cells": [
    {
      "cell_type": "markdown",
      "source": [
        "# ASSIGNMENT1\n"
      ],
      "metadata": {
        "id": "_6OLGGSQePKl"
      }
    },
    {
      "cell_type": "markdown",
      "source": [
        "# Trained classifiers for Hillary Clinton in the Stance SemEval 2016 dataset."
      ],
      "metadata": {
        "id": "60ymUg0FeOqb"
      }
    },
    {
      "cell_type": "code",
      "execution_count": 1,
      "metadata": {
        "colab": {
          "base_uri": "https://localhost:8080/"
        },
        "id": "CFCqxK-dYfYO",
        "outputId": "0f7482e2-cd45-4460-a51a-a133f7f65aed"
      },
      "outputs": [
        {
          "output_type": "stream",
          "name": "stdout",
          "text": [
            "Mounted at /content/drive\n"
          ]
        }
      ],
      "source": [
        "from google.colab import drive\n",
        "drive.mount('/content/drive')"
      ]
    },
    {
      "cell_type": "code",
      "source": [
        "!python -m spacy download en_core_web_sm"
      ],
      "metadata": {
        "colab": {
          "base_uri": "https://localhost:8080/"
        },
        "id": "-DHOwuv5cHm6",
        "outputId": "ed30a8d8-b147-4d71-aa8f-d840e386f50b"
      },
      "execution_count": 2,
      "outputs": [
        {
          "output_type": "stream",
          "name": "stdout",
          "text": [
            "Collecting en_core_web_sm==2.2.5\n",
            "  Downloading https://github.com/explosion/spacy-models/releases/download/en_core_web_sm-2.2.5/en_core_web_sm-2.2.5.tar.gz (12.0 MB)\n",
            "\u001b[K     |████████████████████████████████| 12.0 MB 7.2 MB/s \n",
            "\u001b[?25hRequirement already satisfied: spacy>=2.2.2 in /usr/local/lib/python3.7/dist-packages (from en_core_web_sm==2.2.5) (2.2.4)\n",
            "Requirement already satisfied: blis<0.5.0,>=0.4.0 in /usr/local/lib/python3.7/dist-packages (from spacy>=2.2.2->en_core_web_sm==2.2.5) (0.4.1)\n",
            "Requirement already satisfied: setuptools in /usr/local/lib/python3.7/dist-packages (from spacy>=2.2.2->en_core_web_sm==2.2.5) (57.4.0)\n",
            "Requirement already satisfied: murmurhash<1.1.0,>=0.28.0 in /usr/local/lib/python3.7/dist-packages (from spacy>=2.2.2->en_core_web_sm==2.2.5) (1.0.6)\n",
            "Requirement already satisfied: catalogue<1.1.0,>=0.0.7 in /usr/local/lib/python3.7/dist-packages (from spacy>=2.2.2->en_core_web_sm==2.2.5) (1.0.0)\n",
            "Requirement already satisfied: preshed<3.1.0,>=3.0.2 in /usr/local/lib/python3.7/dist-packages (from spacy>=2.2.2->en_core_web_sm==2.2.5) (3.0.6)\n",
            "Requirement already satisfied: requests<3.0.0,>=2.13.0 in /usr/local/lib/python3.7/dist-packages (from spacy>=2.2.2->en_core_web_sm==2.2.5) (2.23.0)\n",
            "Requirement already satisfied: cymem<2.1.0,>=2.0.2 in /usr/local/lib/python3.7/dist-packages (from spacy>=2.2.2->en_core_web_sm==2.2.5) (2.0.6)\n",
            "Requirement already satisfied: tqdm<5.0.0,>=4.38.0 in /usr/local/lib/python3.7/dist-packages (from spacy>=2.2.2->en_core_web_sm==2.2.5) (4.62.3)\n",
            "Requirement already satisfied: wasabi<1.1.0,>=0.4.0 in /usr/local/lib/python3.7/dist-packages (from spacy>=2.2.2->en_core_web_sm==2.2.5) (0.9.0)\n",
            "Requirement already satisfied: srsly<1.1.0,>=1.0.2 in /usr/local/lib/python3.7/dist-packages (from spacy>=2.2.2->en_core_web_sm==2.2.5) (1.0.5)\n",
            "Requirement already satisfied: thinc==7.4.0 in /usr/local/lib/python3.7/dist-packages (from spacy>=2.2.2->en_core_web_sm==2.2.5) (7.4.0)\n",
            "Requirement already satisfied: plac<1.2.0,>=0.9.6 in /usr/local/lib/python3.7/dist-packages (from spacy>=2.2.2->en_core_web_sm==2.2.5) (1.1.3)\n",
            "Requirement already satisfied: numpy>=1.15.0 in /usr/local/lib/python3.7/dist-packages (from spacy>=2.2.2->en_core_web_sm==2.2.5) (1.21.5)\n",
            "Requirement already satisfied: importlib-metadata>=0.20 in /usr/local/lib/python3.7/dist-packages (from catalogue<1.1.0,>=0.0.7->spacy>=2.2.2->en_core_web_sm==2.2.5) (4.11.0)\n",
            "Requirement already satisfied: zipp>=0.5 in /usr/local/lib/python3.7/dist-packages (from importlib-metadata>=0.20->catalogue<1.1.0,>=0.0.7->spacy>=2.2.2->en_core_web_sm==2.2.5) (3.7.0)\n",
            "Requirement already satisfied: typing-extensions>=3.6.4 in /usr/local/lib/python3.7/dist-packages (from importlib-metadata>=0.20->catalogue<1.1.0,>=0.0.7->spacy>=2.2.2->en_core_web_sm==2.2.5) (3.10.0.2)\n",
            "Requirement already satisfied: urllib3!=1.25.0,!=1.25.1,<1.26,>=1.21.1 in /usr/local/lib/python3.7/dist-packages (from requests<3.0.0,>=2.13.0->spacy>=2.2.2->en_core_web_sm==2.2.5) (1.24.3)\n",
            "Requirement already satisfied: idna<3,>=2.5 in /usr/local/lib/python3.7/dist-packages (from requests<3.0.0,>=2.13.0->spacy>=2.2.2->en_core_web_sm==2.2.5) (2.10)\n",
            "Requirement already satisfied: certifi>=2017.4.17 in /usr/local/lib/python3.7/dist-packages (from requests<3.0.0,>=2.13.0->spacy>=2.2.2->en_core_web_sm==2.2.5) (2021.10.8)\n",
            "Requirement already satisfied: chardet<4,>=3.0.2 in /usr/local/lib/python3.7/dist-packages (from requests<3.0.0,>=2.13.0->spacy>=2.2.2->en_core_web_sm==2.2.5) (3.0.4)\n",
            "\u001b[38;5;2m✔ Download and installation successful\u001b[0m\n",
            "You can now load the model via spacy.load('en_core_web_sm')\n"
          ]
        }
      ]
    },
    {
      "cell_type": "code",
      "source": [
        "import spacy\n",
        "import csv\n",
        "import random\n",
        "import time\n",
        "import numpy as np\n",
        "import pandas as pd\n",
        "import re\n",
        "import string\n",
        "\n",
        "from spacy.util import minibatch, compounding\n",
        "import sys\n",
        "from spacy import displacy\n",
        "from itertools import chain\n",
        "\n",
        "from sklearn.metrics import classification_report"
      ],
      "metadata": {
        "id": "lPy7NfVpcUAq"
      },
      "execution_count": 3,
      "outputs": []
    },
    {
      "cell_type": "code",
      "source": [
        "def load_data(fnames):\n",
        "    data = []\n",
        "    for fname in fnames:\n",
        "        data.append(pd.read_csv(fname, sep='\\t', encoding='utf-8'))\n",
        "    data = pd.concat(data)\n",
        "    targets = set(data['Target'])\n",
        "    return data, list(targets)"
      ],
      "metadata": {
        "id": "JJOs0NFIcWwd"
      },
      "execution_count": 4,
      "outputs": []
    },
    {
      "cell_type": "code",
      "source": [
        "def cleanup(tweet):\n",
        "    \"\"\"we remove urls, hashtags and user symbols\"\"\"\n",
        "    tweet = re.sub(r\"http\\S+\", \"\", tweet.replace(\"#\", \"\").replace(\"@\", \"\").replace('\\n', ' ').replace('\\t', ' '))\n",
        "    return tweet"
      ],
      "metadata": {
        "id": "1BWO8XqVcnZE"
      },
      "execution_count": 5,
      "outputs": []
    },
    {
      "cell_type": "code",
      "source": [
        "trial_file = \"/content/drive/My Drive/Colab Notebooks/2022-ILTAPP/datasets/stance-semeval2016/semeval2016-task6-trialdata.utf-8.txt\"\n",
        "train_file = \"/content/drive/My Drive/Colab Notebooks/2022-ILTAPP/datasets/stance-semeval2016/semeval2016-task6-trainingdata.utf-8.txt\"\n",
        "test_file = \"/content/drive/My Drive/Colab Notebooks/2022-ILTAPP/datasets/stance-semeval2016/SemEval2016-Task6-subtaskA-testdata-gold.txt\"\n",
        "\n",
        "training_data, targets = load_data([trial_file, train_file])\n",
        "training_data['Clean_tweet'] = training_data['Tweet'].apply(cleanup)\n",
        "\n",
        "test_data, _ = load_data([test_file])\n",
        "test_data['Clean_tweet'] = test_data['Tweet'].apply(cleanup)\n",
        "display(training_data)"
      ],
      "metadata": {
        "colab": {
          "base_uri": "https://localhost:8080/",
          "height": 641
        },
        "id": "KAkfP96bcrY-",
        "outputId": "f1339e52-ffe4-4995-895a-a111bea357ef"
      },
      "execution_count": 6,
      "outputs": [
        {
          "output_type": "display_data",
          "data": {
            "text/html": [
              "\n",
              "  <div id=\"df-dada1dab-2320-4956-838b-d2d86eb3c046\">\n",
              "    <div class=\"colab-df-container\">\n",
              "      <div>\n",
              "<style scoped>\n",
              "    .dataframe tbody tr th:only-of-type {\n",
              "        vertical-align: middle;\n",
              "    }\n",
              "\n",
              "    .dataframe tbody tr th {\n",
              "        vertical-align: top;\n",
              "    }\n",
              "\n",
              "    .dataframe thead th {\n",
              "        text-align: right;\n",
              "    }\n",
              "</style>\n",
              "<table border=\"1\" class=\"dataframe\">\n",
              "  <thead>\n",
              "    <tr style=\"text-align: right;\">\n",
              "      <th></th>\n",
              "      <th>ID</th>\n",
              "      <th>Target</th>\n",
              "      <th>Tweet</th>\n",
              "      <th>Stance</th>\n",
              "      <th>Clean_tweet</th>\n",
              "    </tr>\n",
              "  </thead>\n",
              "  <tbody>\n",
              "    <tr>\n",
              "      <th>0</th>\n",
              "      <td>1</td>\n",
              "      <td>Hillary Clinton</td>\n",
              "      <td>@tedcruz And, #HandOverTheServer she wiped cle...</td>\n",
              "      <td>AGAINST</td>\n",
              "      <td>tedcruz And, HandOverTheServer she wiped clean...</td>\n",
              "    </tr>\n",
              "    <tr>\n",
              "      <th>1</th>\n",
              "      <td>2</td>\n",
              "      <td>Hillary Clinton</td>\n",
              "      <td>Hillary is our best choice if we truly want to...</td>\n",
              "      <td>FAVOR</td>\n",
              "      <td>Hillary is our best choice if we truly want to...</td>\n",
              "    </tr>\n",
              "    <tr>\n",
              "      <th>2</th>\n",
              "      <td>3</td>\n",
              "      <td>Hillary Clinton</td>\n",
              "      <td>@TheView I think our country is ready for a fe...</td>\n",
              "      <td>AGAINST</td>\n",
              "      <td>TheView I think our country is ready for a fem...</td>\n",
              "    </tr>\n",
              "    <tr>\n",
              "      <th>3</th>\n",
              "      <td>4</td>\n",
              "      <td>Hillary Clinton</td>\n",
              "      <td>I just gave an unhealthy amount of my hard-ear...</td>\n",
              "      <td>AGAINST</td>\n",
              "      <td>I just gave an unhealthy amount of my hard-ear...</td>\n",
              "    </tr>\n",
              "    <tr>\n",
              "      <th>4</th>\n",
              "      <td>5</td>\n",
              "      <td>Hillary Clinton</td>\n",
              "      <td>@PortiaABoulger Thank you for adding me to you...</td>\n",
              "      <td>NONE</td>\n",
              "      <td>PortiaABoulger Thank you for adding me to your...</td>\n",
              "    </tr>\n",
              "    <tr>\n",
              "      <th>...</th>\n",
              "      <td>...</td>\n",
              "      <td>...</td>\n",
              "      <td>...</td>\n",
              "      <td>...</td>\n",
              "      <td>...</td>\n",
              "    </tr>\n",
              "    <tr>\n",
              "      <th>2809</th>\n",
              "      <td>2910</td>\n",
              "      <td>Legalization of Abortion</td>\n",
              "      <td>There's a law protecting unborn eagles, but no...</td>\n",
              "      <td>AGAINST</td>\n",
              "      <td>There's a law protecting unborn eagles, but no...</td>\n",
              "    </tr>\n",
              "    <tr>\n",
              "      <th>2810</th>\n",
              "      <td>2911</td>\n",
              "      <td>Legalization of Abortion</td>\n",
              "      <td>I am 1 in 3... I have had an abortion #Abortio...</td>\n",
              "      <td>AGAINST</td>\n",
              "      <td>I am 1 in 3... I have had an abortion Abortion...</td>\n",
              "    </tr>\n",
              "    <tr>\n",
              "      <th>2811</th>\n",
              "      <td>2912</td>\n",
              "      <td>Legalization of Abortion</td>\n",
              "      <td>How dare you say my sexual preference is a cho...</td>\n",
              "      <td>AGAINST</td>\n",
              "      <td>How dare you say my sexual preference is a cho...</td>\n",
              "    </tr>\n",
              "    <tr>\n",
              "      <th>2812</th>\n",
              "      <td>2913</td>\n",
              "      <td>Legalization of Abortion</td>\n",
              "      <td>Equal rights for those 'born that way', no rig...</td>\n",
              "      <td>AGAINST</td>\n",
              "      <td>Equal rights for those 'born that way', no rig...</td>\n",
              "    </tr>\n",
              "    <tr>\n",
              "      <th>2813</th>\n",
              "      <td>2914</td>\n",
              "      <td>Legalization of Abortion</td>\n",
              "      <td>#POTUS seals his legacy w/ 1/2 doz wins. The #...</td>\n",
              "      <td>AGAINST</td>\n",
              "      <td>POTUS seals his legacy w/ 1/2 doz wins. The GO...</td>\n",
              "    </tr>\n",
              "  </tbody>\n",
              "</table>\n",
              "<p>2914 rows × 5 columns</p>\n",
              "</div>\n",
              "      <button class=\"colab-df-convert\" onclick=\"convertToInteractive('df-dada1dab-2320-4956-838b-d2d86eb3c046')\"\n",
              "              title=\"Convert this dataframe to an interactive table.\"\n",
              "              style=\"display:none;\">\n",
              "        \n",
              "  <svg xmlns=\"http://www.w3.org/2000/svg\" height=\"24px\"viewBox=\"0 0 24 24\"\n",
              "       width=\"24px\">\n",
              "    <path d=\"M0 0h24v24H0V0z\" fill=\"none\"/>\n",
              "    <path d=\"M18.56 5.44l.94 2.06.94-2.06 2.06-.94-2.06-.94-.94-2.06-.94 2.06-2.06.94zm-11 1L8.5 8.5l.94-2.06 2.06-.94-2.06-.94L8.5 2.5l-.94 2.06-2.06.94zm10 10l.94 2.06.94-2.06 2.06-.94-2.06-.94-.94-2.06-.94 2.06-2.06.94z\"/><path d=\"M17.41 7.96l-1.37-1.37c-.4-.4-.92-.59-1.43-.59-.52 0-1.04.2-1.43.59L10.3 9.45l-7.72 7.72c-.78.78-.78 2.05 0 2.83L4 21.41c.39.39.9.59 1.41.59.51 0 1.02-.2 1.41-.59l7.78-7.78 2.81-2.81c.8-.78.8-2.07 0-2.86zM5.41 20L4 18.59l7.72-7.72 1.47 1.35L5.41 20z\"/>\n",
              "  </svg>\n",
              "      </button>\n",
              "      \n",
              "  <style>\n",
              "    .colab-df-container {\n",
              "      display:flex;\n",
              "      flex-wrap:wrap;\n",
              "      gap: 12px;\n",
              "    }\n",
              "\n",
              "    .colab-df-convert {\n",
              "      background-color: #E8F0FE;\n",
              "      border: none;\n",
              "      border-radius: 50%;\n",
              "      cursor: pointer;\n",
              "      display: none;\n",
              "      fill: #1967D2;\n",
              "      height: 32px;\n",
              "      padding: 0 0 0 0;\n",
              "      width: 32px;\n",
              "    }\n",
              "\n",
              "    .colab-df-convert:hover {\n",
              "      background-color: #E2EBFA;\n",
              "      box-shadow: 0px 1px 2px rgba(60, 64, 67, 0.3), 0px 1px 3px 1px rgba(60, 64, 67, 0.15);\n",
              "      fill: #174EA6;\n",
              "    }\n",
              "\n",
              "    [theme=dark] .colab-df-convert {\n",
              "      background-color: #3B4455;\n",
              "      fill: #D2E3FC;\n",
              "    }\n",
              "\n",
              "    [theme=dark] .colab-df-convert:hover {\n",
              "      background-color: #434B5C;\n",
              "      box-shadow: 0px 1px 3px 1px rgba(0, 0, 0, 0.15);\n",
              "      filter: drop-shadow(0px 1px 2px rgba(0, 0, 0, 0.3));\n",
              "      fill: #FFFFFF;\n",
              "    }\n",
              "  </style>\n",
              "\n",
              "      <script>\n",
              "        const buttonEl =\n",
              "          document.querySelector('#df-dada1dab-2320-4956-838b-d2d86eb3c046 button.colab-df-convert');\n",
              "        buttonEl.style.display =\n",
              "          google.colab.kernel.accessAllowed ? 'block' : 'none';\n",
              "\n",
              "        async function convertToInteractive(key) {\n",
              "          const element = document.querySelector('#df-dada1dab-2320-4956-838b-d2d86eb3c046');\n",
              "          const dataTable =\n",
              "            await google.colab.kernel.invokeFunction('convertToInteractive',\n",
              "                                                     [key], {});\n",
              "          if (!dataTable) return;\n",
              "\n",
              "          const docLinkHtml = 'Like what you see? Visit the ' +\n",
              "            '<a target=\"_blank\" href=https://colab.research.google.com/notebooks/data_table.ipynb>data table notebook</a>'\n",
              "            + ' to learn more about interactive tables.';\n",
              "          element.innerHTML = '';\n",
              "          dataTable['output_type'] = 'display_data';\n",
              "          await google.colab.output.renderOutput(dataTable, element);\n",
              "          const docLink = document.createElement('div');\n",
              "          docLink.innerHTML = docLinkHtml;\n",
              "          element.appendChild(docLink);\n",
              "        }\n",
              "      </script>\n",
              "    </div>\n",
              "  </div>\n",
              "  "
            ],
            "text/plain": [
              "        ID  ...                                        Clean_tweet\n",
              "0        1  ...  tedcruz And, HandOverTheServer she wiped clean...\n",
              "1        2  ...  Hillary is our best choice if we truly want to...\n",
              "2        3  ...  TheView I think our country is ready for a fem...\n",
              "3        4  ...  I just gave an unhealthy amount of my hard-ear...\n",
              "4        5  ...  PortiaABoulger Thank you for adding me to your...\n",
              "...    ...  ...                                                ...\n",
              "2809  2910  ...  There's a law protecting unborn eagles, but no...\n",
              "2810  2911  ...  I am 1 in 3... I have had an abortion Abortion...\n",
              "2811  2912  ...  How dare you say my sexual preference is a cho...\n",
              "2812  2913  ...  Equal rights for those 'born that way', no rig...\n",
              "2813  2914  ...  POTUS seals his legacy w/ 1/2 doz wins. The GO...\n",
              "\n",
              "[2914 rows x 5 columns]"
            ]
          },
          "metadata": {}
        }
      ]
    },
    {
      "cell_type": "code",
      "source": [
        "for target in targets:\n",
        "  training_data[training_data['Target'] == target][['Stance', 'Clean_tweet']].to_csv(f\"/content/drive/My Drive/Colab Notebooks/2022-ILTAPP/datasets/stance-semeval2016/train.{target}.tsv\",\n",
        "          sep=\"\\t\", index=False, quoting=csv.QUOTE_NONE, quotechar=\"\", escapechar=\"\")\n",
        "  test_data[test_data['Target'] == target][['Stance', 'Clean_tweet']].to_csv(f\"/content/drive/My Drive/Colab Notebooks/2022-ILTAPP/datasets/stance-semeval2016/test.{target}.tsv\",\n",
        "          sep=\"\\t\", index=False, quoting=csv.QUOTE_NONE, quotechar=\"\", escapechar=\"\")"
      ],
      "metadata": {
        "id": "0AMYmnRFc0iZ"
      },
      "execution_count": 7,
      "outputs": []
    },
    {
      "cell_type": "code",
      "source": [
        "def load_data_spacy(fname):\n",
        "  training_data = pd.read_csv(fname, sep='\\t', encoding='utf-8')\n",
        "  #train_data.dropna(axis = 0, how ='any',inplace=True)\n",
        "  #train_data['Num_words_text'] = train_data['text'].apply(lambda x:len(str(x).split())) \n",
        "  #mask = train_data['Num_words_text'] >2\n",
        "  #train_data = train_data[mask]\n",
        "  print(training_data['Stance'].value_counts())\n",
        "   \n",
        "  train_texts = training_data['Clean_tweet'].tolist()\n",
        "  train_cats = training_data['Stance'].tolist()\n",
        "  final_train_cats=[]\n",
        "  for cat in train_cats:\n",
        "    cat_list = {}\n",
        "    if cat == 'AGAINST':\n",
        "      cat_list['AGAINST'] =  1\n",
        "      cat_list['FAVOR'] =  0\n",
        "      cat_list['NONE'] =  0\n",
        "    elif cat == 'FAVOR':\n",
        "      cat_list['AGAINST'] =  0\n",
        "      cat_list['FAVOR'] =  1\n",
        "      cat_list['NONE'] =  0\n",
        "    else:\n",
        "      cat_list['AGAINST'] =  0\n",
        "      cat_list['FAVOR'] =  0\n",
        "      cat_list['NONE'] =  1\n",
        "    final_train_cats.append(cat_list)\n",
        "    \n",
        "  train_data = list(zip(train_texts, [{\"cats\": cats} for cats in final_train_cats]))\n",
        "  return train_data, train_texts, train_cats"
      ],
      "metadata": {
        "id": "TYGtDA-FdAHW"
      },
      "execution_count": 8,
      "outputs": []
    },
    {
      "cell_type": "code",
      "source": [
        "training_data, train_texts, train_cats = load_data_spacy('/content/drive/My Drive/Colab Notebooks/2022-ILTAPP/datasets/stance-semeval2016/train.Hillary Clinton.tsv')\n",
        "print(training_data[:10])\n",
        "print(len(training_data))\n",
        "test_data, test_texts, test_cats = load_data_spacy('/content/drive/My Drive/Colab Notebooks/2022-ILTAPP/datasets/stance-semeval2016/test.Hillary Clinton.tsv')\n",
        "print(len(test_data))"
      ],
      "metadata": {
        "colab": {
          "base_uri": "https://localhost:8080/"
        },
        "id": "96OwB-_4dOgD",
        "outputId": "3a8d97f6-7b97-4619-b907-6fb964df3800"
      },
      "execution_count": 9,
      "outputs": [
        {
          "output_type": "stream",
          "name": "stdout",
          "text": [
            "AGAINST    393\n",
            "NONE       178\n",
            "FAVOR      118\n",
            "Name: Stance, dtype: int64\n",
            "[('tedcruz And, HandOverTheServer she wiped clean + 30k deleted emails, explains dereliction of duty/lies re Benghazi,etc tcot SemST', {'cats': {'AGAINST': 1, 'FAVOR': 0, 'NONE': 0}}), ('Hillary is our best choice if we truly want to continue being a progressive nation. Ohio SemST', {'cats': {'AGAINST': 0, 'FAVOR': 1, 'NONE': 0}}), (\"TheView I think our country is ready for a female pres, it can't ever be Hillary SemST\", {'cats': {'AGAINST': 1, 'FAVOR': 0, 'NONE': 0}}), (\"I just gave an unhealthy amount of my hard-earned money away to the big gov't & untrustworthy IRS. WhyImNotVotingForHillary SemST\", {'cats': {'AGAINST': 1, 'FAVOR': 0, 'NONE': 0}}), ('PortiaABoulger Thank you for adding me to your list SemST', {'cats': {'AGAINST': 0, 'FAVOR': 0, 'NONE': 1}}), (\"Hillary can not win. Here's hoping the Dems offer a real candidate like Warren. Warren2016 SemST\", {'cats': {'AGAINST': 1, 'FAVOR': 0, 'NONE': 0}}), ('Respect FOR the law and respect BY the law Yes, needed desperately.  BaltimoreRiots SemST', {'cats': {'AGAINST': 0, 'FAVOR': 0, 'NONE': 1}}), (\"I don't want to be appointed to an Ambassador post. SemST\", {'cats': {'AGAINST': 0, 'FAVOR': 0, 'NONE': 1}}), ('StopHillary2016 HillaryClinton if there was a woman with integrity and honesty I would vote for such as woman president, NO SemST', {'cats': {'AGAINST': 1, 'FAVOR': 0, 'NONE': 0}}), ('HillaryClinton End lawless ClintonFoundation. Jail Butcher of Benghazi. Arrest rapist BillClinton. HillaryClinton SemST', {'cats': {'AGAINST': 1, 'FAVOR': 0, 'NONE': 0}})]\n",
            "689\n",
            "AGAINST    172\n",
            "NONE        78\n",
            "FAVOR       45\n",
            "Name: Stance, dtype: int64\n",
            "295\n"
          ]
        }
      ]
    },
    {
      "cell_type": "code",
      "source": [
        "def Sort(sub_li):\n",
        "  # reverse = True (Soresulting_list = list(first_list)rts in Descending  order) \n",
        "  # key is set to sort using second element of  \n",
        "  # sublist lambda has been used \n",
        "  return(sorted(sub_li, key = lambda x: x[1],reverse=True))  \n",
        "\n",
        "# run the predictions on each sentence in the evaluation  dataset, and return the metrics\n",
        "def evaluate(tokenizer, textcat, test_texts, test_cats ):\n",
        "  docs = (tokenizer(text) for text in test_texts)\n",
        "  preds = []\n",
        "  for i, doc in enumerate(textcat.pipe(docs)):\n",
        "    #print(doc.cats.items())\n",
        "    scores = Sort(doc.cats.items())\n",
        "    #print(scores)\n",
        "    catList=[]\n",
        "    for score in scores:\n",
        "      catList.append(score[0])\n",
        "    preds.append(catList[0])\n",
        "        \n",
        "  labels = ['AGAINST', 'FAVOR']\n",
        "  print(classification_report(test_cats, preds,labels=labels))"
      ],
      "metadata": {
        "id": "55aLbJ0QdUtn"
      },
      "execution_count": 10,
      "outputs": []
    },
    {
      "cell_type": "code",
      "source": [
        "def train_spacy(  train_data, iterations,test_texts,test_cats, model_arch, dropout = 0.3, model=None, init_tok2vec=None):\n",
        "    ''' Train a spacy NER model, which can be queried against with test data\n",
        "   \n",
        "    train_data : training data in the format of (sentence, {cats: ['AGAINST'|'FAVOR'|'NONE']})\n",
        "    labels : a list of unique annotations\n",
        "    iterations : number of training iterations\n",
        "    dropout : dropout proportion for training\n",
        "    display_freq : number of epochs between logging losses to console\n",
        "    '''\n",
        "    \n",
        "    nlp = spacy.load('en_core_web_sm')\n",
        "    \n",
        "\n",
        "    # add the text classifier to the pipeline if it doesn't exist\n",
        "    # nlp.create_pipe works for built-ins that are registered with spaCy\n",
        "    if \"textcat\" not in nlp.pipe_names:\n",
        "        textcat = nlp.create_pipe(\n",
        "            \"textcat\", config={\"exclusive_classes\": True, \"architecture\": model_arch}\n",
        "        )\n",
        "        nlp.add_pipe(textcat, last=True)\n",
        "         # otherwise, get it, so we can add labels to it\n",
        "    else:\n",
        "        textcat = nlp.get_pipe(\"textcat\")\n",
        "\n",
        "    # add label to text classifier\n",
        "    textcat.add_label(\"AGAINST\")\n",
        "    textcat.add_label(\"FAVOR\")\n",
        "    textcat.add_label(\"NONE\")\n",
        "\n",
        "\n",
        "    # get names of other pipes to disable them during training\n",
        "    pipe_exceptions = [\"textcat\", \"trf_wordpiecer\", \"trf_tok2vec\"]\n",
        "    other_pipes = [pipe for pipe in nlp.pipe_names if pipe not in pipe_exceptions]\n",
        "    with nlp.disable_pipes(*other_pipes):  # only train textcat\n",
        "        optimizer = nlp.begin_training()\n",
        "        if init_tok2vec is not None:\n",
        "            with init_tok2vec.open(\"rb\") as file_:\n",
        "                textcat.model.tok2vec.from_bytes(file_.read())\n",
        "        print(\"Training the model...\")\n",
        "        print(\"{:^5}\\t{:^5}\\t{:^5}\\t{:^5}\".format(\"LOSS\", \"P\", \"R\", \"F\"))\n",
        "        batch_sizes = compounding(16.0, 64.0, 1.5)\n",
        "        for i in range(iterations):\n",
        "            print('Iteration: '+str(i))\n",
        "            start_time = time.clock()\n",
        "            losses = {}\n",
        "            # batch up the examples using spaCy's minibatch\n",
        "            random.shuffle(train_data)\n",
        "            batches = minibatch(train_data, size=batch_sizes)\n",
        "            for batch in batches:\n",
        "                texts, annotations = zip(*batch)\n",
        "                nlp.update(texts, annotations, sgd=optimizer, drop=dropout, losses=losses)\n",
        "            with textcat.model.use_params(optimizer.averages):\n",
        "                # evaluate on the test data \n",
        "                evaluate(nlp.tokenizer, textcat, test_texts,test_cats)\n",
        "            print ('Elapsed time'+str(time.clock() - start_time)+  \"seconds\")\n",
        "        with nlp.use_params(optimizer.averages):\n",
        "            model_name = model_arch + \"_Hillary_2016\"\n",
        "            filepath = \"/content/drive/My Drive/Colab Notebooks/2022-ILTAPP/resources/\" + model_name \n",
        "            nlp.to_disk(filepath)\n",
        "    return nlp "
      ],
      "metadata": {
        "id": "nnRtZh-FdboV"
      },
      "execution_count": 11,
      "outputs": []
    },
    {
      "cell_type": "code",
      "source": [
        "nlp = train_spacy(training_data, 20, test_texts, test_cats, \"bow\")"
      ],
      "metadata": {
        "colab": {
          "base_uri": "https://localhost:8080/"
        },
        "id": "87uY3ELXdro9",
        "outputId": "9dce355e-6144-4cf4-fb72-d20ba8a22270"
      },
      "execution_count": 12,
      "outputs": [
        {
          "output_type": "stream",
          "name": "stdout",
          "text": [
            "Training the model...\n",
            "LOSS \t  P  \t  R  \t  F  \n",
            "Iteration: 0\n"
          ]
        },
        {
          "output_type": "stream",
          "name": "stderr",
          "text": [
            "/usr/local/lib/python3.7/dist-packages/ipykernel_launcher.py:44: DeprecationWarning: time.clock has been deprecated in Python 3.3 and will be removed from Python 3.8: use time.perf_counter or time.process_time instead\n",
            "/usr/local/lib/python3.7/dist-packages/sklearn/metrics/_classification.py:1318: UndefinedMetricWarning: Precision and F-score are ill-defined and being set to 0.0 in labels with no predicted samples. Use `zero_division` parameter to control this behavior.\n",
            "  _warn_prf(average, modifier, msg_start, len(result))\n",
            "/usr/local/lib/python3.7/dist-packages/sklearn/metrics/_classification.py:1318: UndefinedMetricWarning: Precision and F-score are ill-defined and being set to 0.0 in labels with no predicted samples. Use `zero_division` parameter to control this behavior.\n",
            "  _warn_prf(average, modifier, msg_start, len(result))\n",
            "/usr/local/lib/python3.7/dist-packages/sklearn/metrics/_classification.py:1318: UndefinedMetricWarning: Precision and F-score are ill-defined and being set to 0.0 in labels with no predicted samples. Use `zero_division` parameter to control this behavior.\n",
            "  _warn_prf(average, modifier, msg_start, len(result))\n",
            "/usr/local/lib/python3.7/dist-packages/ipykernel_launcher.py:55: DeprecationWarning: time.clock has been deprecated in Python 3.3 and will be removed from Python 3.8: use time.perf_counter or time.process_time instead\n",
            "/usr/local/lib/python3.7/dist-packages/ipykernel_launcher.py:44: DeprecationWarning: time.clock has been deprecated in Python 3.3 and will be removed from Python 3.8: use time.perf_counter or time.process_time instead\n"
          ]
        },
        {
          "output_type": "stream",
          "name": "stdout",
          "text": [
            "              precision    recall  f1-score   support\n",
            "\n",
            "     AGAINST       0.58      1.00      0.74       172\n",
            "       FAVOR       0.00      0.00      0.00        45\n",
            "\n",
            "   micro avg       0.58      0.79      0.67       217\n",
            "   macro avg       0.29      0.50      0.37       217\n",
            "weighted avg       0.46      0.79      0.58       217\n",
            "\n",
            "Elapsed time0.5200769999999997seconds\n",
            "Iteration: 1\n"
          ]
        },
        {
          "output_type": "stream",
          "name": "stderr",
          "text": [
            "/usr/local/lib/python3.7/dist-packages/sklearn/metrics/_classification.py:1318: UndefinedMetricWarning: Precision and F-score are ill-defined and being set to 0.0 in labels with no predicted samples. Use `zero_division` parameter to control this behavior.\n",
            "  _warn_prf(average, modifier, msg_start, len(result))\n",
            "/usr/local/lib/python3.7/dist-packages/sklearn/metrics/_classification.py:1318: UndefinedMetricWarning: Precision and F-score are ill-defined and being set to 0.0 in labels with no predicted samples. Use `zero_division` parameter to control this behavior.\n",
            "  _warn_prf(average, modifier, msg_start, len(result))\n",
            "/usr/local/lib/python3.7/dist-packages/sklearn/metrics/_classification.py:1318: UndefinedMetricWarning: Precision and F-score are ill-defined and being set to 0.0 in labels with no predicted samples. Use `zero_division` parameter to control this behavior.\n",
            "  _warn_prf(average, modifier, msg_start, len(result))\n",
            "/usr/local/lib/python3.7/dist-packages/ipykernel_launcher.py:55: DeprecationWarning: time.clock has been deprecated in Python 3.3 and will be removed from Python 3.8: use time.perf_counter or time.process_time instead\n",
            "/usr/local/lib/python3.7/dist-packages/ipykernel_launcher.py:44: DeprecationWarning: time.clock has been deprecated in Python 3.3 and will be removed from Python 3.8: use time.perf_counter or time.process_time instead\n"
          ]
        },
        {
          "output_type": "stream",
          "name": "stdout",
          "text": [
            "              precision    recall  f1-score   support\n",
            "\n",
            "     AGAINST       0.58      1.00      0.74       172\n",
            "       FAVOR       0.00      0.00      0.00        45\n",
            "\n",
            "   micro avg       0.58      0.79      0.67       217\n",
            "   macro avg       0.29      0.50      0.37       217\n",
            "weighted avg       0.46      0.79      0.58       217\n",
            "\n",
            "Elapsed time0.2540710000000006seconds\n",
            "Iteration: 2\n"
          ]
        },
        {
          "output_type": "stream",
          "name": "stderr",
          "text": [
            "/usr/local/lib/python3.7/dist-packages/sklearn/metrics/_classification.py:1318: UndefinedMetricWarning: Precision and F-score are ill-defined and being set to 0.0 in labels with no predicted samples. Use `zero_division` parameter to control this behavior.\n",
            "  _warn_prf(average, modifier, msg_start, len(result))\n",
            "/usr/local/lib/python3.7/dist-packages/sklearn/metrics/_classification.py:1318: UndefinedMetricWarning: Precision and F-score are ill-defined and being set to 0.0 in labels with no predicted samples. Use `zero_division` parameter to control this behavior.\n",
            "  _warn_prf(average, modifier, msg_start, len(result))\n",
            "/usr/local/lib/python3.7/dist-packages/sklearn/metrics/_classification.py:1318: UndefinedMetricWarning: Precision and F-score are ill-defined and being set to 0.0 in labels with no predicted samples. Use `zero_division` parameter to control this behavior.\n",
            "  _warn_prf(average, modifier, msg_start, len(result))\n",
            "/usr/local/lib/python3.7/dist-packages/ipykernel_launcher.py:55: DeprecationWarning: time.clock has been deprecated in Python 3.3 and will be removed from Python 3.8: use time.perf_counter or time.process_time instead\n",
            "/usr/local/lib/python3.7/dist-packages/ipykernel_launcher.py:44: DeprecationWarning: time.clock has been deprecated in Python 3.3 and will be removed from Python 3.8: use time.perf_counter or time.process_time instead\n"
          ]
        },
        {
          "output_type": "stream",
          "name": "stdout",
          "text": [
            "              precision    recall  f1-score   support\n",
            "\n",
            "     AGAINST       0.58      1.00      0.74       172\n",
            "       FAVOR       0.00      0.00      0.00        45\n",
            "\n",
            "   micro avg       0.58      0.79      0.67       217\n",
            "   macro avg       0.29      0.50      0.37       217\n",
            "weighted avg       0.46      0.79      0.58       217\n",
            "\n",
            "Elapsed time0.26079700000000017seconds\n",
            "Iteration: 3\n"
          ]
        },
        {
          "output_type": "stream",
          "name": "stderr",
          "text": [
            "/usr/local/lib/python3.7/dist-packages/sklearn/metrics/_classification.py:1318: UndefinedMetricWarning: Precision and F-score are ill-defined and being set to 0.0 in labels with no predicted samples. Use `zero_division` parameter to control this behavior.\n",
            "  _warn_prf(average, modifier, msg_start, len(result))\n",
            "/usr/local/lib/python3.7/dist-packages/sklearn/metrics/_classification.py:1318: UndefinedMetricWarning: Precision and F-score are ill-defined and being set to 0.0 in labels with no predicted samples. Use `zero_division` parameter to control this behavior.\n",
            "  _warn_prf(average, modifier, msg_start, len(result))\n",
            "/usr/local/lib/python3.7/dist-packages/sklearn/metrics/_classification.py:1318: UndefinedMetricWarning: Precision and F-score are ill-defined and being set to 0.0 in labels with no predicted samples. Use `zero_division` parameter to control this behavior.\n",
            "  _warn_prf(average, modifier, msg_start, len(result))\n",
            "/usr/local/lib/python3.7/dist-packages/ipykernel_launcher.py:55: DeprecationWarning: time.clock has been deprecated in Python 3.3 and will be removed from Python 3.8: use time.perf_counter or time.process_time instead\n",
            "/usr/local/lib/python3.7/dist-packages/ipykernel_launcher.py:44: DeprecationWarning: time.clock has been deprecated in Python 3.3 and will be removed from Python 3.8: use time.perf_counter or time.process_time instead\n"
          ]
        },
        {
          "output_type": "stream",
          "name": "stdout",
          "text": [
            "              precision    recall  f1-score   support\n",
            "\n",
            "     AGAINST       0.58      1.00      0.74       172\n",
            "       FAVOR       0.00      0.00      0.00        45\n",
            "\n",
            "   micro avg       0.58      0.79      0.67       217\n",
            "   macro avg       0.29      0.50      0.37       217\n",
            "weighted avg       0.46      0.79      0.58       217\n",
            "\n",
            "Elapsed time0.24650600000000011seconds\n",
            "Iteration: 4\n"
          ]
        },
        {
          "output_type": "stream",
          "name": "stderr",
          "text": [
            "/usr/local/lib/python3.7/dist-packages/sklearn/metrics/_classification.py:1318: UndefinedMetricWarning: Precision and F-score are ill-defined and being set to 0.0 in labels with no predicted samples. Use `zero_division` parameter to control this behavior.\n",
            "  _warn_prf(average, modifier, msg_start, len(result))\n",
            "/usr/local/lib/python3.7/dist-packages/sklearn/metrics/_classification.py:1318: UndefinedMetricWarning: Precision and F-score are ill-defined and being set to 0.0 in labels with no predicted samples. Use `zero_division` parameter to control this behavior.\n",
            "  _warn_prf(average, modifier, msg_start, len(result))\n",
            "/usr/local/lib/python3.7/dist-packages/sklearn/metrics/_classification.py:1318: UndefinedMetricWarning: Precision and F-score are ill-defined and being set to 0.0 in labels with no predicted samples. Use `zero_division` parameter to control this behavior.\n",
            "  _warn_prf(average, modifier, msg_start, len(result))\n",
            "/usr/local/lib/python3.7/dist-packages/ipykernel_launcher.py:55: DeprecationWarning: time.clock has been deprecated in Python 3.3 and will be removed from Python 3.8: use time.perf_counter or time.process_time instead\n",
            "/usr/local/lib/python3.7/dist-packages/ipykernel_launcher.py:44: DeprecationWarning: time.clock has been deprecated in Python 3.3 and will be removed from Python 3.8: use time.perf_counter or time.process_time instead\n"
          ]
        },
        {
          "output_type": "stream",
          "name": "stdout",
          "text": [
            "              precision    recall  f1-score   support\n",
            "\n",
            "     AGAINST       0.58      1.00      0.74       172\n",
            "       FAVOR       0.00      0.00      0.00        45\n",
            "\n",
            "   micro avg       0.58      0.79      0.67       217\n",
            "   macro avg       0.29      0.50      0.37       217\n",
            "weighted avg       0.46      0.79      0.58       217\n",
            "\n",
            "Elapsed time0.24869699999999995seconds\n",
            "Iteration: 5\n"
          ]
        },
        {
          "output_type": "stream",
          "name": "stderr",
          "text": [
            "/usr/local/lib/python3.7/dist-packages/sklearn/metrics/_classification.py:1318: UndefinedMetricWarning: Precision and F-score are ill-defined and being set to 0.0 in labels with no predicted samples. Use `zero_division` parameter to control this behavior.\n",
            "  _warn_prf(average, modifier, msg_start, len(result))\n",
            "/usr/local/lib/python3.7/dist-packages/sklearn/metrics/_classification.py:1318: UndefinedMetricWarning: Precision and F-score are ill-defined and being set to 0.0 in labels with no predicted samples. Use `zero_division` parameter to control this behavior.\n",
            "  _warn_prf(average, modifier, msg_start, len(result))\n",
            "/usr/local/lib/python3.7/dist-packages/sklearn/metrics/_classification.py:1318: UndefinedMetricWarning: Precision and F-score are ill-defined and being set to 0.0 in labels with no predicted samples. Use `zero_division` parameter to control this behavior.\n",
            "  _warn_prf(average, modifier, msg_start, len(result))\n",
            "/usr/local/lib/python3.7/dist-packages/ipykernel_launcher.py:55: DeprecationWarning: time.clock has been deprecated in Python 3.3 and will be removed from Python 3.8: use time.perf_counter or time.process_time instead\n",
            "/usr/local/lib/python3.7/dist-packages/ipykernel_launcher.py:44: DeprecationWarning: time.clock has been deprecated in Python 3.3 and will be removed from Python 3.8: use time.perf_counter or time.process_time instead\n"
          ]
        },
        {
          "output_type": "stream",
          "name": "stdout",
          "text": [
            "              precision    recall  f1-score   support\n",
            "\n",
            "     AGAINST       0.58      1.00      0.74       172\n",
            "       FAVOR       0.00      0.00      0.00        45\n",
            "\n",
            "   micro avg       0.58      0.79      0.67       217\n",
            "   macro avg       0.29      0.50      0.37       217\n",
            "weighted avg       0.46      0.79      0.58       217\n",
            "\n",
            "Elapsed time0.2517719999999999seconds\n",
            "Iteration: 6\n"
          ]
        },
        {
          "output_type": "stream",
          "name": "stderr",
          "text": [
            "/usr/local/lib/python3.7/dist-packages/sklearn/metrics/_classification.py:1318: UndefinedMetricWarning: Precision and F-score are ill-defined and being set to 0.0 in labels with no predicted samples. Use `zero_division` parameter to control this behavior.\n",
            "  _warn_prf(average, modifier, msg_start, len(result))\n",
            "/usr/local/lib/python3.7/dist-packages/sklearn/metrics/_classification.py:1318: UndefinedMetricWarning: Precision and F-score are ill-defined and being set to 0.0 in labels with no predicted samples. Use `zero_division` parameter to control this behavior.\n",
            "  _warn_prf(average, modifier, msg_start, len(result))\n",
            "/usr/local/lib/python3.7/dist-packages/sklearn/metrics/_classification.py:1318: UndefinedMetricWarning: Precision and F-score are ill-defined and being set to 0.0 in labels with no predicted samples. Use `zero_division` parameter to control this behavior.\n",
            "  _warn_prf(average, modifier, msg_start, len(result))\n",
            "/usr/local/lib/python3.7/dist-packages/ipykernel_launcher.py:55: DeprecationWarning: time.clock has been deprecated in Python 3.3 and will be removed from Python 3.8: use time.perf_counter or time.process_time instead\n",
            "/usr/local/lib/python3.7/dist-packages/ipykernel_launcher.py:44: DeprecationWarning: time.clock has been deprecated in Python 3.3 and will be removed from Python 3.8: use time.perf_counter or time.process_time instead\n"
          ]
        },
        {
          "output_type": "stream",
          "name": "stdout",
          "text": [
            "              precision    recall  f1-score   support\n",
            "\n",
            "     AGAINST       0.58      1.00      0.74       172\n",
            "       FAVOR       0.00      0.00      0.00        45\n",
            "\n",
            "   micro avg       0.58      0.79      0.67       217\n",
            "   macro avg       0.29      0.50      0.37       217\n",
            "weighted avg       0.46      0.79      0.58       217\n",
            "\n",
            "Elapsed time0.2474210000000001seconds\n",
            "Iteration: 7\n"
          ]
        },
        {
          "output_type": "stream",
          "name": "stderr",
          "text": [
            "/usr/local/lib/python3.7/dist-packages/sklearn/metrics/_classification.py:1318: UndefinedMetricWarning: Precision and F-score are ill-defined and being set to 0.0 in labels with no predicted samples. Use `zero_division` parameter to control this behavior.\n",
            "  _warn_prf(average, modifier, msg_start, len(result))\n",
            "/usr/local/lib/python3.7/dist-packages/sklearn/metrics/_classification.py:1318: UndefinedMetricWarning: Precision and F-score are ill-defined and being set to 0.0 in labels with no predicted samples. Use `zero_division` parameter to control this behavior.\n",
            "  _warn_prf(average, modifier, msg_start, len(result))\n",
            "/usr/local/lib/python3.7/dist-packages/sklearn/metrics/_classification.py:1318: UndefinedMetricWarning: Precision and F-score are ill-defined and being set to 0.0 in labels with no predicted samples. Use `zero_division` parameter to control this behavior.\n",
            "  _warn_prf(average, modifier, msg_start, len(result))\n",
            "/usr/local/lib/python3.7/dist-packages/ipykernel_launcher.py:55: DeprecationWarning: time.clock has been deprecated in Python 3.3 and will be removed from Python 3.8: use time.perf_counter or time.process_time instead\n",
            "/usr/local/lib/python3.7/dist-packages/ipykernel_launcher.py:44: DeprecationWarning: time.clock has been deprecated in Python 3.3 and will be removed from Python 3.8: use time.perf_counter or time.process_time instead\n"
          ]
        },
        {
          "output_type": "stream",
          "name": "stdout",
          "text": [
            "              precision    recall  f1-score   support\n",
            "\n",
            "     AGAINST       0.59      0.99      0.74       172\n",
            "       FAVOR       0.00      0.00      0.00        45\n",
            "\n",
            "   micro avg       0.59      0.79      0.67       217\n",
            "   macro avg       0.29      0.50      0.37       217\n",
            "weighted avg       0.47      0.79      0.59       217\n",
            "\n",
            "Elapsed time0.2504880000000007seconds\n",
            "Iteration: 8\n"
          ]
        },
        {
          "output_type": "stream",
          "name": "stderr",
          "text": [
            "/usr/local/lib/python3.7/dist-packages/sklearn/metrics/_classification.py:1318: UndefinedMetricWarning: Precision and F-score are ill-defined and being set to 0.0 in labels with no predicted samples. Use `zero_division` parameter to control this behavior.\n",
            "  _warn_prf(average, modifier, msg_start, len(result))\n",
            "/usr/local/lib/python3.7/dist-packages/sklearn/metrics/_classification.py:1318: UndefinedMetricWarning: Precision and F-score are ill-defined and being set to 0.0 in labels with no predicted samples. Use `zero_division` parameter to control this behavior.\n",
            "  _warn_prf(average, modifier, msg_start, len(result))\n",
            "/usr/local/lib/python3.7/dist-packages/sklearn/metrics/_classification.py:1318: UndefinedMetricWarning: Precision and F-score are ill-defined and being set to 0.0 in labels with no predicted samples. Use `zero_division` parameter to control this behavior.\n",
            "  _warn_prf(average, modifier, msg_start, len(result))\n",
            "/usr/local/lib/python3.7/dist-packages/ipykernel_launcher.py:55: DeprecationWarning: time.clock has been deprecated in Python 3.3 and will be removed from Python 3.8: use time.perf_counter or time.process_time instead\n",
            "/usr/local/lib/python3.7/dist-packages/ipykernel_launcher.py:44: DeprecationWarning: time.clock has been deprecated in Python 3.3 and will be removed from Python 3.8: use time.perf_counter or time.process_time instead\n"
          ]
        },
        {
          "output_type": "stream",
          "name": "stdout",
          "text": [
            "              precision    recall  f1-score   support\n",
            "\n",
            "     AGAINST       0.59      0.99      0.74       172\n",
            "       FAVOR       0.00      0.00      0.00        45\n",
            "\n",
            "   micro avg       0.59      0.79      0.67       217\n",
            "   macro avg       0.29      0.50      0.37       217\n",
            "weighted avg       0.47      0.79      0.59       217\n",
            "\n",
            "Elapsed time0.24470800000000104seconds\n",
            "Iteration: 9\n"
          ]
        },
        {
          "output_type": "stream",
          "name": "stderr",
          "text": [
            "/usr/local/lib/python3.7/dist-packages/sklearn/metrics/_classification.py:1318: UndefinedMetricWarning: Precision and F-score are ill-defined and being set to 0.0 in labels with no predicted samples. Use `zero_division` parameter to control this behavior.\n",
            "  _warn_prf(average, modifier, msg_start, len(result))\n",
            "/usr/local/lib/python3.7/dist-packages/sklearn/metrics/_classification.py:1318: UndefinedMetricWarning: Precision and F-score are ill-defined and being set to 0.0 in labels with no predicted samples. Use `zero_division` parameter to control this behavior.\n",
            "  _warn_prf(average, modifier, msg_start, len(result))\n",
            "/usr/local/lib/python3.7/dist-packages/sklearn/metrics/_classification.py:1318: UndefinedMetricWarning: Precision and F-score are ill-defined and being set to 0.0 in labels with no predicted samples. Use `zero_division` parameter to control this behavior.\n",
            "  _warn_prf(average, modifier, msg_start, len(result))\n",
            "/usr/local/lib/python3.7/dist-packages/ipykernel_launcher.py:55: DeprecationWarning: time.clock has been deprecated in Python 3.3 and will be removed from Python 3.8: use time.perf_counter or time.process_time instead\n",
            "/usr/local/lib/python3.7/dist-packages/ipykernel_launcher.py:44: DeprecationWarning: time.clock has been deprecated in Python 3.3 and will be removed from Python 3.8: use time.perf_counter or time.process_time instead\n"
          ]
        },
        {
          "output_type": "stream",
          "name": "stdout",
          "text": [
            "              precision    recall  f1-score   support\n",
            "\n",
            "     AGAINST       0.59      0.99      0.74       172\n",
            "       FAVOR       0.00      0.00      0.00        45\n",
            "\n",
            "   micro avg       0.59      0.78      0.67       217\n",
            "   macro avg       0.30      0.49      0.37       217\n",
            "weighted avg       0.47      0.78      0.59       217\n",
            "\n",
            "Elapsed time0.2570699999999988seconds\n",
            "Iteration: 10\n",
            "              precision    recall  f1-score   support\n",
            "\n",
            "     AGAINST       0.61      0.98      0.75       172\n",
            "       FAVOR       1.00      0.02      0.04        45\n",
            "\n",
            "   micro avg       0.61      0.78      0.68       217\n",
            "   macro avg       0.80      0.50      0.40       217\n",
            "weighted avg       0.69      0.78      0.60       217\n",
            "\n",
            "Elapsed time0.24511399999999917seconds\n",
            "Iteration: 11\n"
          ]
        },
        {
          "output_type": "stream",
          "name": "stderr",
          "text": [
            "/usr/local/lib/python3.7/dist-packages/ipykernel_launcher.py:55: DeprecationWarning: time.clock has been deprecated in Python 3.3 and will be removed from Python 3.8: use time.perf_counter or time.process_time instead\n",
            "/usr/local/lib/python3.7/dist-packages/ipykernel_launcher.py:44: DeprecationWarning: time.clock has been deprecated in Python 3.3 and will be removed from Python 3.8: use time.perf_counter or time.process_time instead\n"
          ]
        },
        {
          "output_type": "stream",
          "name": "stdout",
          "text": [
            "              precision    recall  f1-score   support\n",
            "\n",
            "     AGAINST       0.61      0.98      0.75       172\n",
            "       FAVOR       1.00      0.02      0.04        45\n",
            "\n",
            "   micro avg       0.61      0.78      0.69       217\n",
            "   macro avg       0.81      0.50      0.40       217\n",
            "weighted avg       0.69      0.78      0.61       217\n",
            "\n",
            "Elapsed time0.2676380000000016seconds\n",
            "Iteration: 12\n"
          ]
        },
        {
          "output_type": "stream",
          "name": "stderr",
          "text": [
            "/usr/local/lib/python3.7/dist-packages/ipykernel_launcher.py:55: DeprecationWarning: time.clock has been deprecated in Python 3.3 and will be removed from Python 3.8: use time.perf_counter or time.process_time instead\n",
            "/usr/local/lib/python3.7/dist-packages/ipykernel_launcher.py:44: DeprecationWarning: time.clock has been deprecated in Python 3.3 and will be removed from Python 3.8: use time.perf_counter or time.process_time instead\n"
          ]
        },
        {
          "output_type": "stream",
          "name": "stdout",
          "text": [
            "              precision    recall  f1-score   support\n",
            "\n",
            "     AGAINST       0.61      0.98      0.75       172\n",
            "       FAVOR       1.00      0.02      0.04        45\n",
            "\n",
            "   micro avg       0.61      0.78      0.69       217\n",
            "   macro avg       0.81      0.50      0.40       217\n",
            "weighted avg       0.69      0.78      0.61       217\n",
            "\n",
            "Elapsed time0.2356309999999997seconds\n",
            "Iteration: 13\n"
          ]
        },
        {
          "output_type": "stream",
          "name": "stderr",
          "text": [
            "/usr/local/lib/python3.7/dist-packages/ipykernel_launcher.py:55: DeprecationWarning: time.clock has been deprecated in Python 3.3 and will be removed from Python 3.8: use time.perf_counter or time.process_time instead\n",
            "/usr/local/lib/python3.7/dist-packages/ipykernel_launcher.py:44: DeprecationWarning: time.clock has been deprecated in Python 3.3 and will be removed from Python 3.8: use time.perf_counter or time.process_time instead\n"
          ]
        },
        {
          "output_type": "stream",
          "name": "stdout",
          "text": [
            "              precision    recall  f1-score   support\n",
            "\n",
            "     AGAINST       0.61      0.98      0.75       172\n",
            "       FAVOR       1.00      0.02      0.04        45\n",
            "\n",
            "   micro avg       0.61      0.78      0.69       217\n",
            "   macro avg       0.81      0.50      0.40       217\n",
            "weighted avg       0.69      0.78      0.61       217\n",
            "\n",
            "Elapsed time0.2390220000000003seconds\n",
            "Iteration: 14\n"
          ]
        },
        {
          "output_type": "stream",
          "name": "stderr",
          "text": [
            "/usr/local/lib/python3.7/dist-packages/ipykernel_launcher.py:55: DeprecationWarning: time.clock has been deprecated in Python 3.3 and will be removed from Python 3.8: use time.perf_counter or time.process_time instead\n",
            "/usr/local/lib/python3.7/dist-packages/ipykernel_launcher.py:44: DeprecationWarning: time.clock has been deprecated in Python 3.3 and will be removed from Python 3.8: use time.perf_counter or time.process_time instead\n"
          ]
        },
        {
          "output_type": "stream",
          "name": "stdout",
          "text": [
            "              precision    recall  f1-score   support\n",
            "\n",
            "     AGAINST       0.62      0.98      0.76       172\n",
            "       FAVOR       1.00      0.04      0.09        45\n",
            "\n",
            "   micro avg       0.62      0.78      0.69       217\n",
            "   macro avg       0.81      0.51      0.42       217\n",
            "weighted avg       0.70      0.78      0.62       217\n",
            "\n",
            "Elapsed time0.25788400000000067seconds\n",
            "Iteration: 15\n"
          ]
        },
        {
          "output_type": "stream",
          "name": "stderr",
          "text": [
            "/usr/local/lib/python3.7/dist-packages/ipykernel_launcher.py:55: DeprecationWarning: time.clock has been deprecated in Python 3.3 and will be removed from Python 3.8: use time.perf_counter or time.process_time instead\n",
            "/usr/local/lib/python3.7/dist-packages/ipykernel_launcher.py:44: DeprecationWarning: time.clock has been deprecated in Python 3.3 and will be removed from Python 3.8: use time.perf_counter or time.process_time instead\n"
          ]
        },
        {
          "output_type": "stream",
          "name": "stdout",
          "text": [
            "              precision    recall  f1-score   support\n",
            "\n",
            "     AGAINST       0.62      0.97      0.75       172\n",
            "       FAVOR       1.00      0.04      0.09        45\n",
            "\n",
            "   micro avg       0.62      0.78      0.69       217\n",
            "   macro avg       0.81      0.51      0.42       217\n",
            "weighted avg       0.70      0.78      0.62       217\n",
            "\n",
            "Elapsed time0.2447329999999983seconds\n",
            "Iteration: 16\n"
          ]
        },
        {
          "output_type": "stream",
          "name": "stderr",
          "text": [
            "/usr/local/lib/python3.7/dist-packages/ipykernel_launcher.py:55: DeprecationWarning: time.clock has been deprecated in Python 3.3 and will be removed from Python 3.8: use time.perf_counter or time.process_time instead\n",
            "/usr/local/lib/python3.7/dist-packages/ipykernel_launcher.py:44: DeprecationWarning: time.clock has been deprecated in Python 3.3 and will be removed from Python 3.8: use time.perf_counter or time.process_time instead\n"
          ]
        },
        {
          "output_type": "stream",
          "name": "stdout",
          "text": [
            "              precision    recall  f1-score   support\n",
            "\n",
            "     AGAINST       0.62      0.97      0.76       172\n",
            "       FAVOR       0.75      0.07      0.12        45\n",
            "\n",
            "   micro avg       0.63      0.78      0.69       217\n",
            "   macro avg       0.69      0.52      0.44       217\n",
            "weighted avg       0.65      0.78      0.63       217\n",
            "\n",
            "Elapsed time0.24421800000000005seconds\n",
            "Iteration: 17\n"
          ]
        },
        {
          "output_type": "stream",
          "name": "stderr",
          "text": [
            "/usr/local/lib/python3.7/dist-packages/ipykernel_launcher.py:55: DeprecationWarning: time.clock has been deprecated in Python 3.3 and will be removed from Python 3.8: use time.perf_counter or time.process_time instead\n",
            "/usr/local/lib/python3.7/dist-packages/ipykernel_launcher.py:44: DeprecationWarning: time.clock has been deprecated in Python 3.3 and will be removed from Python 3.8: use time.perf_counter or time.process_time instead\n"
          ]
        },
        {
          "output_type": "stream",
          "name": "stdout",
          "text": [
            "              precision    recall  f1-score   support\n",
            "\n",
            "     AGAINST       0.62      0.96      0.76       172\n",
            "       FAVOR       0.75      0.07      0.12        45\n",
            "\n",
            "   micro avg       0.62      0.77      0.69       217\n",
            "   macro avg       0.69      0.51      0.44       217\n",
            "weighted avg       0.65      0.77      0.62       217\n",
            "\n",
            "Elapsed time0.24588999999999928seconds\n",
            "Iteration: 18\n"
          ]
        },
        {
          "output_type": "stream",
          "name": "stderr",
          "text": [
            "/usr/local/lib/python3.7/dist-packages/ipykernel_launcher.py:55: DeprecationWarning: time.clock has been deprecated in Python 3.3 and will be removed from Python 3.8: use time.perf_counter or time.process_time instead\n",
            "/usr/local/lib/python3.7/dist-packages/ipykernel_launcher.py:44: DeprecationWarning: time.clock has been deprecated in Python 3.3 and will be removed from Python 3.8: use time.perf_counter or time.process_time instead\n"
          ]
        },
        {
          "output_type": "stream",
          "name": "stdout",
          "text": [
            "              precision    recall  f1-score   support\n",
            "\n",
            "     AGAINST       0.63      0.96      0.76       172\n",
            "       FAVOR       0.67      0.09      0.16        45\n",
            "\n",
            "   micro avg       0.63      0.78      0.70       217\n",
            "   macro avg       0.65      0.52      0.46       217\n",
            "weighted avg       0.64      0.78      0.63       217\n",
            "\n",
            "Elapsed time0.24234899999999904seconds\n",
            "Iteration: 19\n"
          ]
        },
        {
          "output_type": "stream",
          "name": "stderr",
          "text": [
            "/usr/local/lib/python3.7/dist-packages/ipykernel_launcher.py:55: DeprecationWarning: time.clock has been deprecated in Python 3.3 and will be removed from Python 3.8: use time.perf_counter or time.process_time instead\n",
            "/usr/local/lib/python3.7/dist-packages/ipykernel_launcher.py:44: DeprecationWarning: time.clock has been deprecated in Python 3.3 and will be removed from Python 3.8: use time.perf_counter or time.process_time instead\n"
          ]
        },
        {
          "output_type": "stream",
          "name": "stdout",
          "text": [
            "              precision    recall  f1-score   support\n",
            "\n",
            "     AGAINST       0.64      0.96      0.77       172\n",
            "       FAVOR       0.80      0.18      0.29        45\n",
            "\n",
            "   micro avg       0.65      0.80      0.72       217\n",
            "   macro avg       0.72      0.57      0.53       217\n",
            "weighted avg       0.68      0.80      0.67       217\n",
            "\n",
            "Elapsed time0.24412399999999934seconds\n"
          ]
        },
        {
          "output_type": "stream",
          "name": "stderr",
          "text": [
            "/usr/local/lib/python3.7/dist-packages/ipykernel_launcher.py:55: DeprecationWarning: time.clock has been deprecated in Python 3.3 and will be removed from Python 3.8: use time.perf_counter or time.process_time instead\n"
          ]
        }
      ]
    },
    {
      "cell_type": "code",
      "source": [
        "textcat_bow = spacy.load(\"/content/drive/MyDrive/Colab Notebooks/2022-ILTAPP/resources/bow_Hillary_2016\")\n",
        "tweets = textcat_bow(test_texts[10])\n",
        "print(\"Text: \"+ test_texts[10])\n",
        "print(\"Gold Label:\"+ test_cats[10])\n",
        "print(\" Predicted Label:\") \n",
        "print(tweets.cats)\n",
        "print(\"=======================================\")"
      ],
      "metadata": {
        "colab": {
          "base_uri": "https://localhost:8080/"
        },
        "id": "6IQJ5ypWfeWZ",
        "outputId": "80d7f6a7-84db-4355-d6b3-cdeaa0b218e7"
      },
      "execution_count": 16,
      "outputs": [
        {
          "output_type": "stream",
          "name": "stdout",
          "text": [
            "Text: The government has given no explanation of why the law was changed macedonia HRCtte SemST\n",
            "Gold Label:AGAINST\n",
            " Predicted Label:\n",
            "{'AGAINST': 0.5614825487136841, 'FAVOR': 0.11962402611970901, 'NONE': 0.3188934624195099}\n",
            "=======================================\n"
          ]
        }
      ]
    },
    {
      "cell_type": "markdown",
      "source": [
        "# Trained classifiers for Legalization of abortion in the Stance SemEval 2016 dataset."
      ],
      "metadata": {
        "id": "W0gyNAd_euNC"
      }
    },
    {
      "cell_type": "code",
      "source": [
        "training_data, train_texts, train_cats = load_data_spacy('/content/drive/My Drive/Colab Notebooks/2022-ILTAPP/datasets/stance-semeval2016/train.Legalization of Abortion.tsv')\n",
        "print(training_data[:10])\n",
        "print(len(training_data))\n",
        "test_data, test_texts, test_cats = load_data_spacy('/content/drive/My Drive/Colab Notebooks/2022-ILTAPP/datasets/stance-semeval2016/test.Legalization of Abortion.tsv')\n",
        "print(len(test_data))"
      ],
      "metadata": {
        "colab": {
          "base_uri": "https://localhost:8080/"
        },
        "id": "kVR3NWkOew7s",
        "outputId": "0e131ce9-9543-4cba-b290-40a5442043ac"
      },
      "execution_count": 13,
      "outputs": [
        {
          "output_type": "stream",
          "name": "stdout",
          "text": [
            "AGAINST    355\n",
            "NONE       177\n",
            "FAVOR      121\n",
            "Name: Stance, dtype: int64\n",
            "[('Just laid down the law on abortion in my bioethics class. Catholic SemST', {'cats': {'AGAINST': 1, 'FAVOR': 0, 'NONE': 0}}), (\"tooprettyclub Are you OK with GOP males telling you what you can and can't do with your own body? SemST\", {'cats': {'AGAINST': 0, 'FAVOR': 1, 'NONE': 0}}), (\"If you don't want your kid, put it up for adoption. sorrynotsorry SemST\", {'cats': {'AGAINST': 1, 'FAVOR': 0, 'NONE': 0}}), ('RedAlert -there should be a \"stigma\" to butchering pre-born children - its a horrendous crime against humanity.  murder SemST', {'cats': {'AGAINST': 1, 'FAVOR': 0, 'NONE': 0}}), (\"But isn't that the problem then. Not enough faith. gaystapo socialism SemST\", {'cats': {'AGAINST': 0, 'FAVOR': 0, 'NONE': 1}}), ('Life is our first and most basic human right. SemST', {'cats': {'AGAINST': 1, 'FAVOR': 0, 'NONE': 0}}), (\"Rise & Shine its a new day & you're alive. Thank God 4 another day of precious life. Christian Catholic TeamJesus SemST\", {'cats': {'AGAINST': 1, 'FAVOR': 0, 'NONE': 0}}), (\"Lmao my school thinks giving women the right to an abortion is against feminism. They don't know feminism wtf SemST\", {'cats': {'AGAINST': 0, 'FAVOR': 1, 'NONE': 0}}), ('AsaSoltan putting abortion in with choices for women just won my heart over. Yaaaaaas! shahs SemST', {'cats': {'AGAINST': 0, 'FAVOR': 1, 'NONE': 0}}), ('Last meeting of the year tonight! 7:00 pm in Case Hall room 334A. Come one come all! Pizza and pop will be provided! SemST', {'cats': {'AGAINST': 0, 'FAVOR': 0, 'NONE': 1}})]\n",
            "653\n",
            "AGAINST    189\n",
            "FAVOR       46\n",
            "NONE        45\n",
            "Name: Stance, dtype: int64\n",
            "280\n"
          ]
        }
      ]
    },
    {
      "cell_type": "code",
      "source": [
        "def train_spacy(  train_data, iterations,test_texts,test_cats, model_arch, dropout = 0.3, model=None, init_tok2vec=None):\n",
        "    ''' Train a spacy NER model, which can be queried against with test data\n",
        "   \n",
        "    train_data : training data in the format of (sentence, {cats: ['AGAINST'|'FAVOR'|'NONE']})\n",
        "    labels : a list of unique annotations\n",
        "    iterations : number of training iterations\n",
        "    dropout : dropout proportion for training\n",
        "    display_freq : number of epochs between logging losses to console\n",
        "    '''\n",
        "    \n",
        "    nlp = spacy.load('en_core_web_sm')\n",
        "    \n",
        "\n",
        "    # add the text classifier to the pipeline if it doesn't exist\n",
        "    # nlp.create_pipe works for built-ins that are registered with spaCy\n",
        "    if \"textcat\" not in nlp.pipe_names:\n",
        "        textcat = nlp.create_pipe(\n",
        "            \"textcat\", config={\"exclusive_classes\": True, \"architecture\": model_arch}\n",
        "        )\n",
        "        nlp.add_pipe(textcat, last=True)\n",
        "         # otherwise, get it, so we can add labels to it\n",
        "    else:\n",
        "        textcat = nlp.get_pipe(\"textcat\")\n",
        "\n",
        "    # add label to text classifier\n",
        "    textcat.add_label(\"AGAINST\")\n",
        "    textcat.add_label(\"FAVOR\")\n",
        "    textcat.add_label(\"NONE\")\n",
        "\n",
        "\n",
        "    # get names of other pipes to disable them during training\n",
        "    pipe_exceptions = [\"textcat\", \"trf_wordpiecer\", \"trf_tok2vec\"]\n",
        "    other_pipes = [pipe for pipe in nlp.pipe_names if pipe not in pipe_exceptions]\n",
        "    with nlp.disable_pipes(*other_pipes):  # only train textcat\n",
        "        optimizer = nlp.begin_training()\n",
        "        if init_tok2vec is not None:\n",
        "            with init_tok2vec.open(\"rb\") as file_:\n",
        "                textcat.model.tok2vec.from_bytes(file_.read())\n",
        "        print(\"Training the model...\")\n",
        "        print(\"{:^5}\\t{:^5}\\t{:^5}\\t{:^5}\".format(\"LOSS\", \"P\", \"R\", \"F\"))\n",
        "        batch_sizes = compounding(16.0, 64.0, 1.5)\n",
        "        for i in range(iterations):\n",
        "            print('Iteration: '+str(i))\n",
        "            start_time = time.clock()\n",
        "            losses = {}\n",
        "            # batch up the examples using spaCy's minibatch\n",
        "            random.shuffle(train_data)\n",
        "            batches = minibatch(train_data, size=batch_sizes)\n",
        "            for batch in batches:\n",
        "                texts, annotations = zip(*batch)\n",
        "                nlp.update(texts, annotations, sgd=optimizer, drop=dropout, losses=losses)\n",
        "            with textcat.model.use_params(optimizer.averages):\n",
        "                # evaluate on the test data \n",
        "                evaluate(nlp.tokenizer, textcat, test_texts,test_cats)\n",
        "            print ('Elapsed time'+str(time.clock() - start_time)+  \"seconds\")\n",
        "        with nlp.use_params(optimizer.averages):\n",
        "            model_name = model_arch + \"_Legalization_of_abortion_Stance_Semeval2016\"\n",
        "            filepath = \"/content/drive/My Drive/Colab Notebooks/2022-ILTAPP/resources/\" + model_name \n",
        "            nlp.to_disk(filepath)\n",
        "    return nlp  "
      ],
      "metadata": {
        "id": "I6B-Fhahe2wP"
      },
      "execution_count": 14,
      "outputs": []
    },
    {
      "cell_type": "code",
      "source": [
        "nlp = train_spacy(training_data, 20, test_texts, test_cats, \"bow\")"
      ],
      "metadata": {
        "colab": {
          "base_uri": "https://localhost:8080/"
        },
        "id": "1GGamPy5fBqi",
        "outputId": "ea1afaae-06af-46af-d1e1-7da841b8812e"
      },
      "execution_count": 15,
      "outputs": [
        {
          "output_type": "stream",
          "name": "stdout",
          "text": [
            "Training the model...\n",
            "LOSS \t  P  \t  R  \t  F  \n",
            "Iteration: 0\n"
          ]
        },
        {
          "output_type": "stream",
          "name": "stderr",
          "text": [
            "/usr/local/lib/python3.7/dist-packages/ipykernel_launcher.py:44: DeprecationWarning: time.clock has been deprecated in Python 3.3 and will be removed from Python 3.8: use time.perf_counter or time.process_time instead\n",
            "/usr/local/lib/python3.7/dist-packages/sklearn/metrics/_classification.py:1318: UndefinedMetricWarning: Precision and F-score are ill-defined and being set to 0.0 in labels with no predicted samples. Use `zero_division` parameter to control this behavior.\n",
            "  _warn_prf(average, modifier, msg_start, len(result))\n",
            "/usr/local/lib/python3.7/dist-packages/sklearn/metrics/_classification.py:1318: UndefinedMetricWarning: Precision and F-score are ill-defined and being set to 0.0 in labels with no predicted samples. Use `zero_division` parameter to control this behavior.\n",
            "  _warn_prf(average, modifier, msg_start, len(result))\n",
            "/usr/local/lib/python3.7/dist-packages/sklearn/metrics/_classification.py:1318: UndefinedMetricWarning: Precision and F-score are ill-defined and being set to 0.0 in labels with no predicted samples. Use `zero_division` parameter to control this behavior.\n",
            "  _warn_prf(average, modifier, msg_start, len(result))\n",
            "/usr/local/lib/python3.7/dist-packages/ipykernel_launcher.py:55: DeprecationWarning: time.clock has been deprecated in Python 3.3 and will be removed from Python 3.8: use time.perf_counter or time.process_time instead\n",
            "/usr/local/lib/python3.7/dist-packages/ipykernel_launcher.py:44: DeprecationWarning: time.clock has been deprecated in Python 3.3 and will be removed from Python 3.8: use time.perf_counter or time.process_time instead\n"
          ]
        },
        {
          "output_type": "stream",
          "name": "stdout",
          "text": [
            "              precision    recall  f1-score   support\n",
            "\n",
            "     AGAINST       0.68      1.00      0.81       189\n",
            "       FAVOR       0.00      0.00      0.00        46\n",
            "\n",
            "   micro avg       0.68      0.80      0.73       235\n",
            "   macro avg       0.34      0.50      0.40       235\n",
            "weighted avg       0.54      0.80      0.65       235\n",
            "\n",
            "Elapsed time0.4854029999999998seconds\n",
            "Iteration: 1\n"
          ]
        },
        {
          "output_type": "stream",
          "name": "stderr",
          "text": [
            "/usr/local/lib/python3.7/dist-packages/sklearn/metrics/_classification.py:1318: UndefinedMetricWarning: Precision and F-score are ill-defined and being set to 0.0 in labels with no predicted samples. Use `zero_division` parameter to control this behavior.\n",
            "  _warn_prf(average, modifier, msg_start, len(result))\n",
            "/usr/local/lib/python3.7/dist-packages/sklearn/metrics/_classification.py:1318: UndefinedMetricWarning: Precision and F-score are ill-defined and being set to 0.0 in labels with no predicted samples. Use `zero_division` parameter to control this behavior.\n",
            "  _warn_prf(average, modifier, msg_start, len(result))\n",
            "/usr/local/lib/python3.7/dist-packages/sklearn/metrics/_classification.py:1318: UndefinedMetricWarning: Precision and F-score are ill-defined and being set to 0.0 in labels with no predicted samples. Use `zero_division` parameter to control this behavior.\n",
            "  _warn_prf(average, modifier, msg_start, len(result))\n",
            "/usr/local/lib/python3.7/dist-packages/ipykernel_launcher.py:55: DeprecationWarning: time.clock has been deprecated in Python 3.3 and will be removed from Python 3.8: use time.perf_counter or time.process_time instead\n",
            "/usr/local/lib/python3.7/dist-packages/ipykernel_launcher.py:44: DeprecationWarning: time.clock has been deprecated in Python 3.3 and will be removed from Python 3.8: use time.perf_counter or time.process_time instead\n"
          ]
        },
        {
          "output_type": "stream",
          "name": "stdout",
          "text": [
            "              precision    recall  f1-score   support\n",
            "\n",
            "     AGAINST       0.68      1.00      0.81       189\n",
            "       FAVOR       0.00      0.00      0.00        46\n",
            "\n",
            "   micro avg       0.68      0.80      0.73       235\n",
            "   macro avg       0.34      0.50      0.40       235\n",
            "weighted avg       0.54      0.80      0.65       235\n",
            "\n",
            "Elapsed time0.24044799999999888seconds\n",
            "Iteration: 2\n"
          ]
        },
        {
          "output_type": "stream",
          "name": "stderr",
          "text": [
            "/usr/local/lib/python3.7/dist-packages/sklearn/metrics/_classification.py:1318: UndefinedMetricWarning: Precision and F-score are ill-defined and being set to 0.0 in labels with no predicted samples. Use `zero_division` parameter to control this behavior.\n",
            "  _warn_prf(average, modifier, msg_start, len(result))\n",
            "/usr/local/lib/python3.7/dist-packages/sklearn/metrics/_classification.py:1318: UndefinedMetricWarning: Precision and F-score are ill-defined and being set to 0.0 in labels with no predicted samples. Use `zero_division` parameter to control this behavior.\n",
            "  _warn_prf(average, modifier, msg_start, len(result))\n",
            "/usr/local/lib/python3.7/dist-packages/sklearn/metrics/_classification.py:1318: UndefinedMetricWarning: Precision and F-score are ill-defined and being set to 0.0 in labels with no predicted samples. Use `zero_division` parameter to control this behavior.\n",
            "  _warn_prf(average, modifier, msg_start, len(result))\n",
            "/usr/local/lib/python3.7/dist-packages/ipykernel_launcher.py:55: DeprecationWarning: time.clock has been deprecated in Python 3.3 and will be removed from Python 3.8: use time.perf_counter or time.process_time instead\n",
            "/usr/local/lib/python3.7/dist-packages/ipykernel_launcher.py:44: DeprecationWarning: time.clock has been deprecated in Python 3.3 and will be removed from Python 3.8: use time.perf_counter or time.process_time instead\n"
          ]
        },
        {
          "output_type": "stream",
          "name": "stdout",
          "text": [
            "              precision    recall  f1-score   support\n",
            "\n",
            "     AGAINST       0.68      1.00      0.81       189\n",
            "       FAVOR       0.00      0.00      0.00        46\n",
            "\n",
            "   micro avg       0.68      0.80      0.73       235\n",
            "   macro avg       0.34      0.50      0.40       235\n",
            "weighted avg       0.54      0.80      0.65       235\n",
            "\n",
            "Elapsed time0.24001100000000086seconds\n",
            "Iteration: 3\n"
          ]
        },
        {
          "output_type": "stream",
          "name": "stderr",
          "text": [
            "/usr/local/lib/python3.7/dist-packages/sklearn/metrics/_classification.py:1318: UndefinedMetricWarning: Precision and F-score are ill-defined and being set to 0.0 in labels with no predicted samples. Use `zero_division` parameter to control this behavior.\n",
            "  _warn_prf(average, modifier, msg_start, len(result))\n",
            "/usr/local/lib/python3.7/dist-packages/sklearn/metrics/_classification.py:1318: UndefinedMetricWarning: Precision and F-score are ill-defined and being set to 0.0 in labels with no predicted samples. Use `zero_division` parameter to control this behavior.\n",
            "  _warn_prf(average, modifier, msg_start, len(result))\n",
            "/usr/local/lib/python3.7/dist-packages/sklearn/metrics/_classification.py:1318: UndefinedMetricWarning: Precision and F-score are ill-defined and being set to 0.0 in labels with no predicted samples. Use `zero_division` parameter to control this behavior.\n",
            "  _warn_prf(average, modifier, msg_start, len(result))\n",
            "/usr/local/lib/python3.7/dist-packages/ipykernel_launcher.py:55: DeprecationWarning: time.clock has been deprecated in Python 3.3 and will be removed from Python 3.8: use time.perf_counter or time.process_time instead\n",
            "/usr/local/lib/python3.7/dist-packages/ipykernel_launcher.py:44: DeprecationWarning: time.clock has been deprecated in Python 3.3 and will be removed from Python 3.8: use time.perf_counter or time.process_time instead\n"
          ]
        },
        {
          "output_type": "stream",
          "name": "stdout",
          "text": [
            "              precision    recall  f1-score   support\n",
            "\n",
            "     AGAINST       0.68      1.00      0.81       189\n",
            "       FAVOR       0.00      0.00      0.00        46\n",
            "\n",
            "   micro avg       0.68      0.80      0.74       235\n",
            "   macro avg       0.34      0.50      0.40       235\n",
            "weighted avg       0.54      0.80      0.65       235\n",
            "\n",
            "Elapsed time0.23876100000000022seconds\n",
            "Iteration: 4\n"
          ]
        },
        {
          "output_type": "stream",
          "name": "stderr",
          "text": [
            "/usr/local/lib/python3.7/dist-packages/sklearn/metrics/_classification.py:1318: UndefinedMetricWarning: Precision and F-score are ill-defined and being set to 0.0 in labels with no predicted samples. Use `zero_division` parameter to control this behavior.\n",
            "  _warn_prf(average, modifier, msg_start, len(result))\n",
            "/usr/local/lib/python3.7/dist-packages/sklearn/metrics/_classification.py:1318: UndefinedMetricWarning: Precision and F-score are ill-defined and being set to 0.0 in labels with no predicted samples. Use `zero_division` parameter to control this behavior.\n",
            "  _warn_prf(average, modifier, msg_start, len(result))\n",
            "/usr/local/lib/python3.7/dist-packages/sklearn/metrics/_classification.py:1318: UndefinedMetricWarning: Precision and F-score are ill-defined and being set to 0.0 in labels with no predicted samples. Use `zero_division` parameter to control this behavior.\n",
            "  _warn_prf(average, modifier, msg_start, len(result))\n",
            "/usr/local/lib/python3.7/dist-packages/ipykernel_launcher.py:55: DeprecationWarning: time.clock has been deprecated in Python 3.3 and will be removed from Python 3.8: use time.perf_counter or time.process_time instead\n",
            "/usr/local/lib/python3.7/dist-packages/ipykernel_launcher.py:44: DeprecationWarning: time.clock has been deprecated in Python 3.3 and will be removed from Python 3.8: use time.perf_counter or time.process_time instead\n"
          ]
        },
        {
          "output_type": "stream",
          "name": "stdout",
          "text": [
            "              precision    recall  f1-score   support\n",
            "\n",
            "     AGAINST       0.68      1.00      0.81       189\n",
            "       FAVOR       0.00      0.00      0.00        46\n",
            "\n",
            "   micro avg       0.68      0.80      0.74       235\n",
            "   macro avg       0.34      0.50      0.40       235\n",
            "weighted avg       0.54      0.80      0.65       235\n",
            "\n",
            "Elapsed time0.24001999999999946seconds\n",
            "Iteration: 5\n"
          ]
        },
        {
          "output_type": "stream",
          "name": "stderr",
          "text": [
            "/usr/local/lib/python3.7/dist-packages/sklearn/metrics/_classification.py:1318: UndefinedMetricWarning: Precision and F-score are ill-defined and being set to 0.0 in labels with no predicted samples. Use `zero_division` parameter to control this behavior.\n",
            "  _warn_prf(average, modifier, msg_start, len(result))\n",
            "/usr/local/lib/python3.7/dist-packages/sklearn/metrics/_classification.py:1318: UndefinedMetricWarning: Precision and F-score are ill-defined and being set to 0.0 in labels with no predicted samples. Use `zero_division` parameter to control this behavior.\n",
            "  _warn_prf(average, modifier, msg_start, len(result))\n",
            "/usr/local/lib/python3.7/dist-packages/sklearn/metrics/_classification.py:1318: UndefinedMetricWarning: Precision and F-score are ill-defined and being set to 0.0 in labels with no predicted samples. Use `zero_division` parameter to control this behavior.\n",
            "  _warn_prf(average, modifier, msg_start, len(result))\n",
            "/usr/local/lib/python3.7/dist-packages/ipykernel_launcher.py:55: DeprecationWarning: time.clock has been deprecated in Python 3.3 and will be removed from Python 3.8: use time.perf_counter or time.process_time instead\n",
            "/usr/local/lib/python3.7/dist-packages/ipykernel_launcher.py:44: DeprecationWarning: time.clock has been deprecated in Python 3.3 and will be removed from Python 3.8: use time.perf_counter or time.process_time instead\n"
          ]
        },
        {
          "output_type": "stream",
          "name": "stdout",
          "text": [
            "              precision    recall  f1-score   support\n",
            "\n",
            "     AGAINST       0.68      1.00      0.81       189\n",
            "       FAVOR       0.00      0.00      0.00        46\n",
            "\n",
            "   micro avg       0.68      0.80      0.74       235\n",
            "   macro avg       0.34      0.50      0.40       235\n",
            "weighted avg       0.54      0.80      0.65       235\n",
            "\n",
            "Elapsed time0.24592100000000094seconds\n",
            "Iteration: 6\n",
            "              precision    recall  f1-score   support\n",
            "\n",
            "     AGAINST       0.68      1.00      0.81       189\n",
            "       FAVOR       1.00      0.02      0.04        46\n",
            "\n",
            "   micro avg       0.68      0.81      0.74       235\n",
            "   macro avg       0.84      0.51      0.43       235\n",
            "weighted avg       0.74      0.81      0.66       235\n",
            "\n",
            "Elapsed time0.24170200000000008seconds\n",
            "Iteration: 7\n"
          ]
        },
        {
          "output_type": "stream",
          "name": "stderr",
          "text": [
            "/usr/local/lib/python3.7/dist-packages/ipykernel_launcher.py:55: DeprecationWarning: time.clock has been deprecated in Python 3.3 and will be removed from Python 3.8: use time.perf_counter or time.process_time instead\n",
            "/usr/local/lib/python3.7/dist-packages/ipykernel_launcher.py:44: DeprecationWarning: time.clock has been deprecated in Python 3.3 and will be removed from Python 3.8: use time.perf_counter or time.process_time instead\n"
          ]
        },
        {
          "output_type": "stream",
          "name": "stdout",
          "text": [
            "              precision    recall  f1-score   support\n",
            "\n",
            "     AGAINST       0.68      0.99      0.81       189\n",
            "       FAVOR       0.67      0.04      0.08        46\n",
            "\n",
            "   micro avg       0.68      0.81      0.74       235\n",
            "   macro avg       0.67      0.52      0.45       235\n",
            "weighted avg       0.68      0.81      0.67       235\n",
            "\n",
            "Elapsed time0.24260799999999882seconds\n",
            "Iteration: 8\n"
          ]
        },
        {
          "output_type": "stream",
          "name": "stderr",
          "text": [
            "/usr/local/lib/python3.7/dist-packages/ipykernel_launcher.py:55: DeprecationWarning: time.clock has been deprecated in Python 3.3 and will be removed from Python 3.8: use time.perf_counter or time.process_time instead\n",
            "/usr/local/lib/python3.7/dist-packages/ipykernel_launcher.py:44: DeprecationWarning: time.clock has been deprecated in Python 3.3 and will be removed from Python 3.8: use time.perf_counter or time.process_time instead\n"
          ]
        },
        {
          "output_type": "stream",
          "name": "stdout",
          "text": [
            "              precision    recall  f1-score   support\n",
            "\n",
            "     AGAINST       0.68      0.97      0.80       189\n",
            "       FAVOR       0.33      0.04      0.08        46\n",
            "\n",
            "   micro avg       0.67      0.79      0.73       235\n",
            "   macro avg       0.51      0.51      0.44       235\n",
            "weighted avg       0.61      0.79      0.66       235\n",
            "\n",
            "Elapsed time0.23719999999999963seconds\n",
            "Iteration: 9\n"
          ]
        },
        {
          "output_type": "stream",
          "name": "stderr",
          "text": [
            "/usr/local/lib/python3.7/dist-packages/ipykernel_launcher.py:55: DeprecationWarning: time.clock has been deprecated in Python 3.3 and will be removed from Python 3.8: use time.perf_counter or time.process_time instead\n",
            "/usr/local/lib/python3.7/dist-packages/ipykernel_launcher.py:44: DeprecationWarning: time.clock has been deprecated in Python 3.3 and will be removed from Python 3.8: use time.perf_counter or time.process_time instead\n"
          ]
        },
        {
          "output_type": "stream",
          "name": "stdout",
          "text": [
            "              precision    recall  f1-score   support\n",
            "\n",
            "     AGAINST       0.69      0.97      0.81       189\n",
            "       FAVOR       0.50      0.09      0.15        46\n",
            "\n",
            "   micro avg       0.68      0.80      0.74       235\n",
            "   macro avg       0.59      0.53      0.48       235\n",
            "weighted avg       0.65      0.80      0.68       235\n",
            "\n",
            "Elapsed time0.23941999999999908seconds\n",
            "Iteration: 10\n"
          ]
        },
        {
          "output_type": "stream",
          "name": "stderr",
          "text": [
            "/usr/local/lib/python3.7/dist-packages/ipykernel_launcher.py:55: DeprecationWarning: time.clock has been deprecated in Python 3.3 and will be removed from Python 3.8: use time.perf_counter or time.process_time instead\n",
            "/usr/local/lib/python3.7/dist-packages/ipykernel_launcher.py:44: DeprecationWarning: time.clock has been deprecated in Python 3.3 and will be removed from Python 3.8: use time.perf_counter or time.process_time instead\n"
          ]
        },
        {
          "output_type": "stream",
          "name": "stdout",
          "text": [
            "              precision    recall  f1-score   support\n",
            "\n",
            "     AGAINST       0.69      0.96      0.81       189\n",
            "       FAVOR       0.50      0.11      0.18        46\n",
            "\n",
            "   micro avg       0.68      0.80      0.74       235\n",
            "   macro avg       0.60      0.54      0.49       235\n",
            "weighted avg       0.65      0.80      0.68       235\n",
            "\n",
            "Elapsed time0.23933900000000108seconds\n",
            "Iteration: 11\n"
          ]
        },
        {
          "output_type": "stream",
          "name": "stderr",
          "text": [
            "/usr/local/lib/python3.7/dist-packages/ipykernel_launcher.py:55: DeprecationWarning: time.clock has been deprecated in Python 3.3 and will be removed from Python 3.8: use time.perf_counter or time.process_time instead\n",
            "/usr/local/lib/python3.7/dist-packages/ipykernel_launcher.py:44: DeprecationWarning: time.clock has been deprecated in Python 3.3 and will be removed from Python 3.8: use time.perf_counter or time.process_time instead\n"
          ]
        },
        {
          "output_type": "stream",
          "name": "stdout",
          "text": [
            "              precision    recall  f1-score   support\n",
            "\n",
            "     AGAINST       0.70      0.95      0.81       189\n",
            "       FAVOR       0.50      0.15      0.23        46\n",
            "\n",
            "   micro avg       0.69      0.79      0.74       235\n",
            "   macro avg       0.60      0.55      0.52       235\n",
            "weighted avg       0.66      0.79      0.70       235\n",
            "\n",
            "Elapsed time0.24096400000000173seconds\n",
            "Iteration: 12\n"
          ]
        },
        {
          "output_type": "stream",
          "name": "stderr",
          "text": [
            "/usr/local/lib/python3.7/dist-packages/ipykernel_launcher.py:55: DeprecationWarning: time.clock has been deprecated in Python 3.3 and will be removed from Python 3.8: use time.perf_counter or time.process_time instead\n",
            "/usr/local/lib/python3.7/dist-packages/ipykernel_launcher.py:44: DeprecationWarning: time.clock has been deprecated in Python 3.3 and will be removed from Python 3.8: use time.perf_counter or time.process_time instead\n"
          ]
        },
        {
          "output_type": "stream",
          "name": "stdout",
          "text": [
            "              precision    recall  f1-score   support\n",
            "\n",
            "     AGAINST       0.71      0.94      0.81       189\n",
            "       FAVOR       0.53      0.20      0.29        46\n",
            "\n",
            "   micro avg       0.70      0.80      0.74       235\n",
            "   macro avg       0.62      0.57      0.55       235\n",
            "weighted avg       0.67      0.80      0.71       235\n",
            "\n",
            "Elapsed time0.2482830000000007seconds\n",
            "Iteration: 13\n"
          ]
        },
        {
          "output_type": "stream",
          "name": "stderr",
          "text": [
            "/usr/local/lib/python3.7/dist-packages/ipykernel_launcher.py:55: DeprecationWarning: time.clock has been deprecated in Python 3.3 and will be removed from Python 3.8: use time.perf_counter or time.process_time instead\n",
            "/usr/local/lib/python3.7/dist-packages/ipykernel_launcher.py:44: DeprecationWarning: time.clock has been deprecated in Python 3.3 and will be removed from Python 3.8: use time.perf_counter or time.process_time instead\n"
          ]
        },
        {
          "output_type": "stream",
          "name": "stdout",
          "text": [
            "              precision    recall  f1-score   support\n",
            "\n",
            "     AGAINST       0.71      0.94      0.81       189\n",
            "       FAVOR       0.56      0.22      0.31        46\n",
            "\n",
            "   micro avg       0.70      0.80      0.75       235\n",
            "   macro avg       0.63      0.58      0.56       235\n",
            "weighted avg       0.68      0.80      0.71       235\n",
            "\n",
            "Elapsed time0.2397229999999979seconds\n",
            "Iteration: 14\n"
          ]
        },
        {
          "output_type": "stream",
          "name": "stderr",
          "text": [
            "/usr/local/lib/python3.7/dist-packages/ipykernel_launcher.py:55: DeprecationWarning: time.clock has been deprecated in Python 3.3 and will be removed from Python 3.8: use time.perf_counter or time.process_time instead\n",
            "/usr/local/lib/python3.7/dist-packages/ipykernel_launcher.py:44: DeprecationWarning: time.clock has been deprecated in Python 3.3 and will be removed from Python 3.8: use time.perf_counter or time.process_time instead\n"
          ]
        },
        {
          "output_type": "stream",
          "name": "stdout",
          "text": [
            "              precision    recall  f1-score   support\n",
            "\n",
            "     AGAINST       0.71      0.93      0.81       189\n",
            "       FAVOR       0.56      0.22      0.31        46\n",
            "\n",
            "   micro avg       0.70      0.79      0.74       235\n",
            "   macro avg       0.63      0.57      0.56       235\n",
            "weighted avg       0.68      0.79      0.71       235\n",
            "\n",
            "Elapsed time0.25185300000000055seconds\n",
            "Iteration: 15\n"
          ]
        },
        {
          "output_type": "stream",
          "name": "stderr",
          "text": [
            "/usr/local/lib/python3.7/dist-packages/ipykernel_launcher.py:55: DeprecationWarning: time.clock has been deprecated in Python 3.3 and will be removed from Python 3.8: use time.perf_counter or time.process_time instead\n",
            "/usr/local/lib/python3.7/dist-packages/ipykernel_launcher.py:44: DeprecationWarning: time.clock has been deprecated in Python 3.3 and will be removed from Python 3.8: use time.perf_counter or time.process_time instead\n"
          ]
        },
        {
          "output_type": "stream",
          "name": "stdout",
          "text": [
            "              precision    recall  f1-score   support\n",
            "\n",
            "     AGAINST       0.72      0.93      0.81       189\n",
            "       FAVOR       0.60      0.26      0.36        46\n",
            "\n",
            "   micro avg       0.71      0.80      0.75       235\n",
            "   macro avg       0.66      0.59      0.59       235\n",
            "weighted avg       0.70      0.80      0.72       235\n",
            "\n",
            "Elapsed time0.2337239999999987seconds\n",
            "Iteration: 16\n"
          ]
        },
        {
          "output_type": "stream",
          "name": "stderr",
          "text": [
            "/usr/local/lib/python3.7/dist-packages/ipykernel_launcher.py:55: DeprecationWarning: time.clock has been deprecated in Python 3.3 and will be removed from Python 3.8: use time.perf_counter or time.process_time instead\n",
            "/usr/local/lib/python3.7/dist-packages/ipykernel_launcher.py:44: DeprecationWarning: time.clock has been deprecated in Python 3.3 and will be removed from Python 3.8: use time.perf_counter or time.process_time instead\n"
          ]
        },
        {
          "output_type": "stream",
          "name": "stdout",
          "text": [
            "              precision    recall  f1-score   support\n",
            "\n",
            "     AGAINST       0.72      0.91      0.80       189\n",
            "       FAVOR       0.57      0.26      0.36        46\n",
            "\n",
            "   micro avg       0.70      0.78      0.74       235\n",
            "   macro avg       0.64      0.59      0.58       235\n",
            "weighted avg       0.69      0.78      0.72       235\n",
            "\n",
            "Elapsed time0.22728199999999887seconds\n",
            "Iteration: 17\n"
          ]
        },
        {
          "output_type": "stream",
          "name": "stderr",
          "text": [
            "/usr/local/lib/python3.7/dist-packages/ipykernel_launcher.py:55: DeprecationWarning: time.clock has been deprecated in Python 3.3 and will be removed from Python 3.8: use time.perf_counter or time.process_time instead\n",
            "/usr/local/lib/python3.7/dist-packages/ipykernel_launcher.py:44: DeprecationWarning: time.clock has been deprecated in Python 3.3 and will be removed from Python 3.8: use time.perf_counter or time.process_time instead\n"
          ]
        },
        {
          "output_type": "stream",
          "name": "stdout",
          "text": [
            "              precision    recall  f1-score   support\n",
            "\n",
            "     AGAINST       0.72      0.89      0.79       189\n",
            "       FAVOR       0.52      0.28      0.37        46\n",
            "\n",
            "   micro avg       0.70      0.77      0.73       235\n",
            "   macro avg       0.62      0.59      0.58       235\n",
            "weighted avg       0.68      0.77      0.71       235\n",
            "\n",
            "Elapsed time0.23790500000000137seconds\n",
            "Iteration: 18\n"
          ]
        },
        {
          "output_type": "stream",
          "name": "stderr",
          "text": [
            "/usr/local/lib/python3.7/dist-packages/ipykernel_launcher.py:55: DeprecationWarning: time.clock has been deprecated in Python 3.3 and will be removed from Python 3.8: use time.perf_counter or time.process_time instead\n",
            "/usr/local/lib/python3.7/dist-packages/ipykernel_launcher.py:44: DeprecationWarning: time.clock has been deprecated in Python 3.3 and will be removed from Python 3.8: use time.perf_counter or time.process_time instead\n"
          ]
        },
        {
          "output_type": "stream",
          "name": "stdout",
          "text": [
            "              precision    recall  f1-score   support\n",
            "\n",
            "     AGAINST       0.72      0.87      0.79       189\n",
            "       FAVOR       0.52      0.30      0.38        46\n",
            "\n",
            "   micro avg       0.70      0.76      0.73       235\n",
            "   macro avg       0.62      0.59      0.59       235\n",
            "weighted avg       0.68      0.76      0.71       235\n",
            "\n",
            "Elapsed time0.24111999999999867seconds\n",
            "Iteration: 19\n"
          ]
        },
        {
          "output_type": "stream",
          "name": "stderr",
          "text": [
            "/usr/local/lib/python3.7/dist-packages/ipykernel_launcher.py:55: DeprecationWarning: time.clock has been deprecated in Python 3.3 and will be removed from Python 3.8: use time.perf_counter or time.process_time instead\n",
            "/usr/local/lib/python3.7/dist-packages/ipykernel_launcher.py:44: DeprecationWarning: time.clock has been deprecated in Python 3.3 and will be removed from Python 3.8: use time.perf_counter or time.process_time instead\n"
          ]
        },
        {
          "output_type": "stream",
          "name": "stdout",
          "text": [
            "              precision    recall  f1-score   support\n",
            "\n",
            "     AGAINST       0.72      0.85      0.78       189\n",
            "       FAVOR       0.50      0.33      0.39        46\n",
            "\n",
            "   micro avg       0.69      0.75      0.72       235\n",
            "   macro avg       0.61      0.59      0.59       235\n",
            "weighted avg       0.68      0.75      0.70       235\n",
            "\n",
            "Elapsed time0.22512500000000202seconds\n"
          ]
        },
        {
          "output_type": "stream",
          "name": "stderr",
          "text": [
            "/usr/local/lib/python3.7/dist-packages/ipykernel_launcher.py:55: DeprecationWarning: time.clock has been deprecated in Python 3.3 and will be removed from Python 3.8: use time.perf_counter or time.process_time instead\n"
          ]
        }
      ]
    },
    {
      "cell_type": "code",
      "source": [
        "textcat_bow = spacy.load(\"/content/drive/MyDrive/Colab Notebooks/2022-ILTAPP/resources/bow_Legalization_of_abortion_Stance_Semeval2016\")\n",
        "tweets = textcat_bow(test_texts[10])\n",
        "print(\"Text: \"+ test_texts[10])\n",
        "print(\"Gold Label:\"+ test_cats[10])\n",
        "print(\" Predicted Label:\") \n",
        "print(tweets.cats)\n",
        "print(\"=======================================\")"
      ],
      "metadata": {
        "colab": {
          "base_uri": "https://localhost:8080/"
        },
        "id": "u1dCw50FfKJ7",
        "outputId": "430cd64a-0b01-41b9-9055-68c21ae1baf1"
      },
      "execution_count": 17,
      "outputs": [
        {
          "output_type": "stream",
          "name": "stdout",
          "text": [
            "Text: The government has given no explanation of why the law was changed macedonia HRCtte SemST\n",
            "Gold Label:AGAINST\n",
            " Predicted Label:\n",
            "{'AGAINST': 0.5957818627357483, 'FAVOR': 0.1288515031337738, 'NONE': 0.2753666341304779}\n",
            "=======================================\n"
          ]
        }
      ]
    },
    {
      "cell_type": "markdown",
      "source": [
        "# Trained classifiers for Climate change in the Stance SemEval 2016 dataset"
      ],
      "metadata": {
        "id": "BgHkRg1Mf3Ew"
      }
    },
    {
      "cell_type": "code",
      "source": [
        "training_data, train_texts, train_cats = load_data_spacy('/content/drive/My Drive/Colab Notebooks/2022-ILTAPP/datasets/stance-semeval2016/train.Climate Change is a Real Concern.tsv')\n",
        "print(training_data[:10])\n",
        "print(len(training_data))\n",
        "test_data, test_texts, test_cats = load_data_spacy('/content/drive/My Drive/Colab Notebooks/2022-ILTAPP/datasets/stance-semeval2016/test.Climate Change is a Real Concern.tsv')\n",
        "print(len(test_data))"
      ],
      "metadata": {
        "colab": {
          "base_uri": "https://localhost:8080/"
        },
        "id": "ksxcMbePgAF1",
        "outputId": "c56bd228-8e28-4df0-947d-5decf0f7c08d"
      },
      "execution_count": 18,
      "outputs": [
        {
          "output_type": "stream",
          "name": "stdout",
          "text": [
            "FAVOR      212\n",
            "NONE       168\n",
            "AGAINST     15\n",
            "Name: Stance, dtype: int64\n",
            "[('We cant deny it, its really happening.  SemST', {'cats': {'AGAINST': 0, 'FAVOR': 1, 'NONE': 0}}), ('RT cderworiz: Timelines are short. Strategy must be in place by climate change conference in Paris by December. ableg SemST', {'cats': {'AGAINST': 0, 'FAVOR': 1, 'NONE': 0}}), ('SO EXCITING! Meaningful climate change action is on the way! abpoli GHG SemST', {'cats': {'AGAINST': 0, 'FAVOR': 1, 'NONE': 0}}), ('Delivering good jobs for Albertans, maintaining a stable economy & meeting climate change strategy. Good goals. abpoli GHG SemST', {'cats': {'AGAINST': 0, 'FAVOR': 1, 'NONE': 0}}), ('davidswann says he wants carbon fund to be spent on public transportation and renewable energy. ejlive ableg SemST', {'cats': {'AGAINST': 0, 'FAVOR': 1, 'NONE': 0}}), ('Questions about the LancetGH report?  asklancet tweet chat happening now! actonclimate ClimateHealth SemST', {'cats': {'AGAINST': 0, 'FAVOR': 1, 'NONE': 0}}), ('We are working to elect climate-friendly governments across North America FeelTheBern NDP LPC GPC BQ HARPERPAC.CA SemST', {'cats': {'AGAINST': 0, 'FAVOR': 1, 'NONE': 0}}), ('ChrisLeinberger :  change from drivable to walkable = 1 benefit 4 APANE2015 SemST', {'cats': {'AGAINST': 0, 'FAVOR': 1, 'NONE': 0}}), ('Our amazing ESS15 panel gkremen, SuffolkBuilds, maxfieldweiss & Oakland on how to prepare & protect BayArea region from SemST', {'cats': {'AGAINST': 0, 'FAVOR': 1, 'NONE': 0}}), ('The Climate Change people are disgusting assholes. Money transfer scheme for elite. May you rot.   SemST', {'cats': {'AGAINST': 1, 'FAVOR': 0, 'NONE': 0}})]\n",
            "395\n",
            "FAVOR      123\n",
            "NONE        35\n",
            "AGAINST     11\n",
            "Name: Stance, dtype: int64\n",
            "169\n"
          ]
        }
      ]
    },
    {
      "cell_type": "code",
      "source": [
        "def train_spacy(  train_data, iterations,test_texts,test_cats, model_arch, dropout = 0.3, model=None, init_tok2vec=None):\n",
        "    ''' Train a spacy NER model, which can be queried against with test data\n",
        "   \n",
        "    train_data : training data in the format of (sentence, {cats: ['AGAINST'|'FAVOR'|'NONE']})\n",
        "    labels : a list of unique annotations\n",
        "    iterations : number of training iterations\n",
        "    dropout : dropout proportion for training\n",
        "    display_freq : number of epochs between logging losses to console\n",
        "    '''\n",
        "    \n",
        "    nlp = spacy.load('en_core_web_sm')\n",
        "    \n",
        "\n",
        "    # add the text classifier to the pipeline if it doesn't exist\n",
        "    # nlp.create_pipe works for built-ins that are registered with spaCy\n",
        "    if \"textcat\" not in nlp.pipe_names:\n",
        "        textcat = nlp.create_pipe(\n",
        "            \"textcat\", config={\"exclusive_classes\": True, \"architecture\": model_arch}\n",
        "        )\n",
        "        nlp.add_pipe(textcat, last=True)\n",
        "         # otherwise, get it, so we can add labels to it\n",
        "    else:\n",
        "        textcat = nlp.get_pipe(\"textcat\")\n",
        "\n",
        "    # add label to text classifier\n",
        "    textcat.add_label(\"AGAINST\")\n",
        "    textcat.add_label(\"FAVOR\")\n",
        "    textcat.add_label(\"NONE\")\n",
        "\n",
        "\n",
        "    # get names of other pipes to disable them during training\n",
        "    pipe_exceptions = [\"textcat\", \"trf_wordpiecer\", \"trf_tok2vec\"]\n",
        "    other_pipes = [pipe for pipe in nlp.pipe_names if pipe not in pipe_exceptions]\n",
        "    with nlp.disable_pipes(*other_pipes):  # only train textcat\n",
        "        optimizer = nlp.begin_training()\n",
        "        if init_tok2vec is not None:\n",
        "            with init_tok2vec.open(\"rb\") as file_:\n",
        "                textcat.model.tok2vec.from_bytes(file_.read())\n",
        "        print(\"Training the model...\")\n",
        "        print(\"{:^5}\\t{:^5}\\t{:^5}\\t{:^5}\".format(\"LOSS\", \"P\", \"R\", \"F\"))\n",
        "        batch_sizes = compounding(16.0, 64.0, 1.5)\n",
        "        for i in range(iterations):\n",
        "            print('Iteration: '+str(i))\n",
        "            start_time = time.clock()\n",
        "            losses = {}\n",
        "            # batch up the examples using spaCy's minibatch\n",
        "            random.shuffle(train_data)\n",
        "            batches = minibatch(train_data, size=batch_sizes)\n",
        "            for batch in batches:\n",
        "                texts, annotations = zip(*batch)\n",
        "                nlp.update(texts, annotations, sgd=optimizer, drop=dropout, losses=losses)\n",
        "            with textcat.model.use_params(optimizer.averages):\n",
        "                # evaluate on the test data \n",
        "                evaluate(nlp.tokenizer, textcat, test_texts,test_cats)\n",
        "            print ('Elapsed time'+str(time.clock() - start_time)+  \"seconds\")\n",
        "        with nlp.use_params(optimizer.averages):\n",
        "            model_name = model_arch + \"_Climate_change_2016\"\n",
        "            filepath = \"/content/drive/My Drive/Colab Notebooks/2022-ILTAPP/resources/\" + model_name \n",
        "            nlp.to_disk(filepath)\n",
        "    return nlp "
      ],
      "metadata": {
        "id": "FYpmz1pwgIfD"
      },
      "execution_count": 19,
      "outputs": []
    },
    {
      "cell_type": "code",
      "source": [
        "nlp = train_spacy(training_data, 20, test_texts, test_cats, \"bow\")"
      ],
      "metadata": {
        "colab": {
          "base_uri": "https://localhost:8080/"
        },
        "id": "tsZBNVZhgRsO",
        "outputId": "da52c8cb-2835-4c0c-e943-068df6d3962d"
      },
      "execution_count": 20,
      "outputs": [
        {
          "output_type": "stream",
          "name": "stdout",
          "text": [
            "Training the model...\n",
            "LOSS \t  P  \t  R  \t  F  \n",
            "Iteration: 0\n"
          ]
        },
        {
          "output_type": "stream",
          "name": "stderr",
          "text": [
            "/usr/local/lib/python3.7/dist-packages/ipykernel_launcher.py:44: DeprecationWarning: time.clock has been deprecated in Python 3.3 and will be removed from Python 3.8: use time.perf_counter or time.process_time instead\n",
            "/usr/local/lib/python3.7/dist-packages/sklearn/metrics/_classification.py:1318: UndefinedMetricWarning: Precision and F-score are ill-defined and being set to 0.0 in labels with no predicted samples. Use `zero_division` parameter to control this behavior.\n",
            "  _warn_prf(average, modifier, msg_start, len(result))\n",
            "/usr/local/lib/python3.7/dist-packages/sklearn/metrics/_classification.py:1318: UndefinedMetricWarning: Precision and F-score are ill-defined and being set to 0.0 in labels with no predicted samples. Use `zero_division` parameter to control this behavior.\n",
            "  _warn_prf(average, modifier, msg_start, len(result))\n",
            "/usr/local/lib/python3.7/dist-packages/sklearn/metrics/_classification.py:1318: UndefinedMetricWarning: Precision and F-score are ill-defined and being set to 0.0 in labels with no predicted samples. Use `zero_division` parameter to control this behavior.\n",
            "  _warn_prf(average, modifier, msg_start, len(result))\n",
            "/usr/local/lib/python3.7/dist-packages/ipykernel_launcher.py:55: DeprecationWarning: time.clock has been deprecated in Python 3.3 and will be removed from Python 3.8: use time.perf_counter or time.process_time instead\n",
            "/usr/local/lib/python3.7/dist-packages/ipykernel_launcher.py:44: DeprecationWarning: time.clock has been deprecated in Python 3.3 and will be removed from Python 3.8: use time.perf_counter or time.process_time instead\n",
            "/usr/local/lib/python3.7/dist-packages/sklearn/metrics/_classification.py:1318: UndefinedMetricWarning: Precision and F-score are ill-defined and being set to 0.0 in labels with no predicted samples. Use `zero_division` parameter to control this behavior.\n",
            "  _warn_prf(average, modifier, msg_start, len(result))\n",
            "/usr/local/lib/python3.7/dist-packages/sklearn/metrics/_classification.py:1318: UndefinedMetricWarning: Precision and F-score are ill-defined and being set to 0.0 in labels with no predicted samples. Use `zero_division` parameter to control this behavior.\n",
            "  _warn_prf(average, modifier, msg_start, len(result))\n",
            "/usr/local/lib/python3.7/dist-packages/sklearn/metrics/_classification.py:1318: UndefinedMetricWarning: Precision and F-score are ill-defined and being set to 0.0 in labels with no predicted samples. Use `zero_division` parameter to control this behavior.\n",
            "  _warn_prf(average, modifier, msg_start, len(result))\n",
            "/usr/local/lib/python3.7/dist-packages/ipykernel_launcher.py:55: DeprecationWarning: time.clock has been deprecated in Python 3.3 and will be removed from Python 3.8: use time.perf_counter or time.process_time instead\n",
            "/usr/local/lib/python3.7/dist-packages/ipykernel_launcher.py:44: DeprecationWarning: time.clock has been deprecated in Python 3.3 and will be removed from Python 3.8: use time.perf_counter or time.process_time instead\n"
          ]
        },
        {
          "output_type": "stream",
          "name": "stdout",
          "text": [
            "              precision    recall  f1-score   support\n",
            "\n",
            "     AGAINST       0.00      0.00      0.00        11\n",
            "       FAVOR       0.77      1.00      0.87       123\n",
            "\n",
            "   micro avg       0.77      0.92      0.84       134\n",
            "   macro avg       0.38      0.50      0.43       134\n",
            "weighted avg       0.71      0.92      0.80       134\n",
            "\n",
            "Elapsed time0.34443299999999866seconds\n",
            "Iteration: 1\n",
            "              precision    recall  f1-score   support\n",
            "\n",
            "     AGAINST       0.00      0.00      0.00        11\n",
            "       FAVOR       0.76      1.00      0.86       123\n",
            "\n",
            "   micro avg       0.76      0.92      0.83       134\n",
            "   macro avg       0.38      0.50      0.43       134\n",
            "weighted avg       0.70      0.92      0.79       134\n",
            "\n",
            "Elapsed time0.14806999999999704seconds\n",
            "Iteration: 2\n"
          ]
        },
        {
          "output_type": "stream",
          "name": "stderr",
          "text": [
            "/usr/local/lib/python3.7/dist-packages/sklearn/metrics/_classification.py:1318: UndefinedMetricWarning: Precision and F-score are ill-defined and being set to 0.0 in labels with no predicted samples. Use `zero_division` parameter to control this behavior.\n",
            "  _warn_prf(average, modifier, msg_start, len(result))\n",
            "/usr/local/lib/python3.7/dist-packages/sklearn/metrics/_classification.py:1318: UndefinedMetricWarning: Precision and F-score are ill-defined and being set to 0.0 in labels with no predicted samples. Use `zero_division` parameter to control this behavior.\n",
            "  _warn_prf(average, modifier, msg_start, len(result))\n",
            "/usr/local/lib/python3.7/dist-packages/sklearn/metrics/_classification.py:1318: UndefinedMetricWarning: Precision and F-score are ill-defined and being set to 0.0 in labels with no predicted samples. Use `zero_division` parameter to control this behavior.\n",
            "  _warn_prf(average, modifier, msg_start, len(result))\n",
            "/usr/local/lib/python3.7/dist-packages/ipykernel_launcher.py:55: DeprecationWarning: time.clock has been deprecated in Python 3.3 and will be removed from Python 3.8: use time.perf_counter or time.process_time instead\n",
            "/usr/local/lib/python3.7/dist-packages/ipykernel_launcher.py:44: DeprecationWarning: time.clock has been deprecated in Python 3.3 and will be removed from Python 3.8: use time.perf_counter or time.process_time instead\n",
            "/usr/local/lib/python3.7/dist-packages/sklearn/metrics/_classification.py:1318: UndefinedMetricWarning: Precision and F-score are ill-defined and being set to 0.0 in labels with no predicted samples. Use `zero_division` parameter to control this behavior.\n",
            "  _warn_prf(average, modifier, msg_start, len(result))\n",
            "/usr/local/lib/python3.7/dist-packages/sklearn/metrics/_classification.py:1318: UndefinedMetricWarning: Precision and F-score are ill-defined and being set to 0.0 in labels with no predicted samples. Use `zero_division` parameter to control this behavior.\n",
            "  _warn_prf(average, modifier, msg_start, len(result))\n",
            "/usr/local/lib/python3.7/dist-packages/sklearn/metrics/_classification.py:1318: UndefinedMetricWarning: Precision and F-score are ill-defined and being set to 0.0 in labels with no predicted samples. Use `zero_division` parameter to control this behavior.\n",
            "  _warn_prf(average, modifier, msg_start, len(result))\n",
            "/usr/local/lib/python3.7/dist-packages/ipykernel_launcher.py:55: DeprecationWarning: time.clock has been deprecated in Python 3.3 and will be removed from Python 3.8: use time.perf_counter or time.process_time instead\n",
            "/usr/local/lib/python3.7/dist-packages/ipykernel_launcher.py:44: DeprecationWarning: time.clock has been deprecated in Python 3.3 and will be removed from Python 3.8: use time.perf_counter or time.process_time instead\n"
          ]
        },
        {
          "output_type": "stream",
          "name": "stdout",
          "text": [
            "              precision    recall  f1-score   support\n",
            "\n",
            "     AGAINST       0.00      0.00      0.00        11\n",
            "       FAVOR       0.76      0.99      0.86       123\n",
            "\n",
            "   micro avg       0.76      0.91      0.83       134\n",
            "   macro avg       0.38      0.50      0.43       134\n",
            "weighted avg       0.70      0.91      0.79       134\n",
            "\n",
            "Elapsed time0.1523779999999988seconds\n",
            "Iteration: 3\n",
            "              precision    recall  f1-score   support\n",
            "\n",
            "     AGAINST       0.00      0.00      0.00        11\n",
            "       FAVOR       0.76      0.98      0.86       123\n",
            "\n",
            "   micro avg       0.76      0.90      0.82       134\n",
            "   macro avg       0.38      0.49      0.43       134\n",
            "weighted avg       0.70      0.90      0.79       134\n",
            "\n",
            "Elapsed time0.1443860000000008seconds\n",
            "Iteration: 4\n"
          ]
        },
        {
          "output_type": "stream",
          "name": "stderr",
          "text": [
            "/usr/local/lib/python3.7/dist-packages/sklearn/metrics/_classification.py:1318: UndefinedMetricWarning: Precision and F-score are ill-defined and being set to 0.0 in labels with no predicted samples. Use `zero_division` parameter to control this behavior.\n",
            "  _warn_prf(average, modifier, msg_start, len(result))\n",
            "/usr/local/lib/python3.7/dist-packages/sklearn/metrics/_classification.py:1318: UndefinedMetricWarning: Precision and F-score are ill-defined and being set to 0.0 in labels with no predicted samples. Use `zero_division` parameter to control this behavior.\n",
            "  _warn_prf(average, modifier, msg_start, len(result))\n",
            "/usr/local/lib/python3.7/dist-packages/sklearn/metrics/_classification.py:1318: UndefinedMetricWarning: Precision and F-score are ill-defined and being set to 0.0 in labels with no predicted samples. Use `zero_division` parameter to control this behavior.\n",
            "  _warn_prf(average, modifier, msg_start, len(result))\n",
            "/usr/local/lib/python3.7/dist-packages/ipykernel_launcher.py:55: DeprecationWarning: time.clock has been deprecated in Python 3.3 and will be removed from Python 3.8: use time.perf_counter or time.process_time instead\n",
            "/usr/local/lib/python3.7/dist-packages/ipykernel_launcher.py:44: DeprecationWarning: time.clock has been deprecated in Python 3.3 and will be removed from Python 3.8: use time.perf_counter or time.process_time instead\n",
            "/usr/local/lib/python3.7/dist-packages/sklearn/metrics/_classification.py:1318: UndefinedMetricWarning: Precision and F-score are ill-defined and being set to 0.0 in labels with no predicted samples. Use `zero_division` parameter to control this behavior.\n",
            "  _warn_prf(average, modifier, msg_start, len(result))\n",
            "/usr/local/lib/python3.7/dist-packages/sklearn/metrics/_classification.py:1318: UndefinedMetricWarning: Precision and F-score are ill-defined and being set to 0.0 in labels with no predicted samples. Use `zero_division` parameter to control this behavior.\n",
            "  _warn_prf(average, modifier, msg_start, len(result))\n",
            "/usr/local/lib/python3.7/dist-packages/sklearn/metrics/_classification.py:1318: UndefinedMetricWarning: Precision and F-score are ill-defined and being set to 0.0 in labels with no predicted samples. Use `zero_division` parameter to control this behavior.\n",
            "  _warn_prf(average, modifier, msg_start, len(result))\n",
            "/usr/local/lib/python3.7/dist-packages/ipykernel_launcher.py:55: DeprecationWarning: time.clock has been deprecated in Python 3.3 and will be removed from Python 3.8: use time.perf_counter or time.process_time instead\n",
            "/usr/local/lib/python3.7/dist-packages/ipykernel_launcher.py:44: DeprecationWarning: time.clock has been deprecated in Python 3.3 and will be removed from Python 3.8: use time.perf_counter or time.process_time instead\n"
          ]
        },
        {
          "output_type": "stream",
          "name": "stdout",
          "text": [
            "              precision    recall  f1-score   support\n",
            "\n",
            "     AGAINST       0.00      0.00      0.00        11\n",
            "       FAVOR       0.76      0.97      0.85       123\n",
            "\n",
            "   micro avg       0.76      0.89      0.82       134\n",
            "   macro avg       0.38      0.48      0.43       134\n",
            "weighted avg       0.70      0.89      0.78       134\n",
            "\n",
            "Elapsed time0.15335899999999825seconds\n",
            "Iteration: 5\n",
            "              precision    recall  f1-score   support\n",
            "\n",
            "     AGAINST       0.00      0.00      0.00        11\n",
            "       FAVOR       0.76      0.96      0.85       123\n",
            "\n",
            "   micro avg       0.76      0.88      0.82       134\n",
            "   macro avg       0.38      0.48      0.42       134\n",
            "weighted avg       0.70      0.88      0.78       134\n",
            "\n",
            "Elapsed time0.15073399999999992seconds\n",
            "Iteration: 6\n"
          ]
        },
        {
          "output_type": "stream",
          "name": "stderr",
          "text": [
            "/usr/local/lib/python3.7/dist-packages/sklearn/metrics/_classification.py:1318: UndefinedMetricWarning: Precision and F-score are ill-defined and being set to 0.0 in labels with no predicted samples. Use `zero_division` parameter to control this behavior.\n",
            "  _warn_prf(average, modifier, msg_start, len(result))\n",
            "/usr/local/lib/python3.7/dist-packages/sklearn/metrics/_classification.py:1318: UndefinedMetricWarning: Precision and F-score are ill-defined and being set to 0.0 in labels with no predicted samples. Use `zero_division` parameter to control this behavior.\n",
            "  _warn_prf(average, modifier, msg_start, len(result))\n",
            "/usr/local/lib/python3.7/dist-packages/sklearn/metrics/_classification.py:1318: UndefinedMetricWarning: Precision and F-score are ill-defined and being set to 0.0 in labels with no predicted samples. Use `zero_division` parameter to control this behavior.\n",
            "  _warn_prf(average, modifier, msg_start, len(result))\n",
            "/usr/local/lib/python3.7/dist-packages/ipykernel_launcher.py:55: DeprecationWarning: time.clock has been deprecated in Python 3.3 and will be removed from Python 3.8: use time.perf_counter or time.process_time instead\n",
            "/usr/local/lib/python3.7/dist-packages/ipykernel_launcher.py:44: DeprecationWarning: time.clock has been deprecated in Python 3.3 and will be removed from Python 3.8: use time.perf_counter or time.process_time instead\n",
            "/usr/local/lib/python3.7/dist-packages/sklearn/metrics/_classification.py:1318: UndefinedMetricWarning: Precision and F-score are ill-defined and being set to 0.0 in labels with no predicted samples. Use `zero_division` parameter to control this behavior.\n",
            "  _warn_prf(average, modifier, msg_start, len(result))\n",
            "/usr/local/lib/python3.7/dist-packages/sklearn/metrics/_classification.py:1318: UndefinedMetricWarning: Precision and F-score are ill-defined and being set to 0.0 in labels with no predicted samples. Use `zero_division` parameter to control this behavior.\n",
            "  _warn_prf(average, modifier, msg_start, len(result))\n",
            "/usr/local/lib/python3.7/dist-packages/sklearn/metrics/_classification.py:1318: UndefinedMetricWarning: Precision and F-score are ill-defined and being set to 0.0 in labels with no predicted samples. Use `zero_division` parameter to control this behavior.\n",
            "  _warn_prf(average, modifier, msg_start, len(result))\n",
            "/usr/local/lib/python3.7/dist-packages/ipykernel_launcher.py:55: DeprecationWarning: time.clock has been deprecated in Python 3.3 and will be removed from Python 3.8: use time.perf_counter or time.process_time instead\n",
            "/usr/local/lib/python3.7/dist-packages/ipykernel_launcher.py:44: DeprecationWarning: time.clock has been deprecated in Python 3.3 and will be removed from Python 3.8: use time.perf_counter or time.process_time instead\n"
          ]
        },
        {
          "output_type": "stream",
          "name": "stdout",
          "text": [
            "              precision    recall  f1-score   support\n",
            "\n",
            "     AGAINST       0.00      0.00      0.00        11\n",
            "       FAVOR       0.76      0.96      0.85       123\n",
            "\n",
            "   micro avg       0.76      0.88      0.82       134\n",
            "   macro avg       0.38      0.48      0.42       134\n",
            "weighted avg       0.70      0.88      0.78       134\n",
            "\n",
            "Elapsed time0.16266900000000106seconds\n",
            "Iteration: 7\n",
            "              precision    recall  f1-score   support\n",
            "\n",
            "     AGAINST       0.00      0.00      0.00        11\n",
            "       FAVOR       0.76      0.95      0.85       123\n",
            "\n",
            "   micro avg       0.76      0.87      0.82       134\n",
            "   macro avg       0.38      0.48      0.42       134\n",
            "weighted avg       0.70      0.87      0.78       134\n",
            "\n",
            "Elapsed time0.14487399999999795seconds\n",
            "Iteration: 8\n"
          ]
        },
        {
          "output_type": "stream",
          "name": "stderr",
          "text": [
            "/usr/local/lib/python3.7/dist-packages/sklearn/metrics/_classification.py:1318: UndefinedMetricWarning: Precision and F-score are ill-defined and being set to 0.0 in labels with no predicted samples. Use `zero_division` parameter to control this behavior.\n",
            "  _warn_prf(average, modifier, msg_start, len(result))\n",
            "/usr/local/lib/python3.7/dist-packages/sklearn/metrics/_classification.py:1318: UndefinedMetricWarning: Precision and F-score are ill-defined and being set to 0.0 in labels with no predicted samples. Use `zero_division` parameter to control this behavior.\n",
            "  _warn_prf(average, modifier, msg_start, len(result))\n",
            "/usr/local/lib/python3.7/dist-packages/sklearn/metrics/_classification.py:1318: UndefinedMetricWarning: Precision and F-score are ill-defined and being set to 0.0 in labels with no predicted samples. Use `zero_division` parameter to control this behavior.\n",
            "  _warn_prf(average, modifier, msg_start, len(result))\n",
            "/usr/local/lib/python3.7/dist-packages/ipykernel_launcher.py:55: DeprecationWarning: time.clock has been deprecated in Python 3.3 and will be removed from Python 3.8: use time.perf_counter or time.process_time instead\n",
            "/usr/local/lib/python3.7/dist-packages/ipykernel_launcher.py:44: DeprecationWarning: time.clock has been deprecated in Python 3.3 and will be removed from Python 3.8: use time.perf_counter or time.process_time instead\n",
            "/usr/local/lib/python3.7/dist-packages/sklearn/metrics/_classification.py:1318: UndefinedMetricWarning: Precision and F-score are ill-defined and being set to 0.0 in labels with no predicted samples. Use `zero_division` parameter to control this behavior.\n",
            "  _warn_prf(average, modifier, msg_start, len(result))\n",
            "/usr/local/lib/python3.7/dist-packages/sklearn/metrics/_classification.py:1318: UndefinedMetricWarning: Precision and F-score are ill-defined and being set to 0.0 in labels with no predicted samples. Use `zero_division` parameter to control this behavior.\n",
            "  _warn_prf(average, modifier, msg_start, len(result))\n",
            "/usr/local/lib/python3.7/dist-packages/sklearn/metrics/_classification.py:1318: UndefinedMetricWarning: Precision and F-score are ill-defined and being set to 0.0 in labels with no predicted samples. Use `zero_division` parameter to control this behavior.\n",
            "  _warn_prf(average, modifier, msg_start, len(result))\n",
            "/usr/local/lib/python3.7/dist-packages/ipykernel_launcher.py:55: DeprecationWarning: time.clock has been deprecated in Python 3.3 and will be removed from Python 3.8: use time.perf_counter or time.process_time instead\n",
            "/usr/local/lib/python3.7/dist-packages/ipykernel_launcher.py:44: DeprecationWarning: time.clock has been deprecated in Python 3.3 and will be removed from Python 3.8: use time.perf_counter or time.process_time instead\n"
          ]
        },
        {
          "output_type": "stream",
          "name": "stdout",
          "text": [
            "              precision    recall  f1-score   support\n",
            "\n",
            "     AGAINST       0.00      0.00      0.00        11\n",
            "       FAVOR       0.76      0.94      0.84       123\n",
            "\n",
            "   micro avg       0.76      0.87      0.81       134\n",
            "   macro avg       0.38      0.47      0.42       134\n",
            "weighted avg       0.70      0.87      0.77       134\n",
            "\n",
            "Elapsed time0.15792700000000082seconds\n",
            "Iteration: 9\n",
            "              precision    recall  f1-score   support\n",
            "\n",
            "     AGAINST       0.00      0.00      0.00        11\n",
            "       FAVOR       0.76      0.94      0.84       123\n",
            "\n",
            "   micro avg       0.76      0.87      0.81       134\n",
            "   macro avg       0.38      0.47      0.42       134\n",
            "weighted avg       0.70      0.87      0.77       134\n",
            "\n",
            "Elapsed time0.14664700000000153seconds\n",
            "Iteration: 10\n"
          ]
        },
        {
          "output_type": "stream",
          "name": "stderr",
          "text": [
            "/usr/local/lib/python3.7/dist-packages/sklearn/metrics/_classification.py:1318: UndefinedMetricWarning: Precision and F-score are ill-defined and being set to 0.0 in labels with no predicted samples. Use `zero_division` parameter to control this behavior.\n",
            "  _warn_prf(average, modifier, msg_start, len(result))\n",
            "/usr/local/lib/python3.7/dist-packages/sklearn/metrics/_classification.py:1318: UndefinedMetricWarning: Precision and F-score are ill-defined and being set to 0.0 in labels with no predicted samples. Use `zero_division` parameter to control this behavior.\n",
            "  _warn_prf(average, modifier, msg_start, len(result))\n",
            "/usr/local/lib/python3.7/dist-packages/sklearn/metrics/_classification.py:1318: UndefinedMetricWarning: Precision and F-score are ill-defined and being set to 0.0 in labels with no predicted samples. Use `zero_division` parameter to control this behavior.\n",
            "  _warn_prf(average, modifier, msg_start, len(result))\n",
            "/usr/local/lib/python3.7/dist-packages/ipykernel_launcher.py:55: DeprecationWarning: time.clock has been deprecated in Python 3.3 and will be removed from Python 3.8: use time.perf_counter or time.process_time instead\n",
            "/usr/local/lib/python3.7/dist-packages/ipykernel_launcher.py:44: DeprecationWarning: time.clock has been deprecated in Python 3.3 and will be removed from Python 3.8: use time.perf_counter or time.process_time instead\n",
            "/usr/local/lib/python3.7/dist-packages/sklearn/metrics/_classification.py:1318: UndefinedMetricWarning: Precision and F-score are ill-defined and being set to 0.0 in labels with no predicted samples. Use `zero_division` parameter to control this behavior.\n",
            "  _warn_prf(average, modifier, msg_start, len(result))\n",
            "/usr/local/lib/python3.7/dist-packages/sklearn/metrics/_classification.py:1318: UndefinedMetricWarning: Precision and F-score are ill-defined and being set to 0.0 in labels with no predicted samples. Use `zero_division` parameter to control this behavior.\n",
            "  _warn_prf(average, modifier, msg_start, len(result))\n",
            "/usr/local/lib/python3.7/dist-packages/sklearn/metrics/_classification.py:1318: UndefinedMetricWarning: Precision and F-score are ill-defined and being set to 0.0 in labels with no predicted samples. Use `zero_division` parameter to control this behavior.\n",
            "  _warn_prf(average, modifier, msg_start, len(result))\n",
            "/usr/local/lib/python3.7/dist-packages/ipykernel_launcher.py:55: DeprecationWarning: time.clock has been deprecated in Python 3.3 and will be removed from Python 3.8: use time.perf_counter or time.process_time instead\n",
            "/usr/local/lib/python3.7/dist-packages/ipykernel_launcher.py:44: DeprecationWarning: time.clock has been deprecated in Python 3.3 and will be removed from Python 3.8: use time.perf_counter or time.process_time instead\n"
          ]
        },
        {
          "output_type": "stream",
          "name": "stdout",
          "text": [
            "              precision    recall  f1-score   support\n",
            "\n",
            "     AGAINST       0.00      0.00      0.00        11\n",
            "       FAVOR       0.76      0.93      0.84       123\n",
            "\n",
            "   micro avg       0.76      0.86      0.81       134\n",
            "   macro avg       0.38      0.47      0.42       134\n",
            "weighted avg       0.70      0.86      0.77       134\n",
            "\n",
            "Elapsed time0.15389300000000006seconds\n",
            "Iteration: 11\n",
            "              precision    recall  f1-score   support\n",
            "\n",
            "     AGAINST       0.00      0.00      0.00        11\n",
            "       FAVOR       0.77      0.93      0.84       123\n",
            "\n",
            "   micro avg       0.77      0.86      0.81       134\n",
            "   macro avg       0.38      0.47      0.42       134\n",
            "weighted avg       0.70      0.86      0.77       134\n",
            "\n",
            "Elapsed time0.1380669999999995seconds\n",
            "Iteration: 12\n"
          ]
        },
        {
          "output_type": "stream",
          "name": "stderr",
          "text": [
            "/usr/local/lib/python3.7/dist-packages/sklearn/metrics/_classification.py:1318: UndefinedMetricWarning: Precision and F-score are ill-defined and being set to 0.0 in labels with no predicted samples. Use `zero_division` parameter to control this behavior.\n",
            "  _warn_prf(average, modifier, msg_start, len(result))\n",
            "/usr/local/lib/python3.7/dist-packages/sklearn/metrics/_classification.py:1318: UndefinedMetricWarning: Precision and F-score are ill-defined and being set to 0.0 in labels with no predicted samples. Use `zero_division` parameter to control this behavior.\n",
            "  _warn_prf(average, modifier, msg_start, len(result))\n",
            "/usr/local/lib/python3.7/dist-packages/sklearn/metrics/_classification.py:1318: UndefinedMetricWarning: Precision and F-score are ill-defined and being set to 0.0 in labels with no predicted samples. Use `zero_division` parameter to control this behavior.\n",
            "  _warn_prf(average, modifier, msg_start, len(result))\n",
            "/usr/local/lib/python3.7/dist-packages/ipykernel_launcher.py:55: DeprecationWarning: time.clock has been deprecated in Python 3.3 and will be removed from Python 3.8: use time.perf_counter or time.process_time instead\n",
            "/usr/local/lib/python3.7/dist-packages/ipykernel_launcher.py:44: DeprecationWarning: time.clock has been deprecated in Python 3.3 and will be removed from Python 3.8: use time.perf_counter or time.process_time instead\n",
            "/usr/local/lib/python3.7/dist-packages/sklearn/metrics/_classification.py:1318: UndefinedMetricWarning: Precision and F-score are ill-defined and being set to 0.0 in labels with no predicted samples. Use `zero_division` parameter to control this behavior.\n",
            "  _warn_prf(average, modifier, msg_start, len(result))\n",
            "/usr/local/lib/python3.7/dist-packages/sklearn/metrics/_classification.py:1318: UndefinedMetricWarning: Precision and F-score are ill-defined and being set to 0.0 in labels with no predicted samples. Use `zero_division` parameter to control this behavior.\n",
            "  _warn_prf(average, modifier, msg_start, len(result))\n",
            "/usr/local/lib/python3.7/dist-packages/sklearn/metrics/_classification.py:1318: UndefinedMetricWarning: Precision and F-score are ill-defined and being set to 0.0 in labels with no predicted samples. Use `zero_division` parameter to control this behavior.\n",
            "  _warn_prf(average, modifier, msg_start, len(result))\n",
            "/usr/local/lib/python3.7/dist-packages/ipykernel_launcher.py:55: DeprecationWarning: time.clock has been deprecated in Python 3.3 and will be removed from Python 3.8: use time.perf_counter or time.process_time instead\n",
            "/usr/local/lib/python3.7/dist-packages/ipykernel_launcher.py:44: DeprecationWarning: time.clock has been deprecated in Python 3.3 and will be removed from Python 3.8: use time.perf_counter or time.process_time instead\n"
          ]
        },
        {
          "output_type": "stream",
          "name": "stdout",
          "text": [
            "              precision    recall  f1-score   support\n",
            "\n",
            "     AGAINST       0.00      0.00      0.00        11\n",
            "       FAVOR       0.77      0.92      0.84       123\n",
            "\n",
            "   micro avg       0.77      0.84      0.80       134\n",
            "   macro avg       0.38      0.46      0.42       134\n",
            "weighted avg       0.71      0.84      0.77       134\n",
            "\n",
            "Elapsed time0.15397799999999862seconds\n",
            "Iteration: 13\n",
            "              precision    recall  f1-score   support\n",
            "\n",
            "     AGAINST       0.00      0.00      0.00        11\n",
            "       FAVOR       0.77      0.92      0.84       123\n",
            "\n",
            "   micro avg       0.77      0.84      0.80       134\n",
            "   macro avg       0.38      0.46      0.42       134\n",
            "weighted avg       0.71      0.84      0.77       134\n",
            "\n",
            "Elapsed time0.14362700000000217seconds\n",
            "Iteration: 14\n"
          ]
        },
        {
          "output_type": "stream",
          "name": "stderr",
          "text": [
            "/usr/local/lib/python3.7/dist-packages/sklearn/metrics/_classification.py:1318: UndefinedMetricWarning: Precision and F-score are ill-defined and being set to 0.0 in labels with no predicted samples. Use `zero_division` parameter to control this behavior.\n",
            "  _warn_prf(average, modifier, msg_start, len(result))\n",
            "/usr/local/lib/python3.7/dist-packages/sklearn/metrics/_classification.py:1318: UndefinedMetricWarning: Precision and F-score are ill-defined and being set to 0.0 in labels with no predicted samples. Use `zero_division` parameter to control this behavior.\n",
            "  _warn_prf(average, modifier, msg_start, len(result))\n",
            "/usr/local/lib/python3.7/dist-packages/sklearn/metrics/_classification.py:1318: UndefinedMetricWarning: Precision and F-score are ill-defined and being set to 0.0 in labels with no predicted samples. Use `zero_division` parameter to control this behavior.\n",
            "  _warn_prf(average, modifier, msg_start, len(result))\n",
            "/usr/local/lib/python3.7/dist-packages/ipykernel_launcher.py:55: DeprecationWarning: time.clock has been deprecated in Python 3.3 and will be removed from Python 3.8: use time.perf_counter or time.process_time instead\n",
            "/usr/local/lib/python3.7/dist-packages/ipykernel_launcher.py:44: DeprecationWarning: time.clock has been deprecated in Python 3.3 and will be removed from Python 3.8: use time.perf_counter or time.process_time instead\n",
            "/usr/local/lib/python3.7/dist-packages/sklearn/metrics/_classification.py:1318: UndefinedMetricWarning: Precision and F-score are ill-defined and being set to 0.0 in labels with no predicted samples. Use `zero_division` parameter to control this behavior.\n",
            "  _warn_prf(average, modifier, msg_start, len(result))\n",
            "/usr/local/lib/python3.7/dist-packages/sklearn/metrics/_classification.py:1318: UndefinedMetricWarning: Precision and F-score are ill-defined and being set to 0.0 in labels with no predicted samples. Use `zero_division` parameter to control this behavior.\n",
            "  _warn_prf(average, modifier, msg_start, len(result))\n",
            "/usr/local/lib/python3.7/dist-packages/sklearn/metrics/_classification.py:1318: UndefinedMetricWarning: Precision and F-score are ill-defined and being set to 0.0 in labels with no predicted samples. Use `zero_division` parameter to control this behavior.\n",
            "  _warn_prf(average, modifier, msg_start, len(result))\n",
            "/usr/local/lib/python3.7/dist-packages/ipykernel_launcher.py:55: DeprecationWarning: time.clock has been deprecated in Python 3.3 and will be removed from Python 3.8: use time.perf_counter or time.process_time instead\n",
            "/usr/local/lib/python3.7/dist-packages/ipykernel_launcher.py:44: DeprecationWarning: time.clock has been deprecated in Python 3.3 and will be removed from Python 3.8: use time.perf_counter or time.process_time instead\n"
          ]
        },
        {
          "output_type": "stream",
          "name": "stdout",
          "text": [
            "              precision    recall  f1-score   support\n",
            "\n",
            "     AGAINST       0.00      0.00      0.00        11\n",
            "       FAVOR       0.80      0.92      0.85       123\n",
            "\n",
            "   micro avg       0.80      0.84      0.82       134\n",
            "   macro avg       0.40      0.46      0.43       134\n",
            "weighted avg       0.73      0.84      0.78       134\n",
            "\n",
            "Elapsed time0.15479900000000058seconds\n",
            "Iteration: 15\n",
            "              precision    recall  f1-score   support\n",
            "\n",
            "     AGAINST       0.00      0.00      0.00        11\n",
            "       FAVOR       0.79      0.91      0.85       123\n",
            "\n",
            "   micro avg       0.79      0.84      0.81       134\n",
            "   macro avg       0.40      0.46      0.42       134\n",
            "weighted avg       0.73      0.84      0.78       134\n",
            "\n",
            "Elapsed time0.1344949999999976seconds\n",
            "Iteration: 16\n"
          ]
        },
        {
          "output_type": "stream",
          "name": "stderr",
          "text": [
            "/usr/local/lib/python3.7/dist-packages/sklearn/metrics/_classification.py:1318: UndefinedMetricWarning: Precision and F-score are ill-defined and being set to 0.0 in labels with no predicted samples. Use `zero_division` parameter to control this behavior.\n",
            "  _warn_prf(average, modifier, msg_start, len(result))\n",
            "/usr/local/lib/python3.7/dist-packages/sklearn/metrics/_classification.py:1318: UndefinedMetricWarning: Precision and F-score are ill-defined and being set to 0.0 in labels with no predicted samples. Use `zero_division` parameter to control this behavior.\n",
            "  _warn_prf(average, modifier, msg_start, len(result))\n",
            "/usr/local/lib/python3.7/dist-packages/sklearn/metrics/_classification.py:1318: UndefinedMetricWarning: Precision and F-score are ill-defined and being set to 0.0 in labels with no predicted samples. Use `zero_division` parameter to control this behavior.\n",
            "  _warn_prf(average, modifier, msg_start, len(result))\n",
            "/usr/local/lib/python3.7/dist-packages/ipykernel_launcher.py:55: DeprecationWarning: time.clock has been deprecated in Python 3.3 and will be removed from Python 3.8: use time.perf_counter or time.process_time instead\n",
            "/usr/local/lib/python3.7/dist-packages/ipykernel_launcher.py:44: DeprecationWarning: time.clock has been deprecated in Python 3.3 and will be removed from Python 3.8: use time.perf_counter or time.process_time instead\n",
            "/usr/local/lib/python3.7/dist-packages/sklearn/metrics/_classification.py:1318: UndefinedMetricWarning: Precision and F-score are ill-defined and being set to 0.0 in labels with no predicted samples. Use `zero_division` parameter to control this behavior.\n",
            "  _warn_prf(average, modifier, msg_start, len(result))\n",
            "/usr/local/lib/python3.7/dist-packages/sklearn/metrics/_classification.py:1318: UndefinedMetricWarning: Precision and F-score are ill-defined and being set to 0.0 in labels with no predicted samples. Use `zero_division` parameter to control this behavior.\n",
            "  _warn_prf(average, modifier, msg_start, len(result))\n",
            "/usr/local/lib/python3.7/dist-packages/sklearn/metrics/_classification.py:1318: UndefinedMetricWarning: Precision and F-score are ill-defined and being set to 0.0 in labels with no predicted samples. Use `zero_division` parameter to control this behavior.\n",
            "  _warn_prf(average, modifier, msg_start, len(result))\n",
            "/usr/local/lib/python3.7/dist-packages/ipykernel_launcher.py:55: DeprecationWarning: time.clock has been deprecated in Python 3.3 and will be removed from Python 3.8: use time.perf_counter or time.process_time instead\n",
            "/usr/local/lib/python3.7/dist-packages/ipykernel_launcher.py:44: DeprecationWarning: time.clock has been deprecated in Python 3.3 and will be removed from Python 3.8: use time.perf_counter or time.process_time instead\n"
          ]
        },
        {
          "output_type": "stream",
          "name": "stdout",
          "text": [
            "              precision    recall  f1-score   support\n",
            "\n",
            "     AGAINST       0.00      0.00      0.00        11\n",
            "       FAVOR       0.79      0.91      0.85       123\n",
            "\n",
            "   micro avg       0.79      0.84      0.81       134\n",
            "   macro avg       0.40      0.46      0.42       134\n",
            "weighted avg       0.73      0.84      0.78       134\n",
            "\n",
            "Elapsed time0.14112099999999828seconds\n",
            "Iteration: 17\n",
            "              precision    recall  f1-score   support\n",
            "\n",
            "     AGAINST       0.00      0.00      0.00        11\n",
            "       FAVOR       0.79      0.91      0.85       123\n",
            "\n",
            "   micro avg       0.79      0.84      0.81       134\n",
            "   macro avg       0.40      0.46      0.42       134\n",
            "weighted avg       0.73      0.84      0.78       134\n",
            "\n",
            "Elapsed time0.14011400000000052seconds\n",
            "Iteration: 18\n"
          ]
        },
        {
          "output_type": "stream",
          "name": "stderr",
          "text": [
            "/usr/local/lib/python3.7/dist-packages/sklearn/metrics/_classification.py:1318: UndefinedMetricWarning: Precision and F-score are ill-defined and being set to 0.0 in labels with no predicted samples. Use `zero_division` parameter to control this behavior.\n",
            "  _warn_prf(average, modifier, msg_start, len(result))\n",
            "/usr/local/lib/python3.7/dist-packages/sklearn/metrics/_classification.py:1318: UndefinedMetricWarning: Precision and F-score are ill-defined and being set to 0.0 in labels with no predicted samples. Use `zero_division` parameter to control this behavior.\n",
            "  _warn_prf(average, modifier, msg_start, len(result))\n",
            "/usr/local/lib/python3.7/dist-packages/sklearn/metrics/_classification.py:1318: UndefinedMetricWarning: Precision and F-score are ill-defined and being set to 0.0 in labels with no predicted samples. Use `zero_division` parameter to control this behavior.\n",
            "  _warn_prf(average, modifier, msg_start, len(result))\n",
            "/usr/local/lib/python3.7/dist-packages/ipykernel_launcher.py:55: DeprecationWarning: time.clock has been deprecated in Python 3.3 and will be removed from Python 3.8: use time.perf_counter or time.process_time instead\n",
            "/usr/local/lib/python3.7/dist-packages/ipykernel_launcher.py:44: DeprecationWarning: time.clock has been deprecated in Python 3.3 and will be removed from Python 3.8: use time.perf_counter or time.process_time instead\n",
            "/usr/local/lib/python3.7/dist-packages/sklearn/metrics/_classification.py:1318: UndefinedMetricWarning: Precision and F-score are ill-defined and being set to 0.0 in labels with no predicted samples. Use `zero_division` parameter to control this behavior.\n",
            "  _warn_prf(average, modifier, msg_start, len(result))\n",
            "/usr/local/lib/python3.7/dist-packages/sklearn/metrics/_classification.py:1318: UndefinedMetricWarning: Precision and F-score are ill-defined and being set to 0.0 in labels with no predicted samples. Use `zero_division` parameter to control this behavior.\n",
            "  _warn_prf(average, modifier, msg_start, len(result))\n",
            "/usr/local/lib/python3.7/dist-packages/sklearn/metrics/_classification.py:1318: UndefinedMetricWarning: Precision and F-score are ill-defined and being set to 0.0 in labels with no predicted samples. Use `zero_division` parameter to control this behavior.\n",
            "  _warn_prf(average, modifier, msg_start, len(result))\n",
            "/usr/local/lib/python3.7/dist-packages/ipykernel_launcher.py:55: DeprecationWarning: time.clock has been deprecated in Python 3.3 and will be removed from Python 3.8: use time.perf_counter or time.process_time instead\n"
          ]
        },
        {
          "output_type": "stream",
          "name": "stdout",
          "text": [
            "              precision    recall  f1-score   support\n",
            "\n",
            "     AGAINST       0.00      0.00      0.00        11\n",
            "       FAVOR       0.79      0.90      0.84       123\n",
            "\n",
            "   micro avg       0.79      0.83      0.81       134\n",
            "   macro avg       0.40      0.45      0.42       134\n",
            "weighted avg       0.73      0.83      0.77       134\n",
            "\n",
            "Elapsed time0.16240800000000277seconds\n",
            "Iteration: 19\n",
            "              precision    recall  f1-score   support\n",
            "\n",
            "     AGAINST       0.00      0.00      0.00        11\n",
            "       FAVOR       0.79      0.90      0.84       123\n",
            "\n",
            "   micro avg       0.79      0.83      0.81       134\n",
            "   macro avg       0.40      0.45      0.42       134\n",
            "weighted avg       0.73      0.83      0.77       134\n",
            "\n",
            "Elapsed time0.14564199999999872seconds\n"
          ]
        }
      ]
    },
    {
      "cell_type": "code",
      "source": [
        "textcat_bow = spacy.load(\"/content/drive/MyDrive/Colab Notebooks/2022-ILTAPP/resources/bow_Climate_change_2016\")\n",
        "tweets = textcat_bow(test_texts[10])\n",
        "print(\"Text: \"+ test_texts[10])\n",
        "print(\"Gold Label:\"+ test_cats[10])\n",
        "print(\" Predicted Label:\") \n",
        "print(tweets.cats)\n",
        "print(\"=======================================\")"
      ],
      "metadata": {
        "colab": {
          "base_uri": "https://localhost:8080/"
        },
        "id": "N27GkWCOgbOS",
        "outputId": "d7d1406b-565e-4513-8e42-ea7e41f914a1"
      },
      "execution_count": 21,
      "outputs": [
        {
          "output_type": "stream",
          "name": "stdout",
          "text": [
            "Text: Interesting speaker Maarten Van Aalst Federation how their humanitarian experience can help Climate scientists CCFC15 SemST\n",
            "Gold Label:FAVOR\n",
            " Predicted Label:\n",
            "{'AGAINST': 0.15667614340782166, 'FAVOR': 0.4745143949985504, 'NONE': 0.36880940198898315}\n",
            "=======================================\n"
          ]
        }
      ]
    },
    {
      "cell_type": "markdown",
      "source": [
        "# Trained classifiers for Atheism in the Stance SemEval 2016 dataset."
      ],
      "metadata": {
        "id": "HHCP-9lhgvRL"
      }
    },
    {
      "cell_type": "code",
      "source": [
        "training_data, train_texts, train_cats = load_data_spacy('/content/drive/My Drive/Colab Notebooks/2022-ILTAPP/datasets/stance-semeval2016/train.Atheism.tsv')\n",
        "print(training_data[:10])\n",
        "print(len(training_data))\n",
        "test_data, test_texts, test_cats = load_data_spacy('/content/drive/My Drive/Colab Notebooks/2022-ILTAPP/datasets/stance-semeval2016/test.Atheism.tsv')\n",
        "print(len(test_data))"
      ],
      "metadata": {
        "colab": {
          "base_uri": "https://localhost:8080/"
        },
        "id": "ZQ2JBBHBguaA",
        "outputId": "4152b92c-37d8-4aef-cc28-4b54b48b15ff"
      },
      "execution_count": 22,
      "outputs": [
        {
          "output_type": "stream",
          "name": "stdout",
          "text": [
            "AGAINST    304\n",
            "NONE       117\n",
            "FAVOR       92\n",
            "Name: Stance, dtype: int64\n",
            "[('dear lord thank u for all of ur blessings forgive my sins lord give me strength and energy for this busy day ahead blessed hope SemST', {'cats': {'AGAINST': 1, 'FAVOR': 0, 'NONE': 0}}), ('Blessed are the peacemakers, for they shall be called children of God. Matthew 5:9 scripture peace SemST', {'cats': {'AGAINST': 1, 'FAVOR': 0, 'NONE': 0}}), ('I am not conformed to this world. I am transformed by the renewing of my mind. ISpeakLife God 2014 SemST', {'cats': {'AGAINST': 1, 'FAVOR': 0, 'NONE': 0}}), ('Salah should be prayed with focus and understanding. Allah warns against lazy prayers done just for show Surah Al-Maoon 107:4-6 SemST', {'cats': {'AGAINST': 1, 'FAVOR': 0, 'NONE': 0}}), ('And stay in your houses and do not display yourselves like that of the times of ignorance.\" [Quran 33:33].islam SemST', {'cats': {'AGAINST': 1, 'FAVOR': 0, 'NONE': 0}}), ('If we are unsure whether something is halal or haram, we should leave it - this will safeguard our deen rule SemST', {'cats': {'AGAINST': 1, 'FAVOR': 0, 'NONE': 0}}), ('Papa God, i pray that You shower me with more patience.  worththewait SemST', {'cats': {'AGAINST': 1, 'FAVOR': 0, 'NONE': 0}}), (\"Now that the SCOC has ruled Canadians have freedom from religion, can someone tell Harper to dummy his 'god bless Canada'. cdnpoli SemST\", {'cats': {'AGAINST': 0, 'FAVOR': 1, 'NONE': 0}}), ('Wow, unsubstantiated claims about spooks. Remember whe I said there were gullible people? jvx242 SemST', {'cats': {'AGAINST': 0, 'FAVOR': 0, 'NONE': 1}}), ('RT \"...That kind of modesty is too arrogant for me.\"Christopher Hitchens 2/2\" Funny SemST', {'cats': {'AGAINST': 0, 'FAVOR': 0, 'NONE': 1}})]\n",
            "513\n",
            "AGAINST    160\n",
            "FAVOR       32\n",
            "NONE        28\n",
            "Name: Stance, dtype: int64\n",
            "220\n"
          ]
        }
      ]
    },
    {
      "cell_type": "code",
      "source": [
        "def train_spacy(  train_data, iterations,test_texts,test_cats, model_arch, dropout = 0.3, model=None, init_tok2vec=None):\n",
        "    ''' Train a spacy NER model, which can be queried against with test data\n",
        "   \n",
        "    train_data : training data in the format of (sentence, {cats: ['AGAINST'|'FAVOR'|'NONE']})\n",
        "    labels : a list of unique annotations\n",
        "    iterations : number of training iterations\n",
        "    dropout : dropout proportion for training\n",
        "    display_freq : number of epochs between logging losses to console\n",
        "    '''\n",
        "    \n",
        "    nlp = spacy.load('en_core_web_sm')\n",
        "    \n",
        "\n",
        "    # add the text classifier to the pipeline if it doesn't exist\n",
        "    # nlp.create_pipe works for built-ins that are registered with spaCy\n",
        "    if \"textcat\" not in nlp.pipe_names:\n",
        "        textcat = nlp.create_pipe(\n",
        "            \"textcat\", config={\"exclusive_classes\": True, \"architecture\": model_arch}\n",
        "        )\n",
        "        nlp.add_pipe(textcat, last=True)\n",
        "         # otherwise, get it, so we can add labels to it\n",
        "    else:\n",
        "        textcat = nlp.get_pipe(\"textcat\")\n",
        "\n",
        "    # add label to text classifier\n",
        "    textcat.add_label(\"AGAINST\")\n",
        "    textcat.add_label(\"FAVOR\")\n",
        "    textcat.add_label(\"NONE\")\n",
        "\n",
        "\n",
        "    # get names of other pipes to disable them during training\n",
        "    pipe_exceptions = [\"textcat\", \"trf_wordpiecer\", \"trf_tok2vec\"]\n",
        "    other_pipes = [pipe for pipe in nlp.pipe_names if pipe not in pipe_exceptions]\n",
        "    with nlp.disable_pipes(*other_pipes):  # only train textcat\n",
        "        optimizer = nlp.begin_training()\n",
        "        if init_tok2vec is not None:\n",
        "            with init_tok2vec.open(\"rb\") as file_:\n",
        "                textcat.model.tok2vec.from_bytes(file_.read())\n",
        "        print(\"Training the model...\")\n",
        "        print(\"{:^5}\\t{:^5}\\t{:^5}\\t{:^5}\".format(\"LOSS\", \"P\", \"R\", \"F\"))\n",
        "        batch_sizes = compounding(16.0, 64.0, 1.5)\n",
        "        for i in range(iterations):\n",
        "            print('Iteration: '+str(i))\n",
        "            start_time = time.clock()\n",
        "            losses = {}\n",
        "            # batch up the examples using spaCy's minibatch\n",
        "            random.shuffle(train_data)\n",
        "            batches = minibatch(train_data, size=batch_sizes)\n",
        "            for batch in batches:\n",
        "                texts, annotations = zip(*batch)\n",
        "                nlp.update(texts, annotations, sgd=optimizer, drop=dropout, losses=losses)\n",
        "            with textcat.model.use_params(optimizer.averages):\n",
        "                # evaluate on the test data \n",
        "                evaluate(nlp.tokenizer, textcat, test_texts,test_cats)\n",
        "            print ('Elapsed time'+str(time.clock() - start_time)+  \"seconds\")\n",
        "        with nlp.use_params(optimizer.averages):\n",
        "            model_name = model_arch + \"_Atheism_2016\"\n",
        "            filepath = \"/content/drive/My Drive/Colab Notebooks/2022-ILTAPP/resources/\" + model_name \n",
        "            nlp.to_disk(filepath)\n",
        "    return nlp"
      ],
      "metadata": {
        "id": "oDpOemSphE9S"
      },
      "execution_count": 24,
      "outputs": []
    },
    {
      "cell_type": "code",
      "source": [
        "nlp = train_spacy(training_data, 20, test_texts, test_cats, \"bow\")"
      ],
      "metadata": {
        "colab": {
          "base_uri": "https://localhost:8080/"
        },
        "id": "BoReyzEXhUa7",
        "outputId": "73940b7f-9a54-41ff-e0fe-a38e95452d20"
      },
      "execution_count": 25,
      "outputs": [
        {
          "output_type": "stream",
          "name": "stdout",
          "text": [
            "Training the model...\n",
            "LOSS \t  P  \t  R  \t  F  \n",
            "Iteration: 0\n"
          ]
        },
        {
          "output_type": "stream",
          "name": "stderr",
          "text": [
            "/usr/local/lib/python3.7/dist-packages/ipykernel_launcher.py:44: DeprecationWarning: time.clock has been deprecated in Python 3.3 and will be removed from Python 3.8: use time.perf_counter or time.process_time instead\n",
            "/usr/local/lib/python3.7/dist-packages/sklearn/metrics/_classification.py:1318: UndefinedMetricWarning: Precision and F-score are ill-defined and being set to 0.0 in labels with no predicted samples. Use `zero_division` parameter to control this behavior.\n",
            "  _warn_prf(average, modifier, msg_start, len(result))\n",
            "/usr/local/lib/python3.7/dist-packages/sklearn/metrics/_classification.py:1318: UndefinedMetricWarning: Precision and F-score are ill-defined and being set to 0.0 in labels with no predicted samples. Use `zero_division` parameter to control this behavior.\n",
            "  _warn_prf(average, modifier, msg_start, len(result))\n",
            "/usr/local/lib/python3.7/dist-packages/sklearn/metrics/_classification.py:1318: UndefinedMetricWarning: Precision and F-score are ill-defined and being set to 0.0 in labels with no predicted samples. Use `zero_division` parameter to control this behavior.\n",
            "  _warn_prf(average, modifier, msg_start, len(result))\n",
            "/usr/local/lib/python3.7/dist-packages/ipykernel_launcher.py:55: DeprecationWarning: time.clock has been deprecated in Python 3.3 and will be removed from Python 3.8: use time.perf_counter or time.process_time instead\n",
            "/usr/local/lib/python3.7/dist-packages/ipykernel_launcher.py:44: DeprecationWarning: time.clock has been deprecated in Python 3.3 and will be removed from Python 3.8: use time.perf_counter or time.process_time instead\n"
          ]
        },
        {
          "output_type": "stream",
          "name": "stdout",
          "text": [
            "              precision    recall  f1-score   support\n",
            "\n",
            "     AGAINST       0.73      1.00      0.84       160\n",
            "       FAVOR       0.00      0.00      0.00        32\n",
            "\n",
            "   micro avg       0.73      0.83      0.78       192\n",
            "   macro avg       0.36      0.50      0.42       192\n",
            "weighted avg       0.61      0.83      0.70       192\n",
            "\n",
            "Elapsed time0.4114159999999991seconds\n",
            "Iteration: 1\n"
          ]
        },
        {
          "output_type": "stream",
          "name": "stderr",
          "text": [
            "/usr/local/lib/python3.7/dist-packages/sklearn/metrics/_classification.py:1318: UndefinedMetricWarning: Precision and F-score are ill-defined and being set to 0.0 in labels with no predicted samples. Use `zero_division` parameter to control this behavior.\n",
            "  _warn_prf(average, modifier, msg_start, len(result))\n",
            "/usr/local/lib/python3.7/dist-packages/sklearn/metrics/_classification.py:1318: UndefinedMetricWarning: Precision and F-score are ill-defined and being set to 0.0 in labels with no predicted samples. Use `zero_division` parameter to control this behavior.\n",
            "  _warn_prf(average, modifier, msg_start, len(result))\n",
            "/usr/local/lib/python3.7/dist-packages/sklearn/metrics/_classification.py:1318: UndefinedMetricWarning: Precision and F-score are ill-defined and being set to 0.0 in labels with no predicted samples. Use `zero_division` parameter to control this behavior.\n",
            "  _warn_prf(average, modifier, msg_start, len(result))\n",
            "/usr/local/lib/python3.7/dist-packages/ipykernel_launcher.py:55: DeprecationWarning: time.clock has been deprecated in Python 3.3 and will be removed from Python 3.8: use time.perf_counter or time.process_time instead\n",
            "/usr/local/lib/python3.7/dist-packages/ipykernel_launcher.py:44: DeprecationWarning: time.clock has been deprecated in Python 3.3 and will be removed from Python 3.8: use time.perf_counter or time.process_time instead\n"
          ]
        },
        {
          "output_type": "stream",
          "name": "stdout",
          "text": [
            "              precision    recall  f1-score   support\n",
            "\n",
            "     AGAINST       0.73      1.00      0.84       160\n",
            "       FAVOR       0.00      0.00      0.00        32\n",
            "\n",
            "   micro avg       0.73      0.83      0.78       192\n",
            "   macro avg       0.36      0.50      0.42       192\n",
            "weighted avg       0.61      0.83      0.70       192\n",
            "\n",
            "Elapsed time0.21418800000000005seconds\n",
            "Iteration: 2\n",
            "              precision    recall  f1-score   support\n",
            "\n",
            "     AGAINST       0.73      1.00      0.84       160\n",
            "       FAVOR       0.00      0.00      0.00        32\n",
            "\n",
            "   micro avg       0.73      0.83      0.78       192\n",
            "   macro avg       0.36      0.50      0.42       192\n",
            "weighted avg       0.61      0.83      0.70       192\n",
            "\n",
            "Elapsed time0.20915600000000012seconds\n",
            "Iteration: 3\n"
          ]
        },
        {
          "output_type": "stream",
          "name": "stderr",
          "text": [
            "/usr/local/lib/python3.7/dist-packages/sklearn/metrics/_classification.py:1318: UndefinedMetricWarning: Precision and F-score are ill-defined and being set to 0.0 in labels with no predicted samples. Use `zero_division` parameter to control this behavior.\n",
            "  _warn_prf(average, modifier, msg_start, len(result))\n",
            "/usr/local/lib/python3.7/dist-packages/sklearn/metrics/_classification.py:1318: UndefinedMetricWarning: Precision and F-score are ill-defined and being set to 0.0 in labels with no predicted samples. Use `zero_division` parameter to control this behavior.\n",
            "  _warn_prf(average, modifier, msg_start, len(result))\n",
            "/usr/local/lib/python3.7/dist-packages/sklearn/metrics/_classification.py:1318: UndefinedMetricWarning: Precision and F-score are ill-defined and being set to 0.0 in labels with no predicted samples. Use `zero_division` parameter to control this behavior.\n",
            "  _warn_prf(average, modifier, msg_start, len(result))\n",
            "/usr/local/lib/python3.7/dist-packages/ipykernel_launcher.py:55: DeprecationWarning: time.clock has been deprecated in Python 3.3 and will be removed from Python 3.8: use time.perf_counter or time.process_time instead\n",
            "/usr/local/lib/python3.7/dist-packages/ipykernel_launcher.py:44: DeprecationWarning: time.clock has been deprecated in Python 3.3 and will be removed from Python 3.8: use time.perf_counter or time.process_time instead\n",
            "/usr/local/lib/python3.7/dist-packages/sklearn/metrics/_classification.py:1318: UndefinedMetricWarning: Precision and F-score are ill-defined and being set to 0.0 in labels with no predicted samples. Use `zero_division` parameter to control this behavior.\n",
            "  _warn_prf(average, modifier, msg_start, len(result))\n",
            "/usr/local/lib/python3.7/dist-packages/sklearn/metrics/_classification.py:1318: UndefinedMetricWarning: Precision and F-score are ill-defined and being set to 0.0 in labels with no predicted samples. Use `zero_division` parameter to control this behavior.\n",
            "  _warn_prf(average, modifier, msg_start, len(result))\n",
            "/usr/local/lib/python3.7/dist-packages/sklearn/metrics/_classification.py:1318: UndefinedMetricWarning: Precision and F-score are ill-defined and being set to 0.0 in labels with no predicted samples. Use `zero_division` parameter to control this behavior.\n",
            "  _warn_prf(average, modifier, msg_start, len(result))\n",
            "/usr/local/lib/python3.7/dist-packages/ipykernel_launcher.py:55: DeprecationWarning: time.clock has been deprecated in Python 3.3 and will be removed from Python 3.8: use time.perf_counter or time.process_time instead\n",
            "/usr/local/lib/python3.7/dist-packages/ipykernel_launcher.py:44: DeprecationWarning: time.clock has been deprecated in Python 3.3 and will be removed from Python 3.8: use time.perf_counter or time.process_time instead\n"
          ]
        },
        {
          "output_type": "stream",
          "name": "stdout",
          "text": [
            "              precision    recall  f1-score   support\n",
            "\n",
            "     AGAINST       0.73      1.00      0.84       160\n",
            "       FAVOR       0.00      0.00      0.00        32\n",
            "\n",
            "   micro avg       0.73      0.83      0.78       192\n",
            "   macro avg       0.36      0.50      0.42       192\n",
            "weighted avg       0.61      0.83      0.70       192\n",
            "\n",
            "Elapsed time0.27724800000000016seconds\n",
            "Iteration: 4\n"
          ]
        },
        {
          "output_type": "stream",
          "name": "stderr",
          "text": [
            "/usr/local/lib/python3.7/dist-packages/sklearn/metrics/_classification.py:1318: UndefinedMetricWarning: Precision and F-score are ill-defined and being set to 0.0 in labels with no predicted samples. Use `zero_division` parameter to control this behavior.\n",
            "  _warn_prf(average, modifier, msg_start, len(result))\n",
            "/usr/local/lib/python3.7/dist-packages/sklearn/metrics/_classification.py:1318: UndefinedMetricWarning: Precision and F-score are ill-defined and being set to 0.0 in labels with no predicted samples. Use `zero_division` parameter to control this behavior.\n",
            "  _warn_prf(average, modifier, msg_start, len(result))\n",
            "/usr/local/lib/python3.7/dist-packages/sklearn/metrics/_classification.py:1318: UndefinedMetricWarning: Precision and F-score are ill-defined and being set to 0.0 in labels with no predicted samples. Use `zero_division` parameter to control this behavior.\n",
            "  _warn_prf(average, modifier, msg_start, len(result))\n",
            "/usr/local/lib/python3.7/dist-packages/ipykernel_launcher.py:55: DeprecationWarning: time.clock has been deprecated in Python 3.3 and will be removed from Python 3.8: use time.perf_counter or time.process_time instead\n",
            "/usr/local/lib/python3.7/dist-packages/ipykernel_launcher.py:44: DeprecationWarning: time.clock has been deprecated in Python 3.3 and will be removed from Python 3.8: use time.perf_counter or time.process_time instead\n"
          ]
        },
        {
          "output_type": "stream",
          "name": "stdout",
          "text": [
            "              precision    recall  f1-score   support\n",
            "\n",
            "     AGAINST       0.73      1.00      0.84       160\n",
            "       FAVOR       0.00      0.00      0.00        32\n",
            "\n",
            "   micro avg       0.73      0.83      0.78       192\n",
            "   macro avg       0.36      0.50      0.42       192\n",
            "weighted avg       0.61      0.83      0.70       192\n",
            "\n",
            "Elapsed time0.2232050000000001seconds\n",
            "Iteration: 5\n"
          ]
        },
        {
          "output_type": "stream",
          "name": "stderr",
          "text": [
            "/usr/local/lib/python3.7/dist-packages/sklearn/metrics/_classification.py:1318: UndefinedMetricWarning: Precision and F-score are ill-defined and being set to 0.0 in labels with no predicted samples. Use `zero_division` parameter to control this behavior.\n",
            "  _warn_prf(average, modifier, msg_start, len(result))\n",
            "/usr/local/lib/python3.7/dist-packages/sklearn/metrics/_classification.py:1318: UndefinedMetricWarning: Precision and F-score are ill-defined and being set to 0.0 in labels with no predicted samples. Use `zero_division` parameter to control this behavior.\n",
            "  _warn_prf(average, modifier, msg_start, len(result))\n",
            "/usr/local/lib/python3.7/dist-packages/sklearn/metrics/_classification.py:1318: UndefinedMetricWarning: Precision and F-score are ill-defined and being set to 0.0 in labels with no predicted samples. Use `zero_division` parameter to control this behavior.\n",
            "  _warn_prf(average, modifier, msg_start, len(result))\n",
            "/usr/local/lib/python3.7/dist-packages/ipykernel_launcher.py:55: DeprecationWarning: time.clock has been deprecated in Python 3.3 and will be removed from Python 3.8: use time.perf_counter or time.process_time instead\n",
            "/usr/local/lib/python3.7/dist-packages/ipykernel_launcher.py:44: DeprecationWarning: time.clock has been deprecated in Python 3.3 and will be removed from Python 3.8: use time.perf_counter or time.process_time instead\n"
          ]
        },
        {
          "output_type": "stream",
          "name": "stdout",
          "text": [
            "              precision    recall  f1-score   support\n",
            "\n",
            "     AGAINST       0.73      1.00      0.84       160\n",
            "       FAVOR       0.00      0.00      0.00        32\n",
            "\n",
            "   micro avg       0.73      0.83      0.78       192\n",
            "   macro avg       0.36      0.50      0.42       192\n",
            "weighted avg       0.61      0.83      0.70       192\n",
            "\n",
            "Elapsed time0.2240940000000009seconds\n",
            "Iteration: 6\n"
          ]
        },
        {
          "output_type": "stream",
          "name": "stderr",
          "text": [
            "/usr/local/lib/python3.7/dist-packages/sklearn/metrics/_classification.py:1318: UndefinedMetricWarning: Precision and F-score are ill-defined and being set to 0.0 in labels with no predicted samples. Use `zero_division` parameter to control this behavior.\n",
            "  _warn_prf(average, modifier, msg_start, len(result))\n",
            "/usr/local/lib/python3.7/dist-packages/sklearn/metrics/_classification.py:1318: UndefinedMetricWarning: Precision and F-score are ill-defined and being set to 0.0 in labels with no predicted samples. Use `zero_division` parameter to control this behavior.\n",
            "  _warn_prf(average, modifier, msg_start, len(result))\n",
            "/usr/local/lib/python3.7/dist-packages/sklearn/metrics/_classification.py:1318: UndefinedMetricWarning: Precision and F-score are ill-defined and being set to 0.0 in labels with no predicted samples. Use `zero_division` parameter to control this behavior.\n",
            "  _warn_prf(average, modifier, msg_start, len(result))\n",
            "/usr/local/lib/python3.7/dist-packages/ipykernel_launcher.py:55: DeprecationWarning: time.clock has been deprecated in Python 3.3 and will be removed from Python 3.8: use time.perf_counter or time.process_time instead\n",
            "/usr/local/lib/python3.7/dist-packages/ipykernel_launcher.py:44: DeprecationWarning: time.clock has been deprecated in Python 3.3 and will be removed from Python 3.8: use time.perf_counter or time.process_time instead\n"
          ]
        },
        {
          "output_type": "stream",
          "name": "stdout",
          "text": [
            "              precision    recall  f1-score   support\n",
            "\n",
            "     AGAINST       0.73      1.00      0.84       160\n",
            "       FAVOR       0.00      0.00      0.00        32\n",
            "\n",
            "   micro avg       0.73      0.83      0.78       192\n",
            "   macro avg       0.36      0.50      0.42       192\n",
            "weighted avg       0.61      0.83      0.70       192\n",
            "\n",
            "Elapsed time0.23111499999999907seconds\n",
            "Iteration: 7\n"
          ]
        },
        {
          "output_type": "stream",
          "name": "stderr",
          "text": [
            "/usr/local/lib/python3.7/dist-packages/sklearn/metrics/_classification.py:1318: UndefinedMetricWarning: Precision and F-score are ill-defined and being set to 0.0 in labels with no predicted samples. Use `zero_division` parameter to control this behavior.\n",
            "  _warn_prf(average, modifier, msg_start, len(result))\n",
            "/usr/local/lib/python3.7/dist-packages/sklearn/metrics/_classification.py:1318: UndefinedMetricWarning: Precision and F-score are ill-defined and being set to 0.0 in labels with no predicted samples. Use `zero_division` parameter to control this behavior.\n",
            "  _warn_prf(average, modifier, msg_start, len(result))\n",
            "/usr/local/lib/python3.7/dist-packages/sklearn/metrics/_classification.py:1318: UndefinedMetricWarning: Precision and F-score are ill-defined and being set to 0.0 in labels with no predicted samples. Use `zero_division` parameter to control this behavior.\n",
            "  _warn_prf(average, modifier, msg_start, len(result))\n",
            "/usr/local/lib/python3.7/dist-packages/ipykernel_launcher.py:55: DeprecationWarning: time.clock has been deprecated in Python 3.3 and will be removed from Python 3.8: use time.perf_counter or time.process_time instead\n",
            "/usr/local/lib/python3.7/dist-packages/ipykernel_launcher.py:44: DeprecationWarning: time.clock has been deprecated in Python 3.3 and will be removed from Python 3.8: use time.perf_counter or time.process_time instead\n"
          ]
        },
        {
          "output_type": "stream",
          "name": "stdout",
          "text": [
            "              precision    recall  f1-score   support\n",
            "\n",
            "     AGAINST       0.73      1.00      0.84       160\n",
            "       FAVOR       0.00      0.00      0.00        32\n",
            "\n",
            "   micro avg       0.73      0.83      0.78       192\n",
            "   macro avg       0.36      0.50      0.42       192\n",
            "weighted avg       0.61      0.83      0.70       192\n",
            "\n",
            "Elapsed time0.23402300000000054seconds\n",
            "Iteration: 8\n"
          ]
        },
        {
          "output_type": "stream",
          "name": "stderr",
          "text": [
            "/usr/local/lib/python3.7/dist-packages/sklearn/metrics/_classification.py:1318: UndefinedMetricWarning: Precision and F-score are ill-defined and being set to 0.0 in labels with no predicted samples. Use `zero_division` parameter to control this behavior.\n",
            "  _warn_prf(average, modifier, msg_start, len(result))\n",
            "/usr/local/lib/python3.7/dist-packages/sklearn/metrics/_classification.py:1318: UndefinedMetricWarning: Precision and F-score are ill-defined and being set to 0.0 in labels with no predicted samples. Use `zero_division` parameter to control this behavior.\n",
            "  _warn_prf(average, modifier, msg_start, len(result))\n",
            "/usr/local/lib/python3.7/dist-packages/sklearn/metrics/_classification.py:1318: UndefinedMetricWarning: Precision and F-score are ill-defined and being set to 0.0 in labels with no predicted samples. Use `zero_division` parameter to control this behavior.\n",
            "  _warn_prf(average, modifier, msg_start, len(result))\n",
            "/usr/local/lib/python3.7/dist-packages/ipykernel_launcher.py:55: DeprecationWarning: time.clock has been deprecated in Python 3.3 and will be removed from Python 3.8: use time.perf_counter or time.process_time instead\n",
            "/usr/local/lib/python3.7/dist-packages/ipykernel_launcher.py:44: DeprecationWarning: time.clock has been deprecated in Python 3.3 and will be removed from Python 3.8: use time.perf_counter or time.process_time instead\n"
          ]
        },
        {
          "output_type": "stream",
          "name": "stdout",
          "text": [
            "              precision    recall  f1-score   support\n",
            "\n",
            "     AGAINST       0.73      1.00      0.84       160\n",
            "       FAVOR       0.00      0.00      0.00        32\n",
            "\n",
            "   micro avg       0.73      0.83      0.78       192\n",
            "   macro avg       0.36      0.50      0.42       192\n",
            "weighted avg       0.61      0.83      0.70       192\n",
            "\n",
            "Elapsed time0.21144299999999916seconds\n",
            "Iteration: 9\n",
            "              precision    recall  f1-score   support\n",
            "\n",
            "     AGAINST       0.73      1.00      0.84       160\n",
            "       FAVOR       1.00      0.03      0.06        32\n",
            "\n",
            "   micro avg       0.73      0.84      0.78       192\n",
            "   macro avg       0.87      0.52      0.45       192\n",
            "weighted avg       0.78      0.84      0.71       192\n",
            "\n",
            "Elapsed time0.1982299999999988seconds\n",
            "Iteration: 10\n",
            "              precision    recall  f1-score   support\n",
            "\n",
            "     AGAINST       0.73      0.99      0.84       160\n",
            "       FAVOR       0.50      0.03      0.06        32\n",
            "\n",
            "   micro avg       0.73      0.83      0.78       192\n",
            "   macro avg       0.62      0.51      0.45       192\n",
            "weighted avg       0.69      0.83      0.71       192\n",
            "\n",
            "Elapsed time0.20959000000000216seconds\n",
            "Iteration: 11\n",
            "              precision    recall  f1-score   support\n",
            "\n",
            "     AGAINST       0.74      0.99      0.85       160\n",
            "       FAVOR       0.25      0.03      0.06        32\n",
            "\n",
            "   micro avg       0.73      0.83      0.78       192\n",
            "   macro avg       0.50      0.51      0.45       192\n",
            "weighted avg       0.66      0.83      0.72       192\n",
            "\n",
            "Elapsed time0.19602099999999822seconds\n",
            "Iteration: 12\n"
          ]
        },
        {
          "output_type": "stream",
          "name": "stderr",
          "text": [
            "/usr/local/lib/python3.7/dist-packages/ipykernel_launcher.py:55: DeprecationWarning: time.clock has been deprecated in Python 3.3 and will be removed from Python 3.8: use time.perf_counter or time.process_time instead\n",
            "/usr/local/lib/python3.7/dist-packages/ipykernel_launcher.py:44: DeprecationWarning: time.clock has been deprecated in Python 3.3 and will be removed from Python 3.8: use time.perf_counter or time.process_time instead\n",
            "/usr/local/lib/python3.7/dist-packages/ipykernel_launcher.py:55: DeprecationWarning: time.clock has been deprecated in Python 3.3 and will be removed from Python 3.8: use time.perf_counter or time.process_time instead\n",
            "/usr/local/lib/python3.7/dist-packages/ipykernel_launcher.py:44: DeprecationWarning: time.clock has been deprecated in Python 3.3 and will be removed from Python 3.8: use time.perf_counter or time.process_time instead\n",
            "/usr/local/lib/python3.7/dist-packages/ipykernel_launcher.py:55: DeprecationWarning: time.clock has been deprecated in Python 3.3 and will be removed from Python 3.8: use time.perf_counter or time.process_time instead\n",
            "/usr/local/lib/python3.7/dist-packages/ipykernel_launcher.py:44: DeprecationWarning: time.clock has been deprecated in Python 3.3 and will be removed from Python 3.8: use time.perf_counter or time.process_time instead\n"
          ]
        },
        {
          "output_type": "stream",
          "name": "stdout",
          "text": [
            "              precision    recall  f1-score   support\n",
            "\n",
            "     AGAINST       0.75      0.99      0.85       160\n",
            "       FAVOR       0.40      0.06      0.11        32\n",
            "\n",
            "   micro avg       0.74      0.83      0.78       192\n",
            "   macro avg       0.57      0.53      0.48       192\n",
            "weighted avg       0.69      0.83      0.73       192\n",
            "\n",
            "Elapsed time0.19523200000000074seconds\n",
            "Iteration: 13\n",
            "              precision    recall  f1-score   support\n",
            "\n",
            "     AGAINST       0.75      0.98      0.85       160\n",
            "       FAVOR       0.40      0.06      0.11        32\n",
            "\n",
            "   micro avg       0.74      0.83      0.78       192\n",
            "   macro avg       0.58      0.52      0.48       192\n",
            "weighted avg       0.69      0.83      0.73       192\n",
            "\n",
            "Elapsed time0.191240999999998seconds\n",
            "Iteration: 14\n"
          ]
        },
        {
          "output_type": "stream",
          "name": "stderr",
          "text": [
            "/usr/local/lib/python3.7/dist-packages/ipykernel_launcher.py:55: DeprecationWarning: time.clock has been deprecated in Python 3.3 and will be removed from Python 3.8: use time.perf_counter or time.process_time instead\n",
            "/usr/local/lib/python3.7/dist-packages/ipykernel_launcher.py:44: DeprecationWarning: time.clock has been deprecated in Python 3.3 and will be removed from Python 3.8: use time.perf_counter or time.process_time instead\n",
            "/usr/local/lib/python3.7/dist-packages/ipykernel_launcher.py:55: DeprecationWarning: time.clock has been deprecated in Python 3.3 and will be removed from Python 3.8: use time.perf_counter or time.process_time instead\n",
            "/usr/local/lib/python3.7/dist-packages/ipykernel_launcher.py:44: DeprecationWarning: time.clock has been deprecated in Python 3.3 and will be removed from Python 3.8: use time.perf_counter or time.process_time instead\n"
          ]
        },
        {
          "output_type": "stream",
          "name": "stdout",
          "text": [
            "              precision    recall  f1-score   support\n",
            "\n",
            "     AGAINST       0.75      0.97      0.85       160\n",
            "       FAVOR       0.33      0.06      0.11        32\n",
            "\n",
            "   micro avg       0.74      0.82      0.78       192\n",
            "   macro avg       0.54      0.52      0.48       192\n",
            "weighted avg       0.68      0.82      0.72       192\n",
            "\n",
            "Elapsed time0.205171seconds\n",
            "Iteration: 15\n",
            "              precision    recall  f1-score   support\n",
            "\n",
            "     AGAINST       0.75      0.96      0.84       160\n",
            "       FAVOR       0.25      0.06      0.10        32\n",
            "\n",
            "   micro avg       0.73      0.81      0.77       192\n",
            "   macro avg       0.50      0.51      0.47       192\n",
            "weighted avg       0.67      0.81      0.72       192\n",
            "\n",
            "Elapsed time0.17935199999999796seconds\n",
            "Iteration: 16\n"
          ]
        },
        {
          "output_type": "stream",
          "name": "stderr",
          "text": [
            "/usr/local/lib/python3.7/dist-packages/ipykernel_launcher.py:55: DeprecationWarning: time.clock has been deprecated in Python 3.3 and will be removed from Python 3.8: use time.perf_counter or time.process_time instead\n",
            "/usr/local/lib/python3.7/dist-packages/ipykernel_launcher.py:44: DeprecationWarning: time.clock has been deprecated in Python 3.3 and will be removed from Python 3.8: use time.perf_counter or time.process_time instead\n",
            "/usr/local/lib/python3.7/dist-packages/ipykernel_launcher.py:55: DeprecationWarning: time.clock has been deprecated in Python 3.3 and will be removed from Python 3.8: use time.perf_counter or time.process_time instead\n",
            "/usr/local/lib/python3.7/dist-packages/ipykernel_launcher.py:44: DeprecationWarning: time.clock has been deprecated in Python 3.3 and will be removed from Python 3.8: use time.perf_counter or time.process_time instead\n"
          ]
        },
        {
          "output_type": "stream",
          "name": "stdout",
          "text": [
            "              precision    recall  f1-score   support\n",
            "\n",
            "     AGAINST       0.75      0.94      0.84       160\n",
            "       FAVOR       0.25      0.06      0.10        32\n",
            "\n",
            "   micro avg       0.73      0.80      0.76       192\n",
            "   macro avg       0.50      0.50      0.47       192\n",
            "weighted avg       0.67      0.80      0.71       192\n",
            "\n",
            "Elapsed time0.20119199999999893seconds\n",
            "Iteration: 17\n",
            "              precision    recall  f1-score   support\n",
            "\n",
            "     AGAINST       0.75      0.94      0.83       160\n",
            "       FAVOR       0.22      0.06      0.10        32\n",
            "\n",
            "   micro avg       0.73      0.79      0.76       192\n",
            "   macro avg       0.49      0.50      0.47       192\n",
            "weighted avg       0.66      0.79      0.71       192\n",
            "\n",
            "Elapsed time0.18795300000000026seconds\n",
            "Iteration: 18\n"
          ]
        },
        {
          "output_type": "stream",
          "name": "stderr",
          "text": [
            "/usr/local/lib/python3.7/dist-packages/ipykernel_launcher.py:55: DeprecationWarning: time.clock has been deprecated in Python 3.3 and will be removed from Python 3.8: use time.perf_counter or time.process_time instead\n",
            "/usr/local/lib/python3.7/dist-packages/ipykernel_launcher.py:44: DeprecationWarning: time.clock has been deprecated in Python 3.3 and will be removed from Python 3.8: use time.perf_counter or time.process_time instead\n",
            "/usr/local/lib/python3.7/dist-packages/ipykernel_launcher.py:55: DeprecationWarning: time.clock has been deprecated in Python 3.3 and will be removed from Python 3.8: use time.perf_counter or time.process_time instead\n",
            "/usr/local/lib/python3.7/dist-packages/ipykernel_launcher.py:44: DeprecationWarning: time.clock has been deprecated in Python 3.3 and will be removed from Python 3.8: use time.perf_counter or time.process_time instead\n"
          ]
        },
        {
          "output_type": "stream",
          "name": "stdout",
          "text": [
            "              precision    recall  f1-score   support\n",
            "\n",
            "     AGAINST       0.76      0.93      0.84       160\n",
            "       FAVOR       0.27      0.09      0.14        32\n",
            "\n",
            "   micro avg       0.73      0.79      0.76       192\n",
            "   macro avg       0.52      0.51      0.49       192\n",
            "weighted avg       0.68      0.79      0.72       192\n",
            "\n",
            "Elapsed time0.19033899999999804seconds\n",
            "Iteration: 19\n",
            "              precision    recall  f1-score   support\n",
            "\n",
            "     AGAINST       0.76      0.93      0.84       160\n",
            "       FAVOR       0.25      0.09      0.14        32\n",
            "\n",
            "   micro avg       0.73      0.79      0.76       192\n",
            "   macro avg       0.51      0.51      0.49       192\n",
            "weighted avg       0.68      0.79      0.72       192\n",
            "\n",
            "Elapsed time0.19753100000000146seconds\n"
          ]
        },
        {
          "output_type": "stream",
          "name": "stderr",
          "text": [
            "/usr/local/lib/python3.7/dist-packages/ipykernel_launcher.py:55: DeprecationWarning: time.clock has been deprecated in Python 3.3 and will be removed from Python 3.8: use time.perf_counter or time.process_time instead\n",
            "/usr/local/lib/python3.7/dist-packages/ipykernel_launcher.py:44: DeprecationWarning: time.clock has been deprecated in Python 3.3 and will be removed from Python 3.8: use time.perf_counter or time.process_time instead\n",
            "/usr/local/lib/python3.7/dist-packages/ipykernel_launcher.py:55: DeprecationWarning: time.clock has been deprecated in Python 3.3 and will be removed from Python 3.8: use time.perf_counter or time.process_time instead\n"
          ]
        }
      ]
    },
    {
      "cell_type": "code",
      "source": [
        "textcat_bow = spacy.load(\"/content/drive/MyDrive/Colab Notebooks/2022-ILTAPP/resources/bow_Atheism_2016\")\n",
        "tweets = textcat_bow(test_texts[10])\n",
        "print(\"Text: \"+ test_texts[10])\n",
        "print(\"Gold Label:\"+ test_cats[10])\n",
        "print(\" Predicted Label:\") \n",
        "print(tweets.cats)\n",
        "print(\"=======================================\")"
      ],
      "metadata": {
        "colab": {
          "base_uri": "https://localhost:8080/"
        },
        "id": "3CHV8mVThb9b",
        "outputId": "f23c0783-71b0-47f5-e664-c405c1b33bc9"
      },
      "execution_count": 26,
      "outputs": [
        {
          "output_type": "stream",
          "name": "stdout",
          "text": [
            "Text: If only dreams were real, now it's gone. SingleBecause getonyourfeet SemST\n",
            "Gold Label:AGAINST\n",
            " Predicted Label:\n",
            "{'AGAINST': 0.39675581455230713, 'FAVOR': 0.3052373230457306, 'NONE': 0.29800689220428467}\n",
            "=======================================\n"
          ]
        }
      ]
    },
    {
      "cell_type": "markdown",
      "source": [
        "# ASSIGNMENT 2"
      ],
      "metadata": {
        "id": "DIguFZw0hjFp"
      }
    },
    {
      "cell_type": "markdown",
      "source": [
        "# Reused the above code to train a new classifier for fake news dataset."
      ],
      "metadata": {
        "id": "HUNRLoBHhpOU"
      }
    },
    {
      "cell_type": "code",
      "source": [
        "from sklearn.model_selection import train_test_split"
      ],
      "metadata": {
        "id": "TaN3z4Jmi5xZ"
      },
      "execution_count": 34,
      "outputs": []
    },
    {
      "cell_type": "code",
      "source": [
        "df_fake = pd.read_csv(\"/content/drive/MyDrive/Colab Notebooks/2022-ILTAPP/datasets/fake_rada/fake_news_full.tsv\",sep='\\t')"
      ],
      "metadata": {
        "id": "S1tYfNf_hk94"
      },
      "execution_count": 27,
      "outputs": []
    },
    {
      "cell_type": "code",
      "source": [
        "df_fake.columns =[\"label\",\"News\"]"
      ],
      "metadata": {
        "id": "pvB29IiyiElx"
      },
      "execution_count": 28,
      "outputs": []
    },
    {
      "cell_type": "code",
      "source": [
        "df_fake.head(2)"
      ],
      "metadata": {
        "colab": {
          "base_uri": "https://localhost:8080/",
          "height": 112
        },
        "id": "FABIaJ3UiHAd",
        "outputId": "46e9dcfc-38f1-4e95-c1e9-b97dc8b6b33d"
      },
      "execution_count": 29,
      "outputs": [
        {
          "output_type": "execute_result",
          "data": {
            "text/html": [
              "\n",
              "  <div id=\"df-09cb68a6-8a07-4285-b34d-a4c1bf442964\">\n",
              "    <div class=\"colab-df-container\">\n",
              "      <div>\n",
              "<style scoped>\n",
              "    .dataframe tbody tr th:only-of-type {\n",
              "        vertical-align: middle;\n",
              "    }\n",
              "\n",
              "    .dataframe tbody tr th {\n",
              "        vertical-align: top;\n",
              "    }\n",
              "\n",
              "    .dataframe thead th {\n",
              "        text-align: right;\n",
              "    }\n",
              "</style>\n",
              "<table border=\"1\" class=\"dataframe\">\n",
              "  <thead>\n",
              "    <tr style=\"text-align: right;\">\n",
              "      <th></th>\n",
              "      <th>label</th>\n",
              "      <th>News</th>\n",
              "    </tr>\n",
              "  </thead>\n",
              "  <tbody>\n",
              "    <tr>\n",
              "      <th>0</th>\n",
              "      <td>fake</td>\n",
              "      <td>THE BIG DATA CONSPIRACY Government and Silicon...</td>\n",
              "    </tr>\n",
              "    <tr>\n",
              "      <th>1</th>\n",
              "      <td>fake</td>\n",
              "      <td>California Surprisingly Lenient on Auto Emissi...</td>\n",
              "    </tr>\n",
              "  </tbody>\n",
              "</table>\n",
              "</div>\n",
              "      <button class=\"colab-df-convert\" onclick=\"convertToInteractive('df-09cb68a6-8a07-4285-b34d-a4c1bf442964')\"\n",
              "              title=\"Convert this dataframe to an interactive table.\"\n",
              "              style=\"display:none;\">\n",
              "        \n",
              "  <svg xmlns=\"http://www.w3.org/2000/svg\" height=\"24px\"viewBox=\"0 0 24 24\"\n",
              "       width=\"24px\">\n",
              "    <path d=\"M0 0h24v24H0V0z\" fill=\"none\"/>\n",
              "    <path d=\"M18.56 5.44l.94 2.06.94-2.06 2.06-.94-2.06-.94-.94-2.06-.94 2.06-2.06.94zm-11 1L8.5 8.5l.94-2.06 2.06-.94-2.06-.94L8.5 2.5l-.94 2.06-2.06.94zm10 10l.94 2.06.94-2.06 2.06-.94-2.06-.94-.94-2.06-.94 2.06-2.06.94z\"/><path d=\"M17.41 7.96l-1.37-1.37c-.4-.4-.92-.59-1.43-.59-.52 0-1.04.2-1.43.59L10.3 9.45l-7.72 7.72c-.78.78-.78 2.05 0 2.83L4 21.41c.39.39.9.59 1.41.59.51 0 1.02-.2 1.41-.59l7.78-7.78 2.81-2.81c.8-.78.8-2.07 0-2.86zM5.41 20L4 18.59l7.72-7.72 1.47 1.35L5.41 20z\"/>\n",
              "  </svg>\n",
              "      </button>\n",
              "      \n",
              "  <style>\n",
              "    .colab-df-container {\n",
              "      display:flex;\n",
              "      flex-wrap:wrap;\n",
              "      gap: 12px;\n",
              "    }\n",
              "\n",
              "    .colab-df-convert {\n",
              "      background-color: #E8F0FE;\n",
              "      border: none;\n",
              "      border-radius: 50%;\n",
              "      cursor: pointer;\n",
              "      display: none;\n",
              "      fill: #1967D2;\n",
              "      height: 32px;\n",
              "      padding: 0 0 0 0;\n",
              "      width: 32px;\n",
              "    }\n",
              "\n",
              "    .colab-df-convert:hover {\n",
              "      background-color: #E2EBFA;\n",
              "      box-shadow: 0px 1px 2px rgba(60, 64, 67, 0.3), 0px 1px 3px 1px rgba(60, 64, 67, 0.15);\n",
              "      fill: #174EA6;\n",
              "    }\n",
              "\n",
              "    [theme=dark] .colab-df-convert {\n",
              "      background-color: #3B4455;\n",
              "      fill: #D2E3FC;\n",
              "    }\n",
              "\n",
              "    [theme=dark] .colab-df-convert:hover {\n",
              "      background-color: #434B5C;\n",
              "      box-shadow: 0px 1px 3px 1px rgba(0, 0, 0, 0.15);\n",
              "      filter: drop-shadow(0px 1px 2px rgba(0, 0, 0, 0.3));\n",
              "      fill: #FFFFFF;\n",
              "    }\n",
              "  </style>\n",
              "\n",
              "      <script>\n",
              "        const buttonEl =\n",
              "          document.querySelector('#df-09cb68a6-8a07-4285-b34d-a4c1bf442964 button.colab-df-convert');\n",
              "        buttonEl.style.display =\n",
              "          google.colab.kernel.accessAllowed ? 'block' : 'none';\n",
              "\n",
              "        async function convertToInteractive(key) {\n",
              "          const element = document.querySelector('#df-09cb68a6-8a07-4285-b34d-a4c1bf442964');\n",
              "          const dataTable =\n",
              "            await google.colab.kernel.invokeFunction('convertToInteractive',\n",
              "                                                     [key], {});\n",
              "          if (!dataTable) return;\n",
              "\n",
              "          const docLinkHtml = 'Like what you see? Visit the ' +\n",
              "            '<a target=\"_blank\" href=https://colab.research.google.com/notebooks/data_table.ipynb>data table notebook</a>'\n",
              "            + ' to learn more about interactive tables.';\n",
              "          element.innerHTML = '';\n",
              "          dataTable['output_type'] = 'display_data';\n",
              "          await google.colab.output.renderOutput(dataTable, element);\n",
              "          const docLink = document.createElement('div');\n",
              "          docLink.innerHTML = docLinkHtml;\n",
              "          element.appendChild(docLink);\n",
              "        }\n",
              "      </script>\n",
              "    </div>\n",
              "  </div>\n",
              "  "
            ],
            "text/plain": [
              "  label                                               News\n",
              "0  fake  THE BIG DATA CONSPIRACY Government and Silicon...\n",
              "1  fake  California Surprisingly Lenient on Auto Emissi..."
            ]
          },
          "metadata": {},
          "execution_count": 29
        }
      ]
    },
    {
      "cell_type": "code",
      "source": [
        "df_fake.shape"
      ],
      "metadata": {
        "colab": {
          "base_uri": "https://localhost:8080/"
        },
        "id": "PKELl0bZigF0",
        "outputId": "c87b5cd1-7de1-4fe5-db67-34bd109210fe"
      },
      "execution_count": 31,
      "outputs": [
        {
          "output_type": "execute_result",
          "data": {
            "text/plain": [
              "(476, 2)"
            ]
          },
          "metadata": {},
          "execution_count": 31
        }
      ]
    },
    {
      "cell_type": "code",
      "source": [
        "data = df_fake"
      ],
      "metadata": {
        "id": "DdTIDrx6ipRA"
      },
      "execution_count": 32,
      "outputs": []
    },
    {
      "cell_type": "code",
      "source": [
        "train,test = train_test_split(data, test_size=0.20, random_state=0)\n",
        "#save the data\n",
        "train.to_csv('train.csv',index=False)\n",
        "test.to_csv('test.csv',index=False)"
      ],
      "metadata": {
        "id": "ZJKHIUDZiu4O"
      },
      "execution_count": 35,
      "outputs": []
    },
    {
      "cell_type": "code",
      "source": [
        "print('train:',len(train))\n",
        "print('test:',len(test))"
      ],
      "metadata": {
        "colab": {
          "base_uri": "https://localhost:8080/"
        },
        "id": "z64uerRhjCXt",
        "outputId": "882316e4-77fd-46aa-a46b-d527d2109337"
      },
      "execution_count": 36,
      "outputs": [
        {
          "output_type": "stream",
          "name": "stdout",
          "text": [
            "train: 380\n",
            "test: 96\n"
          ]
        }
      ]
    },
    {
      "cell_type": "code",
      "source": [
        "def load_data_spacy(fname):\n",
        "  train_data = pd.read_csv(fname,)\n",
        "  train_data.dropna(axis = 0, how ='any',inplace=True)\n",
        "  train_data['Num_words_text'] = train_data['News'].apply(lambda x:len(str(x).split())) \n",
        "  mask = train_data['Num_words_text'] >2\n",
        "  train_data = train_data[mask]\n",
        "  print(train_data['label'].value_counts())\n",
        "\n",
        "  train_data['News'] = train_data['News'].apply(cleanup)\n",
        "   \n",
        "  train_texts = train_data['News'].tolist()\n",
        "  train_cats = train_data['label'].tolist()\n",
        "  final_train_cats=[]\n",
        "  for cat in train_cats:\n",
        "    cat_list = {}\n",
        "    if cat == 'fake':\n",
        "      cat_list['fake'] =  1\n",
        "      cat_list['legit'] =  0\n",
        "    else:\n",
        "      cat_list['fake'] =  0\n",
        "      cat_list['legit'] =  1\n",
        "      \n",
        "    final_train_cats.append(cat_list)\n",
        "    \n",
        "  training_data = list(zip(train_texts, [{\"cats\": cats} for cats in final_train_cats]))\n",
        "  return training_data, train_texts, train_cats"
      ],
      "metadata": {
        "id": "SNp24MEqjFZO"
      },
      "execution_count": 37,
      "outputs": []
    },
    {
      "cell_type": "code",
      "source": [
        "training_data, train_texts, train_cats = load_data_spacy('/content/train.csv')\n",
        "#training_data, train_texts, train_cats = load_data_spacy('')\n",
        "#training_data, train_texts, train_cats = load_data_spacy('')\n",
        "print(training_data[:10])\n",
        "print(len(training_data))\n",
        "test_data, test_texts, test_cats = load_data_spacy('/content/test.csv')\n",
        "print(len(test_data))"
      ],
      "metadata": {
        "colab": {
          "base_uri": "https://localhost:8080/"
        },
        "id": "c-z0v5vcjQhs",
        "outputId": "66c21e8b-9d55-4fee-f44f-c7b61fac81ed"
      },
      "execution_count": 38,
      "outputs": [
        {
          "output_type": "stream",
          "name": "stdout",
          "text": [
            "fake     194\n",
            "legit    186\n",
            "Name: label, dtype: int64\n",
            "[(\"New Nintendo Switch game console to launch in March for $99 Nintendo plans a promotional roll out of it's new Nintendo switch game console. For a limited time, the console will roll out for an introductory price of $99. Nintendo promises to pack the new console with fun features not present in past machines. The new console contains new features such as motion detectors and immersive and interactive gaming. The new introductory price will be available for two months to show the public the new advances in gaming. However, initial quantities will be limited to 250,000 units available at the sales price. So rush out and get yours today while the promotional offer is running.\", {'cats': {'fake': 1, 'legit': 0}}), ('State Department relaxes travel restrictions for certain foreigners. Washington (CNN) Secretary of State Rex Tillerson sent out a memorandum today to various worldwide embassies directing them to ease restrictions on foreigners\\' ability to travel. Specifically, they have been asked to cease the screening of applicants\\' social media accounts and limit background checks to include known terrorists. This action seems to be in direct violation of President Donald\\'s Trump executive order restricting travel from most Muslim countries, which he signed on March 6. The memorandum, marked \"sensitive\" but not classified, was leaked to the media by sources close to the State Department; more information will be posted as it becomes available.', {'cats': {'fake': 1, 'legit': 0}}), (' Gold Set to Soar to $1 500 as Inflation Makes a Comeback \"Gold is poised to rally to levels last seen four years ago as rising inflation and negative real interest rates combine to boost demand according to Incrementum AG which says that the precious metal may be in the early stages of a bull market. Prices may climb to $1 400 to $1 500 an ounce this year said Ronald-Peter Stoeferle managing partner at the Liechtenstein-based company which oversees 100 million Swiss francs ($101.5 million). Spot bullion -- which was at $1 249 on Wednesday -- last traded at $1 400 in September 2013.', {'cats': {'fake': 0, 'legit': 1}}), ('Donald Trump\\'s Win To The Presidency Causes Freshman To Be Emotionally Unprepared for College High school students spend years being taught that being fair and honest will always help you get ahead, but with the election of Donald J Trump to the presidency students are now questioning their educational foundations. According to a new national survey conducted by Harris Poll for the JED Foundation, Partnership for Drug-free Kids, and The Jordan Porco Foundation, found that 70 percent of freshmen said they had wished \"Hillary Clinton had won the presidency\".', {'cats': {'fake': 1, 'legit': 0}}), ('KENTUCKY\\'s JOHN CALIPARI HOLDS BACK TEAM IN FAVOR OF DE\\'AARON FOX Kentucky Wildcat Coach John Calipari put the rest of the team on notice: \"Guys are you watching this game? Good. Then you know we\\'re playing through De\\'Aaron Fox. The rest of you take a back seat.\" Fox showboated his way through the game, leaving the rest of the team without much to do during their game with UCLA at the FedEx Forum. Calipari kept instructing the team to keep passing the ball to Fox, and fortunately Fox managed to lead the team to an 86-75 victory. Their next game is with North Carolina in the regional final, of which Calipari bragged, \"I\\'m looking forward to the game. I\\'m jacked up!\"', {'cats': {'fake': 1, 'legit': 0}}), ('Sources: FBI investigation continues into \\'odd\\' computer link between Russian bank and Trump Organization (CNN)Federal investigators and computer scientists continue to examine whether there was a computer server connection between the Trump Organization and a Russian bank, sources close to the investigation tell CNN. Questions about the possible connection were widely dismissed four months ago. But the FBI\\'s investigation remains open, the sources said, and is in the hands of the FBI\\'s counterintelligence team -- the same one looking into Russia\\'s suspected interference in the 2016 election. One U.S. official said investigators find the server relationship \"odd\" and are not ignoring it. But the official said there is still more work for the FBI to do. Investigators have not yet determined whether a connection would be significant.', {'cats': {'fake': 0, 'legit': 1}}), (\"Ban for right hand users The U.S. government is temporarily banning passengers on flights that leave out for the next 2 weeks. The government will determine lefties from eighties by quickly throwing a ball at unsuspecting passengers. Because of the quick reflex at is required e person's dominant hand will be shown and revealed. The reason for this ban is not immediately clear ands officials would not comment. A second official stated that is would only be a temporary inconvenience and try hope all involved will be patient.\", {'cats': {'fake': 1, 'legit': 0}}), (\"Amazon has more budget phones to sell you Take a handful of budget phones. Cut their price even more. Voila -- you've got another hit on Amazon. The online retailer said Thursday that it's building on the popularity of its discounted phones program, called Prime Exclusive Phones, by adding two more devices to the lineup. Prime customers in the US can now preorder the Motorola Moto G5 Plus starting at $185, at least $45 below full retail price, or the Alcatel A30 for $60, at $40 off, Amazon said. These discounted prices, available only to Prime members, come thanks to ads Amazon slaps on the devices' lock screens.\", {'cats': {'fake': 0, 'legit': 1}}), ('Harvard Law, Moving to Limit Applicant Pool, Will Not Accept Scholastic Aptitude Test Harvard Law School, moving to close its doors to a smaller, less diverse pool of applicants, said on Monday that it would not accept the scholastic aptitude test, known as the SAT, for the admission of students entering its fall 2020 class. The law school, whose alumni include Bill Gates and Mark Zuckerberg, is the least accredited law school in the United States in the past two years. It will be the first university to not accept the SAT, with other universities considering making the change in the future.', {'cats': {'fake': 1, 'legit': 0}}), ('California Upholds Auto Emissions Standards Setting Up Face-Off With Trump \"California\\'s clean-air agency voted on Friday to push ahead with stricter emissions standards for cars and trucks setting up a potential legal battle with the Trump administration over the state\\'s plan to reduce planet-warming gases. The vote by the California Air Resources Board is the boldest indication yet of California\\'s plan to stand up to President Trump\\'s agenda. Leading politicians in the state from the governor down to many mayors have promised to lead the resistance to Mr. Trump\\'s policies. Mr. Trump backing industry over environmental concerns said easing emissions rules would help stimulate auto manufacturing. He vowed last week to loosen the regulations. Automakers are aggressively pursuing those changes after years of supporting stricter standards.', {'cats': {'fake': 0, 'legit': 1}})]\n",
            "380\n",
            "legit    54\n",
            "fake     42\n",
            "Name: label, dtype: int64\n",
            "96\n"
          ]
        }
      ]
    },
    {
      "cell_type": "code",
      "source": [
        "def Sort(sub_li):\n",
        "  # reverse = True (Soresulting_list = list(first_list)rts in Descending  order) \n",
        "  # key is set to sort using second element of  \n",
        "  # sublist lambda has been used \n",
        "  return(sorted(sub_li, key = lambda x: x[1],reverse=True))  \n",
        "\n",
        "# run the predictions on each sentence in the evaluation  dataset, and return the metrics\n",
        "def evaluate(tokenizer, textcat, test_texts, test_cats ):\n",
        "  docs = (tokenizer(text) for text in test_texts)\n",
        "  preds = []\n",
        "  for i, doc in enumerate(textcat.pipe(docs)):\n",
        "    #print(doc.cats.items())\n",
        "    scores = Sort(doc.cats.items())\n",
        "    #print(scores)\n",
        "    catList=[]\n",
        "    for score in scores:\n",
        "      catList.append(score[0])\n",
        "    preds.append(catList[0])\n",
        "        \n",
        "  labels = ['fake', 'legit']\n",
        "  print(classification_report(test_cats, preds,labels=labels))"
      ],
      "metadata": {
        "id": "VHkIBicrkGlD"
      },
      "execution_count": 40,
      "outputs": []
    },
    {
      "cell_type": "code",
      "source": [
        "def train_spacy(  train_data, iterations,test_texts,test_cats, model_arch, dropout = 0.3, model=None, init_tok2vec=None):\n",
        "    ''' Train a spacy NER model, which can be queried against with test data\n",
        "   \n",
        "    train_data : training data in the format of (sentence, {cats: ['legit'|'fake']})\n",
        "    labels : a list of unique annotations\n",
        "    iterations : number of training iterations\n",
        "    dropout : dropout proportion for training\n",
        "    display_freq : number of epochs between logging losses to console\n",
        "    '''\n",
        "    \n",
        "    nlp = spacy.load('en_core_web_sm')\n",
        "    \n",
        "\n",
        "    # add the text classifier to the pipeline if it doesn't exist\n",
        "    # nlp.create_pipe works for built-ins that are registered with spaCy\n",
        "    if \"textcat\" not in nlp.pipe_names:\n",
        "        textcat = nlp.create_pipe(\n",
        "            \"textcat\", config={\"exclusive_classes\": True, \"architecture\": model_arch}\n",
        "        )\n",
        "        nlp.add_pipe(textcat, last=True)\n",
        "        \n",
        "    # otherwise, get it, so we can add labels to it\n",
        "    else:\n",
        "        textcat = nlp.get_pipe(\"textcat\")\n",
        "\n",
        "    # add label to text classifier\n",
        "    textcat.add_label(\"legit\")\n",
        "    textcat.add_label(\"fake\")\n",
        "  \n",
        "\n",
        "\n",
        "    # get names of other pipes to disable them during training\n",
        "    pipe_exceptions = [\"textcat\", \"trf_wordpiecer\", \"trf_tok2vec\"]\n",
        "    other_pipes = [pipe for pipe in nlp.pipe_names if pipe not in pipe_exceptions]\n",
        "    with nlp.disable_pipes(*other_pipes):  # only train textcat\n",
        "        optimizer = nlp.begin_training()\n",
        "        if init_tok2vec is not None:\n",
        "            with init_tok2vec.open(\"rb\") as file_:\n",
        "                textcat.model.tok2vec.from_bytes(file_.read())\n",
        "        print(\"Training the model...\")\n",
        "        print(\"{:^5}\\t{:^5}\\t{:^5}\\t{:^5}\".format(\"LOSS\", \"P\", \"R\", \"F\"))\n",
        "        batch_sizes = compounding(16.0, 64.0, 1.5)\n",
        "        for i in range(iterations):\n",
        "            print('Iteration: '+str(i))\n",
        "            start_time = time.clock()\n",
        "            losses = {}\n",
        "            # batch up the examples using spaCy's minibatch\n",
        "            random.shuffle(train_data)\n",
        "            batches = minibatch(train_data, size=batch_sizes)\n",
        "            for batch in batches:\n",
        "                texts, annotations = zip(*batch)\n",
        "                nlp.update(texts, annotations, sgd=optimizer, drop=dropout, losses=losses)\n",
        "            with textcat.model.use_params(optimizer.averages):\n",
        "                # evaluate on the test data \n",
        "                evaluate(nlp.tokenizer, textcat, test_texts,test_cats)\n",
        "            print ('Elapsed time'+str(time.clock() - start_time)+  \"seconds\")\n",
        "        with nlp.use_params(optimizer.averages):\n",
        "            model_name = model_arch + \"Fake_rada\"\n",
        "            filepath = \"/content/drive/MyDrive/Colab Notebooks/2022-ILTAPP/resources\"+ model_name \n",
        "            nlp.to_disk(filepath)\n",
        "    return nlp"
      ],
      "metadata": {
        "id": "R3nvACNqkhLP"
      },
      "execution_count": 41,
      "outputs": []
    },
    {
      "cell_type": "code",
      "source": [
        "nlp = train_spacy(training_data, 20, test_texts, test_cats, \"bow\")"
      ],
      "metadata": {
        "colab": {
          "base_uri": "https://localhost:8080/"
        },
        "id": "dYAEZxNSkrIZ",
        "outputId": "22eb8163-6392-4982-d3b5-5d490a94d101"
      },
      "execution_count": 42,
      "outputs": [
        {
          "output_type": "stream",
          "name": "stdout",
          "text": [
            "Training the model...\n",
            "LOSS \t  P  \t  R  \t  F  \n",
            "Iteration: 0\n"
          ]
        },
        {
          "output_type": "stream",
          "name": "stderr",
          "text": [
            "/usr/local/lib/python3.7/dist-packages/ipykernel_launcher.py:45: DeprecationWarning: time.clock has been deprecated in Python 3.3 and will be removed from Python 3.8: use time.perf_counter or time.process_time instead\n"
          ]
        },
        {
          "output_type": "stream",
          "name": "stdout",
          "text": [
            "              precision    recall  f1-score   support\n",
            "\n",
            "        fake       0.43      0.90      0.58        42\n",
            "       legit       0.43      0.06      0.10        54\n",
            "\n",
            "    accuracy                           0.43        96\n",
            "   macro avg       0.43      0.48      0.34        96\n",
            "weighted avg       0.43      0.43      0.31        96\n",
            "\n",
            "Elapsed time0.8524280000000033seconds\n",
            "Iteration: 1\n"
          ]
        },
        {
          "output_type": "stream",
          "name": "stderr",
          "text": [
            "/usr/local/lib/python3.7/dist-packages/ipykernel_launcher.py:56: DeprecationWarning: time.clock has been deprecated in Python 3.3 and will be removed from Python 3.8: use time.perf_counter or time.process_time instead\n",
            "/usr/local/lib/python3.7/dist-packages/ipykernel_launcher.py:45: DeprecationWarning: time.clock has been deprecated in Python 3.3 and will be removed from Python 3.8: use time.perf_counter or time.process_time instead\n"
          ]
        },
        {
          "output_type": "stream",
          "name": "stdout",
          "text": [
            "              precision    recall  f1-score   support\n",
            "\n",
            "        fake       0.42      0.45      0.44        42\n",
            "       legit       0.55      0.52      0.53        54\n",
            "\n",
            "    accuracy                           0.49        96\n",
            "   macro avg       0.49      0.49      0.49        96\n",
            "weighted avg       0.49      0.49      0.49        96\n",
            "\n",
            "Elapsed time0.39022900000000504seconds\n",
            "Iteration: 2\n"
          ]
        },
        {
          "output_type": "stream",
          "name": "stderr",
          "text": [
            "/usr/local/lib/python3.7/dist-packages/ipykernel_launcher.py:56: DeprecationWarning: time.clock has been deprecated in Python 3.3 and will be removed from Python 3.8: use time.perf_counter or time.process_time instead\n",
            "/usr/local/lib/python3.7/dist-packages/ipykernel_launcher.py:45: DeprecationWarning: time.clock has been deprecated in Python 3.3 and will be removed from Python 3.8: use time.perf_counter or time.process_time instead\n"
          ]
        },
        {
          "output_type": "stream",
          "name": "stdout",
          "text": [
            "              precision    recall  f1-score   support\n",
            "\n",
            "        fake       0.35      0.45      0.40        42\n",
            "       legit       0.45      0.35      0.40        54\n",
            "\n",
            "    accuracy                           0.40        96\n",
            "   macro avg       0.40      0.40      0.40        96\n",
            "weighted avg       0.41      0.40      0.40        96\n",
            "\n",
            "Elapsed time0.2978299999999976seconds\n",
            "Iteration: 3\n"
          ]
        },
        {
          "output_type": "stream",
          "name": "stderr",
          "text": [
            "/usr/local/lib/python3.7/dist-packages/ipykernel_launcher.py:56: DeprecationWarning: time.clock has been deprecated in Python 3.3 and will be removed from Python 3.8: use time.perf_counter or time.process_time instead\n",
            "/usr/local/lib/python3.7/dist-packages/ipykernel_launcher.py:45: DeprecationWarning: time.clock has been deprecated in Python 3.3 and will be removed from Python 3.8: use time.perf_counter or time.process_time instead\n"
          ]
        },
        {
          "output_type": "stream",
          "name": "stdout",
          "text": [
            "              precision    recall  f1-score   support\n",
            "\n",
            "        fake       0.36      0.52      0.43        42\n",
            "       legit       0.43      0.28      0.34        54\n",
            "\n",
            "    accuracy                           0.39        96\n",
            "   macro avg       0.39      0.40      0.38        96\n",
            "weighted avg       0.40      0.39      0.38        96\n",
            "\n",
            "Elapsed time0.31122799999999984seconds\n",
            "Iteration: 4\n"
          ]
        },
        {
          "output_type": "stream",
          "name": "stderr",
          "text": [
            "/usr/local/lib/python3.7/dist-packages/ipykernel_launcher.py:56: DeprecationWarning: time.clock has been deprecated in Python 3.3 and will be removed from Python 3.8: use time.perf_counter or time.process_time instead\n",
            "/usr/local/lib/python3.7/dist-packages/ipykernel_launcher.py:45: DeprecationWarning: time.clock has been deprecated in Python 3.3 and will be removed from Python 3.8: use time.perf_counter or time.process_time instead\n"
          ]
        },
        {
          "output_type": "stream",
          "name": "stdout",
          "text": [
            "              precision    recall  f1-score   support\n",
            "\n",
            "        fake       0.36      0.52      0.43        42\n",
            "       legit       0.43      0.28      0.34        54\n",
            "\n",
            "    accuracy                           0.39        96\n",
            "   macro avg       0.39      0.40      0.38        96\n",
            "weighted avg       0.40      0.39      0.38        96\n",
            "\n",
            "Elapsed time0.28789700000000096seconds\n",
            "Iteration: 5\n"
          ]
        },
        {
          "output_type": "stream",
          "name": "stderr",
          "text": [
            "/usr/local/lib/python3.7/dist-packages/ipykernel_launcher.py:56: DeprecationWarning: time.clock has been deprecated in Python 3.3 and will be removed from Python 3.8: use time.perf_counter or time.process_time instead\n",
            "/usr/local/lib/python3.7/dist-packages/ipykernel_launcher.py:45: DeprecationWarning: time.clock has been deprecated in Python 3.3 and will be removed from Python 3.8: use time.perf_counter or time.process_time instead\n"
          ]
        },
        {
          "output_type": "stream",
          "name": "stdout",
          "text": [
            "              precision    recall  f1-score   support\n",
            "\n",
            "        fake       0.37      0.52      0.43        42\n",
            "       legit       0.44      0.30      0.36        54\n",
            "\n",
            "    accuracy                           0.40        96\n",
            "   macro avg       0.41      0.41      0.39        96\n",
            "weighted avg       0.41      0.40      0.39        96\n",
            "\n",
            "Elapsed time0.29946199999999834seconds\n",
            "Iteration: 6\n"
          ]
        },
        {
          "output_type": "stream",
          "name": "stderr",
          "text": [
            "/usr/local/lib/python3.7/dist-packages/ipykernel_launcher.py:56: DeprecationWarning: time.clock has been deprecated in Python 3.3 and will be removed from Python 3.8: use time.perf_counter or time.process_time instead\n",
            "/usr/local/lib/python3.7/dist-packages/ipykernel_launcher.py:45: DeprecationWarning: time.clock has been deprecated in Python 3.3 and will be removed from Python 3.8: use time.perf_counter or time.process_time instead\n"
          ]
        },
        {
          "output_type": "stream",
          "name": "stdout",
          "text": [
            "              precision    recall  f1-score   support\n",
            "\n",
            "        fake       0.36      0.52      0.43        42\n",
            "       legit       0.43      0.28      0.34        54\n",
            "\n",
            "    accuracy                           0.39        96\n",
            "   macro avg       0.39      0.40      0.38        96\n",
            "weighted avg       0.40      0.39      0.38        96\n",
            "\n",
            "Elapsed time0.3001640000000023seconds\n",
            "Iteration: 7\n"
          ]
        },
        {
          "output_type": "stream",
          "name": "stderr",
          "text": [
            "/usr/local/lib/python3.7/dist-packages/ipykernel_launcher.py:56: DeprecationWarning: time.clock has been deprecated in Python 3.3 and will be removed from Python 3.8: use time.perf_counter or time.process_time instead\n",
            "/usr/local/lib/python3.7/dist-packages/ipykernel_launcher.py:45: DeprecationWarning: time.clock has been deprecated in Python 3.3 and will be removed from Python 3.8: use time.perf_counter or time.process_time instead\n"
          ]
        },
        {
          "output_type": "stream",
          "name": "stdout",
          "text": [
            "              precision    recall  f1-score   support\n",
            "\n",
            "        fake       0.36      0.52      0.43        42\n",
            "       legit       0.43      0.28      0.34        54\n",
            "\n",
            "    accuracy                           0.39        96\n",
            "   macro avg       0.39      0.40      0.38        96\n",
            "weighted avg       0.40      0.39      0.38        96\n",
            "\n",
            "Elapsed time0.3125270000000029seconds\n",
            "Iteration: 8\n"
          ]
        },
        {
          "output_type": "stream",
          "name": "stderr",
          "text": [
            "/usr/local/lib/python3.7/dist-packages/ipykernel_launcher.py:56: DeprecationWarning: time.clock has been deprecated in Python 3.3 and will be removed from Python 3.8: use time.perf_counter or time.process_time instead\n",
            "/usr/local/lib/python3.7/dist-packages/ipykernel_launcher.py:45: DeprecationWarning: time.clock has been deprecated in Python 3.3 and will be removed from Python 3.8: use time.perf_counter or time.process_time instead\n"
          ]
        },
        {
          "output_type": "stream",
          "name": "stdout",
          "text": [
            "              precision    recall  f1-score   support\n",
            "\n",
            "        fake       0.37      0.52      0.43        42\n",
            "       legit       0.44      0.30      0.36        54\n",
            "\n",
            "    accuracy                           0.40        96\n",
            "   macro avg       0.41      0.41      0.39        96\n",
            "weighted avg       0.41      0.40      0.39        96\n",
            "\n",
            "Elapsed time0.2999409999999969seconds\n",
            "Iteration: 9\n"
          ]
        },
        {
          "output_type": "stream",
          "name": "stderr",
          "text": [
            "/usr/local/lib/python3.7/dist-packages/ipykernel_launcher.py:56: DeprecationWarning: time.clock has been deprecated in Python 3.3 and will be removed from Python 3.8: use time.perf_counter or time.process_time instead\n",
            "/usr/local/lib/python3.7/dist-packages/ipykernel_launcher.py:45: DeprecationWarning: time.clock has been deprecated in Python 3.3 and will be removed from Python 3.8: use time.perf_counter or time.process_time instead\n"
          ]
        },
        {
          "output_type": "stream",
          "name": "stdout",
          "text": [
            "              precision    recall  f1-score   support\n",
            "\n",
            "        fake       0.37      0.52      0.43        42\n",
            "       legit       0.44      0.30      0.36        54\n",
            "\n",
            "    accuracy                           0.40        96\n",
            "   macro avg       0.41      0.41      0.39        96\n",
            "weighted avg       0.41      0.40      0.39        96\n",
            "\n",
            "Elapsed time0.30399200000000093seconds\n",
            "Iteration: 10\n"
          ]
        },
        {
          "output_type": "stream",
          "name": "stderr",
          "text": [
            "/usr/local/lib/python3.7/dist-packages/ipykernel_launcher.py:56: DeprecationWarning: time.clock has been deprecated in Python 3.3 and will be removed from Python 3.8: use time.perf_counter or time.process_time instead\n",
            "/usr/local/lib/python3.7/dist-packages/ipykernel_launcher.py:45: DeprecationWarning: time.clock has been deprecated in Python 3.3 and will be removed from Python 3.8: use time.perf_counter or time.process_time instead\n"
          ]
        },
        {
          "output_type": "stream",
          "name": "stdout",
          "text": [
            "              precision    recall  f1-score   support\n",
            "\n",
            "        fake       0.37      0.52      0.43        42\n",
            "       legit       0.44      0.30      0.36        54\n",
            "\n",
            "    accuracy                           0.40        96\n",
            "   macro avg       0.41      0.41      0.39        96\n",
            "weighted avg       0.41      0.40      0.39        96\n",
            "\n",
            "Elapsed time0.3098990000000015seconds\n",
            "Iteration: 11\n"
          ]
        },
        {
          "output_type": "stream",
          "name": "stderr",
          "text": [
            "/usr/local/lib/python3.7/dist-packages/ipykernel_launcher.py:56: DeprecationWarning: time.clock has been deprecated in Python 3.3 and will be removed from Python 3.8: use time.perf_counter or time.process_time instead\n",
            "/usr/local/lib/python3.7/dist-packages/ipykernel_launcher.py:45: DeprecationWarning: time.clock has been deprecated in Python 3.3 and will be removed from Python 3.8: use time.perf_counter or time.process_time instead\n"
          ]
        },
        {
          "output_type": "stream",
          "name": "stdout",
          "text": [
            "              precision    recall  f1-score   support\n",
            "\n",
            "        fake       0.36      0.50      0.42        42\n",
            "       legit       0.43      0.30      0.35        54\n",
            "\n",
            "    accuracy                           0.39        96\n",
            "   macro avg       0.39      0.40      0.38        96\n",
            "weighted avg       0.40      0.39      0.38        96\n",
            "\n",
            "Elapsed time0.3218490000000003seconds\n",
            "Iteration: 12\n"
          ]
        },
        {
          "output_type": "stream",
          "name": "stderr",
          "text": [
            "/usr/local/lib/python3.7/dist-packages/ipykernel_launcher.py:56: DeprecationWarning: time.clock has been deprecated in Python 3.3 and will be removed from Python 3.8: use time.perf_counter or time.process_time instead\n",
            "/usr/local/lib/python3.7/dist-packages/ipykernel_launcher.py:45: DeprecationWarning: time.clock has been deprecated in Python 3.3 and will be removed from Python 3.8: use time.perf_counter or time.process_time instead\n"
          ]
        },
        {
          "output_type": "stream",
          "name": "stdout",
          "text": [
            "              precision    recall  f1-score   support\n",
            "\n",
            "        fake       0.38      0.55      0.45        42\n",
            "       legit       0.46      0.30      0.36        54\n",
            "\n",
            "    accuracy                           0.41        96\n",
            "   macro avg       0.42      0.42      0.40        96\n",
            "weighted avg       0.42      0.41      0.40        96\n",
            "\n",
            "Elapsed time0.2893939999999944seconds\n",
            "Iteration: 13\n"
          ]
        },
        {
          "output_type": "stream",
          "name": "stderr",
          "text": [
            "/usr/local/lib/python3.7/dist-packages/ipykernel_launcher.py:56: DeprecationWarning: time.clock has been deprecated in Python 3.3 and will be removed from Python 3.8: use time.perf_counter or time.process_time instead\n",
            "/usr/local/lib/python3.7/dist-packages/ipykernel_launcher.py:45: DeprecationWarning: time.clock has been deprecated in Python 3.3 and will be removed from Python 3.8: use time.perf_counter or time.process_time instead\n"
          ]
        },
        {
          "output_type": "stream",
          "name": "stdout",
          "text": [
            "              precision    recall  f1-score   support\n",
            "\n",
            "        fake       0.35      0.48      0.40        42\n",
            "       legit       0.44      0.31      0.37        54\n",
            "\n",
            "    accuracy                           0.39        96\n",
            "   macro avg       0.39      0.40      0.38        96\n",
            "weighted avg       0.40      0.39      0.38        96\n",
            "\n",
            "Elapsed time0.27981100000000225seconds\n",
            "Iteration: 14\n"
          ]
        },
        {
          "output_type": "stream",
          "name": "stderr",
          "text": [
            "/usr/local/lib/python3.7/dist-packages/ipykernel_launcher.py:56: DeprecationWarning: time.clock has been deprecated in Python 3.3 and will be removed from Python 3.8: use time.perf_counter or time.process_time instead\n",
            "/usr/local/lib/python3.7/dist-packages/ipykernel_launcher.py:45: DeprecationWarning: time.clock has been deprecated in Python 3.3 and will be removed from Python 3.8: use time.perf_counter or time.process_time instead\n"
          ]
        },
        {
          "output_type": "stream",
          "name": "stdout",
          "text": [
            "              precision    recall  f1-score   support\n",
            "\n",
            "        fake       0.36      0.50      0.42        42\n",
            "       legit       0.45      0.31      0.37        54\n",
            "\n",
            "    accuracy                           0.40        96\n",
            "   macro avg       0.40      0.41      0.39        96\n",
            "weighted avg       0.41      0.40      0.39        96\n",
            "\n",
            "Elapsed time0.32068399999999997seconds\n",
            "Iteration: 15\n"
          ]
        },
        {
          "output_type": "stream",
          "name": "stderr",
          "text": [
            "/usr/local/lib/python3.7/dist-packages/ipykernel_launcher.py:56: DeprecationWarning: time.clock has been deprecated in Python 3.3 and will be removed from Python 3.8: use time.perf_counter or time.process_time instead\n",
            "/usr/local/lib/python3.7/dist-packages/ipykernel_launcher.py:45: DeprecationWarning: time.clock has been deprecated in Python 3.3 and will be removed from Python 3.8: use time.perf_counter or time.process_time instead\n"
          ]
        },
        {
          "output_type": "stream",
          "name": "stdout",
          "text": [
            "              precision    recall  f1-score   support\n",
            "\n",
            "        fake       0.37      0.52      0.43        42\n",
            "       legit       0.44      0.30      0.36        54\n",
            "\n",
            "    accuracy                           0.40        96\n",
            "   macro avg       0.41      0.41      0.39        96\n",
            "weighted avg       0.41      0.40      0.39        96\n",
            "\n",
            "Elapsed time0.6098440000000025seconds\n",
            "Iteration: 16\n"
          ]
        },
        {
          "output_type": "stream",
          "name": "stderr",
          "text": [
            "/usr/local/lib/python3.7/dist-packages/ipykernel_launcher.py:56: DeprecationWarning: time.clock has been deprecated in Python 3.3 and will be removed from Python 3.8: use time.perf_counter or time.process_time instead\n",
            "/usr/local/lib/python3.7/dist-packages/ipykernel_launcher.py:45: DeprecationWarning: time.clock has been deprecated in Python 3.3 and will be removed from Python 3.8: use time.perf_counter or time.process_time instead\n"
          ]
        },
        {
          "output_type": "stream",
          "name": "stdout",
          "text": [
            "              precision    recall  f1-score   support\n",
            "\n",
            "        fake       0.38      0.55      0.45        42\n",
            "       legit       0.46      0.30      0.36        54\n",
            "\n",
            "    accuracy                           0.41        96\n",
            "   macro avg       0.42      0.42      0.40        96\n",
            "weighted avg       0.42      0.41      0.40        96\n",
            "\n",
            "Elapsed time0.49428100000000086seconds\n",
            "Iteration: 17\n"
          ]
        },
        {
          "output_type": "stream",
          "name": "stderr",
          "text": [
            "/usr/local/lib/python3.7/dist-packages/ipykernel_launcher.py:56: DeprecationWarning: time.clock has been deprecated in Python 3.3 and will be removed from Python 3.8: use time.perf_counter or time.process_time instead\n",
            "/usr/local/lib/python3.7/dist-packages/ipykernel_launcher.py:45: DeprecationWarning: time.clock has been deprecated in Python 3.3 and will be removed from Python 3.8: use time.perf_counter or time.process_time instead\n"
          ]
        },
        {
          "output_type": "stream",
          "name": "stdout",
          "text": [
            "              precision    recall  f1-score   support\n",
            "\n",
            "        fake       0.38      0.55      0.45        42\n",
            "       legit       0.46      0.30      0.36        54\n",
            "\n",
            "    accuracy                           0.41        96\n",
            "   macro avg       0.42      0.42      0.40        96\n",
            "weighted avg       0.42      0.41      0.40        96\n",
            "\n",
            "Elapsed time0.4988430000000008seconds\n",
            "Iteration: 18\n"
          ]
        },
        {
          "output_type": "stream",
          "name": "stderr",
          "text": [
            "/usr/local/lib/python3.7/dist-packages/ipykernel_launcher.py:56: DeprecationWarning: time.clock has been deprecated in Python 3.3 and will be removed from Python 3.8: use time.perf_counter or time.process_time instead\n",
            "/usr/local/lib/python3.7/dist-packages/ipykernel_launcher.py:45: DeprecationWarning: time.clock has been deprecated in Python 3.3 and will be removed from Python 3.8: use time.perf_counter or time.process_time instead\n"
          ]
        },
        {
          "output_type": "stream",
          "name": "stdout",
          "text": [
            "              precision    recall  f1-score   support\n",
            "\n",
            "        fake       0.39      0.57      0.46        42\n",
            "       legit       0.47      0.30      0.36        54\n",
            "\n",
            "    accuracy                           0.42        96\n",
            "   macro avg       0.43      0.43      0.41        96\n",
            "weighted avg       0.43      0.42      0.41        96\n",
            "\n",
            "Elapsed time0.48729900000000015seconds\n",
            "Iteration: 19\n"
          ]
        },
        {
          "output_type": "stream",
          "name": "stderr",
          "text": [
            "/usr/local/lib/python3.7/dist-packages/ipykernel_launcher.py:56: DeprecationWarning: time.clock has been deprecated in Python 3.3 and will be removed from Python 3.8: use time.perf_counter or time.process_time instead\n",
            "/usr/local/lib/python3.7/dist-packages/ipykernel_launcher.py:45: DeprecationWarning: time.clock has been deprecated in Python 3.3 and will be removed from Python 3.8: use time.perf_counter or time.process_time instead\n"
          ]
        },
        {
          "output_type": "stream",
          "name": "stdout",
          "text": [
            "              precision    recall  f1-score   support\n",
            "\n",
            "        fake       0.39      0.57      0.46        42\n",
            "       legit       0.47      0.30      0.36        54\n",
            "\n",
            "    accuracy                           0.42        96\n",
            "   macro avg       0.43      0.43      0.41        96\n",
            "weighted avg       0.43      0.42      0.41        96\n",
            "\n",
            "Elapsed time0.49754399999999777seconds\n"
          ]
        },
        {
          "output_type": "stream",
          "name": "stderr",
          "text": [
            "/usr/local/lib/python3.7/dist-packages/ipykernel_launcher.py:56: DeprecationWarning: time.clock has been deprecated in Python 3.3 and will be removed from Python 3.8: use time.perf_counter or time.process_time instead\n"
          ]
        }
      ]
    },
    {
      "cell_type": "code",
      "source": [
        "textcat_bow = spacy.load(\"/content/drive/MyDrive/Colab Notebooks/2022-ILTAPP/resourcesbowFake_rada\")\n",
        "tweets = textcat_bow(test_texts[10])\n",
        "print(\"Text: \"+ test_texts[10])\n",
        "print(\"Gold Label:\"+ test_cats[10])\n",
        "print(\" Predicted Label:\") \n",
        "print(tweets.cats)\n",
        "print(\"=======================================\")"
      ],
      "metadata": {
        "colab": {
          "base_uri": "https://localhost:8080/"
        },
        "id": "K_4p5i2Ak165",
        "outputId": "95206e02-461c-498f-fa2e-e6492d16a260"
      },
      "execution_count": 43,
      "outputs": [
        {
          "output_type": "stream",
          "name": "stdout",
          "text": [
            "Text: Chris Pratt responds to body shamers telling him he's too thin Big or small Chris Pratt has heard it all. These days the \"Guardians of the Galaxy\" star 37 is taking flak for being too thin but he's not taking it lying down. Pratt who has been documenting the healthy snacks he's eating while filming \"Jurassic World 2\" in a series of \"What's My Snack\" Instagram videos fired back -- in his usual tongue-in-cheek manner -- after some followers apparently suggested he looked too thin. \"So many people have said I look too thin in my recent episodes of WHATSMYSNACK he wrote on Instagram Thursday. Some have gone as far as to say I look 'skeletal.' Well just because I am a male doesn't mean I'm impervious to your whispers. Body shaming hurts.\"\n",
            "Gold Label:legit\n",
            " Predicted Label:\n",
            "{'legit': 0.2109808325767517, 'fake': 0.7890191674232483}\n",
            "=======================================\n"
          ]
        }
      ]
    },
    {
      "cell_type": "markdown",
      "source": [
        "# Reused the above code to train a new classifier for celebrity dataset."
      ],
      "metadata": {
        "id": "-ERb_Q4OlG8o"
      }
    },
    {
      "cell_type": "code",
      "source": [
        "df_cleb = pd.read_csv(\"/content/drive/MyDrive/Colab Notebooks/2022-ILTAPP/datasets/fake_rada/celebrity_full.tsv\",sep='\\t')"
      ],
      "metadata": {
        "id": "Kmlzb3KMlAEW"
      },
      "execution_count": 44,
      "outputs": []
    },
    {
      "cell_type": "code",
      "source": [
        "df_cleb.columns =[\"label\",\"News\"]"
      ],
      "metadata": {
        "id": "-RJFNsN1lXGn"
      },
      "execution_count": 45,
      "outputs": []
    },
    {
      "cell_type": "code",
      "source": [
        "df_cleb.head(2)"
      ],
      "metadata": {
        "id": "Hg9FiIm5lkRt",
        "outputId": "f069cd7b-20a0-4edd-c4e9-1d91728464d7",
        "colab": {
          "base_uri": "https://localhost:8080/",
          "height": 112
        }
      },
      "execution_count": 46,
      "outputs": [
        {
          "output_type": "execute_result",
          "data": {
            "text/html": [
              "\n",
              "  <div id=\"df-1c4065ab-b14c-43f4-a991-9e2bfe63c385\">\n",
              "    <div class=\"colab-df-container\">\n",
              "      <div>\n",
              "<style scoped>\n",
              "    .dataframe tbody tr th:only-of-type {\n",
              "        vertical-align: middle;\n",
              "    }\n",
              "\n",
              "    .dataframe tbody tr th {\n",
              "        vertical-align: top;\n",
              "    }\n",
              "\n",
              "    .dataframe thead th {\n",
              "        text-align: right;\n",
              "    }\n",
              "</style>\n",
              "<table border=\"1\" class=\"dataframe\">\n",
              "  <thead>\n",
              "    <tr style=\"text-align: right;\">\n",
              "      <th></th>\n",
              "      <th>label</th>\n",
              "      <th>News</th>\n",
              "    </tr>\n",
              "  </thead>\n",
              "  <tbody>\n",
              "    <tr>\n",
              "      <th>0</th>\n",
              "      <td>legit</td>\n",
              "      <td>This Is What Brad Pitt Has Been Texting Jennif...</td>\n",
              "    </tr>\n",
              "    <tr>\n",
              "      <th>1</th>\n",
              "      <td>legit</td>\n",
              "      <td>Jennifer Aniston's spokesman denies reports th...</td>\n",
              "    </tr>\n",
              "  </tbody>\n",
              "</table>\n",
              "</div>\n",
              "      <button class=\"colab-df-convert\" onclick=\"convertToInteractive('df-1c4065ab-b14c-43f4-a991-9e2bfe63c385')\"\n",
              "              title=\"Convert this dataframe to an interactive table.\"\n",
              "              style=\"display:none;\">\n",
              "        \n",
              "  <svg xmlns=\"http://www.w3.org/2000/svg\" height=\"24px\"viewBox=\"0 0 24 24\"\n",
              "       width=\"24px\">\n",
              "    <path d=\"M0 0h24v24H0V0z\" fill=\"none\"/>\n",
              "    <path d=\"M18.56 5.44l.94 2.06.94-2.06 2.06-.94-2.06-.94-.94-2.06-.94 2.06-2.06.94zm-11 1L8.5 8.5l.94-2.06 2.06-.94-2.06-.94L8.5 2.5l-.94 2.06-2.06.94zm10 10l.94 2.06.94-2.06 2.06-.94-2.06-.94-.94-2.06-.94 2.06-2.06.94z\"/><path d=\"M17.41 7.96l-1.37-1.37c-.4-.4-.92-.59-1.43-.59-.52 0-1.04.2-1.43.59L10.3 9.45l-7.72 7.72c-.78.78-.78 2.05 0 2.83L4 21.41c.39.39.9.59 1.41.59.51 0 1.02-.2 1.41-.59l7.78-7.78 2.81-2.81c.8-.78.8-2.07 0-2.86zM5.41 20L4 18.59l7.72-7.72 1.47 1.35L5.41 20z\"/>\n",
              "  </svg>\n",
              "      </button>\n",
              "      \n",
              "  <style>\n",
              "    .colab-df-container {\n",
              "      display:flex;\n",
              "      flex-wrap:wrap;\n",
              "      gap: 12px;\n",
              "    }\n",
              "\n",
              "    .colab-df-convert {\n",
              "      background-color: #E8F0FE;\n",
              "      border: none;\n",
              "      border-radius: 50%;\n",
              "      cursor: pointer;\n",
              "      display: none;\n",
              "      fill: #1967D2;\n",
              "      height: 32px;\n",
              "      padding: 0 0 0 0;\n",
              "      width: 32px;\n",
              "    }\n",
              "\n",
              "    .colab-df-convert:hover {\n",
              "      background-color: #E2EBFA;\n",
              "      box-shadow: 0px 1px 2px rgba(60, 64, 67, 0.3), 0px 1px 3px 1px rgba(60, 64, 67, 0.15);\n",
              "      fill: #174EA6;\n",
              "    }\n",
              "\n",
              "    [theme=dark] .colab-df-convert {\n",
              "      background-color: #3B4455;\n",
              "      fill: #D2E3FC;\n",
              "    }\n",
              "\n",
              "    [theme=dark] .colab-df-convert:hover {\n",
              "      background-color: #434B5C;\n",
              "      box-shadow: 0px 1px 3px 1px rgba(0, 0, 0, 0.15);\n",
              "      filter: drop-shadow(0px 1px 2px rgba(0, 0, 0, 0.3));\n",
              "      fill: #FFFFFF;\n",
              "    }\n",
              "  </style>\n",
              "\n",
              "      <script>\n",
              "        const buttonEl =\n",
              "          document.querySelector('#df-1c4065ab-b14c-43f4-a991-9e2bfe63c385 button.colab-df-convert');\n",
              "        buttonEl.style.display =\n",
              "          google.colab.kernel.accessAllowed ? 'block' : 'none';\n",
              "\n",
              "        async function convertToInteractive(key) {\n",
              "          const element = document.querySelector('#df-1c4065ab-b14c-43f4-a991-9e2bfe63c385');\n",
              "          const dataTable =\n",
              "            await google.colab.kernel.invokeFunction('convertToInteractive',\n",
              "                                                     [key], {});\n",
              "          if (!dataTable) return;\n",
              "\n",
              "          const docLinkHtml = 'Like what you see? Visit the ' +\n",
              "            '<a target=\"_blank\" href=https://colab.research.google.com/notebooks/data_table.ipynb>data table notebook</a>'\n",
              "            + ' to learn more about interactive tables.';\n",
              "          element.innerHTML = '';\n",
              "          dataTable['output_type'] = 'display_data';\n",
              "          await google.colab.output.renderOutput(dataTable, element);\n",
              "          const docLink = document.createElement('div');\n",
              "          docLink.innerHTML = docLinkHtml;\n",
              "          element.appendChild(docLink);\n",
              "        }\n",
              "      </script>\n",
              "    </div>\n",
              "  </div>\n",
              "  "
            ],
            "text/plain": [
              "   label                                               News\n",
              "0  legit  This Is What Brad Pitt Has Been Texting Jennif...\n",
              "1  legit  Jennifer Aniston's spokesman denies reports th..."
            ]
          },
          "metadata": {},
          "execution_count": 46
        }
      ]
    },
    {
      "cell_type": "code",
      "source": [
        "df_cleb.shape"
      ],
      "metadata": {
        "id": "Sg66sJtdlslh",
        "outputId": "a921aae3-0016-494c-ef2c-59cc50309553",
        "colab": {
          "base_uri": "https://localhost:8080/"
        }
      },
      "execution_count": 47,
      "outputs": [
        {
          "output_type": "execute_result",
          "data": {
            "text/plain": [
              "(499, 2)"
            ]
          },
          "metadata": {},
          "execution_count": 47
        }
      ]
    },
    {
      "cell_type": "code",
      "source": [
        "data = df_cleb"
      ],
      "metadata": {
        "id": "EWoYAruvlx_M"
      },
      "execution_count": 48,
      "outputs": []
    },
    {
      "cell_type": "code",
      "source": [
        "c_train,c_test = train_test_split(data, test_size=0.20, random_state=0)\n",
        "#save the data\n",
        "c_train.to_csv('c_train.csv',index=False)\n",
        "c_test.to_csv('c_test.csv',index=False)"
      ],
      "metadata": {
        "id": "bw1da8bfl4XG"
      },
      "execution_count": 49,
      "outputs": []
    },
    {
      "cell_type": "code",
      "source": [
        "print('train:',len(c_train))\n",
        "print('test:',len(c_test))"
      ],
      "metadata": {
        "id": "KiZ60PKPl-eg",
        "outputId": "0696c30f-1c34-43f9-e31b-b08186941b1a",
        "colab": {
          "base_uri": "https://localhost:8080/"
        }
      },
      "execution_count": 50,
      "outputs": [
        {
          "output_type": "stream",
          "name": "stdout",
          "text": [
            "train: 399\n",
            "test: 100\n"
          ]
        }
      ]
    },
    {
      "cell_type": "code",
      "source": [
        "def load_data_spacy(fname):\n",
        "  train_data = pd.read_csv(fname,)\n",
        "  train_data.dropna(axis = 0, how ='any',inplace=True)\n",
        "  train_data['Num_words_text'] = train_data['News'].apply(lambda x:len(str(x).split())) \n",
        "  mask = train_data['Num_words_text'] >2\n",
        "  train_data = train_data[mask]\n",
        "  print(train_data['label'].value_counts())\n",
        "\n",
        "  train_data['News'] = train_data['News'].apply(cleanup)\n",
        "   \n",
        "  train_texts = train_data['News'].tolist()\n",
        "  train_cats = train_data['label'].tolist()\n",
        "  final_train_cats=[]\n",
        "  for cat in train_cats:\n",
        "    cat_list = {}\n",
        "    if cat == 'fake':\n",
        "      cat_list['fake'] =  1\n",
        "      cat_list['legit'] =  0\n",
        "    else:\n",
        "      cat_list['fake'] =  0\n",
        "      cat_list['legit'] =  1\n",
        "      \n",
        "    final_train_cats.append(cat_list)\n",
        "    \n",
        "  training_data = list(zip(train_texts, [{\"cats\": cats} for cats in final_train_cats]))\n",
        "  return training_data, train_texts, train_cats"
      ],
      "metadata": {
        "id": "ngULbs6SmEM5"
      },
      "execution_count": 51,
      "outputs": []
    },
    {
      "cell_type": "code",
      "source": [
        "training_data, train_texts, train_cats = load_data_spacy('/content/c_train.csv')\n",
        "#training_data, train_texts, train_cats = load_data_spacy('')\n",
        "#training_data, train_texts, train_cats = load_data_spacy('')\n",
        "print(training_data[:10])\n",
        "print(len(training_data))\n",
        "test_data, test_texts, test_cats = load_data_spacy('/content/c_test.csv')\n",
        "print(len(test_data))"
      ],
      "metadata": {
        "id": "WrM7ec95mQqB",
        "outputId": "eb861333-ae28-447a-ebfd-6e5da00d13b5",
        "colab": {
          "base_uri": "https://localhost:8080/"
        }
      },
      "execution_count": 52,
      "outputs": [
        {
          "output_type": "stream",
          "name": "stdout",
          "text": [
            "legit    200\n",
            "fake     199\n",
            "Name: label, dtype: int64\n",
            "[(' Kim Kardashian on How the Aftermath of Her Robbery Inspired Her New Crystal Gardenia Fragrance (Exclusive) There’s more to Kim Kardashian West’s newest fragrance, KKW Crystal Gardenia, than meets the eye! The 37-year-old reality star and businesswoman is launching her new scent on Wednesday, and this time it’s personal. “After my whole Paris situation over a year ago, all my friends would come over and bring me healing crystals,” Kim told ET’s Keltie Knight in an exclusive interview. “I wasn\\'t really into them. I didn\\'t know much about them. Enough people brought them over that I love the shape, I loved holding it, and I felt like, ‘OK, this is it. I want something that I feel like calms me, is healing...’ And I wanted the bottle, especially the smaller one.” The mother of two wanted the crystal-shaped bottles to bring her fans a similar calm. “It felt so pure to me,\" she noted.\\xa0\"I just loved [how] the properties of the rose quartz and citrine bring\\xa0happiness, and it just meant so much to me to look into what crystals mean and their healing properties.” ', {'cats': {'fake': 0, 'legit': 1}}), ('Ryan Seacrest & Shayna Taylor On The Brink Over Host\\'s Crazy NYC Lifestyle! Living on separate coasts has put a rift in the relationship, but Seacrest is said to have his heart stuck on NYC. “Ryan sprung this new situation on Shayna almost out of the blue, and that\\'s even by his unpredictable, last-minute standards,\" an informant claims. The source snitches, \"He is the first to acknowledge that it\\'s a big deal, but even though he\\'s settling into life in New York, with frequent trips to the west coast, she\\'s fighting to stay in Los Angeles as much as possible and keeping up her own home there.\" \"She\\'s a strong willed girl and really dedicated to the weather in LA, Malibu and the beach scene, which Ryan isn\\'t really at all — he just wants to go where the eyeballs are and for his new job on Live! — that\\'s what he\\'s insisted on.\" Taylor isn\\'t backing down. \"The good news is that Shayna, having a big voice in all this and sticking to her guns, proves that she\\'s not a gold-digger,\" a pal says. \"All she\\'s asking for is a normal, sane life.\" We pay for juicy info! Do you have a story for RadarOnline.com? Email us at tipsradaronline.com, or call us at 800-344-9598 any time, day or night. ', {'cats': {'fake': 1, 'legit': 0}}), ('The Secret to Ellen DeGeneres\\' Ageless Look Makeup artist Pati Dubroff has worked with Ellen DeGeneres on ad campaigns and fashion spreads galore, so she knew exactly what look would work best on the talk show host for Shape\\'s May cover shoot-natural and understated with just a hint of color. She used a damp wedge sponge to perfect our cover model\\'s skin with just a touch of CoverGirl Simply Ageless Concealer and Corrector. \"Ellen\\'s skin has a natural glow already, so she doesn\\'t need much makeup,\" says Pati. Not all of us are blessed with such youthful skin, but you can get an amazing complexion like Ellen\\'s with these anti-aging tips from the makeup pro: You are what you eat Ellen sticks to vegan fare and practices yoga, and it\\'s written all over her face. Boosting your intake of antioxidant-rich fruits and veggies and cutting out processed foods helps give you that luminous look. Cleanse carefully Face washes that lather up contain sulfates, which can dry your skin and make fine lines and wrinkles look worse. Instead, go for a cleansing cream that doesn\\'t suds; it will leave skin soft and get rid of makeup and grime. Quench thirsty skin If you\\'re super dry, consider using a face oil at bedtime. These hydrating serums give your skin an extra plumpness and dewiness. Smooth on after cleansing and top with your night cream. Give powder makeup the brush off Powders can sink into lines, so switch to cream-based blushes, shadows, concealers and foundations. As you age, your skin loses radiance, so give it a boost with sheer, hydrating formulas that contain light reflecting particles. Go easy on the eyes Lots of eye makeup can attract attention to crows feet. Use neutral shadows and a dab of smudgey liner instead of attempting a come-hither smoky eye or garish colors. Choose the right lip look Tons of super shiny lip gloss can make you look like a teenager, while dark matte lipsticks can make lip lines look more prominent. Go for something in between; I recommend a hydrating sheer lipstick one shade darker than your lip tone. ', {'cats': {'fake': 0, 'legit': 1}}), (\"Tyra Banks Sued for Causing 'Emotional Distress' During ‘America’s Got Talent’ Taping *A contestant on “America’s Got Talent” says\\xa0her performance at a recent taping was roasted\\xa0so viciously by\\xa0new host Tyra Banks\\xa0that it has caused emotional distress to her young daughter, who was watching from the wings. The woman, identified in the filing as Jane Doe, filed a lawsuit against Banks on Tuesday in L.A. Superior Court accusing the former model\\xa0of battery and assault, and seeking\\xa0damages for infliction of emotional distress, reports Variety. Jane Doe says she and her husband were performing an ode to their\\xa0daughter, identified as Mary, during\\xa0a taping on March 19. Once they finished, the woman says that she and her husband were “humiliated” by the judges and the audience, who criticized the song. According to the suit, Banks added to the humiliation by making fun of the song in front of Mary. Jane Doe alleges that Banks pulled her daughter’s hair back, physically manipulated her, and insinuated that the girl was accidentally conceived. Afterward, “Mary was traumatized and became deeply depressed,” the suit states. “Mary would become extremely nervous and anxious whenever, among other triggering events, she hears any mentions of [the] song and [the] song itself, whenever she ruminates about the events during or related to the performance, and whenever she thinks about the prospective televised airing or use online of Jane Doe and her husband, their performance, as well as the airing and use online of any footages of Mary.” Reality show contestants typically sign waivers acknowledging that they may be subjected to ridicule and humiliation. However, the suit alleges that Marathon Productions got Mary to sign a contract without her parents’ knowledge or consent, according to Variety. After the contestant complained, the company communicated that it would not feature Mary in the broadcast. However, the couple asked that the entire performance not be aired. That request was refused. \", {'cats': {'fake': 1, 'legit': 0}}), ('Brad Pitt is not reuniting with Jennifer Aniston; claims of Angelina Jolie threatening him debunked Amid news of a happy reunion between Brad Pitt and his children, a report claimed that the actor received some strict guidelines from his former wife Angelina Jolie to keep their brood of six away from his ex Jennifer Aniston. The report was soon debunked by Gossip Cop that has seemingly provided some clarifications about the trio. According to the website neither Pitt has any intention of introducing his children to Aniston, nor is the Friends actress keen on meeting the Pitt-Jolie brood. In fact, the gossip debunking site noted that the speculative story is based on rumours of Pitt-Aniston\\'s reunion, which itself are not true. The site further claimed that Jolie did not have any outrageous demands like that of Pitt keeping his children away from Aniston. InTouch Weekly had quoted its source as saying, \"As Angie and Brad\\'s divorce talks continue, she\\'s demanding that Brad agree to never have their children around Jen.\" The magazine mentioned that the Allied actor had been leaning on Aniston as he is going through his divorce from Jolie. Additionally, the report claimed that Pitt and Aniston had apparently reconciled and were exchanging messages. The original report also shed light on Pitt\\'s side of the story. \"Brad thinks the request is off the wall and irrational,\" the magazine quoted the source as saying. \"He isn\\'t going to cave in to Angie\\'s ridiculous demand... Angie is the one who filed for divorce, not him. And she will have to live with the consequences,\" the source claimed. Jolie was last spotted along with four of her children in London, shopping for books. Jolie filed for divorce from Pitt in September 2016 and the couple are working on the custody of their children in private. ', {'cats': {'fake': 0, 'legit': 1}}), ('Harvey Weinstein plans to sue New York Times for $50M Harvey Weinstein says he will sue the New York Times for an estimated $50 million after it published a bombshell report claiming the movie mogul subjected actresses and female staffers to “decades of sexual harassment.” Weinstein has hired Charles J. Harder — the LA attorney who brought down Gawker after winning a $140 million verdict for Hulk Hogan after the site posted a sex tape — to go after the Times, which posted its blistering exposé on the Oscar-winning Hollywood mogul Thursday. Harder said in a statement on behalf of Weinstein, exclusively given to Page Six, “The New York Times published today a story that is saturated with false and defamatory statements about Harvey Weinstein. It relies on mostly hearsay accounts and a faulty report, apparently stolen from an employee personnel file, which has been debunked by 9 different eyewitnesses. We sent the Times the facts and evidence, but they ignored it and rushed to publish. We are preparing the lawsuit now. All proceeds will be donated to women’s organizations.” Harder did not say how much they planned to sue for, but sources said Weinstein would go after the publication for as much as $50 million. Weinstein denies the accounts given by several female former employees to the Times, as well as details given by actress Ashley Judd, who says the mogul lured her up to his hotel room, where she alleged he appeared in a bathrobe and asked her to massage him or watch him shower. The Times also reported that the powerful co-founder of Miramax negotiated at least eight payouts to women to keep them quiet, by asking them to sign confidentiality agreements barring them from speaking about the alleged harassment. SEE ALSO Harvey Weinstein accused of sexual harassment spanning nearly three decades Harvey Weinstein accused of sexual harassment spanning nearly three decades Among them were a young assistant in New York in 1990, “Charmed” actress Rose McGowan in 1997, an assistant in London in 1998, an Italian model in 2015 and, most recently, Lauren O’Connor, who documented some of the women’s complaints, the Times said. In a statement Thursday to The Post through attorney Lisa Bloom, Weinstein said, “I came of age in the ’60s and ’70s, when all the rules about behavior and workplaces were different. That was the culture then. I have since learned it’s not an excuse, in the office — or out of it. To anyone. I realized some time ago that I needed to be a better person and my interactions with the people I work with have changed. I appreciate the way I’ve behaved with colleagues in the past has caused a lot of pain, and I sincerely apologize for it.” Weinstein added he’s working with therapists and planning to take a leave of absence from his company to “deal with this issue head on.” Weinstein is being advised by Bloom, who is a famed advocate for women. ', {'cats': {'fake': 1, 'legit': 0}}), ('Nicole Kidman Finally Admits To Botox As far as we can tell, Botox tops the list of celebrity guilty pleasures: Everybody does it, but nobody talks about it. Except Nicole Kidman, that is. The actress\\' seldom-moving face has been the subject of speculation the past few years, inspiring headlines like \"Help! I Can\\'t Move My Face!\" Fortunately, Nicole\\'s decided to address the rumors head on. And even though we\\'ve seen a bit of flip-flopping, her latest stance is that her visage is \"completely natural.\" \"No surgery for me,\" Nicole tells Italy\\'s La Repubblica. \"I did try Botox, unfortunately, but I got out of it and now I can finally move my face again.\" We don\\'t know how recently this skin epiphany went into effect, but it\\'s safe to say that her face stayed suspiciously still at the Golden Globes this month -- nary a frown line or a crow\\'s foot. Also, back in May 2011, the 45-year-old maintained that she had \"nothing\" in her face, so was she glossing over the whole Botox thing? This time around, she deemed the non-surgical treatment an \"unfortunate move\" and that she\\'s moved on to more effective age-defying tricks. \"I wear sunscreen, I don\\'t smoke and I take care of myself, and I am proud to say that,\" Nicole said. Sunscreen as the fountain of youth? Well played, Nicole. ', {'cats': {'fake': 0, 'legit': 1}}), ('Halle Berry Jokes About Pregnancy Rumors UPDATE: Halle Berry joked about the pregnancy rumors in an Instagram post on Monday, June 5. “Can a girl have some steak and fries??” she captioned a pic of herself. ORIGINAL STORY: Halle Berry’s rep has denied that the Oscar winner is pregnant with her third child. “It is absolutely not true. She is not pregnant,” the actress’ rep tells Us Weekly of rumors Berry is expecting again. Berry, 50, first sparked pregnancy rumors when she attended the Butterfly Ball in L.A. on Sunday, June 4. The actress, in a form-fitting silver sequined dress and a jacket by Yeon, placed her hands on her stomach and appeared to be cradling a baby bump. The Extant actress is already mom of daughter Nahla, 8, with ex Gabriel Aubry, and has 3-year-old son Maceo with ex-husband Olivier Martinez. Berry filed for divorce from Martinez, 51, after two years of marriage in October 2015. They reportedly finalized their divorce in December 2016. “Things were extremely bitter with them as the marriage went on and in the end,” a source told Us Weekly at the time. “Finally they both tried to file against each other. It was always like that, very heated and a lot of competition and battling between them. Two extreme tempers and people that love to fight.” Berry opened up about motherhood in an interview with Harper’s Bazaar in April 2009. “Having a baby takes so much from you. It’s the most glorious thing you’ll ever do, but the aftermath is not so glorious!” she said, shortly after giving birth to Nahla. “I used to work a lot because I had nothing better to do. What I’ve learned, especially by having a baby, is that you can’t bring that stuff home anymore.” ', {'cats': {'fake': 0, 'legit': 1}}), ('Prince Harry is Moving to the US to Find a Wife! Prince Harry is moving across the pond - and has big plans to find a wife in the US! \"Prince Harry has a thing for blonde American women,\" a royal insider told Life & Style in the magazine\\'s latest issue. \"Harry told close friends that he\\'s bored of partying and dating in London and is determined to find a wife by the end of the year so he can start a family,\" the source added. RELATED: Prince Harry on His Late Mother, Princess Diana - \"She Would Want Me to Be a Dad by Now\" Harry, 31, previously dated Cressida Bonas, 26, from May 2012 until April 2014. Before his relationship with Cressida, Prince Wiliam\\'s younger brother was in a long-term relationship with Chelsy Davy, 30, from 2004 until 2011. For more on Prince Harry\\'s move to the US, pick up the latest issue of Life & Style, on newsstands now! ', {'cats': {'fake': 1, 'legit': 0}}), ('Jennifer Lawrence recalls time she got drunk with Kris Jenner and stripped naked Jennifer Lawrence had a blast filling in for Jimmy Kimmel on his late-night show Thursday. Lawrence’s guest, Kim Kardashian West, was happy to answer all of the Oscar-winning actress’ questions. While talking with Kardashian, Lawrence revealed to the audience of “Jimmy Kimmel Live” that she had dinner with the reality star’s mom, Kris Jenner, and the two had a few too many. “I drank five martinis and wound up naked in her closet, I’m dead serious,” Lawrence told the audience. \"I\\'ve never seen my mom more drunk in our lives,\" Kardashian said. \"It was so funny.\" Kardashian said the “mother!” star asked the reality diva and her rapper husband Kanye West to dress her. “You said, ‘I’m not joking, I really want Kanye to style me and so I said, ‘OK.’ I come back in and you’re fully butt naked,” Kardashian said. After the two reminisced about the evening, Lawrence asked the mother of two if she had talked to O.J. Simpson since he was freed from prison. Lawrence also asked if Kardashian thought it was a coincidence her ex-boyfriend Reggie Bush’s wife “looked like you.” The reality star laughed the question off. Lawrence has previously said she is a fan of “Keeping Up with the Kardashians” and even introduced the show to her “mother!” co-star Javier Bardem, People reported. ', {'cats': {'fake': 0, 'legit': 1}})]\n",
            "399\n",
            "fake     51\n",
            "legit    49\n",
            "Name: label, dtype: int64\n",
            "100\n"
          ]
        }
      ]
    },
    {
      "cell_type": "code",
      "source": [
        "def Sort(sub_li):\n",
        "  # reverse = True (Soresulting_list = list(first_list)rts in Descending  order) \n",
        "  # key is set to sort using second element of  \n",
        "  # sublist lambda has been used \n",
        "  return(sorted(sub_li, key = lambda x: x[1],reverse=True))  \n",
        "\n",
        "# run the predictions on each sentence in the evaluation  dataset, and return the metrics\n",
        "def evaluate(tokenizer, textcat, test_texts, test_cats ):\n",
        "  docs = (tokenizer(text) for text in test_texts)\n",
        "  preds = []\n",
        "  for i, doc in enumerate(textcat.pipe(docs)):\n",
        "    #print(doc.cats.items())\n",
        "    scores = Sort(doc.cats.items())\n",
        "    #print(scores)\n",
        "    catList=[]\n",
        "    for score in scores:\n",
        "      catList.append(score[0])\n",
        "    preds.append(catList[0])\n",
        "        \n",
        "  labels = ['fake', 'legit']\n",
        "  print(classification_report(test_cats, preds,labels=labels))"
      ],
      "metadata": {
        "id": "kE0JPBq_maN8"
      },
      "execution_count": null,
      "outputs": []
    },
    {
      "cell_type": "code",
      "source": [
        "def train_spacy(  train_data, iterations,test_texts,test_cats, model_arch, dropout = 0.3, model=None, init_tok2vec=None):\n",
        "    ''' Train a spacy NER model, which can be queried against with test data\n",
        "   \n",
        "    train_data : training data in the format of (sentence, {cats: ['legit'|'fake']})\n",
        "    labels : a list of unique annotations\n",
        "    iterations : number of training iterations\n",
        "    dropout : dropout proportion for training\n",
        "    display_freq : number of epochs between logging losses to console\n",
        "    '''\n",
        "    \n",
        "    nlp = spacy.load('en_core_web_sm')\n",
        "    \n",
        "\n",
        "    # add the text classifier to the pipeline if it doesn't exist\n",
        "    # nlp.create_pipe works for built-ins that are registered with spaCy\n",
        "    if \"textcat\" not in nlp.pipe_names:\n",
        "        textcat = nlp.create_pipe(\n",
        "            \"textcat\", config={\"exclusive_classes\": True, \"architecture\": model_arch}\n",
        "        )\n",
        "        nlp.add_pipe(textcat, last=True)\n",
        "        \n",
        "    # otherwise, get it, so we can add labels to it\n",
        "    else:\n",
        "        textcat = nlp.get_pipe(\"textcat\")\n",
        "\n",
        "    # add label to text classifier\n",
        "    textcat.add_label(\"legit\")\n",
        "    textcat.add_label(\"fake\")\n",
        "  \n",
        "\n",
        "\n",
        "    # get names of other pipes to disable them during training\n",
        "    pipe_exceptions = [\"textcat\", \"trf_wordpiecer\", \"trf_tok2vec\"]\n",
        "    other_pipes = [pipe for pipe in nlp.pipe_names if pipe not in pipe_exceptions]\n",
        "    with nlp.disable_pipes(*other_pipes):  # only train textcat\n",
        "        optimizer = nlp.begin_training()\n",
        "        if init_tok2vec is not None:\n",
        "            with init_tok2vec.open(\"rb\") as file_:\n",
        "                textcat.model.tok2vec.from_bytes(file_.read())\n",
        "        print(\"Training the model...\")\n",
        "        print(\"{:^5}\\t{:^5}\\t{:^5}\\t{:^5}\".format(\"LOSS\", \"P\", \"R\", \"F\"))\n",
        "        batch_sizes = compounding(16.0, 64.0, 1.5)\n",
        "        for i in range(iterations):\n",
        "            print('Iteration: '+str(i))\n",
        "            start_time = time.clock()\n",
        "            losses = {}\n",
        "            # batch up the examples using spaCy's minibatch\n",
        "            random.shuffle(train_data)\n",
        "            batches = minibatch(train_data, size=batch_sizes)\n",
        "            for batch in batches:\n",
        "                texts, annotations = zip(*batch)\n",
        "                nlp.update(texts, annotations, sgd=optimizer, drop=dropout, losses=losses)\n",
        "            with textcat.model.use_params(optimizer.averages):\n",
        "                # evaluate on the test data \n",
        "                evaluate(nlp.tokenizer, textcat, test_texts,test_cats)\n",
        "            print ('Elapsed time'+str(time.clock() - start_time)+  \"seconds\")\n",
        "        with nlp.use_params(optimizer.averages):\n",
        "            model_name = model_arch + \"_clebrity\"\n",
        "            filepath = \"/content/drive/MyDrive/Colab Notebooks/2022-ILTAPP/resources\"+ model_name \n",
        "            nlp.to_disk(filepath)\n",
        "    return nlp"
      ],
      "metadata": {
        "id": "ZWPRnIu0nB14"
      },
      "execution_count": 53,
      "outputs": []
    },
    {
      "cell_type": "code",
      "source": [
        "nlp = train_spacy(training_data, 10, test_texts, test_cats, \"bow\")"
      ],
      "metadata": {
        "id": "hdr5IKe5nE83",
        "outputId": "832c72ec-3ac7-469c-b18f-f6b3581b73e3",
        "colab": {
          "base_uri": "https://localhost:8080/"
        }
      },
      "execution_count": 54,
      "outputs": [
        {
          "output_type": "stream",
          "name": "stdout",
          "text": [
            "Training the model...\n",
            "LOSS \t  P  \t  R  \t  F  \n",
            "Iteration: 0\n"
          ]
        },
        {
          "output_type": "stream",
          "name": "stderr",
          "text": [
            "/usr/local/lib/python3.7/dist-packages/ipykernel_launcher.py:45: DeprecationWarning: time.clock has been deprecated in Python 3.3 and will be removed from Python 3.8: use time.perf_counter or time.process_time instead\n"
          ]
        },
        {
          "output_type": "stream",
          "name": "stdout",
          "text": [
            "              precision    recall  f1-score   support\n",
            "\n",
            "        fake       0.66      0.75      0.70        51\n",
            "       legit       0.69      0.59      0.64        49\n",
            "\n",
            "    accuracy                           0.67       100\n",
            "   macro avg       0.67      0.67      0.67       100\n",
            "weighted avg       0.67      0.67      0.67       100\n",
            "\n",
            "Elapsed time2.2905490000000057seconds\n",
            "Iteration: 1\n"
          ]
        },
        {
          "output_type": "stream",
          "name": "stderr",
          "text": [
            "/usr/local/lib/python3.7/dist-packages/ipykernel_launcher.py:56: DeprecationWarning: time.clock has been deprecated in Python 3.3 and will be removed from Python 3.8: use time.perf_counter or time.process_time instead\n",
            "/usr/local/lib/python3.7/dist-packages/ipykernel_launcher.py:45: DeprecationWarning: time.clock has been deprecated in Python 3.3 and will be removed from Python 3.8: use time.perf_counter or time.process_time instead\n"
          ]
        },
        {
          "output_type": "stream",
          "name": "stdout",
          "text": [
            "              precision    recall  f1-score   support\n",
            "\n",
            "        fake       0.81      0.57      0.67        51\n",
            "       legit       0.66      0.86      0.74        49\n",
            "\n",
            "    accuracy                           0.71       100\n",
            "   macro avg       0.73      0.71      0.71       100\n",
            "weighted avg       0.73      0.71      0.70       100\n",
            "\n",
            "Elapsed time1.4542520000000039seconds\n",
            "Iteration: 2\n"
          ]
        },
        {
          "output_type": "stream",
          "name": "stderr",
          "text": [
            "/usr/local/lib/python3.7/dist-packages/ipykernel_launcher.py:56: DeprecationWarning: time.clock has been deprecated in Python 3.3 and will be removed from Python 3.8: use time.perf_counter or time.process_time instead\n",
            "/usr/local/lib/python3.7/dist-packages/ipykernel_launcher.py:45: DeprecationWarning: time.clock has been deprecated in Python 3.3 and will be removed from Python 3.8: use time.perf_counter or time.process_time instead\n"
          ]
        },
        {
          "output_type": "stream",
          "name": "stdout",
          "text": [
            "              precision    recall  f1-score   support\n",
            "\n",
            "        fake       0.74      0.76      0.75        51\n",
            "       legit       0.74      0.71      0.73        49\n",
            "\n",
            "    accuracy                           0.74       100\n",
            "   macro avg       0.74      0.74      0.74       100\n",
            "weighted avg       0.74      0.74      0.74       100\n",
            "\n",
            "Elapsed time1.459142seconds\n",
            "Iteration: 3\n"
          ]
        },
        {
          "output_type": "stream",
          "name": "stderr",
          "text": [
            "/usr/local/lib/python3.7/dist-packages/ipykernel_launcher.py:56: DeprecationWarning: time.clock has been deprecated in Python 3.3 and will be removed from Python 3.8: use time.perf_counter or time.process_time instead\n",
            "/usr/local/lib/python3.7/dist-packages/ipykernel_launcher.py:45: DeprecationWarning: time.clock has been deprecated in Python 3.3 and will be removed from Python 3.8: use time.perf_counter or time.process_time instead\n"
          ]
        },
        {
          "output_type": "stream",
          "name": "stdout",
          "text": [
            "              precision    recall  f1-score   support\n",
            "\n",
            "        fake       0.80      0.71      0.75        51\n",
            "       legit       0.73      0.82      0.77        49\n",
            "\n",
            "    accuracy                           0.76       100\n",
            "   macro avg       0.76      0.76      0.76       100\n",
            "weighted avg       0.76      0.76      0.76       100\n",
            "\n",
            "Elapsed time1.4309450000000012seconds\n",
            "Iteration: 4\n"
          ]
        },
        {
          "output_type": "stream",
          "name": "stderr",
          "text": [
            "/usr/local/lib/python3.7/dist-packages/ipykernel_launcher.py:56: DeprecationWarning: time.clock has been deprecated in Python 3.3 and will be removed from Python 3.8: use time.perf_counter or time.process_time instead\n",
            "/usr/local/lib/python3.7/dist-packages/ipykernel_launcher.py:45: DeprecationWarning: time.clock has been deprecated in Python 3.3 and will be removed from Python 3.8: use time.perf_counter or time.process_time instead\n"
          ]
        },
        {
          "output_type": "stream",
          "name": "stdout",
          "text": [
            "              precision    recall  f1-score   support\n",
            "\n",
            "        fake       0.83      0.69      0.75        51\n",
            "       legit       0.72      0.86      0.79        49\n",
            "\n",
            "    accuracy                           0.77       100\n",
            "   macro avg       0.78      0.77      0.77       100\n",
            "weighted avg       0.78      0.77      0.77       100\n",
            "\n",
            "Elapsed time1.4061339999999944seconds\n",
            "Iteration: 5\n"
          ]
        },
        {
          "output_type": "stream",
          "name": "stderr",
          "text": [
            "/usr/local/lib/python3.7/dist-packages/ipykernel_launcher.py:56: DeprecationWarning: time.clock has been deprecated in Python 3.3 and will be removed from Python 3.8: use time.perf_counter or time.process_time instead\n",
            "/usr/local/lib/python3.7/dist-packages/ipykernel_launcher.py:45: DeprecationWarning: time.clock has been deprecated in Python 3.3 and will be removed from Python 3.8: use time.perf_counter or time.process_time instead\n"
          ]
        },
        {
          "output_type": "stream",
          "name": "stdout",
          "text": [
            "              precision    recall  f1-score   support\n",
            "\n",
            "        fake       0.77      0.71      0.73        51\n",
            "       legit       0.72      0.78      0.75        49\n",
            "\n",
            "    accuracy                           0.74       100\n",
            "   macro avg       0.74      0.74      0.74       100\n",
            "weighted avg       0.74      0.74      0.74       100\n",
            "\n",
            "Elapsed time1.4275209999999987seconds\n",
            "Iteration: 6\n"
          ]
        },
        {
          "output_type": "stream",
          "name": "stderr",
          "text": [
            "/usr/local/lib/python3.7/dist-packages/ipykernel_launcher.py:56: DeprecationWarning: time.clock has been deprecated in Python 3.3 and will be removed from Python 3.8: use time.perf_counter or time.process_time instead\n",
            "/usr/local/lib/python3.7/dist-packages/ipykernel_launcher.py:45: DeprecationWarning: time.clock has been deprecated in Python 3.3 and will be removed from Python 3.8: use time.perf_counter or time.process_time instead\n"
          ]
        },
        {
          "output_type": "stream",
          "name": "stdout",
          "text": [
            "              precision    recall  f1-score   support\n",
            "\n",
            "        fake       0.80      0.71      0.75        51\n",
            "       legit       0.73      0.82      0.77        49\n",
            "\n",
            "    accuracy                           0.76       100\n",
            "   macro avg       0.76      0.76      0.76       100\n",
            "weighted avg       0.76      0.76      0.76       100\n",
            "\n",
            "Elapsed time1.3850010000000026seconds\n",
            "Iteration: 7\n"
          ]
        },
        {
          "output_type": "stream",
          "name": "stderr",
          "text": [
            "/usr/local/lib/python3.7/dist-packages/ipykernel_launcher.py:56: DeprecationWarning: time.clock has been deprecated in Python 3.3 and will be removed from Python 3.8: use time.perf_counter or time.process_time instead\n",
            "/usr/local/lib/python3.7/dist-packages/ipykernel_launcher.py:45: DeprecationWarning: time.clock has been deprecated in Python 3.3 and will be removed from Python 3.8: use time.perf_counter or time.process_time instead\n"
          ]
        },
        {
          "output_type": "stream",
          "name": "stdout",
          "text": [
            "              precision    recall  f1-score   support\n",
            "\n",
            "        fake       0.75      0.71      0.73        51\n",
            "       legit       0.71      0.76      0.73        49\n",
            "\n",
            "    accuracy                           0.73       100\n",
            "   macro avg       0.73      0.73      0.73       100\n",
            "weighted avg       0.73      0.73      0.73       100\n",
            "\n",
            "Elapsed time1.4625529999999998seconds\n",
            "Iteration: 8\n"
          ]
        },
        {
          "output_type": "stream",
          "name": "stderr",
          "text": [
            "/usr/local/lib/python3.7/dist-packages/ipykernel_launcher.py:56: DeprecationWarning: time.clock has been deprecated in Python 3.3 and will be removed from Python 3.8: use time.perf_counter or time.process_time instead\n",
            "/usr/local/lib/python3.7/dist-packages/ipykernel_launcher.py:45: DeprecationWarning: time.clock has been deprecated in Python 3.3 and will be removed from Python 3.8: use time.perf_counter or time.process_time instead\n"
          ]
        },
        {
          "output_type": "stream",
          "name": "stdout",
          "text": [
            "              precision    recall  f1-score   support\n",
            "\n",
            "        fake       0.77      0.71      0.73        51\n",
            "       legit       0.72      0.78      0.75        49\n",
            "\n",
            "    accuracy                           0.74       100\n",
            "   macro avg       0.74      0.74      0.74       100\n",
            "weighted avg       0.74      0.74      0.74       100\n",
            "\n",
            "Elapsed time1.4823140000000024seconds\n",
            "Iteration: 9\n"
          ]
        },
        {
          "output_type": "stream",
          "name": "stderr",
          "text": [
            "/usr/local/lib/python3.7/dist-packages/ipykernel_launcher.py:56: DeprecationWarning: time.clock has been deprecated in Python 3.3 and will be removed from Python 3.8: use time.perf_counter or time.process_time instead\n",
            "/usr/local/lib/python3.7/dist-packages/ipykernel_launcher.py:45: DeprecationWarning: time.clock has been deprecated in Python 3.3 and will be removed from Python 3.8: use time.perf_counter or time.process_time instead\n"
          ]
        },
        {
          "output_type": "stream",
          "name": "stdout",
          "text": [
            "              precision    recall  f1-score   support\n",
            "\n",
            "        fake       0.72      0.71      0.71        51\n",
            "       legit       0.70      0.71      0.71        49\n",
            "\n",
            "    accuracy                           0.71       100\n",
            "   macro avg       0.71      0.71      0.71       100\n",
            "weighted avg       0.71      0.71      0.71       100\n",
            "\n",
            "Elapsed time1.4605649999999955seconds\n"
          ]
        },
        {
          "output_type": "stream",
          "name": "stderr",
          "text": [
            "/usr/local/lib/python3.7/dist-packages/ipykernel_launcher.py:56: DeprecationWarning: time.clock has been deprecated in Python 3.3 and will be removed from Python 3.8: use time.perf_counter or time.process_time instead\n"
          ]
        }
      ]
    },
    {
      "cell_type": "code",
      "source": [
        "textcat_bow = spacy.load(\"/content/drive/MyDrive/Colab Notebooks/2022-ILTAPP/resourcesbow_clebrity\")\n",
        "tweets = textcat_bow(test_texts[20])\n",
        "print(\"Text: \"+ test_texts[20])\n",
        "print(\"Gold Label:\"+ test_cats[20])\n",
        "print(\" Predicted Label:\") \n",
        "print(tweets.cats)\n",
        "print(\"=======================================\")"
      ],
      "metadata": {
        "id": "CNjSj5xDnUXd",
        "outputId": "8911fa50-bd6f-41ce-b09c-4c84759b2c68",
        "colab": {
          "base_uri": "https://localhost:8080/"
        }
      },
      "execution_count": 55,
      "outputs": [
        {
          "output_type": "stream",
          "name": "stdout",
          "text": [
            "Text: Gwen Stefani Shockingly Ruptures Eardrum & Is Forced To Cancel Show — Is She Okay? Poor Gwen Stefani! The singer shockingly ruptured her eardrum and was forced to cancel an April 27 concert in Las Vegas because of her medical emergency. This is so scary. Is Gwen’s hearing going to be okay? Gwen Stefani, 47, went through a terrifying ordeal on April 25 when her eardrum ruptured while on a flight. The painful injury landed Gwen in Cedars-Sinai hospital in Los Angeles, where doctors told her not to fly anywhere or sing until it gets healed. The brutal injury came at exactly the wrong time for Gwen. She was supposed to sing at the Power f Love gala in Las Vegas just two days later. The pop star/The Voice judge had to bow out of the prestigious event at the MGM Grand where she was set to perform a 30-minute live set, because of her limitations. That’s so awful! Guests at the event, according to the Las Vegas Review-Journal, were told about the cancellation right before the event. Gwen recorded a short apology video that was played for the guests and gala honorees: “I am so sorry that I cannot attend tonight, But I wanted to send a message of congratulations to Andre Agassi and my dear friend Ronald Pearlman,” Gwen said. Blake Shelton & Gwen Stefani Hunt For Eggs With Her Kids During Easter Celebration -- See Adorable Pics The event hosted by the Keep Memory Alive charity to help find cures for memory and movement disorders, honored the tennis legend with the Community Leadership Award, and honored Ronald for his “outstanding philanthropy.” While attendees were bummed that they couldn’t see Gwen’s set, they got an incredible replacement: Jennifer Hudson! There’s No Doubt that Jennifer tore the house down! Gwen Stefani’s ‘Misery’ Music Video — See Pics Luckily, Gwen’s doing okay. She was still on The Voice this week and looked happy! A ruptured eardrum is no small deal, though. It occurs when a small perforation pops in the eardrum, sometimes from trauma, ear infection, loud noises, surgery, or flying in a plane with a severe cold. You know how your ears pop in a plane? It’s like that, but way worse. It can lead to temporary hearing loss, or ringing in the ears. It’s unclear how severe Gwen’s eardrum is injured, but the healing process can take anywhere from a few weeks to a few months, and in some very rare cases, years. HollywoodLifers, we hope Gwen feels better! Send her your positive get-well vibes in the comments! \n",
            "Gold Label:legit\n",
            " Predicted Label:\n",
            "{'legit': 0.31718167662620544, 'fake': 0.6828183531761169}\n",
            "=======================================\n"
          ]
        }
      ]
    }
  ]
}